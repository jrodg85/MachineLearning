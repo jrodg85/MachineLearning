{
 "cells": [
  {
   "cell_type": "markdown",
   "id": "d4783199",
   "metadata": {},
   "source": [
    "# Ejercicio 02\n",
    "\n",
    "Escoja un problema de classificación ya sea de `scikit-learn` o externo. Con este problema se pide que cubran los siguientes puntos o tareas:"
   ]
  },
  {
   "cell_type": "markdown",
   "id": "63896754",
   "metadata": {},
   "source": [
    "1. Cargar el problema"
   ]
  },
  {
   "cell_type": "code",
   "execution_count": null,
   "id": "46d1a92c",
   "metadata": {},
   "outputs": [],
   "source": [
    "#TODO"
   ]
  },
  {
   "cell_type": "markdown",
   "id": "3ee3b3dc",
   "metadata": {},
   "source": [
    "2. Con el problema cargado definir un cross-validation que sea adecuado, es decir, que si tiene rupos se tengan en cuanta o si necesita que e repita o el uso por una dimensión reducida necesita otro de los esquemas que se han apuntado en clase"
   ]
  },
  {
   "cell_type": "code",
   "execution_count": null,
   "id": "da112646",
   "metadata": {},
   "outputs": [],
   "source": [
    "#TODO"
   ]
  },
  {
   "cell_type": "markdown",
   "id": "76722346",
   "metadata": {},
   "source": [
    "3. Entrenar al menos un pipeline (correccción de datos faltantes, normalización o estandarización y un modelo de clasificación) y ejecute sobre ellos un GridSearch para seleccionar los mejores para los 3 pasos."
   ]
  },
  {
   "cell_type": "code",
   "execution_count": null,
   "id": "ac3ea78d",
   "metadata": {},
   "outputs": [],
   "source": [
    "# Preparación de los datos para los 3 modelos"
   ]
  },
  {
   "cell_type": "markdown",
   "id": "8c34b1e2",
   "metadata": {},
   "source": [
    "5. Representar los resultados"
   ]
  },
  {
   "cell_type": "code",
   "execution_count": null,
   "id": "ab07db59",
   "metadata": {},
   "outputs": [],
   "source": []
  }
 ],
 "metadata": {
  "kernelspec": {
   "display_name": "Python 3 (ipykernel)",
   "language": "python",
   "name": "python3"
  },
  "language_info": {
   "codemirror_mode": {
    "name": "ipython",
    "version": 3
   },
   "file_extension": ".py",
   "mimetype": "text/x-python",
   "name": "python",
   "nbconvert_exporter": "python",
   "pygments_lexer": "ipython3",
   "version": "3.10.6"
  }
 },
 "nbformat": 4,
 "nbformat_minor": 5
}
