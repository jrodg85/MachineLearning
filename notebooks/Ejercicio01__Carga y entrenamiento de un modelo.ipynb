{
 "cells": [
  {
   "cell_type": "markdown",
   "id": "d4783199",
   "metadata": {},
   "source": [
    "# Ejercicio 01\n",
    "\n",
    "En este primer ejercicio se pide que los alumnos escojan un problema de los predefinidos en `scikit-learn`. Con este problema se pide que cubran los siguientes puntos o tareas:\n",
    "\n",
    "1. Decir el problema seleccionado y decir de que tipo es (Clasificación o regresión)"
   ]
  },
  {
   "cell_type": "markdown",
   "id": "20c586a4",
   "metadata": {},
   "source": [
    "`Contestar aquí`"
   ]
  },
  {
   "cell_type": "markdown",
   "id": "63896754",
   "metadata": {},
   "source": [
    "2. Cargar el problema e imprimir la información de esteb"
   ]
  },
  {
   "cell_type": "code",
   "execution_count": null,
   "id": "46d1a92c",
   "metadata": {},
   "outputs": [],
   "source": [
    "#TODO"
   ]
  },
  {
   "cell_type": "markdown",
   "id": "3ee3b3dc",
   "metadata": {},
   "source": [
    "3. Con el problema cargado realizar una exploración inicial (Unidad 04)"
   ]
  },
  {
   "cell_type": "code",
   "execution_count": null,
   "id": "da112646",
   "metadata": {},
   "outputs": [],
   "source": [
    "#TODO"
   ]
  },
  {
   "cell_type": "markdown",
   "id": "76722346",
   "metadata": {},
   "source": [
    "4. Entrenar al menos 3 modelos y evaluarlos cuando menos con un conjunto de test o usar la misma semilla y realizar un cross-validation. Para los modelos consulte la documentación de [`scikit-learn`](https://scikit-learn.org/stable/modules/classes.html)"
   ]
  },
  {
   "cell_type": "code",
   "execution_count": null,
   "id": "ac3ea78d",
   "metadata": {},
   "outputs": [],
   "source": [
    "# Preparación de los datos para los 3 modelos"
   ]
  },
  {
   "cell_type": "code",
   "execution_count": null,
   "id": "724a735a",
   "metadata": {},
   "outputs": [],
   "source": [
    "#Modelo 1\n"
   ]
  },
  {
   "cell_type": "code",
   "execution_count": null,
   "id": "2416ed8a",
   "metadata": {},
   "outputs": [],
   "source": [
    "#Modelo 2\n"
   ]
  },
  {
   "cell_type": "code",
   "execution_count": null,
   "id": "9daee6b5",
   "metadata": {},
   "outputs": [],
   "source": [
    "# Modelo 3\n"
   ]
  },
  {
   "cell_type": "markdown",
   "id": "8c34b1e2",
   "metadata": {},
   "source": [
    "5. Discutir brevemente los resultados. ¿Que modelo ha sido mejor?"
   ]
  },
  {
   "cell_type": "code",
   "execution_count": null,
   "id": "ab07db59",
   "metadata": {},
   "outputs": [],
   "source": []
  }
 ],
 "metadata": {
  "kernelspec": {
   "display_name": "Python 3 (ipykernel)",
   "language": "python",
   "name": "python3"
  },
  "language_info": {
   "codemirror_mode": {
    "name": "ipython",
    "version": 3
   },
   "file_extension": ".py",
   "mimetype": "text/x-python",
   "name": "python",
   "nbconvert_exporter": "python",
   "pygments_lexer": "ipython3",
   "version": "3.10.6"
  }
 },
 "nbformat": 4,
 "nbformat_minor": 5
}
