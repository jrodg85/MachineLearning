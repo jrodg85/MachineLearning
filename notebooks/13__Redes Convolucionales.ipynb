{
 "cells": [
  {
   "cell_type": "markdown",
   "id": "e1b1746a",
   "metadata": {},
   "source": [
    "# Redes Convolucionales y Series Temporales\n",
    "\n",
    "Uno de los grandes problemas dentro del machine learning es la identidficación de las características que nos permitan realizar una clasificación o regressión sobre un determinado problema. Tradicionalmente estás características han surgido como parte de la extacción del conocimiento de los expertos, lo que ellos estaban considerando, o bien por fuerza de probar diferentes aproximacions. Desde el año 2012, una nueva aproximación ha cogido especial relevancia y ha cambiado la manera en la que afrontamos los problemas con las técnicas de machine learning. Esta aproximación recibe numerosas veces el nombre de *Deep Learning* y se fundamente en que sea la red la que busque las características que le ayuden a realizar la clasificación o regresión.\n",
    "\n",
    "## Capas Convolucionales\n",
    "\n",
    "![Ejemplo de red](https://dschloe.github.io/img/tensorflow2.0/tutorial_06_01_2/tutorial_01.png)\n",
    "\n",
    "Para realizar esa búsqueda de características, las redes se extructuran en dos partes fundamentales, lo que se conoce como el extractor y el clasificador. Este último no es más que una red como las que ya hemos visto en el capítulo anterior y que se suele corresponder con un *multilayer perceptron*. Por otro lado, para generar el extractor existen diversas técnicas como los *autoencoders, variational autoencoders, Random Belief Networks, etc.* No obstante, hay una técnica que destaca sobre las anteriormente mencionadas que no es otra que las redes basadas en capas convolucionales o *Convolutional Neural Networks (CNN)*.\n",
    "\n",
    "Las arquitecturas basadas en este tipo de capas lo que realizan es una convolución de un *kernel* o matriz contra secciones de la entrada. Vemos un ejemplo en la imagen siguiente\n",
    "\n",
    "![Ejemplo de convolucion](https://raw.githubusercontent.com/iamaaditya/iamaaditya.github.io/master/images/conv_arithmetic/full_padding_no_strides_transposed.gif)\n",
    "\n",
    "Lo que se consigue es obtener una o más carácterísticas mediante la aplicación de los *kernels*, esto es especialmente importante ya que, estos *kernels*, no son más que los pesos de las capas y como hemos visto en el capítulo anterior son perfectamente \"entrenables\" o ajustables con el uso e la regla de retropropagación del error. Es decir, que mediante el proceso de entrenamiento seremos capaces de ajustar los filtros que le queramos pasar a un conjunto de datos y de esa manera filtrar o ajustar las carácteristicas que posteriormente se utilizarán en el classificador o regresor que resuelva el problema.\n",
    "\n",
    "Esta esquema además no se limita a un solo nivel si no que podemos hacerlo en varios niveles es decir podemos extraer características del primer grupo de carácterísticas dando por lo tanto un conjuno de carácterísticas más general o de alto nivel. Por ejemplo, imaginemos que un primer nivel detectase distintos tipos de líneas, en un segundo nivel podríamos buscar que el sistema encontase esquinas de 90 grados y posteriormente un tercero cuadrados. Si le pasamos los cuadrados de una imagen a un classificador este nos podríá decir por ejemplo si estamos ante un determinado patrón.\n",
    "\n",
    "Cuando este esquema se replica múltiples veces estamos hablando de un sistema de *Deep Learning* habitualmente con entorno al menos a 7 de estas capas extractoras. Por ejemplo, veáse la imagen siguiente que representa lo que se conoce como una arquitectura AlexNet y que fue la propuesta que en 2012 dio lugar a la popularidad de las técnicas de Deep Learning.\n",
    "\n",
    "![AlexNet](https://www.researchgate.net/profile/Angel-Sappa/publication/313786493/figure/fig2/AS:552464787410944@1508729277790/Illustration-of-the-architecture-of-the-AlexNet-CNN-see-3-for-details-about-the.png)\n",
    "\n",
    "\n",
    "\n",
    "Debe destacarse que hace años el uso de este tipo de redes era impensable ya que el entrenamiento de cualquiera de ellas hubiera llevado años, pero con el uso de la computación en GPGPU (que se basa en el uso de la tarjeta gráfica para hacer cálculos que no son de gráficos) los tiempos se acortan significativamente, del orden de 100 veces en estos cálculos matriciales.\n",
    "\n",
    "Otro elemento importante a destacar, es uno de los principales problemas de este tipo de arquitecturas que se conoce como el *vanishing gradient* el cual describe el problema de repartir el error entre los diversos elementos de las capas. Esto provoca que si la red es muy profunda, el gradiente sea prácticamente cero y, por lo tanto, no haya modificiones en los pesos. para solucionarlo, existen técnicas como el *Dropout* mencionado en el tema anterior, o la regularizacón de los gradientes.\n",
    "\n",
    "## Series temporales\n",
    "\n",
    "Si bien no tan populares como las imágenes cuando se trata de atacar un problema con Deep Learning, uno de las utilidades y el ejemplo que vamos a ver su uso en series temporales. Las series temporales como ya saben son sólo la recopilación periódica de datos que están ordenados cronológicamente en el tiempo y que por lo tanto guardan relación uno con el siguiente de la serie. Existen multitud de ejemplos como pueden ser señales medicas como los Electroencefalogramas con frecuencias demicrosegundos o series como la presión atmosférica para predecir el tiempo con periodicidad  de minutos, horas o días.\n",
    "\n",
    "Estas series temporales pueden ser tratadas con aproximaciones como las que ya hemos visto durante el curso, si bien sus datos suele sacarse algun tipo de métrica de resumen de distintos tramos. Para determinar esos tramos se suele usar lo que se denomina la técnica de *sliding window* la cual selecciona un subconjunto de la información sobre la que se tratará o bien de clasificar posteriormente o bien intentar predecir algun valor a futuro \n",
    "\n",
    "![ejemplo de sliding window](https://www.researchgate.net/publication/305517073/figure/fig5/AS:391713446219832@1470403171856/An-example-of-EEG-segmentation-Given-a-5-second-long-EEG-signal-it-is-segmented-into.png)\n",
    "\n",
    "## Ejemplo de uso de CNN en classificcación\n",
    "\n",
    "El ejemplo que vamos a ver, fue unn concurso de la plataforma **Kanggle** que lo que buscaba era generar un modelo capaz de clasificar un conjunto de señales recogidas por un único sensor posicionado en un motor de combustión de Ford. Lo que se busca es poder identificar si el motor presenta un problama específico o no, por lo que estamos ante un problema de clasificación.\n",
    "\n",
    "La base de datos de que disponemos, que recibe el nombre de FordA, consta de 3600 patrones para entrenamiento y 1319 para test que ya están divididas previamente. Los patrones son señales de 500 muestras extraidas por este sensor del motor y lo único de lo que disponemos es de la etiqueta 1 si presenta el problema y -1 si no está presente el mencionado problema.\n",
    "\n",
    "En primer lugar vamos a obtener los datos, para ello usaremos una función de *keras* que nos facilitará mucho el trabajo en este sentido."
   ]
  },
  {
   "cell_type": "code",
   "execution_count": 1,
   "id": "c4f6dd12",
   "metadata": {},
   "outputs": [],
   "source": [
    "import os \n",
    "from tensorflow import keras\n",
    "\n",
    "destination_folder = os.path.abspath(\"_data_/FordA\")\n",
    "\n",
    "if not os.path.isdir(destination_folder):\n",
    "    os.mkdir(destination_folder)\n",
    "\n",
    "path = keras.utils.get_file(destination_folder+\"/FordA.zip\", \"http://www.timeseriesclassification.com/Downloads/FordA.zip\", \n",
    "                            extract=True, cache_dir=destination_folder, cache_subdir='.')"
   ]
  },
  {
   "cell_type": "markdown",
   "id": "b6e08f2a",
   "metadata": {},
   "source": [
    "Con esto habremos descargado y descomprimido los ficheros que vamos a utilizar. El siguiente paso como siempre será el cargarlos en memoria para proceder a trabajar con ellos. En este caso como se trata de ficheros sin tratar, habrá que hacer unas pocas modificaciones, en particular en lo que respecta a las entradas donde habrá que saltar una cabecera de 26 líneas y dividir las entradas posteriormente."
   ]
  },
  {
   "cell_type": "code",
   "execution_count": 2,
   "id": "7ccbf22f",
   "metadata": {},
   "outputs": [
    {
     "name": "stdout",
     "output_type": "stream",
     "text": [
      "Patrones de entrenamiento: (3600, 500) -> (3600,)\n",
      "Patrones de test: (1319, 500) -> (1319,)\n"
     ]
    }
   ],
   "source": [
    "import numpy as np\n",
    "\n",
    "def read_transform_datafile(filename):\n",
    "    data =  data = np.loadtxt(filename, dtype='str', delimiter=':', skiprows=26)\n",
    "    inputs = np.array([list(map(float,line.split(','))) for line in data[:,0]])\n",
    "    outputs = data[:, 1].astype(int)\n",
    "    return inputs, outputs\n",
    "\n",
    "train_inputs, train_outputs = read_transform_datafile(destination_folder+\"/FordA_TRAIN.ts\")\n",
    "test_inputs, test_outputs = read_transform_datafile(destination_folder+\"/FordA_TEST.ts\")\n",
    "\n",
    "\n",
    "print(f'Patrones de entrenamiento: {train_inputs.shape} -> {train_outputs.shape}')\n",
    "print(f'Patrones de test: {test_inputs.shape} -> {test_outputs.shape}')"
   ]
  },
  {
   "cell_type": "markdown",
   "id": "236d0dce",
   "metadata": {},
   "source": [
    "Una vez los patrones han sido cargados vamos a hacer unos cuantos cambios para facilitar el entrenamiento. En primer lugar vamos a ver si hay difernecias entre patrones positivos y negativos. Para ello vamos a sacar las clases que temos en la salida."
   ]
  },
  {
   "cell_type": "code",
   "execution_count": 3,
   "id": "4ee64410",
   "metadata": {},
   "outputs": [
    {
     "data": {
      "text/plain": [
       "array([-1,  1])"
      ]
     },
     "execution_count": 3,
     "metadata": {},
     "output_type": "execute_result"
    }
   ],
   "source": [
    "classes = np.unique(np.concatenate((train_outputs, test_outputs), axis=0))\n",
    "classes"
   ]
  },
  {
   "cell_type": "markdown",
   "id": "1cd6fbbd",
   "metadata": {},
   "source": [
    "Ahora para cada na de las clases sacaremos el primer ejemplo que aparezca en el conjunto de entradas y los pintaremos "
   ]
  },
  {
   "cell_type": "code",
   "execution_count": 4,
   "id": "9b2a0b3f",
   "metadata": {},
   "outputs": [
    {
     "data": {
      "image/png": "[encoded data removed]",
      "text/plain": [
       "<Figure size 432x288 with 1 Axes>"
      ]
     },
     "metadata": {
      "needs_background": "light"
     },
     "output_type": "display_data"
    }
   ],
   "source": [
    "import matplotlib.pyplot as plt\n",
    "\n",
    "plt.figure()\n",
    "for c in classes:\n",
    "    examples_class = train_inputs[train_outputs == c]\n",
    "    plt.plot(examples_class[0], label=\"class \" + str(c))\n",
    "plt.legend(loc=\"best\")\n",
    "plt.show()\n",
    "plt.close()"
   ]
  },
  {
   "cell_type": "markdown",
   "id": "d3f6931e",
   "metadata": {},
   "source": [
    "Lo primero que aprecimos es son señales muy diferentes y lo segundo que los valores no están normalizados entre -1 y 1. Esto puede llegar a ser un problema por eso, en este caso, se ha aplicado es una normalización en el eje temporal teniendo una media de 0 y una desviación típica de 1 pero solo para la componente temporal. Este tipo de normalización es muy habitual en los datos temporales. Por lo tanto no les haremos nada salvo un pequeño cambio en la dimensionalidad ya que el problema que tenemos es univariable y lo vamos a a dejar preparado por si en algún momento dedieramos usar un multivariable."
   ]
  },
  {
   "cell_type": "code",
   "execution_count": 5,
   "id": "718b5231",
   "metadata": {},
   "outputs": [
    {
     "name": "stdout",
     "output_type": "stream",
     "text": [
      "Patrones de entrenamiento: (3600, 500, 1) -> (3600,)\n",
      "Patrones de test: (1319, 500, 1) -> (1319,)\n"
     ]
    }
   ],
   "source": [
    "train_inputs = np.atleast_3d(train_inputs)\n",
    "test_inputs = np.atleast_3d(test_inputs)\n",
    "print(f'Patrones de entrenamiento: {train_inputs.shape} -> {train_outputs.shape}')\n",
    "print(f'Patrones de test: {test_inputs.shape} -> {test_outputs.shape}')"
   ]
  },
  {
   "cell_type": "markdown",
   "id": "203fdb3b",
   "metadata": {},
   "source": [
    "El otro cambio que le vamos a hacer a los datos tiene que ver con la función de loss que vamos a utilizar *sparse_categorical_crossentropy* para ello vamos a cambiar las salidas negativas por 0."
   ]
  },
  {
   "cell_type": "code",
   "execution_count": 6,
   "id": "96e60643",
   "metadata": {},
   "outputs": [
    {
     "data": {
      "text/plain": [
       "array([0, 1])"
      ]
     },
     "execution_count": 6,
     "metadata": {},
     "output_type": "execute_result"
    }
   ],
   "source": [
    "train_outputs[train_outputs==-1] = 0\n",
    "test_outputs[test_outputs==-1] = 0\n",
    "np.unique(np.concatenate((train_outputs, test_outputs), axis=0))"
   ]
  },
  {
   "cell_type": "markdown",
   "id": "4d1cb445",
   "metadata": {},
   "source": [
    "Por último vamos a barajar la entreda de entrenamiento para no presentar los mismos datos en entrenamiento y validación"
   ]
  },
  {
   "cell_type": "code",
   "execution_count": 7,
   "id": "ead9425c",
   "metadata": {},
   "outputs": [],
   "source": [
    "idx = np.random.permutation(len(train_inputs))\n",
    "train_inputs = train_inputs[idx]\n",
    "train_outputs = train_outputs[idx]"
   ]
  },
  {
   "cell_type": "markdown",
   "id": "1d4c26e3",
   "metadata": {},
   "source": [
    "# Construir nuestro modelo\n",
    "En primer lugar vamos a crear una función que nos va a facilitar el crear las capas del extractor."
   ]
  },
  {
   "cell_type": "code",
   "execution_count": 8,
   "id": "f9ed2154",
   "metadata": {},
   "outputs": [],
   "source": [
    "def Operator_block(input_layer, name):\n",
    "    operator = keras.layers.Conv1D(filters=64, kernel_size=3, padding=\"same\", name=name+'_conv')(input_layer)\n",
    "    operator = keras.layers.BatchNormalization(name=name+'_bn')(operator)\n",
    "    operator = keras.layers.ReLU(name=name+'_relu')(operator)\n",
    "    return operator"
   ]
  },
  {
   "cell_type": "markdown",
   "id": "a3a560e3",
   "metadata": {},
   "source": [
    "La función en cuestión crea una combinación de tres capas diferentes que actuan en secuencia, a razón de una convolución que extrae de cada 3 elementos 64 características, a continuación se realiza una normalización de las salidas en función de los patrones presentados y por último se aplica una función de transferencia ReLU para asegurarnos de que no haya valores negativos y porque en este tipo de entornos se comporta mejor en el entrenamiento.\n",
    "\n",
    "El siguiente paso será la creación de la red con tres de estos bloques funcionales "
   ]
  },
  {
   "cell_type": "code",
   "execution_count": 9,
   "id": "d97f64a8",
   "metadata": {},
   "outputs": [
    {
     "name": "stdout",
     "output_type": "stream",
     "text": [
      "Model: \"model\"\n",
      "_________________________________________________________________\n",
      "Layer (type)                 Output Shape              Param #   \n",
      "=================================================================\n",
      "input_1 (InputLayer)         [(None, 500, 1)]          0         \n",
      "_________________________________________________________________\n",
      "block1_conv (Conv1D)         (None, 500, 64)           256       \n",
      "_________________________________________________________________\n",
      "block1_bn (BatchNormalizatio (None, 500, 64)           256       \n",
      "_________________________________________________________________\n",
      "block1_relu (ReLU)           (None, 500, 64)           0         \n",
      "_________________________________________________________________\n",
      "block2_conv (Conv1D)         (None, 500, 64)           12352     \n",
      "_________________________________________________________________\n",
      "block2_bn (BatchNormalizatio (None, 500, 64)           256       \n",
      "_________________________________________________________________\n",
      "block2_relu (ReLU)           (None, 500, 64)           0         \n",
      "_________________________________________________________________\n",
      "block3_conv (Conv1D)         (None, 500, 64)           12352     \n",
      "_________________________________________________________________\n",
      "block3_bn (BatchNormalizatio (None, 500, 64)           256       \n",
      "_________________________________________________________________\n",
      "block3_relu (ReLU)           (None, 500, 64)           0         \n",
      "_________________________________________________________________\n",
      "global_average_pooling1d (Gl (None, 64)                0         \n",
      "_________________________________________________________________\n",
      "dense (Dense)                (None, 2)                 130       \n",
      "=================================================================\n",
      "Total params: 25,858\n",
      "Trainable params: 25,474\n",
      "Non-trainable params: 384\n",
      "_________________________________________________________________\n"
     ]
    }
   ],
   "source": [
    "def make_model(input_shape, output_size):\n",
    "    # Input of the system\n",
    "    input_layer = keras.layers.Input(input_shape) \n",
    "    # Feture Extractor\n",
    "    conv1 = Operator_block(input_layer, 'block1')\n",
    "    conv2 = Operator_block(conv1, 'block2')\n",
    "    conv3 = Operator_block(conv2, 'block3')\n",
    "    # Layer to average th outputs of the samples\n",
    "    gap = keras.layers.GlobalAveragePooling1D()(conv3)\n",
    "    # Output layers\n",
    "    output_layer = keras.layers.Dense(output_size, activation=\"softmax\")(gap)\n",
    "    # Final model to return\n",
    "    return keras.models.Model(inputs=input_layer, outputs=output_layer)\n",
    "\n",
    "\n",
    "model = make_model(input_shape=train_inputs.shape[1:], output_size=len(classes))\n",
    "model.summary()"
   ]
  },
  {
   "cell_type": "markdown",
   "id": "951160ce",
   "metadata": {},
   "source": [
    "Como podemos ver en el ruemen acabamos de crear un modelo con la frioleja de 11 capas entrenames y algo más de 25000 parámetros que es necesario ajustar, lo primero vamos a compilar el modelo, quiere decir establecerle loss parámetros que consideremos para el entrenamiento, a saber, la función de optimización, la función de loss y las métricas de rendimiento que querramos monitorizar. En este caso vamos ausar el sparse_categorical_crossentropy que nos permite diferencias simplemente las entradas que están o deben de estar a 1. Esto cambia ligeramente el como calcular el accuracy que tiene su propia forma para este caso."
   ]
  },
  {
   "cell_type": "code",
   "execution_count": 10,
   "id": "f3bbaae8",
   "metadata": {},
   "outputs": [],
   "source": [
    "model.compile(\n",
    "    optimizer=\"adam\",\n",
    "    loss=\"sparse_categorical_crossentropy\",\n",
    "    metrics=[\"sparse_categorical_accuracy\"],\n",
    ")"
   ]
  },
  {
   "cell_type": "markdown",
   "id": "7cc3a5de",
   "metadata": {},
   "source": [
    "A continuación, pasaremos a entrenar el modelo, estableciendo el número de epochs, el tamaño de los batches que se le pasan para actualizar y definiremos cuanto porcentaje del conjunto de entrenamiento usamos para la validación. Pero antes de eso vamos a definir los callbacks que vamos a pasarle al modelo, es decir funciones de utilidad que nos ayudarán a controlar el comportamiento. En este caso concreto, vamos a definir 3. EL primero es el **ModelCheckPoint** que nos permitirá salvar a un fichero el mejor modelo intermédio que tengamos. También tendremos el **EarlyStoping** que usamos en el tema anterior y el último de las funciones es **ReduceRONPLateau** esta función reduce la tasa de aprendizaje del optimizador si la validación no mejora en un cierto periodo. Así los callbacks quedaríán como"
   ]
  },
  {
   "cell_type": "code",
   "execution_count": 12,
   "id": "f4cf661c",
   "metadata": {},
   "outputs": [],
   "source": [
    "models_folder = os.path.abspath(\"_models_\")\n",
    "\n",
    "if not os.path.isdir(models_folder):\n",
    "    os.mkdir(models_folder)\n",
    "\n",
    "\n",
    "callbacks = [\n",
    "    keras.callbacks.ModelCheckpoint(\n",
    "        \"_models_/best_FordA.h5\", save_best_only=True, monitor=\"val_loss\"\n",
    "    ),\n",
    "    keras.callbacks.ReduceLROnPlateau(\n",
    "        monitor=\"val_loss\", factor=0.5, patience=10, min_lr=0.0001\n",
    "    ),\n",
    "    keras.callbacks.EarlyStopping(monitor=\"val_loss\", patience=10, verbose=1),\n",
    "]"
   ]
  },
  {
   "cell_type": "markdown",
   "id": "cd4dc4e9",
   "metadata": {},
   "source": [
    "Por último llamaremos a la función de entrenamiento con los parámetros que queramos. En este cas hay que destacar que, del conjunto de entrenameinto, el 20% se ha reservado para validación es decir 720 patrones de los 3600 nunca serán utilizados para actualizar los pesos."
   ]
  },
  {
   "cell_type": "code",
   "execution_count": 13,
   "id": "f2d2132d",
   "metadata": {},
   "outputs": [
    {
     "name": "stdout",
     "output_type": "stream",
     "text": [
      "Epoch 1/100\n",
      "90/90 [==============================] - 5s 50ms/step - loss: 0.5984 - sparse_categorical_accuracy: 0.6765 - val_loss: 0.8293 - val_sparse_categorical_accuracy: 0.4958\n",
      "Epoch 2/100\n",
      "90/90 [==============================] - 4s 46ms/step - loss: 0.4604 - sparse_categorical_accuracy: 0.7827 - val_loss: 0.9877 - val_sparse_categorical_accuracy: 0.4958\n",
      "Epoch 3/100\n",
      "90/90 [==============================] - 4s 46ms/step - loss: 0.4675 - sparse_categorical_accuracy: 0.7686 - val_loss: 1.1393 - val_sparse_categorical_accuracy: 0.4958\n",
      "Epoch 4/100\n",
      "90/90 [==============================] - 4s 47ms/step - loss: 0.4173 - sparse_categorical_accuracy: 0.7962 - val_loss: 1.0009 - val_sparse_categorical_accuracy: 0.4958\n",
      "Epoch 5/100\n",
      "90/90 [==============================] - 5s 53ms/step - loss: 0.4239 - sparse_categorical_accuracy: 0.7760 - val_loss: 1.0998 - val_sparse_categorical_accuracy: 0.4958\n",
      "Epoch 6/100\n",
      "90/90 [==============================] - 5s 53ms/step - loss: 0.4101 - sparse_categorical_accuracy: 0.8008 - val_loss: 0.5144 - val_sparse_categorical_accuracy: 0.6917\n",
      "Epoch 7/100\n",
      "90/90 [==============================] - 4s 49ms/step - loss: 0.4222 - sparse_categorical_accuracy: 0.7933 - val_loss: 0.4648 - val_sparse_categorical_accuracy: 0.7542\n",
      "Epoch 8/100\n",
      "90/90 [==============================] - 4s 47ms/step - loss: 0.4002 - sparse_categorical_accuracy: 0.8003 - val_loss: 0.4962 - val_sparse_categorical_accuracy: 0.6986\n",
      "Epoch 9/100\n",
      "90/90 [==============================] - 4s 47ms/step - loss: 0.3832 - sparse_categorical_accuracy: 0.8124 - val_loss: 0.5270 - val_sparse_categorical_accuracy: 0.7042\n",
      "Epoch 10/100\n",
      "90/90 [==============================] - 5s 51ms/step - loss: 0.3709 - sparse_categorical_accuracy: 0.8273 - val_loss: 0.3684 - val_sparse_categorical_accuracy: 0.8069\n",
      "Epoch 11/100\n",
      "90/90 [==============================] - 5s 55ms/step - loss: 0.3541 - sparse_categorical_accuracy: 0.8301 - val_loss: 0.9389 - val_sparse_categorical_accuracy: 0.5236\n",
      "Epoch 12/100\n",
      "90/90 [==============================] - 4s 49ms/step - loss: 0.3757 - sparse_categorical_accuracy: 0.8191 - val_loss: 0.3539 - val_sparse_categorical_accuracy: 0.8639\n",
      "Epoch 13/100\n",
      "90/90 [==============================] - 4s 48ms/step - loss: 0.3613 - sparse_categorical_accuracy: 0.8291 - val_loss: 0.5190 - val_sparse_categorical_accuracy: 0.7250\n",
      "Epoch 14/100\n",
      "90/90 [==============================] - 6s 63ms/step - loss: 0.3308 - sparse_categorical_accuracy: 0.8552 - val_loss: 0.3303 - val_sparse_categorical_accuracy: 0.8472\n",
      "Epoch 15/100\n",
      "90/90 [==============================] - 6s 66ms/step - loss: 0.3376 - sparse_categorical_accuracy: 0.8534 - val_loss: 0.3882 - val_sparse_categorical_accuracy: 0.8028\n",
      "Epoch 16/100\n",
      "90/90 [==============================] - 6s 64ms/step - loss: 0.3355 - sparse_categorical_accuracy: 0.8622 - val_loss: 0.7012 - val_sparse_categorical_accuracy: 0.6639\n",
      "Epoch 17/100\n",
      "90/90 [==============================] - 6s 67ms/step - loss: 0.3400 - sparse_categorical_accuracy: 0.8478 - val_loss: 0.6387 - val_sparse_categorical_accuracy: 0.7431\n",
      "Epoch 18/100\n",
      "90/90 [==============================] - 6s 66ms/step - loss: 0.3199 - sparse_categorical_accuracy: 0.8494 - val_loss: 0.3940 - val_sparse_categorical_accuracy: 0.7875\n",
      "Epoch 19/100\n",
      "90/90 [==============================] - 6s 66ms/step - loss: 0.3291 - sparse_categorical_accuracy: 0.8596 - val_loss: 0.3972 - val_sparse_categorical_accuracy: 0.7903\n",
      "Epoch 20/100\n",
      "90/90 [==============================] - 6s 66ms/step - loss: 0.2983 - sparse_categorical_accuracy: 0.8753 - val_loss: 1.2633 - val_sparse_categorical_accuracy: 0.6958\n",
      "Epoch 21/100\n",
      "90/90 [==============================] - 6s 66ms/step - loss: 0.2953 - sparse_categorical_accuracy: 0.8754 - val_loss: 0.2986 - val_sparse_categorical_accuracy: 0.8653\n",
      "Epoch 22/100\n",
      "90/90 [==============================] - 6s 66ms/step - loss: 0.3144 - sparse_categorical_accuracy: 0.8626 - val_loss: 0.2894 - val_sparse_categorical_accuracy: 0.8806\n",
      "Epoch 23/100\n",
      "90/90 [==============================] - 6s 66ms/step - loss: 0.2919 - sparse_categorical_accuracy: 0.8874 - val_loss: 0.3287 - val_sparse_categorical_accuracy: 0.8000\n",
      "Epoch 24/100\n",
      "90/90 [==============================] - 6s 66ms/step - loss: 0.2794 - sparse_categorical_accuracy: 0.8828 - val_loss: 0.5874 - val_sparse_categorical_accuracy: 0.6694\n",
      "Epoch 25/100\n",
      "90/90 [==============================] - 6s 65ms/step - loss: 0.2697 - sparse_categorical_accuracy: 0.8911 - val_loss: 0.7324 - val_sparse_categorical_accuracy: 0.6000\n",
      "Epoch 26/100\n",
      "90/90 [==============================] - 6s 66ms/step - loss: 0.2757 - sparse_categorical_accuracy: 0.8791 - val_loss: 0.2973 - val_sparse_categorical_accuracy: 0.8736\n",
      "Epoch 27/100\n",
      "90/90 [==============================] - 6s 65ms/step - loss: 0.2864 - sparse_categorical_accuracy: 0.8813 - val_loss: 0.2710 - val_sparse_categorical_accuracy: 0.9069\n",
      "Epoch 28/100\n",
      "90/90 [==============================] - 7s 76ms/step - loss: 0.2509 - sparse_categorical_accuracy: 0.8943 - val_loss: 0.5303 - val_sparse_categorical_accuracy: 0.7264\n",
      "Epoch 29/100\n",
      "90/90 [==============================] - 7s 78ms/step - loss: 0.2905 - sparse_categorical_accuracy: 0.8736 - val_loss: 0.4837 - val_sparse_categorical_accuracy: 0.7528\n",
      "Epoch 30/100\n",
      "90/90 [==============================] - 6s 70ms/step - loss: 0.2803 - sparse_categorical_accuracy: 0.8847 - val_loss: 0.3692 - val_sparse_categorical_accuracy: 0.7736\n",
      "Epoch 31/100\n",
      "90/90 [==============================] - 6s 65ms/step - loss: 0.2878 - sparse_categorical_accuracy: 0.8741 - val_loss: 0.2668 - val_sparse_categorical_accuracy: 0.9014\n",
      "Epoch 32/100\n",
      "90/90 [==============================] - 6s 65ms/step - loss: 0.2481 - sparse_categorical_accuracy: 0.9025 - val_loss: 0.2806 - val_sparse_categorical_accuracy: 0.8764\n",
      "Epoch 33/100\n",
      "90/90 [==============================] - 6s 68ms/step - loss: 0.2481 - sparse_categorical_accuracy: 0.9109 - val_loss: 0.2637 - val_sparse_categorical_accuracy: 0.8958\n",
      "Epoch 34/100\n",
      "90/90 [==============================] - 6s 67ms/step - loss: 0.2592 - sparse_categorical_accuracy: 0.8859 - val_loss: 0.2905 - val_sparse_categorical_accuracy: 0.8875\n",
      "Epoch 35/100\n",
      "90/90 [==============================] - 6s 65ms/step - loss: 0.2411 - sparse_categorical_accuracy: 0.8974 - val_loss: 0.2579 - val_sparse_categorical_accuracy: 0.9014\n",
      "Epoch 36/100\n",
      "90/90 [==============================] - 6s 67ms/step - loss: 0.2460 - sparse_categorical_accuracy: 0.9017 - val_loss: 1.6136 - val_sparse_categorical_accuracy: 0.5347\n",
      "Epoch 37/100\n",
      "90/90 [==============================] - 6s 70ms/step - loss: 0.2573 - sparse_categorical_accuracy: 0.8948 - val_loss: 0.5380 - val_sparse_categorical_accuracy: 0.7319\n",
      "Epoch 38/100\n",
      "90/90 [==============================] - 6s 66ms/step - loss: 0.2298 - sparse_categorical_accuracy: 0.9084 - val_loss: 0.7409 - val_sparse_categorical_accuracy: 0.6417\n",
      "Epoch 39/100\n",
      "90/90 [==============================] - 6s 65ms/step - loss: 0.2293 - sparse_categorical_accuracy: 0.9013 - val_loss: 0.7984 - val_sparse_categorical_accuracy: 0.6306\n",
      "Epoch 40/100\n",
      "90/90 [==============================] - 6s 65ms/step - loss: 0.2355 - sparse_categorical_accuracy: 0.9048 - val_loss: 0.3311 - val_sparse_categorical_accuracy: 0.8319\n",
      "Epoch 41/100\n",
      "90/90 [==============================] - 6s 65ms/step - loss: 0.2358 - sparse_categorical_accuracy: 0.9040 - val_loss: 0.3854 - val_sparse_categorical_accuracy: 0.8250\n",
      "Epoch 42/100\n",
      "90/90 [==============================] - 6s 65ms/step - loss: 0.2443 - sparse_categorical_accuracy: 0.9031 - val_loss: 0.2495 - val_sparse_categorical_accuracy: 0.9056\n",
      "Epoch 43/100\n",
      "90/90 [==============================] - 6s 65ms/step - loss: 0.2402 - sparse_categorical_accuracy: 0.8992 - val_loss: 0.3065 - val_sparse_categorical_accuracy: 0.8319\n",
      "Epoch 44/100\n",
      "90/90 [==============================] - 6s 70ms/step - loss: 0.2395 - sparse_categorical_accuracy: 0.9109 - val_loss: 0.4913 - val_sparse_categorical_accuracy: 0.7486\n",
      "Epoch 45/100\n",
      "90/90 [==============================] - 5s 61ms/step - loss: 0.2261 - sparse_categorical_accuracy: 0.9123 - val_loss: 0.3735 - val_sparse_categorical_accuracy: 0.8264\n",
      "Epoch 46/100\n",
      "90/90 [==============================] - 5s 60ms/step - loss: 0.2529 - sparse_categorical_accuracy: 0.8957 - val_loss: 1.1664 - val_sparse_categorical_accuracy: 0.6056\n",
      "Epoch 47/100\n",
      "90/90 [==============================] - 5s 60ms/step - loss: 0.2197 - sparse_categorical_accuracy: 0.9104 - val_loss: 0.8157 - val_sparse_categorical_accuracy: 0.6375\n",
      "Epoch 48/100\n",
      "90/90 [==============================] - 5s 59ms/step - loss: 0.2173 - sparse_categorical_accuracy: 0.9112 - val_loss: 1.7568 - val_sparse_categorical_accuracy: 0.5347\n",
      "Epoch 49/100\n",
      "90/90 [==============================] - 6s 64ms/step - loss: 0.2143 - sparse_categorical_accuracy: 0.9153 - val_loss: 0.6824 - val_sparse_categorical_accuracy: 0.6931\n",
      "Epoch 50/100\n",
      "90/90 [==============================] - 5s 60ms/step - loss: 0.1925 - sparse_categorical_accuracy: 0.9226 - val_loss: 0.3871 - val_sparse_categorical_accuracy: 0.7806\n",
      "Epoch 51/100\n",
      "90/90 [==============================] - 5s 59ms/step - loss: 0.2133 - sparse_categorical_accuracy: 0.9192 - val_loss: 0.2784 - val_sparse_categorical_accuracy: 0.8639\n",
      "Epoch 52/100\n",
      "90/90 [==============================] - 5s 58ms/step - loss: 0.1845 - sparse_categorical_accuracy: 0.9317 - val_loss: 0.1916 - val_sparse_categorical_accuracy: 0.9236\n",
      "Epoch 53/100\n",
      "90/90 [==============================] - 5s 59ms/step - loss: 0.2083 - sparse_categorical_accuracy: 0.9266 - val_loss: 0.4902 - val_sparse_categorical_accuracy: 0.7625\n",
      "Epoch 54/100\n",
      "90/90 [==============================] - 5s 58ms/step - loss: 0.1714 - sparse_categorical_accuracy: 0.9444 - val_loss: 0.7494 - val_sparse_categorical_accuracy: 0.6833\n",
      "Epoch 55/100\n",
      "90/90 [==============================] - 5s 56ms/step - loss: 0.1593 - sparse_categorical_accuracy: 0.9466 - val_loss: 0.3060 - val_sparse_categorical_accuracy: 0.8583\n",
      "Epoch 56/100\n",
      "90/90 [==============================] - 7s 74ms/step - loss: 0.1588 - sparse_categorical_accuracy: 0.9400 - val_loss: 0.1582 - val_sparse_categorical_accuracy: 0.9528\n",
      "Epoch 57/100\n",
      "90/90 [==============================] - 6s 64ms/step - loss: 0.1562 - sparse_categorical_accuracy: 0.9413 - val_loss: 0.2864 - val_sparse_categorical_accuracy: 0.8653\n",
      "Epoch 58/100\n",
      "90/90 [==============================] - 6s 65ms/step - loss: 0.1695 - sparse_categorical_accuracy: 0.9340 - val_loss: 0.3465 - val_sparse_categorical_accuracy: 0.8222\n",
      "Epoch 59/100\n",
      "90/90 [==============================] - 8s 86ms/step - loss: 0.1589 - sparse_categorical_accuracy: 0.9366 - val_loss: 0.4217 - val_sparse_categorical_accuracy: 0.7833\n",
      "Epoch 60/100\n",
      "90/90 [==============================] - 8s 90ms/step - loss: 0.1355 - sparse_categorical_accuracy: 0.9564 - val_loss: 0.1501 - val_sparse_categorical_accuracy: 0.9444\n",
      "Epoch 61/100\n",
      "90/90 [==============================] - 7s 75ms/step - loss: 0.1481 - sparse_categorical_accuracy: 0.9527 - val_loss: 0.1729 - val_sparse_categorical_accuracy: 0.9306\n",
      "Epoch 62/100\n",
      "90/90 [==============================] - 6s 69ms/step - loss: 0.1440 - sparse_categorical_accuracy: 0.9501 - val_loss: 0.1473 - val_sparse_categorical_accuracy: 0.9556\n",
      "Epoch 63/100\n",
      "90/90 [==============================] - 8s 87ms/step - loss: 0.1123 - sparse_categorical_accuracy: 0.9654 - val_loss: 0.1767 - val_sparse_categorical_accuracy: 0.9181\n",
      "Epoch 64/100\n",
      "90/90 [==============================] - 7s 78ms/step - loss: 0.1233 - sparse_categorical_accuracy: 0.9653 - val_loss: 0.4326 - val_sparse_categorical_accuracy: 0.8153\n",
      "Epoch 65/100\n",
      "90/90 [==============================] - 7s 74ms/step - loss: 0.1361 - sparse_categorical_accuracy: 0.9528 - val_loss: 0.2195 - val_sparse_categorical_accuracy: 0.9097\n",
      "Epoch 66/100\n",
      "90/90 [==============================] - 9s 95ms/step - loss: 0.1073 - sparse_categorical_accuracy: 0.9639 - val_loss: 0.3943 - val_sparse_categorical_accuracy: 0.8403\n",
      "Epoch 67/100\n",
      "90/90 [==============================] - 7s 82ms/step - loss: 0.1248 - sparse_categorical_accuracy: 0.9561 - val_loss: 0.1691 - val_sparse_categorical_accuracy: 0.9375\n",
      "Epoch 68/100\n",
      "90/90 [==============================] - 7s 74ms/step - loss: 0.1106 - sparse_categorical_accuracy: 0.9672 - val_loss: 0.1682 - val_sparse_categorical_accuracy: 0.9361\n",
      "Epoch 69/100\n",
      "90/90 [==============================] - 7s 75ms/step - loss: 0.1206 - sparse_categorical_accuracy: 0.9615 - val_loss: 0.1156 - val_sparse_categorical_accuracy: 0.9625\n",
      "Epoch 70/100\n",
      "90/90 [==============================] - 7s 73ms/step - loss: 0.1231 - sparse_categorical_accuracy: 0.9601 - val_loss: 0.1696 - val_sparse_categorical_accuracy: 0.9306\n",
      "Epoch 71/100\n",
      "90/90 [==============================] - 7s 73ms/step - loss: 0.1210 - sparse_categorical_accuracy: 0.9576 - val_loss: 0.2163 - val_sparse_categorical_accuracy: 0.9056\n",
      "Epoch 72/100\n",
      "90/90 [==============================] - 7s 73ms/step - loss: 0.1223 - sparse_categorical_accuracy: 0.9589 - val_loss: 0.1081 - val_sparse_categorical_accuracy: 0.9569\n",
      "Epoch 73/100\n",
      "90/90 [==============================] - 7s 74ms/step - loss: 0.1040 - sparse_categorical_accuracy: 0.9667 - val_loss: 0.1120 - val_sparse_categorical_accuracy: 0.9597\n",
      "Epoch 74/100\n",
      "90/90 [==============================] - 8s 92ms/step - loss: 0.1130 - sparse_categorical_accuracy: 0.9649 - val_loss: 0.3378 - val_sparse_categorical_accuracy: 0.8208\n",
      "Epoch 75/100\n",
      "90/90 [==============================] - 8s 86ms/step - loss: 0.1236 - sparse_categorical_accuracy: 0.9559 - val_loss: 0.4676 - val_sparse_categorical_accuracy: 0.7958\n",
      "Epoch 76/100\n",
      "90/90 [==============================] - 8s 84ms/step - loss: 0.1116 - sparse_categorical_accuracy: 0.9631 - val_loss: 0.4217 - val_sparse_categorical_accuracy: 0.8292\n",
      "Epoch 77/100\n",
      "90/90 [==============================] - 9s 95ms/step - loss: 0.1052 - sparse_categorical_accuracy: 0.9655 - val_loss: 0.1176 - val_sparse_categorical_accuracy: 0.9556\n",
      "Epoch 78/100\n",
      "90/90 [==============================] - 9s 96ms/step - loss: 0.1061 - sparse_categorical_accuracy: 0.9622 - val_loss: 0.2422 - val_sparse_categorical_accuracy: 0.8903\n",
      "Epoch 79/100\n",
      "90/90 [==============================] - 9s 97ms/step - loss: 0.1060 - sparse_categorical_accuracy: 0.9661 - val_loss: 0.2112 - val_sparse_categorical_accuracy: 0.9042\n",
      "Epoch 80/100\n",
      "90/90 [==============================] - 8s 94ms/step - loss: 0.1063 - sparse_categorical_accuracy: 0.9669 - val_loss: 0.1138 - val_sparse_categorical_accuracy: 0.9569\n",
      "Epoch 81/100\n",
      "90/90 [==============================] - 7s 79ms/step - loss: 0.1196 - sparse_categorical_accuracy: 0.9562 - val_loss: 0.1240 - val_sparse_categorical_accuracy: 0.9583\n",
      "Epoch 82/100\n",
      "90/90 [==============================] - 7s 74ms/step - loss: 0.0913 - sparse_categorical_accuracy: 0.9711 - val_loss: 0.8323 - val_sparse_categorical_accuracy: 0.6653\n",
      "Epoch 00082: early stopping\n"
     ]
    }
   ],
   "source": [
    "history = model.fit(train_inputs, train_outputs,\n",
    "    batch_size=32, epochs=100,\n",
    "    callbacks=callbacks,\n",
    "    validation_split=0.2,\n",
    "    verbose=1\n",
    ")"
   ]
  },
  {
   "cell_type": "markdown",
   "id": "0e0c23c3",
   "metadata": {},
   "source": [
    "Hecho esto deberemos de probar el modelo obtenido pero vamos a cargar el mejor modelo con el fin de testearlo sobre el que mejores resultados de validación ha obtenido. Para cargar un modelo basta con ejecutar la siguiente línea"
   ]
  },
  {
   "cell_type": "code",
   "execution_count": 15,
   "id": "75fcd78b",
   "metadata": {},
   "outputs": [],
   "source": [
    "model = keras.models.load_model(models_folder+\"/best_FordA.h5\")\n"
   ]
  },
  {
   "cell_type": "markdown",
   "id": "268f61d6",
   "metadata": {},
   "source": [
    "Ya solo quedaver como se ha comportado con los datos de test"
   ]
  },
  {
   "cell_type": "code",
   "execution_count": 16,
   "id": "61321145",
   "metadata": {},
   "outputs": [
    {
     "name": "stdout",
     "output_type": "stream",
     "text": [
      "42/42 [==============================] - 0s 9ms/step - loss: 0.1160 - sparse_categorical_accuracy: 0.9621\n",
      "Test accuracy 0.9620925188064575\n",
      "Test loss 0.11595882475376129\n"
     ]
    }
   ],
   "source": [
    "test_loss, test_acc = model.evaluate(test_inputs, test_outputs)\n",
    "\n",
    "print(\"Test accuracy\", test_acc)\n",
    "print(\"Test loss\", test_loss)"
   ]
  },
  {
   "cell_type": "markdown",
   "id": "87651efd",
   "metadata": {},
   "source": [
    "Como último punto vamos a visualizar el como se ha comportado el sistema durante el entrenamiento en concreto visualizando el *accuracy* correspondiente. El siguiente cacho de código nos permite sacar los datos que hemos almacenado en la variable history, que tiene los datos historicos del entrenamiento. Así ejecutando los liguientes comandos"
   ]
  },
  {
   "cell_type": "code",
   "execution_count": 17,
   "id": "376025fc",
   "metadata": {},
   "outputs": [
    {
     "data": {
      "image/png": "[encoded data removed]",
      "text/plain": [
       "<Figure size 432x288 with 1 Axes>"
      ]
     },
     "metadata": {
      "needs_background": "light"
     },
     "output_type": "display_data"
    }
   ],
   "source": [
    "metric = \"sparse_categorical_accuracy\"\n",
    "plt.figure()\n",
    "plt.plot(history.history[metric])\n",
    "plt.plot(history.history[\"val_\" + metric])\n",
    "plt.title(\"model \" + metric)\n",
    "plt.ylabel(metric, fontsize=\"large\")\n",
    "plt.xlabel(\"epoch\", fontsize=\"large\")\n",
    "plt.legend([\"train\", \"val\"], loc=\"best\")\n",
    "plt.show()\n",
    "plt.close()"
   ]
  },
  {
   "cell_type": "markdown",
   "id": "6aeecdb4",
   "metadata": {},
   "source": [
    "## Ejercicio\n",
    "Ahora es su turno, para el ejercicio existe otra base de datos que es FordB, equivalente a este problema, pero con 3636 patrones de entrada y sólo 810 de test. Se puede descargar desde http://timeseriesclassification.com/Downloads/FordB.zip. Intente resolver el problema, puede empezar con la solución aquí propuesta para FordA y modificarla para ver cual es el mejor resultado que obtiene."
   ]
  },
  {
   "cell_type": "code",
   "execution_count": null,
   "id": "bd3804eb",
   "metadata": {},
   "outputs": [],
   "source": []
  }
 ],
 "metadata": {
  "kernelspec": {
   "display_name": "Python 3 (ipykernel)",
   "language": "python",
   "name": "python3"
  },
  "language_info": {
   "codemirror_mode": {
    "name": "ipython",
    "version": 3
   },
   "file_extension": ".py",
   "mimetype": "text/x-python",
   "name": "python",
   "nbconvert_exporter": "python",
   "pygments_lexer": "ipython3",
   "version": "3.10.6"
  }
 },
 "nbformat": 4,
 "nbformat_minor": 5
}
