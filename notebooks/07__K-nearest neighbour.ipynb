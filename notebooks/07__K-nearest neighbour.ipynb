{
 "cells": [
  {
   "cell_type": "markdown",
   "id": "572e4e2d",
   "metadata": {},
   "source": [
    "# K-nearest Neighbours\n",
    "\n",
    "SI bien lo hemos venido usando ya en otras clases, el algoritmo K-Nearest Neighbour (KNN) es un algoritmo de clasificación supervisado que se basa en el concepto de \"votación de vecindarios\". La idea es que para predecir la clase de una muestra desconocida, se buscan las K muestras más cercanas en el espacio de características y se asigna la clase mayoritaria de esas K muestras a la muestra desconocida.\n",
    "\n",
    "![KNN](https://miro.medium.com/max/640/1*70N-3n93NIfu5vKSUAwiqg.gif)\n",
    "\n",
    "Lo que se ve en la imagen es precisamente la resolución del problema de clasisficación de las flores Iris con 4 vecinos, en código, esto se podría traducir en los siguiente:"
   ]
  },
  {
   "cell_type": "code",
   "execution_count": null,
   "id": "2f988bcc",
   "metadata": {},
   "outputs": [],
   "source": [
    "from sklearn.neighbors import KNeighborsClassifier\n",
    "from sklearn.datasets import load_iris\n",
    "from sklearn.model_selection import train_test_split\n",
    "\n",
    "# Cargar el conjunto de datos Iris\n",
    "iris = load_iris()\n",
    "X = iris.data\n",
    "y = iris.target\n",
    "\n",
    "# Dividir el conjunto de datos en entrenamiento y prueba\n",
    "X_train, X_test, y_train, y_test = train_test_split(X, y, test_size=0.3)\n",
    "\n",
    "data = problema.data\n",
    "target = problema.target\n",
    "\n",
    "# Crear un clasificador KNN\n",
    "clf = KNeighborsClassifier(n_neighbors=4)\n",
    "\n",
    "# Entrenar el modelo con los datos de entrenamiento\n",
    "clf.fit(X_train, y_train)\n",
    "\n",
    "# Hacer predicciones\n",
    "y_pred = clf.predict(X_test)\n",
    "\n",
    "# Imprimir la predicción\n",
    "accuracy = clf.score(X_test, y_test)\n",
    "print(\"Precisión: \", accuracy)"
   ]
  },
  {
   "cell_type": "markdown",
   "id": "694f0f70",
   "metadata": {},
   "source": [
    "La formula matemática para calcular la distancia entre dos puntos en el espacio de características se puede expresar de diversas formas, pero una de las más comunes es la distancia euclidiana:\n",
    "\n",
    "$$d(x, x') = \\sqrt{(x1 - x'1)^2 + (x2 - x'2)^2 + ... + (xd - x'd)^2}$$\n",
    "\n",
    "donde $x$ e $x'$ son dos puntos en el espacio de características y $d$ es la cantidad de dimensiones.\n",
    "\n",
    "Una vez que se han calculado las distancias entre la muestra desconocida y todas las muestras de entrenamiento, se pueden ordenar las muestras de entrenamiento en orden ascendente según su distancia a la muestra desconocida y se pueden seleccionar las $K$ muestras más cercanas.\n",
    "\n",
    "La predicción de la clase se realiza mediante la votación de las clases de las K muestras más cercanas, es decir, se cuentan cuántos de los vecinos tienen cada clase y se asigna la clase más común a la muestra desconocida.\n",
    "\n",
    "En resumen, el algoritmo KNN se puede resumir en los siguientes pasos:\n",
    "\n",
    "1. Calcular la distancia entre la muestra desconocida y todas las muestras de entrenamiento.\n",
    "1. Ordenar las muestras de entrenamiento en orden ascendente según su distancia a la muestra desconocida.\n",
    "1. Seleccionar las $K$ muestras más cercanas.\n",
    "1. Votar las clases de las $K$ muestras más cercanas.\n",
    "1. Asignar la clase más común a la muestra desconocida."
   ]
  },
  {
   "cell_type": "markdown",
   "id": "e2d2eafc",
   "metadata": {},
   "source": [
    "# Uso para clustering\n",
    "En la misma línea de actuación existe otra técnica que tiene como particularidad que no utiliza la salida desea para el ajusto si no que cae dentro de lo que se conoce como aprendizaje no supervisado. Vamos a ver un ejemplo rápido basado en este algoritmo que se conoce ocmo K-means"
   ]
  },
  {
   "cell_type": "code",
   "execution_count": null,
   "id": "8bdbbbc8",
   "metadata": {},
   "outputs": [],
   "source": [
    "import numpy as np\n",
    "import matplotlib.pyplot as plt\n",
    "from sklearn.cluster import KMeans  \n",
    "%matplotlib inline\n",
    "\n",
    "np.random.seed(42)\n",
    "m = 500\n",
    "X1 = 2 * np.random.rand(m, 1)\n",
    "X2 = (4 + 3 * X1 + np.random.randn(m, 1))\n",
    "\n",
    "datos=np.concatenate((X1,X2),axis=1)\n",
    "print(datos)"
   ]
  },
  {
   "cell_type": "code",
   "execution_count": null,
   "id": "01e389be",
   "metadata": {},
   "outputs": [],
   "source": [
    "plt.scatter(datos[:,0],datos[:,1], label='True Position')  "
   ]
  },
  {
   "cell_type": "code",
   "execution_count": null,
   "id": "3a5af454",
   "metadata": {},
   "outputs": [],
   "source": [
    "kmeans = KMeans(n_clusters=2)  \n",
    "kmeans.fit(datos) "
   ]
  },
  {
   "cell_type": "code",
   "execution_count": null,
   "id": "94b7cc18",
   "metadata": {},
   "outputs": [],
   "source": [
    " print(kmeans.cluster_centers_) "
   ]
  },
  {
   "cell_type": "markdown",
   "id": "6e00645f",
   "metadata": {},
   "source": [
    "al indicar que el número de cluster es 2, devuelve las coordenadas del centroide de cada uno de los dos clusters."
   ]
  },
  {
   "cell_type": "code",
   "execution_count": null,
   "id": "6337c71b",
   "metadata": {},
   "outputs": [],
   "source": [
    "print(kmeans.labels_)  "
   ]
  },
  {
   "cell_type": "markdown",
   "id": "bb344769",
   "metadata": {},
   "source": [
    "le pedimos imprimir en pantalla en este caso es el índice del cluster al que pertenece cada uno de los samples."
   ]
  },
  {
   "cell_type": "code",
   "execution_count": null,
   "id": "0b17c254",
   "metadata": {},
   "outputs": [],
   "source": [
    "plt.scatter(datos[:,0],datos[:,1], c=kmeans.labels_, cmap='rainbow') "
   ]
  },
  {
   "cell_type": "code",
   "execution_count": null,
   "id": "3b6227f3",
   "metadata": {},
   "outputs": [],
   "source": [
    "plt.scatter(datos[:,0],datos[:,1], c=kmeans.labels_, cmap='rainbow')  \n",
    "plt.scatter(kmeans.cluster_centers_[:,0] ,kmeans.cluster_centers_[:,1], color='black')  "
   ]
  },
  {
   "cell_type": "markdown",
   "id": "f49a3bf7",
   "metadata": {},
   "source": [
    " mismo ejemplo con 5 clusters."
   ]
  },
  {
   "cell_type": "code",
   "execution_count": null,
   "id": "e24c711d",
   "metadata": {},
   "outputs": [],
   "source": [
    "kmeans = KMeans(n_clusters=5)  \n",
    "kmeans.fit(datos) \n",
    "plt.scatter(datos[:,0],datos[:,1], c=kmeans.labels_, cmap='rainbow')  \n",
    "plt.scatter(kmeans.cluster_centers_[:,0] ,kmeans.cluster_centers_[:,1], color='black')  "
   ]
  },
  {
   "cell_type": "code",
   "execution_count": null,
   "id": "47e0306f",
   "metadata": {},
   "outputs": [],
   "source": [
    "kmeans.labels_"
   ]
  },
  {
   "cell_type": "code",
   "execution_count": null,
   "id": "9e74cc46",
   "metadata": {},
   "outputs": [],
   "source": [
    "kmeans.labels_.size"
   ]
  },
  {
   "cell_type": "code",
   "execution_count": null,
   "id": "22f7ea12",
   "metadata": {},
   "outputs": [],
   "source": [
    "y_true_val = np.random.randint(5, size=500)\n",
    "y_true_val.size"
   ]
  },
  {
   "cell_type": "code",
   "execution_count": null,
   "id": "1a600ece",
   "metadata": {},
   "outputs": [],
   "source": [
    "from sklearn.metrics.cluster import normalized_mutual_info_score\n",
    "normalized_mutual_info_score(y_true_val, kmeans.labels_,average_method=\"arithmetic\")"
   ]
  },
  {
   "cell_type": "code",
   "execution_count": null,
   "id": "d2659daf",
   "metadata": {},
   "outputs": [],
   "source": [
    "plt.scatter(datos[:,0],datos[:,1], c=y_true_val, cmap='rainbow')  "
   ]
  },
  {
   "cell_type": "code",
   "execution_count": null,
   "id": "ebc6db3f",
   "metadata": {},
   "outputs": [],
   "source": [
    "y_true_val= kmeans.labels_\n",
    "print(y_true_val[1:5])\n",
    "y_true_val[y_true_val == 2] = 1\n",
    "print(y_true_val[1:5])\n",
    "\n",
    "plt.scatter(datos[:,0],datos[:,1], c=y_true_val, cmap='rainbow')  "
   ]
  },
  {
   "cell_type": "code",
   "execution_count": null,
   "id": "edd7470f",
   "metadata": {},
   "outputs": [],
   "source": [
    "kmeans.fit(datos) \n",
    "normalized_mutual_info_score(y_true_val, kmeans.labels_,average_method=\"arithmetic\")"
   ]
  },
  {
   "cell_type": "code",
   "execution_count": null,
   "id": "583d7d24",
   "metadata": {},
   "outputs": [],
   "source": [
    "from sklearn.metrics.cluster import adjusted_rand_score\n",
    "adjusted_rand_score(y_true_val, kmeans.labels_)"
   ]
  }
 ],
 "metadata": {
  "kernelspec": {
   "display_name": "Python 3 (ipykernel)",
   "language": "python",
   "name": "python3"
  },
  "language_info": {
   "codemirror_mode": {
    "name": "ipython",
    "version": 3
   },
   "file_extension": ".py",
   "mimetype": "text/x-python",
   "name": "python",
   "nbconvert_exporter": "python",
   "pygments_lexer": "ipython3",
   "version": "3.10.6"
  }
 },
 "nbformat": 4,
 "nbformat_minor": 5
}
