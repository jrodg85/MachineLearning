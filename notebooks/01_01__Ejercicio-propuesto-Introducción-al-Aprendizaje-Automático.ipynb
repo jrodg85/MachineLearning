{
 "cells": [
  {
   "cell_type": "markdown",
   "id": "d353f935",
   "metadata": {},
   "source": [
    "# Introducción\n",
    "\n",
    "El aprendizaje automático o *machine learning* es una subárea dentro de la Inteligencia Artificial que aspira a encontrar patrones. El objetivo de encontrar esos patrones es poder diferntes tipos de problemas en base a la extracción de una serie de funciones, las cuales se basan en un conjunto de técnicas matemáticas. Estas técnicas permiten el aproximar una distribución de los datos en lo que se conoce como el **espacio de búsqueda**.\n",
    "\n",
    "El espacio de búsqueda se compone de todas las posibles soluciones al problema en cuestión que tratamos de solucionar. Entiéndase por solución la posible combinación de valores en cada una de las variables que componen un problema. Por ejemplo, en la imagen siguiente se puede ver un espacio de búsqueda compuesto por dos variables, $X_1$ y $X_2$. Cada uno de los puntos que sería una posible solución al problema.\n",
    "\n",
    "![Espacio de Busqueda](https://upload.wikimedia.org/wikipedia/commons/thumb/3/3c/Hyperparameter_Optimization_using_Tree-Structured_Parzen_Estimators.svg/640px-Hyperparameter_Optimization_using_Tree-Structured_Parzen_Estimators.svg.png)\n",
    "\n",
    "Aquellos puntos que conocemos dentro del espacio de búsqueda recibien por su parte el nombre de **patrones** y en la imagen anterior, se correcponderían con las x que están dentro del espacio de búsqueda y que nos darán la información para solucionar el problema que estemos enfocando y que representa ese espacio de búsqueda.\n",
    "\n",
    "Así pues, las técnicas de *machine learning* tratarán de acometer la resolución de un problema en base a los patrones y lo que se quiera hacer con ellas. De esa manera tendremos cada uno de los distintos tipos de problemas que se pueden acometer con este tipo de técnicas con la combinación tipo de información y tarea a realizar. Estos podrían identificarse en las siguientes categorías:\n",
    "\n",
    "\n",
    "* Problemas de clasificación.\n",
    "\n",
    " Este tipo de problemas son aquellos que tiene por objeto asignarle una clase o tipo a un ejemplo. Como particularidad son problemas conocidos como supervisados, es decir, necesitamos conocer la salida deseada a fin de ajustar el modelo. A su vez, estos se pueden dividir en dos subclases a razon de:\n",
    " \n",
    " * Clasificación binaria. En este caso solo existen dos posibles clases a las que asignarle a un patrón o solución. Un ejemplo de esto sería por ejemplo, el función de una señal de un sonar categorizar un objeto como una mina o una roca submarina. Otro ejemplo sería el decir si un paciente está sano o enfermo, etc.\n",
    " \n",
    " <img src=\"https://miro.medium.com/max/828/1*nB6MM2qFvnsCDhSuhNPcLA.webp\" alt=\"Clasificación\" width=\"450\"/>\n",
    " \n",
    " * Clasificición multiclase. En este caso en lugar de dos categorías tenemos más y cambia ligeramente el planteamiento ya que un patrón puede estar en una clase, en otra o en ninguna. En el caso de que se contemple este último hecho, implica, como veremos, meter una salida adicional para este último caso, pero ya se llegará a ese punto. Ejemplos de este tipo hay muchos, por ejemplo el reconocimiento de cual de los 10 dígitos se ha escrito a mano o la identidicación de que objeto se ve en una imagen serían solo algunos ejemplos clásicos.\n",
    " \n",
    " \n",
    "* Problemas de agrupamiento o custerización.\n",
    "Este tipo de problema al contrario que en el caso anterior, no tenemos la salida deseada si no que en lo que se basa es en agrupar los patrones por similitud o proximidad dentro del espacio de búsqueda.Este tipo de problemas serían aquellos más ligados al concepto conocido como **mineria de datos** puesto que eso es precisamente lo que tratamos de hacer encontrar relaciones entre los objetos sin saber a que categoría real pertenecen. Esto cae dentro de lo que se conoce como aprendizaje no supervisado. Ejemplos serían identificar trafico de red como maligno o benigno o mensajes de correo como spam o no.\n",
    "\n",
    "![Clustering](https://upload.wikimedia.org/wikipedia/commons/thumb/6/69/EM_Clustering_of_Old_Faithful_data.gif/640px-EM_Clustering_of_Old_Faithful_data.gif)\n",
    " \n",
    "* Problemas de regresión.\n",
    "El último tipo de problemas a concretar es el que se conoce como regresión. Este tipo de problemas tiene como particularidad que no se pretende asignar una categoría o clasificar como en los casos anteriores si no extraer de los patrones una función que permita obtener un valor exacto dentro de un espacio continuo. Es posiblemente el tipo de problemas más frecuentes pero también, muchas veces, los más complicados de acometer. Ejemplos de este tipo de problemas podría ser, por ejemplo, el obtener el parámetro de pontencia a pasarle a una bombilla en función de la hora y los datos de iluminación ambiente, predicción de toxicidad en un agua por marea roja, etc.\n",
    "\n",
    "![Regresion](https://upload.wikimedia.org/wikipedia/commons/d/da/Gaussianprocess.gif)\n",
    " \n",
    " \n",
    "Para acometer cualquiera de estos problemas, utilizaremos un conjunto de técnicas cuya implementación queda bastante fuera del temario de este curso. Es por ello que para poder hacer uso de ellas vamos a utilizar el lenguaje Python junto con una serie de librería que nos facilitaran el uso de las técnicas para solucionar cada uno de los problemas que tenemos. En concreto, la primera de todas y posiblemente la más importante desde un punto de vista inicial sea la que se presenta a continuación `scikit-learn`.\n",
    "\n",
    "\n",
    " ## Scikit-learn, toma de contacto y un vistazo al pipeline de procesado\n",
    " \n",
    " `scikit-learn`es una librería de **Python** que aglutina y simplifica gran parte del flujo de trabajo en *machine learning*. En concreto cuenta con muchas implementaciones de las técnicas más habituales y varias de sus variantes así como clases para el preprocesado o preparación de los datos y otras para la selección de parámetros o modelos como pueden ser las medidas de rendimiento que veremos en una unidad posterior.\n",
    "\n",
    "Es un API muy bien diseñada y simple. Está orientado a objetos y todos comparten un interfaz consistente y simple. En ella destacan los siguientes elementos:\n",
    "\n",
    "* Estimators: cualquier objeto que pueda estimar algún parámetro basado en un dataset. La estimación se hace mediante el método fit y sólo necesita un dataset como entrada (en caso de entrenamiento supervisado el estimador necesitaría dos, los datos y las salidas). Cualquier otro parámetro necesario para guiar la estimación, es considerado un hiperparámetro.\n",
    "* Transformers: algunos estimators pueden transformar un dataset. El API de nuevo es simple, tiene un método transform() y el método acepta como parámetro el dataset. Devuelve el dataset transformado. Todos tienen un fit_transform que realiza las dos operaciones pero de forma optimizada.\n",
    "* Predictors: algunos estimators pueden hacer predicciones también si se aplican sobre un dataset. Tiene un método predict() que recibe un dataset y devuelve las predicciones en el mismo formato. Tiene también un método score() que devuelve un valor que indica lo bien que se ha hecho la predicción (y las etiquetas en caso de ser un problema de clasificación).\n",
    "* Inspection: todos los hiperparámetros de un estimator son accesibles directamente mediante variables públicas (imputer.strategy) y los parámetros que haya aprendido son accesibles de la misma manera pero con símbolo de subrayad0 (imputer.strategy_)\n",
    "* Composición de los elementos anteriores. Es fácil realizar acción que incluyen varias acciones por composición de acciones sencillas.\n",
    "* Valores por defecto para la mayoría de hiperparámetros. Esto es bueno porque se puede usar cualquier cosa rápido y malo, porque muchas veces no se sabe lo que se está haciendo.\n",
    " \n",
    "En general, como se verá a continuación, la creación y uso de un modelo inteligente usando `scikit-learn`tiene unos pasos muy claros."
   ]
  },
  {
   "cell_type": "markdown",
   "id": "fddd203b",
   "metadata": {},
   "source": [
    "Primero de todo vamos a cargar un conjunto de librerías que, si bien no son propiamente de *machine learning*, nos facilitarán la visualización y la interpretación de los resultados."
   ]
  },
  {
   "cell_type": "code",
   "execution_count": 1,
   "id": "ceabc9c1",
   "metadata": {
    "tags": []
   },
   "outputs": [],
   "source": [
    "# Importo librerias que voy a utilizar, en este caso usaré Rich/print para poner los datos y numeros de manera mas visible y la libreria numpy\n",
    "from rich import print\n",
    "import numpy as np"
   ]
  },
  {
   "cell_type": "markdown",
   "id": "386a4353",
   "metadata": {},
   "source": [
    "Una vez hecho esto y sabiendo que el entorno que estamos ejecutando tiene las librerías necesarias procedamos a ver un ejemplo paso a paso:\n",
    "\n",
    "### 1. Cargar los datos"
   ]
  },
  {
   "cell_type": "code",
   "execution_count": 2,
   "id": "78379628",
   "metadata": {
    "tags": []
   },
   "outputs": [],
   "source": [
    "# La librería utilizado para recopilar datos será datasets.load_wine(*[, return_X_y, as_frame]) Load and return the wine dataset (classification).\n",
    "from sklearn.datasets import load_wine\n",
    "\n",
    "# se procede a la carga de datos.\n",
    "wine = load_wine()\n",
    "data, target = wine.data, wine.target"
   ]
  },
  {
   "cell_type": "markdown",
   "id": "b4d32d1b",
   "metadata": {},
   "source": [
    "Dentro de la librería que estamos usando hay ya problemas preparados en este caso vamos a emplear un problema conocido en el mundo del *machine learning* como ejemplo de prueba. Se trata de un problema de clasificación de flores Iris en base a 4 variables:\n",
    "\n",
    "1. Ancho de sépalo\n",
    "2. Largo del sépalo\n",
    "3. Ancho del pétalo\n",
    "4. Larogo del pétalo\n",
    "\n",
    "Con estas entradas se trata de identificar a cual de las 3 posibles variadades que existen pertenece un determinado patrón. Es por tanto un ejemplo de clasificación multiclase pero que en este caso tiene que pertenecer a alguno de esos tres tipos. \n",
    "En el código anterior, la segunda de las líneas lo que hace es cargar cada uno de los datos por separado. Una de las cosas que se evidencia es que es un entrenamiento supervisado ya que tenemos la salida deseada. Este tipo de aproximaciones suele ser el preferido debido a la pontencia de las técnicas actuales en este campo. Ua cosa que se puede hacer con estas bases de datos preparadas por ejemplo es imprimir su descripción que nos dará más datos al respecto."
   ]
  },
  {
   "cell_type": "code",
   "execution_count": 3,
   "id": "4f056230",
   "metadata": {
    "tags": []
   },
   "outputs": [
    {
     "data": {
      "text/html": [
       "<pre style=\"white-space:pre;overflow-x:auto;line-height:normal;font-family:Menlo,'DejaVu Sans Mono',consolas,'Courier New',monospace\">.. _wine_dataset:\n",
       "\n",
       "Wine recognition dataset\n",
       "------------------------\n",
       "\n",
       "**Data Set Characteristics:**\n",
       "\n",
       "    :Number of Instances: <span style=\"color: #008080; text-decoration-color: #008080; font-weight: bold\">178</span>\n",
       "    :Number of Attributes: <span style=\"color: #008080; text-decoration-color: #008080; font-weight: bold\">13</span> numeric, predictive attributes and the class\n",
       "    :Attribute Information:\n",
       "                - Alcohol\n",
       "                - Malic acid\n",
       "                - Ash\n",
       "                - Alcalinity of ash  \n",
       "                - Magnesium\n",
       "                - Total phenols\n",
       "                - Flavanoids\n",
       "                - Nonflavanoid phenols\n",
       "                - Proanthocyanins\n",
       "                - Color intensity\n",
       "                - Hue\n",
       "                - OD280/OD315 of diluted wines\n",
       "                - Proline\n",
       "\n",
       "    - class:\n",
       "            - class_0\n",
       "            - class_1\n",
       "            - class_2\n",
       "                \n",
       "    :Summary Statistics:\n",
       "    \n",
       "    ============================= ==== ===== ======= =====\n",
       "                                   Min   Max   Mean     SD\n",
       "    ============================= ==== ===== ======= =====\n",
       "    Alcohol:                      <span style=\"color: #008080; text-decoration-color: #008080; font-weight: bold\">11.0</span>  <span style=\"color: #008080; text-decoration-color: #008080; font-weight: bold\">14.8</span>    <span style=\"color: #008080; text-decoration-color: #008080; font-weight: bold\">13.0</span>   <span style=\"color: #008080; text-decoration-color: #008080; font-weight: bold\">0.8</span>\n",
       "    Malic Acid:                   <span style=\"color: #008080; text-decoration-color: #008080; font-weight: bold\">0.74</span>  <span style=\"color: #008080; text-decoration-color: #008080; font-weight: bold\">5.80</span>    <span style=\"color: #008080; text-decoration-color: #008080; font-weight: bold\">2.34</span>  <span style=\"color: #008080; text-decoration-color: #008080; font-weight: bold\">1.12</span>\n",
       "    Ash:                          <span style=\"color: #008080; text-decoration-color: #008080; font-weight: bold\">1.36</span>  <span style=\"color: #008080; text-decoration-color: #008080; font-weight: bold\">3.23</span>    <span style=\"color: #008080; text-decoration-color: #008080; font-weight: bold\">2.36</span>  <span style=\"color: #008080; text-decoration-color: #008080; font-weight: bold\">0.27</span>\n",
       "    Alcalinity of Ash:            <span style=\"color: #008080; text-decoration-color: #008080; font-weight: bold\">10.6</span>  <span style=\"color: #008080; text-decoration-color: #008080; font-weight: bold\">30.0</span>    <span style=\"color: #008080; text-decoration-color: #008080; font-weight: bold\">19.5</span>   <span style=\"color: #008080; text-decoration-color: #008080; font-weight: bold\">3.3</span>\n",
       "    Magnesium:                    <span style=\"color: #008080; text-decoration-color: #008080; font-weight: bold\">70.0</span> <span style=\"color: #008080; text-decoration-color: #008080; font-weight: bold\">162.0</span>    <span style=\"color: #008080; text-decoration-color: #008080; font-weight: bold\">99.7</span>  <span style=\"color: #008080; text-decoration-color: #008080; font-weight: bold\">14.3</span>\n",
       "    Total Phenols:                <span style=\"color: #008080; text-decoration-color: #008080; font-weight: bold\">0.98</span>  <span style=\"color: #008080; text-decoration-color: #008080; font-weight: bold\">3.88</span>    <span style=\"color: #008080; text-decoration-color: #008080; font-weight: bold\">2.29</span>  <span style=\"color: #008080; text-decoration-color: #008080; font-weight: bold\">0.63</span>\n",
       "    Flavanoids:                   <span style=\"color: #008080; text-decoration-color: #008080; font-weight: bold\">0.34</span>  <span style=\"color: #008080; text-decoration-color: #008080; font-weight: bold\">5.08</span>    <span style=\"color: #008080; text-decoration-color: #008080; font-weight: bold\">2.03</span>  <span style=\"color: #008080; text-decoration-color: #008080; font-weight: bold\">1.00</span>\n",
       "    Nonflavanoid Phenols:         <span style=\"color: #008080; text-decoration-color: #008080; font-weight: bold\">0.13</span>  <span style=\"color: #008080; text-decoration-color: #008080; font-weight: bold\">0.66</span>    <span style=\"color: #008080; text-decoration-color: #008080; font-weight: bold\">0.36</span>  <span style=\"color: #008080; text-decoration-color: #008080; font-weight: bold\">0.12</span>\n",
       "    Proanthocyanins:              <span style=\"color: #008080; text-decoration-color: #008080; font-weight: bold\">0.41</span>  <span style=\"color: #008080; text-decoration-color: #008080; font-weight: bold\">3.58</span>    <span style=\"color: #008080; text-decoration-color: #008080; font-weight: bold\">1.59</span>  <span style=\"color: #008080; text-decoration-color: #008080; font-weight: bold\">0.57</span>\n",
       "    Colour Intensity:              <span style=\"color: #008080; text-decoration-color: #008080; font-weight: bold\">1.3</span>  <span style=\"color: #008080; text-decoration-color: #008080; font-weight: bold\">13.0</span>     <span style=\"color: #008080; text-decoration-color: #008080; font-weight: bold\">5.1</span>   <span style=\"color: #008080; text-decoration-color: #008080; font-weight: bold\">2.3</span>\n",
       "    Hue:                          <span style=\"color: #008080; text-decoration-color: #008080; font-weight: bold\">0.48</span>  <span style=\"color: #008080; text-decoration-color: #008080; font-weight: bold\">1.71</span>    <span style=\"color: #008080; text-decoration-color: #008080; font-weight: bold\">0.96</span>  <span style=\"color: #008080; text-decoration-color: #008080; font-weight: bold\">0.23</span>\n",
       "    OD280/OD315 of diluted wines: <span style=\"color: #008080; text-decoration-color: #008080; font-weight: bold\">1.27</span>  <span style=\"color: #008080; text-decoration-color: #008080; font-weight: bold\">4.00</span>    <span style=\"color: #008080; text-decoration-color: #008080; font-weight: bold\">2.61</span>  <span style=\"color: #008080; text-decoration-color: #008080; font-weight: bold\">0.71</span>\n",
       "    Proline:                       <span style=\"color: #008080; text-decoration-color: #008080; font-weight: bold\">278</span>  <span style=\"color: #008080; text-decoration-color: #008080; font-weight: bold\">1680</span>     <span style=\"color: #008080; text-decoration-color: #008080; font-weight: bold\">746</span>   <span style=\"color: #008080; text-decoration-color: #008080; font-weight: bold\">315</span>\n",
       "    ============================= ==== ===== ======= =====\n",
       "\n",
       "    :Missing Attribute Values: <span style=\"color: #800080; text-decoration-color: #800080; font-style: italic\">None</span>\n",
       "    :Class Distribution: class_0 <span style=\"font-weight: bold\">(</span><span style=\"color: #008080; text-decoration-color: #008080; font-weight: bold\">59</span><span style=\"font-weight: bold\">)</span>, class_1 <span style=\"font-weight: bold\">(</span><span style=\"color: #008080; text-decoration-color: #008080; font-weight: bold\">71</span><span style=\"font-weight: bold\">)</span>, class_2 <span style=\"font-weight: bold\">(</span><span style=\"color: #008080; text-decoration-color: #008080; font-weight: bold\">48</span><span style=\"font-weight: bold\">)</span>\n",
       "    :Creator: R.A. Fisher\n",
       "    :Donor: Michael Marshall <span style=\"font-weight: bold\">(</span>MARSHALL%PLU@io.arc.nasa.gov<span style=\"font-weight: bold\">)</span>\n",
       "    📅 July, <span style=\"color: #008080; text-decoration-color: #008080; font-weight: bold\">1988</span>\n",
       "\n",
       "This is a copy of UCI ML Wine recognition datasets.\n",
       "<span style=\"color: #0000ff; text-decoration-color: #0000ff; text-decoration: underline\">https://archive.ics.uci.edu/ml/machine-learning-databases/wine/wine.data</span>\n",
       "\n",
       "The data is the results of a chemical analysis of wines grown in the same\n",
       "region in Italy by three different cultivators. There are thirteen different\n",
       "measurements taken for different constituents found in the three types of\n",
       "wine.\n",
       "\n",
       "Original Owners: \n",
       "\n",
       "Forina, M. et al, PARVUS - \n",
       "An Extendible Package for Data Exploration, Classification and Correlation. \n",
       "Institute of Pharmaceutical and Food Analysis and Technologies,\n",
       "Via Brigata Salerno, <span style=\"color: #008080; text-decoration-color: #008080; font-weight: bold\">16147</span> Genoa, Italy.\n",
       "\n",
       "Citation:\n",
       "\n",
       "Lichman, M. <span style=\"font-weight: bold\">(</span><span style=\"color: #008080; text-decoration-color: #008080; font-weight: bold\">2013</span><span style=\"font-weight: bold\">)</span>. UCI Machine Learning Repository\n",
       ". Irvine, CA: University of California,\n",
       "School of Information and Computer Science. \n",
       "\n",
       ".. topic:: References\n",
       "\n",
       "  <span style=\"font-weight: bold\">(</span><span style=\"color: #008080; text-decoration-color: #008080; font-weight: bold\">1</span><span style=\"font-weight: bold\">)</span> S. Aeberhard, D. Coomans and O. de Vel, \n",
       "  Comparison of Classifiers in High Dimensional Settings, \n",
       "  Tech. Rep. no. <span style=\"color: #008080; text-decoration-color: #008080; font-weight: bold\">92</span>-<span style=\"color: #008080; text-decoration-color: #008080; font-weight: bold\">02</span>, <span style=\"font-weight: bold\">(</span><span style=\"color: #008080; text-decoration-color: #008080; font-weight: bold\">1992</span><span style=\"font-weight: bold\">)</span>, Dept. of Computer Science and Dept. of  \n",
       "  Mathematics and Statistics, James Cook University of North Queensland. \n",
       "  <span style=\"font-weight: bold\">(</span>Also submitted to Technometrics<span style=\"font-weight: bold\">)</span>. \n",
       "\n",
       "  The data was used with many others for comparing various \n",
       "  classifiers. The classes are separable, though only RDA \n",
       "  has achieved <span style=\"color: #008080; text-decoration-color: #008080; font-weight: bold\">100</span>% correct classification. \n",
       "  <span style=\"font-weight: bold\">(</span>RDA : <span style=\"color: #008080; text-decoration-color: #008080; font-weight: bold\">100</span>%, QDA <span style=\"color: #008080; text-decoration-color: #008080; font-weight: bold\">99.4</span>%, LDA <span style=\"color: #008080; text-decoration-color: #008080; font-weight: bold\">98.9</span>%, 1NN <span style=\"color: #008080; text-decoration-color: #008080; font-weight: bold\">96.1</span>% <span style=\"font-weight: bold\">(</span>z-transformed data<span style=\"font-weight: bold\">))</span> \n",
       "  <span style=\"font-weight: bold\">(</span>All results using the leave-one-out technique<span style=\"font-weight: bold\">)</span> \n",
       "\n",
       "  <span style=\"font-weight: bold\">(</span><span style=\"color: #008080; text-decoration-color: #008080; font-weight: bold\">2</span><span style=\"font-weight: bold\">)</span> S. Aeberhard, D. Coomans and O. de Vel, \n",
       "  <span style=\"color: #008000; text-decoration-color: #008000\">\"THE CLASSIFICATION PERFORMANCE OF RDA\"</span> \n",
       "  Tech. Rep. no. <span style=\"color: #008080; text-decoration-color: #008080; font-weight: bold\">92</span>-<span style=\"color: #008080; text-decoration-color: #008080; font-weight: bold\">01</span>, <span style=\"font-weight: bold\">(</span><span style=\"color: #008080; text-decoration-color: #008080; font-weight: bold\">1992</span><span style=\"font-weight: bold\">)</span>, Dept. of Computer Science and Dept. of \n",
       "  Mathematics and Statistics, James Cook University of North Queensland. \n",
       "  <span style=\"font-weight: bold\">(</span>Also submitted to Journal of Chemometrics<span style=\"font-weight: bold\">)</span>.\n",
       "\n",
       "</pre>\n"
      ],
      "text/plain": [
       ".. _wine_dataset:\n",
       "\n",
       "Wine recognition dataset\n",
       "------------------------\n",
       "\n",
       "**Data Set Characteristics:**\n",
       "\n",
       "    :Number of Instances: \u001b[1;36m178\u001b[0m\n",
       "    :Number of Attributes: \u001b[1;36m13\u001b[0m numeric, predictive attributes and the class\n",
       "    :Attribute Information:\n",
       "                - Alcohol\n",
       "                - Malic acid\n",
       "                - Ash\n",
       "                - Alcalinity of ash  \n",
       "                - Magnesium\n",
       "                - Total phenols\n",
       "                - Flavanoids\n",
       "                - Nonflavanoid phenols\n",
       "                - Proanthocyanins\n",
       "                - Color intensity\n",
       "                - Hue\n",
       "                - OD280/OD315 of diluted wines\n",
       "                - Proline\n",
       "\n",
       "    - class:\n",
       "            - class_0\n",
       "            - class_1\n",
       "            - class_2\n",
       "                \n",
       "    :Summary Statistics:\n",
       "    \n",
       "    ============================= ==== ===== ======= =====\n",
       "                                   Min   Max   Mean     SD\n",
       "    ============================= ==== ===== ======= =====\n",
       "    Alcohol:                      \u001b[1;36m11.0\u001b[0m  \u001b[1;36m14.8\u001b[0m    \u001b[1;36m13.0\u001b[0m   \u001b[1;36m0.8\u001b[0m\n",
       "    Malic Acid:                   \u001b[1;36m0.74\u001b[0m  \u001b[1;36m5.80\u001b[0m    \u001b[1;36m2.34\u001b[0m  \u001b[1;36m1.12\u001b[0m\n",
       "    Ash:                          \u001b[1;36m1.36\u001b[0m  \u001b[1;36m3.23\u001b[0m    \u001b[1;36m2.36\u001b[0m  \u001b[1;36m0.27\u001b[0m\n",
       "    Alcalinity of Ash:            \u001b[1;36m10.6\u001b[0m  \u001b[1;36m30.0\u001b[0m    \u001b[1;36m19.5\u001b[0m   \u001b[1;36m3.3\u001b[0m\n",
       "    Magnesium:                    \u001b[1;36m70.0\u001b[0m \u001b[1;36m162.0\u001b[0m    \u001b[1;36m99.7\u001b[0m  \u001b[1;36m14.3\u001b[0m\n",
       "    Total Phenols:                \u001b[1;36m0.98\u001b[0m  \u001b[1;36m3.88\u001b[0m    \u001b[1;36m2.29\u001b[0m  \u001b[1;36m0.63\u001b[0m\n",
       "    Flavanoids:                   \u001b[1;36m0.34\u001b[0m  \u001b[1;36m5.08\u001b[0m    \u001b[1;36m2.03\u001b[0m  \u001b[1;36m1.00\u001b[0m\n",
       "    Nonflavanoid Phenols:         \u001b[1;36m0.13\u001b[0m  \u001b[1;36m0.66\u001b[0m    \u001b[1;36m0.36\u001b[0m  \u001b[1;36m0.12\u001b[0m\n",
       "    Proanthocyanins:              \u001b[1;36m0.41\u001b[0m  \u001b[1;36m3.58\u001b[0m    \u001b[1;36m1.59\u001b[0m  \u001b[1;36m0.57\u001b[0m\n",
       "    Colour Intensity:              \u001b[1;36m1.3\u001b[0m  \u001b[1;36m13.0\u001b[0m     \u001b[1;36m5.1\u001b[0m   \u001b[1;36m2.3\u001b[0m\n",
       "    Hue:                          \u001b[1;36m0.48\u001b[0m  \u001b[1;36m1.71\u001b[0m    \u001b[1;36m0.96\u001b[0m  \u001b[1;36m0.23\u001b[0m\n",
       "    OD280/OD315 of diluted wines: \u001b[1;36m1.27\u001b[0m  \u001b[1;36m4.00\u001b[0m    \u001b[1;36m2.61\u001b[0m  \u001b[1;36m0.71\u001b[0m\n",
       "    Proline:                       \u001b[1;36m278\u001b[0m  \u001b[1;36m1680\u001b[0m     \u001b[1;36m746\u001b[0m   \u001b[1;36m315\u001b[0m\n",
       "    ============================= ==== ===== ======= =====\n",
       "\n",
       "    :Missing Attribute Values: \u001b[3;35mNone\u001b[0m\n",
       "    :Class Distribution: class_0 \u001b[1m(\u001b[0m\u001b[1;36m59\u001b[0m\u001b[1m)\u001b[0m, class_1 \u001b[1m(\u001b[0m\u001b[1;36m71\u001b[0m\u001b[1m)\u001b[0m, class_2 \u001b[1m(\u001b[0m\u001b[1;36m48\u001b[0m\u001b[1m)\u001b[0m\n",
       "    :Creator: R.A. Fisher\n",
       "    :Donor: Michael Marshall \u001b[1m(\u001b[0mMARSHALL%PLU@io.arc.nasa.gov\u001b[1m)\u001b[0m\n",
       "    📅 July, \u001b[1;36m1988\u001b[0m\n",
       "\n",
       "This is a copy of UCI ML Wine recognition datasets.\n",
       "\u001b[4;94mhttps://archive.ics.uci.edu/ml/machine-learning-databases/wine/wine.data\u001b[0m\n",
       "\n",
       "The data is the results of a chemical analysis of wines grown in the same\n",
       "region in Italy by three different cultivators. There are thirteen different\n",
       "measurements taken for different constituents found in the three types of\n",
       "wine.\n",
       "\n",
       "Original Owners: \n",
       "\n",
       "Forina, M. et al, PARVUS - \n",
       "An Extendible Package for Data Exploration, Classification and Correlation. \n",
       "Institute of Pharmaceutical and Food Analysis and Technologies,\n",
       "Via Brigata Salerno, \u001b[1;36m16147\u001b[0m Genoa, Italy.\n",
       "\n",
       "Citation:\n",
       "\n",
       "Lichman, M. \u001b[1m(\u001b[0m\u001b[1;36m2013\u001b[0m\u001b[1m)\u001b[0m. UCI Machine Learning Repository\n",
       ". Irvine, CA: University of California,\n",
       "School of Information and Computer Science. \n",
       "\n",
       ".. topic:: References\n",
       "\n",
       "  \u001b[1m(\u001b[0m\u001b[1;36m1\u001b[0m\u001b[1m)\u001b[0m S. Aeberhard, D. Coomans and O. de Vel, \n",
       "  Comparison of Classifiers in High Dimensional Settings, \n",
       "  Tech. Rep. no. \u001b[1;36m92\u001b[0m-\u001b[1;36m02\u001b[0m, \u001b[1m(\u001b[0m\u001b[1;36m1992\u001b[0m\u001b[1m)\u001b[0m, Dept. of Computer Science and Dept. of  \n",
       "  Mathematics and Statistics, James Cook University of North Queensland. \n",
       "  \u001b[1m(\u001b[0mAlso submitted to Technometrics\u001b[1m)\u001b[0m. \n",
       "\n",
       "  The data was used with many others for comparing various \n",
       "  classifiers. The classes are separable, though only RDA \n",
       "  has achieved \u001b[1;36m100\u001b[0m% correct classification. \n",
       "  \u001b[1m(\u001b[0mRDA : \u001b[1;36m100\u001b[0m%, QDA \u001b[1;36m99.4\u001b[0m%, LDA \u001b[1;36m98.9\u001b[0m%, 1NN \u001b[1;36m96.1\u001b[0m% \u001b[1m(\u001b[0mz-transformed data\u001b[1m)\u001b[0m\u001b[1m)\u001b[0m \n",
       "  \u001b[1m(\u001b[0mAll results using the leave-one-out technique\u001b[1m)\u001b[0m \n",
       "\n",
       "  \u001b[1m(\u001b[0m\u001b[1;36m2\u001b[0m\u001b[1m)\u001b[0m S. Aeberhard, D. Coomans and O. de Vel, \n",
       "  \u001b[32m\"THE CLASSIFICATION PERFORMANCE OF RDA\"\u001b[0m \n",
       "  Tech. Rep. no. \u001b[1;36m92\u001b[0m-\u001b[1;36m01\u001b[0m, \u001b[1m(\u001b[0m\u001b[1;36m1992\u001b[0m\u001b[1m)\u001b[0m, Dept. of Computer Science and Dept. of \n",
       "  Mathematics and Statistics, James Cook University of North Queensland. \n",
       "  \u001b[1m(\u001b[0mAlso submitted to Journal of Chemometrics\u001b[1m)\u001b[0m.\n",
       "\n"
      ]
     },
     "metadata": {},
     "output_type": "display_data"
    }
   ],
   "source": [
    "print(wine.DESCR)"
   ]
  },
  {
   "cell_type": "markdown",
   "id": "1b1721da",
   "metadata": {},
   "source": [
    "Previamente a continuar, un paso típico en este punto es hacer una primera exploración del código con unas cuantas sentencias de comprobación a fin de realizar lo que se conoce como programación defensiva. Por ejemplo, comprobando los tamaños de las matrices de datos que vamos a utilizar en este punto. Algo muy simple es impormir las dimensiones de esos datos:"
   ]
  },
  {
   "cell_type": "code",
   "execution_count": 4,
   "id": "39d3fa7d",
   "metadata": {
    "tags": []
   },
   "outputs": [
    {
     "data": {
      "text/html": [
       "<pre style=\"white-space:pre;overflow-x:auto;line-height:normal;font-family:Menlo,'DejaVu Sans Mono',consolas,'Courier New',monospace\">Dimensiones del problema <span style=\"font-weight: bold\">(</span><span style=\"color: #008080; text-decoration-color: #008080; font-weight: bold\">178</span>, <span style=\"color: #008080; text-decoration-color: #008080; font-weight: bold\">13</span><span style=\"font-weight: bold\">)</span>-&gt;<span style=\"font-weight: bold\">(</span><span style=\"color: #008080; text-decoration-color: #008080; font-weight: bold\">178</span>,<span style=\"font-weight: bold\">)</span>\n",
       "</pre>\n"
      ],
      "text/plain": [
       "Dimensiones del problema \u001b[1m(\u001b[0m\u001b[1;36m178\u001b[0m, \u001b[1;36m13\u001b[0m\u001b[1m)\u001b[0m->\u001b[1m(\u001b[0m\u001b[1;36m178\u001b[0m,\u001b[1m)\u001b[0m\n"
      ]
     },
     "metadata": {},
     "output_type": "display_data"
    }
   ],
   "source": [
    "print(f\"Dimensiones del problema {data.shape}->{target.shape}\")"
   ]
  },
  {
   "cell_type": "markdown",
   "id": "50023bf9",
   "metadata": {},
   "source": [
    "La información que nos muestra este `print` es que tenemos una base de datos con 150 y 4 columnas en la entrada para 150 salidas que tienen un único valor. Esto lo que nos viene a decir es que, como se muestra en la descripción del problema cada una de las filas se corresponde con un ejemplo, instancia o patrón. Estos tienen en cada una de las columnas una de las 4 variables que se van a usar como entrada y que se han identiificado en la descripción. Finalmente en la salida se puede ver que sólo tenemos un valor y es porque en el caso de las 3 clases simplemente son identificadas como 0, 1 y 2. Este se puede comprobar con:"
   ]
  },
  {
   "cell_type": "code",
   "execution_count": 5,
   "id": "d4e1ea0e",
   "metadata": {
    "tags": []
   },
   "outputs": [
    {
     "data": {
      "text/html": [
       "<pre style=\"white-space:pre;overflow-x:auto;line-height:normal;font-family:Menlo,'DejaVu Sans Mono',consolas,'Courier New',monospace\">Posibles salidas: <span style=\"font-weight: bold\">[</span><span style=\"color: #008080; text-decoration-color: #008080; font-weight: bold\">0</span> <span style=\"color: #008080; text-decoration-color: #008080; font-weight: bold\">1</span> <span style=\"color: #008080; text-decoration-color: #008080; font-weight: bold\">2</span><span style=\"font-weight: bold\">]</span>\n",
       "</pre>\n"
      ],
      "text/plain": [
       "Posibles salidas: \u001b[1m[\u001b[0m\u001b[1;36m0\u001b[0m \u001b[1;36m1\u001b[0m \u001b[1;36m2\u001b[0m\u001b[1m]\u001b[0m\n"
      ]
     },
     "metadata": {},
     "output_type": "display_data"
    }
   ],
   "source": [
    "print(f\"Posibles salidas: {np.unique(target)}\")"
   ]
  },
  {
   "cell_type": "markdown",
   "id": "d7c99e78",
   "metadata": {},
   "source": [
    "Otra cosa si se quiere ser un poco más refinado es usar aserciones como en el ejemplo siguiente que comprueba que los datos coinciden"
   ]
  },
  {
   "cell_type": "code",
   "execution_count": 6,
   "id": "5f51df11",
   "metadata": {
    "scrolled": true,
    "tags": []
   },
   "outputs": [],
   "source": [
    "assert data.shape[0] == target.shape[0], \"No hay el mismo número de ejemplos que de salidas\""
   ]
  },
  {
   "cell_type": "markdown",
   "id": "effb7cb1",
   "metadata": {},
   "source": [
    "### 2. Preprocesado\n",
    "Una vez hecho esto se puede proceder al uso de estos datos. Habitualmente esto implicaría una serie de pasos que están contenidos dentro de lo que se conoce como preprocesado o preparación de los datos. En este punto es donde encontraríamos elementos como la limpieza, la completitud, normalización, reducción de la dimensionalidad, etc. En este caso, como los datos ya vienen preparados nos vamos a limitar a hacer un paso que se explicará en detalle porque es necesario en una unidad posterior que es la división de los datos entre entrenamiento y test. Para ello haremos uso de una función de utilidad que está disponible en `scikit-learn`."
   ]
  },
  {
   "cell_type": "code",
   "execution_count": 7,
   "id": "996af66c",
   "metadata": {
    "tags": []
   },
   "outputs": [],
   "source": [
    "# Iniciamos el pre-procesado de los datos.\n",
    "from sklearn.model_selection import train_test_split\n",
    "\n",
    "# dividimos los datos en entrenamiento y prueba\n",
    "in_train, in_test, target_train, target_test = train_test_split(data, target, test_size=0.3, random_state=42)"
   ]
  },
  {
   "cell_type": "markdown",
   "id": "af68fe87",
   "metadata": {},
   "source": [
    "Esta función lo que hace es coger los datos y dividir el conjunto en dos subconjuntos disjuntos en donde el primero de ellos (entrenamiento, train) tienen el 70% de los datos, y el segundo de ellos (test) contiene el 30% de los datos."
   ]
  },
  {
   "cell_type": "code",
   "execution_count": 8,
   "id": "254a6fc6",
   "metadata": {
    "scrolled": true,
    "tags": []
   },
   "outputs": [
    {
     "data": {
      "text/html": [
       "<pre style=\"white-space:pre;overflow-x:auto;line-height:normal;font-family:Menlo,'DejaVu Sans Mono',consolas,'Courier New',monospace\">Dimensiones del conjunto de entrenamiento <span style=\"font-weight: bold\">(</span><span style=\"color: #008080; text-decoration-color: #008080; font-weight: bold\">124</span>, <span style=\"color: #008080; text-decoration-color: #008080; font-weight: bold\">13</span><span style=\"font-weight: bold\">)</span>-&gt;<span style=\"font-weight: bold\">(</span><span style=\"color: #008080; text-decoration-color: #008080; font-weight: bold\">124</span>,<span style=\"font-weight: bold\">)</span>\n",
       "</pre>\n"
      ],
      "text/plain": [
       "Dimensiones del conjunto de entrenamiento \u001b[1m(\u001b[0m\u001b[1;36m124\u001b[0m, \u001b[1;36m13\u001b[0m\u001b[1m)\u001b[0m->\u001b[1m(\u001b[0m\u001b[1;36m124\u001b[0m,\u001b[1m)\u001b[0m\n"
      ]
     },
     "metadata": {},
     "output_type": "display_data"
    },
    {
     "data": {
      "text/html": [
       "<pre style=\"white-space:pre;overflow-x:auto;line-height:normal;font-family:Menlo,'DejaVu Sans Mono',consolas,'Courier New',monospace\">Dimensiones del conjunto de test <span style=\"font-weight: bold\">(</span><span style=\"color: #008080; text-decoration-color: #008080; font-weight: bold\">54</span>, <span style=\"color: #008080; text-decoration-color: #008080; font-weight: bold\">13</span><span style=\"font-weight: bold\">)</span>-&gt;<span style=\"font-weight: bold\">(</span><span style=\"color: #008080; text-decoration-color: #008080; font-weight: bold\">54</span>,<span style=\"font-weight: bold\">)</span>\n",
       "</pre>\n"
      ],
      "text/plain": [
       "Dimensiones del conjunto de test \u001b[1m(\u001b[0m\u001b[1;36m54\u001b[0m, \u001b[1;36m13\u001b[0m\u001b[1m)\u001b[0m->\u001b[1m(\u001b[0m\u001b[1;36m54\u001b[0m,\u001b[1m)\u001b[0m\n"
      ]
     },
     "metadata": {},
     "output_type": "display_data"
    }
   ],
   "source": [
    "print(f\"Dimensiones del conjunto de entrenamiento {in_train.shape}->{target_train.shape}\")\n",
    "print(f\"Dimensiones del conjunto de test {in_test.shape}->{target_test.shape}\")"
   ]
  },
  {
   "cell_type": "markdown",
   "id": "dbba7c92",
   "metadata": {},
   "source": [
    "### 3. Creación del modelo\n",
    "El siguiente paso dentro de cualquier sistema es la creación del modelo. En este caso vamos a crear un modelo muy sencillo, una regresión lineal que nos va a permitir clasificar los diferentes ejemplo. En este caso no entraremos a los parámetros del mismo, ya que lo abordaremos en una unidad posterior:"
   ]
  },
  {
   "cell_type": "code",
   "execution_count": 9,
   "id": "cef474f3",
   "metadata": {
    "tags": []
   },
   "outputs": [],
   "source": [
    "from sklearn.linear_model import SGDClassifier\n",
    "\n",
    "# entrenamos el modelo\n",
    "clf = SGDClassifier(loss=\"hinge\", penalty=\"l2\", max_iter=50)\n"
   ]
  },
  {
   "cell_type": "markdown",
   "id": "41a904c8",
   "metadata": {},
   "source": [
    "### 4. Entrenamiento\n",
    "Una vez creado el modelo, es necesario ajustarlo. Este proceso conocido como \"entrenamiento\" se hace con el conjunto de entrenamiento llamando a la función `fit`."
   ]
  },
  {
   "cell_type": "code",
   "execution_count": 10,
   "id": "2cbe2a51",
   "metadata": {
    "tags": []
   },
   "outputs": [
    {
     "data": {
      "text/html": [
       "<style>#sk-container-id-1 {color: black;background-color: white;}#sk-container-id-1 pre{padding: 0;}#sk-container-id-1 div.sk-toggleable {background-color: white;}#sk-container-id-1 label.sk-toggleable__label {cursor: pointer;display: block;width: 100%;margin-bottom: 0;padding: 0.3em;box-sizing: border-box;text-align: center;}#sk-container-id-1 label.sk-toggleable__label-arrow:before {content: \"▸\";float: left;margin-right: 0.25em;color: #696969;}#sk-container-id-1 label.sk-toggleable__label-arrow:hover:before {color: black;}#sk-container-id-1 div.sk-estimator:hover label.sk-toggleable__label-arrow:before {color: black;}#sk-container-id-1 div.sk-toggleable__content {max-height: 0;max-width: 0;overflow: hidden;text-align: left;background-color: #f0f8ff;}#sk-container-id-1 div.sk-toggleable__content pre {margin: 0.2em;color: black;border-radius: 0.25em;background-color: #f0f8ff;}#sk-container-id-1 input.sk-toggleable__control:checked~div.sk-toggleable__content {max-height: 200px;max-width: 100%;overflow: auto;}#sk-container-id-1 input.sk-toggleable__control:checked~label.sk-toggleable__label-arrow:before {content: \"▾\";}#sk-container-id-1 div.sk-estimator input.sk-toggleable__control:checked~label.sk-toggleable__label {background-color: #d4ebff;}#sk-container-id-1 div.sk-label input.sk-toggleable__control:checked~label.sk-toggleable__label {background-color: #d4ebff;}#sk-container-id-1 input.sk-hidden--visually {border: 0;clip: rect(1px 1px 1px 1px);clip: rect(1px, 1px, 1px, 1px);height: 1px;margin: -1px;overflow: hidden;padding: 0;position: absolute;width: 1px;}#sk-container-id-1 div.sk-estimator {font-family: monospace;background-color: #f0f8ff;border: 1px dotted black;border-radius: 0.25em;box-sizing: border-box;margin-bottom: 0.5em;}#sk-container-id-1 div.sk-estimator:hover {background-color: #d4ebff;}#sk-container-id-1 div.sk-parallel-item::after {content: \"\";width: 100%;border-bottom: 1px solid gray;flex-grow: 1;}#sk-container-id-1 div.sk-label:hover label.sk-toggleable__label {background-color: #d4ebff;}#sk-container-id-1 div.sk-serial::before {content: \"\";position: absolute;border-left: 1px solid gray;box-sizing: border-box;top: 0;bottom: 0;left: 50%;z-index: 0;}#sk-container-id-1 div.sk-serial {display: flex;flex-direction: column;align-items: center;background-color: white;padding-right: 0.2em;padding-left: 0.2em;position: relative;}#sk-container-id-1 div.sk-item {position: relative;z-index: 1;}#sk-container-id-1 div.sk-parallel {display: flex;align-items: stretch;justify-content: center;background-color: white;position: relative;}#sk-container-id-1 div.sk-item::before, #sk-container-id-1 div.sk-parallel-item::before {content: \"\";position: absolute;border-left: 1px solid gray;box-sizing: border-box;top: 0;bottom: 0;left: 50%;z-index: -1;}#sk-container-id-1 div.sk-parallel-item {display: flex;flex-direction: column;z-index: 1;position: relative;background-color: white;}#sk-container-id-1 div.sk-parallel-item:first-child::after {align-self: flex-end;width: 50%;}#sk-container-id-1 div.sk-parallel-item:last-child::after {align-self: flex-start;width: 50%;}#sk-container-id-1 div.sk-parallel-item:only-child::after {width: 0;}#sk-container-id-1 div.sk-dashed-wrapped {border: 1px dashed gray;margin: 0 0.4em 0.5em 0.4em;box-sizing: border-box;padding-bottom: 0.4em;background-color: white;}#sk-container-id-1 div.sk-label label {font-family: monospace;font-weight: bold;display: inline-block;line-height: 1.2em;}#sk-container-id-1 div.sk-label-container {text-align: center;}#sk-container-id-1 div.sk-container {/* jupyter's `normalize.less` sets `[hidden] { display: none; }` but bootstrap.min.css set `[hidden] { display: none !important; }` so we also need the `!important` here to be able to override the default hidden behavior on the sphinx rendered scikit-learn.org. See: https://github.com/scikit-learn/scikit-learn/issues/21755 */display: inline-block !important;position: relative;}#sk-container-id-1 div.sk-text-repr-fallback {display: none;}</style><div id=\"sk-container-id-1\" class=\"sk-top-container\"><div class=\"sk-text-repr-fallback\"><pre>SGDClassifier(max_iter=50)</pre><b>In a Jupyter environment, please rerun this cell to show the HTML representation or trust the notebook. <br />On GitHub, the HTML representation is unable to render, please try loading this page with nbviewer.org.</b></div><div class=\"sk-container\" hidden><div class=\"sk-item\"><div class=\"sk-estimator sk-toggleable\"><input class=\"sk-toggleable__control sk-hidden--visually\" id=\"sk-estimator-id-1\" type=\"checkbox\" checked><label for=\"sk-estimator-id-1\" class=\"sk-toggleable__label sk-toggleable__label-arrow\">SGDClassifier</label><div class=\"sk-toggleable__content\"><pre>SGDClassifier(max_iter=50)</pre></div></div></div></div></div>"
      ],
      "text/plain": [
       "SGDClassifier(max_iter=50)"
      ]
     },
     "execution_count": 10,
     "metadata": {},
     "output_type": "execute_result"
    }
   ],
   "source": [
    "# Se procede al entrenamiento\n",
    "clf.fit(in_train, target_train)\n"
   ]
  },
  {
   "cell_type": "markdown",
   "id": "f9a251d4",
   "metadata": {},
   "source": [
    "Una vez el modelo se ha ajustado, ya es posible usarlo para realizar clasificaciones o predicciones. De esta manera podemos proceder a usar o \"testear\" el modelo. Puede no parecer demasiado pero el modelo está actualmente en memoria y ajustado con los patrones que se le han pasado de entrada. Iprimamos lo que nos da:"
   ]
  },
  {
   "cell_type": "code",
   "execution_count": 11,
   "id": "ab0ff4d3",
   "metadata": {
    "tags": []
   },
   "outputs": [
    {
     "data": {
      "text/html": [
       "<pre style=\"white-space:pre;overflow-x:auto;line-height:normal;font-family:Menlo,'DejaVu Sans Mono',consolas,'Courier New',monospace\">El modelos creado es <span style=\"color: #800080; text-decoration-color: #800080; font-weight: bold\">SGDClassifier</span><span style=\"font-weight: bold\">(</span><span style=\"color: #808000; text-decoration-color: #808000\">max_iter</span>=<span style=\"color: #008080; text-decoration-color: #008080; font-weight: bold\">50</span><span style=\"font-weight: bold\">)</span>\n",
       "</pre>\n"
      ],
      "text/plain": [
       "El modelos creado es \u001b[1;35mSGDClassifier\u001b[0m\u001b[1m(\u001b[0m\u001b[33mmax_iter\u001b[0m=\u001b[1;36m50\u001b[0m\u001b[1m)\u001b[0m\n"
      ]
     },
     "metadata": {},
     "output_type": "display_data"
    }
   ],
   "source": [
    "print(f\"El modelos creado es {clf}\")"
   ]
  },
  {
   "cell_type": "markdown",
   "id": "083a84cf",
   "metadata": {},
   "source": [
    "Este punto implicará que ya se puede hacer uso del modelo, para ello se tiene la llamada al método `predict` como se ve en el código siguiente:"
   ]
  },
  {
   "cell_type": "code",
   "execution_count": 12,
   "id": "cf6b0dc7",
   "metadata": {
    "tags": []
   },
   "outputs": [
    {
     "data": {
      "text/html": [
       "<pre style=\"white-space:pre;overflow-x:auto;line-height:normal;font-family:Menlo,'DejaVu Sans Mono',consolas,'Courier New',monospace\">Salida Predicha: <span style=\"font-weight: bold\">[</span><span style=\"color: #008080; text-decoration-color: #008080; font-weight: bold\">2</span> <span style=\"color: #008080; text-decoration-color: #008080; font-weight: bold\">0</span> <span style=\"color: #008080; text-decoration-color: #008080; font-weight: bold\">2</span> <span style=\"color: #008080; text-decoration-color: #008080; font-weight: bold\">0</span><span style=\"font-weight: bold\">]</span>\n",
       "</pre>\n"
      ],
      "text/plain": [
       "Salida Predicha: \u001b[1m[\u001b[0m\u001b[1;36m2\u001b[0m \u001b[1;36m0\u001b[0m \u001b[1;36m2\u001b[0m \u001b[1;36m0\u001b[0m\u001b[1m]\u001b[0m\n"
      ]
     },
     "metadata": {},
     "output_type": "display_data"
    },
    {
     "data": {
      "text/html": [
       "<pre style=\"white-space:pre;overflow-x:auto;line-height:normal;font-family:Menlo,'DejaVu Sans Mono',consolas,'Courier New',monospace\">Salida Real: <span style=\"font-weight: bold\">[</span><span style=\"color: #008080; text-decoration-color: #008080; font-weight: bold\">0</span> <span style=\"color: #008080; text-decoration-color: #008080; font-weight: bold\">0</span> <span style=\"color: #008080; text-decoration-color: #008080; font-weight: bold\">2</span> <span style=\"color: #008080; text-decoration-color: #008080; font-weight: bold\">0</span><span style=\"font-weight: bold\">]</span>\n",
       "</pre>\n"
      ],
      "text/plain": [
       "Salida Real: \u001b[1m[\u001b[0m\u001b[1;36m0\u001b[0m \u001b[1;36m0\u001b[0m \u001b[1;36m2\u001b[0m \u001b[1;36m0\u001b[0m\u001b[1m]\u001b[0m\n"
      ]
     },
     "metadata": {},
     "output_type": "display_data"
    }
   ],
   "source": [
    "predicted_target = clf.predict(in_test)\n",
    "print(f\"Salida Predicha: {predicted_target[0:4]}\") # Imprimir una muestra de las salidas predichas\n",
    "print(f\"Salida Real: {target_test[0:4]}\") # Compararlas con las reales para esos patrones\n",
    "\n",
    "assert len(predicted_target) == len(target_test), \"Los indices no se corresponden y no se han calculado las mismas salidas\""
   ]
  },
  {
   "cell_type": "markdown",
   "id": "bae314f4",
   "metadata": {},
   "source": [
    "### 5. Evaluación\n",
    "Lo normal es que con una técnica sencialla como esta no todas las salidas sean perfectas y se correspondan. Es por ello que vamos a necesitar alguna manera de mesurar el rendimiento de nuestros modelos. También se abordará más adelante pero, en este punto, nos limitaremos a usar una medida típica de rendimiento como es la presicion (Accuracy) para lon cual la librería en cuestión también nos ofrece una serie de utilidades como vemos a continuación:"
   ]
  },
  {
   "cell_type": "code",
   "execution_count": 13,
   "id": "077e072e",
   "metadata": {
    "tags": []
   },
   "outputs": [
    {
     "data": {
      "text/html": [
       "<pre style=\"white-space:pre;overflow-x:auto;line-height:normal;font-family:Menlo,'DejaVu Sans Mono',consolas,'Courier New',monospace\">Accuracy: <span style=\"color: #008080; text-decoration-color: #008080; font-weight: bold\">72.22</span>%\n",
       "</pre>\n"
      ],
      "text/plain": [
       "Accuracy: \u001b[1;36m72.22\u001b[0m%\n"
      ]
     },
     "metadata": {},
     "output_type": "display_data"
    }
   ],
   "source": [
    "from sklearn.metrics import accuracy_score\n",
    "\n",
    "acc = accuracy_score(target_test, predicted_target)\n",
    "print(f\"Accuracy: {acc*100:.2f}%\")\n",
    "\n",
    "lineal_predicted = predicted_target"
   ]
  },
  {
   "cell_type": "markdown",
   "id": "479828e0",
   "metadata": {},
   "source": [
    "En este caso concreto, la medida lo que viene a evaluar es cuantas veces ha acertado el modelo sobre el total de los datos de test. En este punto es **MUY IMPORTANTE** recalcar que no se puede realizar la evaluación sobre los datos de entrenamiento o ajuste. En caso de hacerlo, las mediciones serían poco fiables ya que se evaluaría contra un conjunto usado para el ajuste y, por lo tanto, podríamos caer en un fenómeno conocido como sobre ajuste o más comunmente *overfitting* en el que el modelo pierde su capacidad de aprender y pasa a memorizar los ejemplos."
   ]
  },
  {
   "cell_type": "markdown",
   "id": "1e68b8ff",
   "metadata": {},
   "source": [
    "### 6. Comparación\n",
    "Una vez conseguido ese dato, podríamos crear otro modelo diferente sobre los mismos datos y comparar las medidas de rendimiento. Hagamos justamente esto, pero ya condensado sin las explicaciones y comparemos dos modelos diferentes de clasificación. "
   ]
  },
  {
   "cell_type": "code",
   "execution_count": 14,
   "id": "bd4626b2",
   "metadata": {
    "tags": []
   },
   "outputs": [
    {
     "data": {
      "text/html": [
       "<pre style=\"white-space:pre;overflow-x:auto;line-height:normal;font-family:Menlo,'DejaVu Sans Mono',consolas,'Courier New',monospace\">Accuracy: <span style=\"color: #008080; text-decoration-color: #008080; font-weight: bold\">96.30</span>%\n",
       "</pre>\n"
      ],
      "text/plain": [
       "Accuracy: \u001b[1;36m96.30\u001b[0m%\n"
      ]
     },
     "metadata": {},
     "output_type": "display_data"
    },
    {
     "data": {
      "text/plain": [
       "array([0, 0, 0, 0, 0, 0, 0, 0, 0, 0, 0, 0, 0, 0, 0, 0, 0, 0, 0, 0, 0, 0,\n",
       "       0, 0, 0, 0, 0, 0, 0, 0, 0, 0, 0, 0, 0, 0, 0, 0, 0, 0, 0, 0, 0, 0,\n",
       "       0, 0, 0, 0, 0, 0, 0, 0, 0, 0, 0, 0, 0, 0, 0, 1, 1, 1, 1, 1, 1, 1,\n",
       "       1, 1, 1, 1, 1, 1, 1, 1, 1, 1, 1, 1, 1, 1, 1, 1, 1, 1, 1, 1, 1, 1,\n",
       "       1, 1, 1, 1, 1, 1, 1, 1, 1, 1, 1, 1, 1, 1, 1, 1, 1, 1, 1, 1, 1, 1,\n",
       "       1, 1, 1, 1, 1, 1, 1, 1, 1, 1, 1, 1, 1, 1, 1, 1, 1, 1, 1, 1, 2, 2,\n",
       "       2, 2, 2, 2, 2, 2, 2, 2, 2, 2, 2, 2, 2, 2, 2, 2, 2, 2, 2, 2, 2, 2,\n",
       "       2, 2, 2, 2, 2, 2, 2, 2, 2, 2, 2, 2, 2, 2, 2, 2, 2, 2, 2, 2, 2, 2,\n",
       "       2, 2])"
      ]
     },
     "execution_count": 14,
     "metadata": {},
     "output_type": "execute_result"
    }
   ],
   "source": [
    "from sklearn.tree import DecisionTreeClassifier\n",
    "\n",
    "# entrenamos el modelo\n",
    "clf = DecisionTreeClassifier()\n",
    "clf.fit(in_train, target_train)\n",
    "\n",
    "# hacemos predicciones en los datos de prueba\n",
    "predicted_target = clf.predict(in_test)\n",
    "\n",
    "# evaluamos el rendimiento del modelo con la precisión\n",
    "acc = accuracy_score(target_test, predicted_target)\n",
    "print(f\"Accuracy: {acc*100:.2f}%\")\n",
    "target"
   ]
  },
  {
   "cell_type": "markdown",
   "id": "9aa012c8",
   "metadata": {},
   "source": [
    "Como se puede ver en este segundo caso, el resultado es muy superior al primero y por lo tanto podríamos decir que este modelo es mejor para esta partición de datos. Esto veremos que no siempre es así cuando veamos la evaluación de los modelos"
   ]
  },
  {
   "cell_type": "markdown",
   "id": "8ee64924",
   "metadata": {},
   "source": [
    "### 7.Postprocesado\n",
    "Como último paso en cualquier flujo habitual de datos estaría el que hacer con los datos por ejemplo el código siguiente imprime los patrones con el tipo asociado en cada caso."
   ]
  },
  {
   "cell_type": "code",
   "execution_count": 15,
   "id": "710f72cc",
   "metadata": {
    "tags": []
   },
   "outputs": [
    {
     "data": {
      "text/plain": [
       "<matplotlib.legend.Legend at 0x7f70f3d392a0>"
      ]
     },
     "execution_count": 15,
     "metadata": {},
     "output_type": "execute_result"
    },
    {
     "data": {
      "text/plain": [
       "<Figure size 640x480 with 0 Axes>"
      ]
     },
     "metadata": {},
     "output_type": "display_data"
    },
    {
     "data": {
      "image/png": "[encoded data removed]",
      "text/plain": [
       "<Figure size 640x480 with 2 Axes>"
      ]
     },
     "metadata": {},
     "output_type": "display_data"
    }
   ],
   "source": [
    "# Se procede al post procesado\n",
    "\n",
    "import matplotlib.pyplot as plt\n",
    "%matplotlib inline\n",
    "\n",
    "\n",
    "f = plt.figure()    \n",
    "f, axes = plt.subplots(nrows = 1, ncols = 2, sharex=True, sharey = True)\n",
    "\n",
    "colors = ['red', 'blue', 'green']\n",
    "lw = 6\n",
    "\n",
    "for color, i, target_name in zip(colors, [0,1,2], wine.target_names):\n",
    "    examples = predicted_target == i\n",
    "    axes[0].scatter(in_test[examples, 0], in_test[examples, 2], color=color, alpha=.8, lw=lw,\n",
    "                label=target_name)\n",
    "axes[0].legend(loc='best', shadow=False, scatterpoints=1)\n",
    "\n",
    "for color, i, target_name in zip(colors, [0,1,2], wine.target_names):\n",
    "    examples = lineal_predicted == i\n",
    "    axes[1].scatter(in_test[examples, 0], in_test[examples, 2], color=color, alpha=.6, lw=lw,\n",
    "                label=target_name)\n",
    "axes[1].legend(loc='best', shadow=False, scatterpoints=1)\n",
    "\n"
   ]
  },
  {
   "cell_type": "code",
   "execution_count": 16,
   "id": "14f97766-1f75-4311-9055-eb4b19463864",
   "metadata": {
    "tags": []
   },
   "outputs": [
    {
     "data": {
      "text/plain": [
       "['class_0', 'class_1', 'class_2']"
      ]
     },
     "execution_count": 16,
     "metadata": {},
     "output_type": "execute_result"
    }
   ],
   "source": [
    "list(wine.target_names)"
   ]
  },
  {
   "cell_type": "markdown",
   "id": "ff7f4df5",
   "metadata": {},
   "source": [
    "# Ejercicios propuestos\n",
    "Vale, ya hemos tomado contacto con `scikit-learn` pero la verdad que este ofrece muchísimo más de lo que vemos ahora mismo. Para ser más exactos, tiene todas las utidades y funciones en el siguiente [enlace](https://scikit-learn.org/stable/modules/classes.html). Llegado a este punto lo que se propone es que replique una definición de modelo y entrenamiento con los pasos que hemos visto hasta ahora. Para ello, siga los siguientes pasos:\n",
    "\n",
    "1. Escoja otro problema de clasificación dentro de los que ofrece `scikit-learn`. Puede consultar las diponibles en este [enlace](https://scikit-learn.org/stable/modules/classes.html#module-sklearn.datasets)\n",
    "2. Seleccione otro modelo de clasificación de entre los disponibles que puede consultar [aquí](https://scikit-learn.org/stable/modules/classes.html). Cualquiera de los modelos es utilizable siempre que sea de classificación. Por ejemplo, se recomienda el uso del `KNNClassifier` o el `GaussianNB`.\n",
    "3. Calcula el accuracy del nuevo modelo y compare los resultados con los que ya hemos obtenido."
   ]
  }
 ],
 "metadata": {
  "@webio": {
   "lastCommId": null,
   "lastKernelId": null
  },
  "kernelspec": {
   "display_name": "Python 3 (ipykernel)",
   "language": "python",
   "name": "python3"
  },
  "language_info": {
   "codemirror_mode": {
    "name": "ipython",
    "version": 3
   },
   "file_extension": ".py",
   "mimetype": "text/x-python",
   "name": "python",
   "nbconvert_exporter": "python",
   "pygments_lexer": "ipython3",
   "version": "3.10.9"
  }
 },
 "nbformat": 4,
 "nbformat_minor": 5
}
