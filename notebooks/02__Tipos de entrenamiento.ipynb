{
 "cells": [
  {
   "cell_type": "markdown",
   "metadata": {},
   "source": [
    "# Tipos de entrenamiento \n",
    "\n",
    "En la unidad anterior se ha visto un ejemplo de entrenamiento de un par de modelos sencillos a mayores con estos podemos pasarle nuevos elementos y hacer predicciones ya sea sobre la clase o estimar algun valor en una regresión. \n",
    "\n",
    "Uno de los puntos donde no se ha prestado mucha atención en ese proceso es como se realiza el entrenamiento.En está unidad vermos la necesidad de realizar diferentes esquemas de reparto para el entrenamiento con el fin de obtener mejores modelos. \n",
    "\n",
    "En las próximas secciones se vera, en un proceso incremental de complejidad la necesidad de prestar atención el porqué se necesitan varios conjuntos de datos y los diferentes esquemas disponibles, así como cuando es mejor usar unos  u otros.\n",
    "\n",
    "## Carga de los datos\n",
    "En está ocasión, en lugar de usar una de las bases de datos preparadas por `scikit-learn`, cargaremos los datos desde un archivo CSV. Esto lo podremos realizar con el siguiente código:"
   ]
  },
  {
   "cell_type": "code",
   "execution_count": null,
   "metadata": {},
   "outputs": [],
   "source": [
    "from rich import print\n",
    "import os.path\n",
    "import pandas as pd\n",
    "\n",
    "def load_data(folder, file_name, url):\n",
    "    #Comprobar si existe la carpeta, si no crearla\n",
    "    if not os.path.exists(folder):\n",
    "        os.mkdir(folder)\n",
    "        \n",
    "    #comprobar si existe el fichero y si no descargarlo\n",
    "    name = os.path.join(folder, file_name)   \n",
    "    if not os.path.isfile(name):\n",
    "        print(f'Downloading'.ljust(75,'.'), end='', flush=True)\n",
    "        import urllib.request\n",
    "        urllib.request.urlretrieve(url,name)\n",
    "        print(f\"Done!\")\n",
    "    return pd.read_csv(name, delimiter=',', header=None)\n",
    "\n",
    "# Datos generales\n",
    "data_folder = '_data_'\n",
    "file_name = 'sonar.all_data'\n",
    "url = 'https://archive.ics.uci.edu/ml/machine-learning-databases/undocumented/connectionist-bench/sonar/sonar.all-data'\n",
    "\n",
    "# Cargar los datos\n",
    "data = load_data(data_folder,file_name, url)\n",
    "\n",
    "# Mostrar los 5 primeros patrones\n",
    "data.head(5)"
   ]
  },
  {
   "cell_type": "markdown",
   "metadata": {},
   "source": [
    "En el código anterior se han definido una función load_data que nos permitirá descargar el archivo si aun no lo tenemos en un directorio local `_data_`. Una vez hecho eso lo que se hace es cargar los datos en una estructura conocida como *Dataframe* que en *Python* se puede usar con la librería `pandas`. Esta estructura es similar a una tabla de una base de datos y facilita la consulta de los mismos. Para nuestra suerte esta librería usa internamente otra librería `numpy` la cual es la usada en *Python* para la gestión de matrices de manera eficiente. Esta última es la necesaria para poder operar con `scikit-learn` por lo que no es necesario hacer la conversión a este formato es trivial como se verá. \n",
    "\n",
    "El problema en cuestión que estamos cargando es el que seinformalmente como **¿Roca o Mina?**. Se trata de una base de datos pequeña que consta de 111 patrones correspondientes a rocas y 97 a minas acuaticas (simuladas como cilindros metálicos). Cada uno de los patrones consta de 60 medidas (variables) numérica entre 0.0. y 1.0. Esas medidas se corresponden con el valor de la energia de diferentes rangos de longitud de onda para un cierto periodo de tiempo. A mayores, la columna 61 se corresponde con la salida deseada que, en este caso concreto se ha representado con una letra 'R' o 'M' segun el tipo. Dada esta situación vamos a preparar los datos tanto de entrada como de salida. "
   ]
  },
  {
   "cell_type": "code",
   "execution_count": null,
   "metadata": {},
   "outputs": [],
   "source": [
    "import numpy as np\n",
    "from sklearn.model_selection import train_test_split\n",
    "\n",
    "#Recoger las 60 primeras mediciones y convertirlas a un Numpy\n",
    "#no tienen nombre así que accedemos según la posición\n",
    "inputs = (data.iloc[:,0:60]).to_numpy()\n",
    "\n",
    "#Convertir la salida a un Numpy y formato numérico\n",
    "targets = (data[60]=='M').to_numpy().astype('int')\n",
    "\n",
    "assert inputs.shape[0] == len(targets), \"Los patrones no se han cargado correctamente ya que no estan alineadas entrada y salida\"\n",
    "print(f\"Patrones disponibles {inputs.shape} -> {targets.shape}\")\n",
    "\n",
    "#Crear los conjuntos de entrenamiento y test\n",
    "#train_inputs, test_inputs, train_outputs, test_outputs = train_test_split(inputs, outputs, test_size=0.1, stratify=outputs)\n",
    "\n",
    "#print(f\"Train Patterns{train_inputs.shape} -> {train_outputs.shape}\")\n",
    "#print(f\"Test Patterns{test_inputs.shape} -> {test_outputs.shape}\")"
   ]
  },
  {
   "cell_type": "markdown",
   "metadata": {},
   "source": [
    "## Entrenar el modelo con todos los datos disponibles\n",
    "La primera tentación que podríamos tener es entrenar los modelos con todos los datos disponibles, por ejemplo, en el siguiente fragmento de código entrenaremos un modelo conocido como KNN (*K-nearest neighbours*) con todos los datos."
   ]
  },
  {
   "cell_type": "code",
   "execution_count": null,
   "metadata": {},
   "outputs": [],
   "source": [
    "from sklearn.neighbors import KNeighborsClassifier\n",
    "# definición del modelo\n",
    "ml_knn = KNeighborsClassifier()\n",
    "\n",
    "# entrenamiento del modelo\n",
    "ml_knn.fit(inputs,targets)\n",
    "#Uso del modelo\n",
    "ml_knn_predictions = ml_knn.predict(inputs)\n",
    "print(ml_knn_predictions)"
   ]
  },
  {
   "cell_type": "markdown",
   "metadata": {},
   "source": [
    "Una vez entrenado, se ha usado el modelo resultante para predecir las mismas entradas. Con el resultado que se ve a continuación: "
   ]
  },
  {
   "cell_type": "code",
   "execution_count": null,
   "metadata": {},
   "outputs": [],
   "source": [
    "from sklearn import metrics\n",
    "print(f\"Accuracy del modelo: {metrics.accuracy_score(targets,ml_knn_predictions)*100:.2f}% \")"
   ]
  },
  {
   "cell_type": "markdown",
   "metadata": {},
   "source": [
    "**PREGUNTA: ¿Podemos saber que el modelo lo ha hecho bien?**\n",
    "Realmente no, al no disponer de una parte de los datos con las que validar el funcionamiento del modelo que no se hayan usado para ajustar la verdad que no sabemmos como de generales son las relaciones. Por ello, uno de los primeros pasos y que ya se aplico en la unidad Introductoria es la división de los datos en dos sub conjuntos, uno para entrenar el modelo,  y otro para validarlo. Este último nos permitirá evaluar la capacidad de generalización del modelo al ver su rendimiento con datos desconocidos. De ese punto vendrá nuestra primera mejora."
   ]
  },
  {
   "cell_type": "markdown",
   "metadata": {},
   "source": [
    "## Dividir los datos en training y test\n",
    "\n",
    "Una priemra aproximación que es netamente mejor consiste en dividir nuestro conjunto de datos inicial en dos conjuntos, uno se usará para entrenar el modelo y otro se dejará fuera de todo el proceso (desconocido para el modelo). Este procedimeinto conocido por su voz inglesa, *hold-out*, permite contar con un conjunto de datos que no ha sido visto por el modelo para comprobar la capacidad de generalización del mismo usando datos desconocidos.\n",
    "Para realizar dicha división, `scikit-learn` cuanta con un método que se ha empleado en la unidad anteirior como es `train_test_split`, el cual se puede aplicar de la siguiente manera:"
   ]
  },
  {
   "cell_type": "code",
   "execution_count": null,
   "metadata": {},
   "outputs": [],
   "source": [
    "from sklearn.model_selection import train_test_split\n",
    "\n",
    "inputs_train, inputs_test, targets_train, targets_test = train_test_split(inputs,targets,test_size=0.2,stratify=targets,random_state=42)"
   ]
  },
  {
   "cell_type": "markdown",
   "metadata": {},
   "source": [
    "**PREGUNTA: ¿para qué sirve el parámetro stratify? y ¿el parámetro random_state?**\n",
    "\n",
    "Este es el típico parámetro que se ve mejor con un ejemplo:"
   ]
  },
  {
   "cell_type": "code",
   "execution_count": null,
   "metadata": {},
   "outputs": [],
   "source": [
    "print(f\"Si los datos globales son {inputs.shape} es decir {inputs.shape[0]} patrones con {inputs.shape[1]} variables.\")\n",
    "print(f\"El 80% de los patrones es {0.8*inputs.shape[0]}, que se corresponde con el número de patrones de entranamiento redondeado {inputs_train.shape}\")\n",
    "print(f\"Mientras el 20% restante de los patrones es {0.2*inputs.shape[0]}, que se corresponde con el número de patrones de test {inputs_test.shape}\")"
   ]
  },
  {
   "cell_type": "markdown",
   "metadata": {},
   "source": [
    "Sin embargo, como son esos patrones, tenemos dos clases diferentes en el *dataset*, Mina y Roca, que no están en la misma proporción. El parámetro stratify nos permite hacer que los dos conjuntos tengan aproximadamente las mismas proporciones. Veamos:"
   ]
  },
  {
   "cell_type": "code",
   "execution_count": null,
   "metadata": {},
   "outputs": [],
   "source": [
    "print(f\"Conteo global: {np.unique(targets,return_counts=True)}\")\n",
    "print(f\"Conteo entrenamiento: {np.unique(targets_train,return_counts=True)}\")\n",
    "print(f\"Conteo test: {np.unique(targets_test,return_counts=True)}\")"
   ]
  },
  {
   "cell_type": "code",
   "execution_count": null,
   "metadata": {},
   "outputs": [],
   "source": [
    "from sklearn.model_selection import train_test_split\n",
    "\n",
    "inputs_train, inputs_test, targets_train, targets_test = train_test_split(inputs,targets,test_size=0.2)\n",
    "np.unique(targets_test,return_counts=True)"
   ]
  },
  {
   "cell_type": "markdown",
   "metadata": {},
   "source": [
    "Lo normal es que al no garantizar las salidas proporcionales al conjunto de entrada el entrenamiento se desvirtue ya que el conjunto de entranamiento puede que no este representando la proporción real que posteriormente el modelo encontraría en una hipotética puesta en producción. "
   ]
  },
  {
   "cell_type": "markdown",
   "metadata": {},
   "source": [
    "**PREGUNTA: ¿cuál es el proceso real que ha hecho la función `train_test_split`?. Es decir, si os dijese que hay que implementarlo, ¿qué tendriamos que hacer?**\n",
    "\n",
    "Vamos a compara el resultdo de la versión implementada por `sckit-learn` y una propia. "
   ]
  },
  {
   "cell_type": "markdown",
   "metadata": {},
   "source": [
    "### ¿Qué estamos haciendo realmente?\n",
    "Implementemos nuestra función de split:"
   ]
  },
  {
   "cell_type": "code",
   "execution_count": null,
   "metadata": {},
   "outputs": [],
   "source": [
    "import numpy as np\n",
    "import pandas as pd\n",
    "\n",
    "def own_split_train_test(inputs,target,ratio):\n",
    "    indices = np.random.permutation(len(inputs))\n",
    "    test_set_size = round(int(len(inputs)*ratio))\n",
    "    indices_test = indices[:test_set_size]\n",
    "    indices_train = indices[test_set_size:]\n",
    "    return inputs[indices_train], inputs[indices_test], targets[indices_train], targets[indices_test]"
   ]
  },
  {
   "cell_type": "markdown",
   "metadata": {},
   "source": [
    "Ahora procederemos a dividir los datos con nuestra función recien definida."
   ]
  },
  {
   "cell_type": "code",
   "execution_count": null,
   "metadata": {},
   "outputs": [],
   "source": [
    "my_inputs_train, my_inputs_test, my_targets_train, my_targets_test = own_split_train_test(inputs, targets ,ratio=0.2)\n",
    "\n",
    "print(f\"{my_inputs_train.shape} -> {my_targets_train.shape}\")\n",
    "print(f\"{my_inputs_test.shape} -> {my_targets_test.shape}\")"
   ]
  },
  {
   "cell_type": "markdown",
   "metadata": {},
   "source": [
    "Como podemos ver la distribución es la misma, bueno, salvo por una discrepacia de 1.\n",
    "\n",
    "**PREGUNTA: ¿Que puede no ser correcto del código que acabamos de ver?**\n",
    "\n",
    "Cada vez que se llama a nuestra función, devolverá un conjunto de test diferente. Este no es un comportamiento deseable para poder repetir y comparar experimentos. Si entrenamos suficientes veces (muchas) el modelo de ML podemos estar introduciendo un sesgo y ajustar demasiado los modelos a los conjuntos que nos interesan. Este es el motivo por el que la función de `scikit-learn` añade *random_state*, que por defecto tiene el valor `None`. A veces se ven opciones del tipo random_state=42 para poder repetir el experimento. El número 42 no tiene nada de especial, pero de alguna manera se ha convertido tradicionalmente en el que se usa.\n",
    "\n",
    "En este sentido puede ser de utilidad el hecho de que en un entorno interactivo e incluso en jupyter o en consola, si se desea obtener información de una función, en Python, se puede emplear las siguientes sentencias."
   ]
  },
  {
   "cell_type": "code",
   "execution_count": null,
   "metadata": {},
   "outputs": [],
   "source": [
    "import inspect\n",
    "lines = inspect.getsource(train_test_split)\n",
    "print(lines)"
   ]
  },
  {
   "cell_type": "markdown",
   "metadata": {},
   "source": [
    "Por tanto,  cones e parámetro apra la división de los datos podemos repetir la misma dividión para comprobarlo vamos a entrenar 2 veces repitiendo la división y sin repetirla. Es más, no lo vamos a hacer con un modelo si no con 30 modelos diferentes. El modelo KNN tiene un parámtro que indica cuantos vecinos tiene en cuenta para asignarle la clase a un nuevo patrón. Lo podríamos hacer a mano pero igual es mejor con un bucle. "
   ]
  },
  {
   "cell_type": "code",
   "execution_count": null,
   "metadata": {},
   "outputs": [],
   "source": [
    "# Función para ejecutar tanto los entrenamientos como pintar la gráfica\n",
    "def entrenar_y_dibujar(inputs_train,inputs_test, targets_train, targets_test):\n",
    "    hiper_k_rango = range(1,30)\n",
    "    scores_train=[]\n",
    "    scores_test=[]\n",
    "    for k in hiper_k_rango:\n",
    "        knn_model = KNeighborsClassifier(n_neighbors=k)\n",
    "        knn_model.fit(inputs_train,targets_train)\n",
    "        predicted_train = knn_model.predict(inputs_train)\n",
    "        predicted_test = knn_model.predict(inputs_test)\n",
    "        scores_train.append(metrics.accuracy_score(targets_train, predicted_train))\n",
    "        scores_test.append(metrics.accuracy_score(targets_test,predicted_test))\n",
    "\n",
    "    print(scores_test)\n",
    "    import matplotlib.pyplot as plt\n",
    "    %matplotlib inline\n",
    "    plt.figure()\n",
    "\n",
    "    plt.plot(hiper_k_rango,scores_train, color='orange')\n",
    "    plt.plot(hiper_k_rango,scores_test, color='navy')\n",
    "\n",
    "    plt.xlabel(\"Valores de k\")\n",
    "    plt.ylabel(\"Accuracy en test\")\n"
   ]
  },
  {
   "cell_type": "code",
   "execution_count": null,
   "metadata": {},
   "outputs": [],
   "source": [
    "#primera repetición\n",
    "inputs_train, inputs_test, targets_train, targets_test = train_test_split(inputs, targets, test_size=0.2, random_state=42)\n",
    "entrenar_y_dibujar(inputs_train, inputs_test, targets_train, targets_test)"
   ]
  },
  {
   "cell_type": "code",
   "execution_count": null,
   "metadata": {},
   "outputs": [],
   "source": [
    "#segunda repetición\n",
    "inputs_train, inputs_test, targets_train, targets_test = train_test_split(inputs, targets, test_size=0.2, random_state=42)\n",
    "entrenar_y_dibujar(inputs_train, inputs_test, targets_train, targets_test)"
   ]
  },
  {
   "cell_type": "code",
   "execution_count": null,
   "metadata": {},
   "outputs": [],
   "source": [
    "#con un split diferente\n",
    "inputs_train, inputs_test, targets_train, targets_test = train_test_split(inputs, targets, test_size=0.2)\n",
    "entrenar_y_dibujar(inputs_train, inputs_test, targets_train, targets_test)"
   ]
  },
  {
   "cell_type": "markdown",
   "metadata": {},
   "source": [
    "En términos generales:\n",
    "* Vemos que al coincidir el estado del spit los resultados son replicables, \n",
    "* El accuracy disminuye cuando se incrementa la complejidad.\n",
    "* Los modelos muy complejos para los datos analizados son penalizados severamente en el accuracy de test\n",
    "\n",
    "**PREGUNTA: ¿por qué?** En general cuando se incrementa la complejidad del modelo no implica que este pueda resolver mejor el problema plantedo, todo lo contraría este tiende al sobreajuste (*overfitting*) o al subajuste (*underfitting*). \n",
    "**PREGUNTA: Supongase que  que ahora mismo hemos seguido la mejor aproximación posible para entrenar un modelo de ML.¿qué modelo pondríamos en producción?** La respuesta a esta pregunta debiera de ser el modelo más sencillo entre aquellos que han alcanzaddo los mejores resultdaos en test.\n",
    "Aun así vemos una cosa y es que no todas las particiones tienen los mismos resultados aun con los mismos individuos, es decir somos dependientes de que hemos escogido como test y que hemos escogido como conjunto de entrenamiento. Este hecho nos llevará al siguiente punto que el el Además vemos la diferencia entre las dos pruebas con particiones, y que nos llevará al siguiente concepto que es el * k-fold cross-validation* tratando de paliar este punto.\n",
    "Eso quiere decir que *hold-out* no sirve para nada, para nada, si tengo suficientes datos no sería preciso el usar otro tipo de metodos, aunque se ha demostrado con un *sampling* puramente aleatorio que tenemos entorno al 20% de posibilidades de introducir un sesgo debido a la división de los datos. \n",
    "\n",
    "Por tanto, cuando usar este tipo de aproximación, en primer lugar cuando queramos hacer alguna prueba rápida, este siempre será menos costoso computacionalmente que los esquemas que veremos a continuación. O bien, cuando tengamos tamaños muestrales grandes en el que esta cuasi-garantizada la diversidad entre los dos subconjuntos."
   ]
  },
  {
   "attachments": {
    "sphx_glr_plot_cv_indices_0041.png": {
     "image/png": "[encoded data removed]"
    }
   },
   "cell_type": "markdown",
   "metadata": {},
   "source": [
    "## k-fold cross-validation\n",
    "Una vez vistas las limitaciones del reparto de las observaciones en dos conjuntos (entrenamiento y test), vamos a ver una mejor aproximación que va a permitir a los modelos generalizar en condiciones más estables y seguras o al menos tomar una decisión más informada por nuestra parte con mayor confianza. \n",
    "\n",
    "Vamos a realizar un *K-fold Cross-validation*, en este caso seguiremos los siguientes pasos:\n",
    "\n",
    "1. Divide el dataset en **k** grupos de igual tamaño\n",
    "2. Usa el primer fold para test y todos los demás juntos para entrenar el modelo\n",
    "3. Calcula el accuracy en test\n",
    "4. Repite los pasos 2 y 3 **k** veces, utilizando como fold de validación una vez cada uno de los folds\n",
    "4. Calcula el rendimiento global al final del proceso. Existen dos aproximaciones:\n",
    "    + hacer la media de todos los folds\n",
    "    + una aproximación más purista o respetuosa con el ML extraería la salida esperada y la salida predicha (vectores) de cada uno de los folds, reconstruiría el *vector grande* y calcularía el resultado.\n",
    " \n",
    "El esquema de este procedimiento sería como en el gráfico siguiente\n",
    "\n",
    "![sphx_glr_plot_cv_indices_0041.png](attachment:sphx_glr_plot_cv_indices_0041.png)\n",
    "Por lo tanto, cada uno de los posibles datos dentro del dataset se usa al menos una vez en el test y el valor extraido representará como se comporta el sistema con todo el conjunto reduciendo, por lo tanto, el sesgo debido a la selección.\n",
    "\n",
    "Para hacer esto, `scikit-learn` también nos ofrece utilidades que simplifican mucho el trabajo mediante la clase KFold, vemaos un ejemplo con numeros secuenciales:"
   ]
  },
  {
   "cell_type": "code",
   "execution_count": null,
   "metadata": {},
   "outputs": [],
   "source": [
    "from sklearn.model_selection import KFold\n",
    "X = np.random.rand(30,10)\n",
    "y = np.random.rand(30,1)\n",
    "kf = KFold(n_splits=5)\n",
    "kf.get_n_splits(X)\n",
    "\n",
    "for train_index, test_index in kf.split(X):\n",
    "   print(\"TRAIN:\", train_index, \"TEST:\", test_index)\n",
    "   X_train, X_test = X[train_index], X[test_index]\n",
    "   y_train, y_test = y[train_index], y[test_index]\n"
   ]
  },
  {
   "cell_type": "markdown",
   "metadata": {},
   "source": [
    "**PREGUNTA: ¿le veis algún problema?**\n",
    "Efectivamente, los datos son correlativos, deberemos de indicar que queremos que no los baraje ya que en otro caso podríamos tener que todos los patrones de una clase caerían en la misma partición siendo esta poco representativa del total. Para ello, la función `KFold` tiene un parámetro `shuffle` que nos dará el comportameinto deseado."
   ]
  },
  {
   "cell_type": "code",
   "execution_count": null,
   "metadata": {},
   "outputs": [],
   "source": [
    "from sklearn.model_selection import KFold\n",
    "X = np.random.rand(30,10)\n",
    "y = np.random.rand(30,1)\n",
    "kf = KFold(n_splits=4,shuffle=True)\n",
    "kf.get_n_splits(X)\n",
    "\n",
    "for train_index, test_index in kf.split(X):\n",
    "   print(\"TRAIN:\", train_index, \"TEST:\", test_index)\n",
    "   X_train, X_test = X[train_index], X[test_index]\n",
    "   y_train, y_test = y[train_index], y[test_index]"
   ]
  },
  {
   "cell_type": "markdown",
   "metadata": {},
   "source": [
    "Procedamos ahora a realizar el primer *cross-validation*, en este caso es uno de los más habituales un *10-fold cross-validation* o 10-cv para abreviar. A mayores en lugar de aplicar nosotros con un bucle cada uno de los conjuntos y tener que llevar el conteo hacer las medias, etc. `scikit-learn` cuenta también con una función `cross_val_score` que automatiza todo el proceso encapsulándolo en una sencilla llamada a función. Un punto a destacar de esta función es que, en el parámetro `cv`, puede recibir bien unn numero para hacer un KFold, un objeto de reparto predefinido como vemos más tarde o las listas directamente."
   ]
  },
  {
   "cell_type": "code",
   "execution_count": null,
   "metadata": {},
   "outputs": [],
   "source": [
    "from sklearn.model_selection import cross_val_score\n",
    "from sklearn.neighbors import KNeighborsClassifier\n",
    "from sklearn import metrics\n",
    "\n",
    "knn_model = KNeighborsClassifier()\n",
    "\n",
    "resultados_kfold = cross_val_score(knn_model,inputs,targets,cv=10,scoring='accuracy')\n",
    "print(f\"Los resultados para las 10 particiones son: {resultados_kfold}\")\n",
    "print(f\"Es decir, tiene un resultado de: {resultados_kfold.mean()} +/- {resultados_kfold.std()}\")"
   ]
  },
  {
   "cell_type": "markdown",
   "metadata": {},
   "source": [
    "Idealmente, ahora podríamos buscar el mejor valor de K igual que antes, pero con modelos entrenados siguiendo un 10-fold cross-validation. Ajustando el código anterior:"
   ]
  },
  {
   "cell_type": "code",
   "execution_count": null,
   "metadata": {},
   "outputs": [],
   "source": [
    "def entrenar_y_dibujar(inputs, targets):\n",
    "    hiper_k_rango = range(1,30)\n",
    "    scores=[]\n",
    "    for k in hiper_k_rango:\n",
    "        knn_model = KNeighborsClassifier(n_neighbors=k)\n",
    "        resultados_kfold = cross_val_score(knn_model,inputs,targets,cv=10,scoring='accuracy')\n",
    "        scores.append(resultados_kfold.mean())\n",
    "        \n",
    "    print(scores_test)\n",
    "    import matplotlib.pyplot as plt\n",
    "    %matplotlib inline\n",
    "    plt.figure()\n",
    "    \n",
    "    plt.plot(hiper_k_rango,scores, color='navy')\n",
    "\n",
    "    plt.xlabel(\"Valores de k\")\n",
    "    plt.ylabel(\"Accuracy en test\")\n",
    "\n",
    "entrenar_y_dibujar(inputs, targets)"
   ]
  },
  {
   "cell_type": "markdown",
   "metadata": {},
   "source": [
    "Ahora ya podremos  hacer una afirmación del tipo el modelo knn es mejor que otro modelo. O alguno de los parámetros funciona mejor que el otro. \n",
    "\n",
    "**PREGUNTA: ¿con esto ya hemos terminado de mejorar el experimento CV?**\n",
    "Pues lo cierto es que si que se puede mejor y mucho, que seguimos teniendo un sesgo dependiendo cual sea el subconjunto de entrenamiento y el de test de cada uno, lo hemos reducido pero debido a esa componente de aleatoriedad en el reparto."
   ]
  },
  {
   "cell_type": "markdown",
   "metadata": {},
   "source": [
    "#### Mejoras al k-fold cross-validation\n",
    "Para reducir el sesgo generado por ese reparto en los diferentes *folds* o particiones la idea es repetir este procedimiento un número $X$ de veces de tal manera que cada data no sólo se use varias veces en el test si no que este acompaado de muestras diferentes y que los modelos entrenados sean diferentes.\n",
    "\n",
    "Esto se puede conseguir también con la librería con el uso de la calse `Repeated_KFold`en lugar de `KFold` al pasarselo a la función `cross_val_score` como antes."
   ]
  },
  {
   "cell_type": "code",
   "execution_count": null,
   "metadata": {},
   "outputs": [],
   "source": [
    "from sklearn.model_selection import cross_val_score,RepeatedKFold\n",
    "from sklearn import metrics\n",
    "\n",
    "knn_model = KNeighborsClassifier()\n",
    "\n",
    "RKFold = RepeatedKFold(n_splits=10,n_repeats=50)\n",
    "resultados_RKfold = cross_val_score(knn_model,inputs,targets,cv=RKFold,scoring='accuracy')\n",
    "\n",
    "print(f\"Los resultados son: {resultados_kfold}\")\n",
    "print(f\"Es decir, tiene un resultado de: {resultados_kfold.mean()} +/- {resultados_kfold.std()}\")"
   ]
  },
  {
   "cell_type": "code",
   "execution_count": null,
   "metadata": {},
   "outputs": [],
   "source": [
    "from matplotlib.pyplot import boxplot\n",
    "boxplot(resultados_kfold)"
   ]
  },
  {
   "attachments": {
    "static1.squarespace.com.png": {
     "image/png": "[encoded data removed]"
    }
   },
   "cell_type": "markdown",
   "metadata": {},
   "source": [
    "PREGUNTA: ¿qué tal el modelo?\n",
    "\n",
    "las diferencias en función de la variabilidad se podrían ver de la siguiente forma ![static1.squarespace.com.png](attachment:static1.squarespace.com.png)"
   ]
  },
  {
   "cell_type": "code",
   "execution_count": null,
   "metadata": {},
   "outputs": [],
   "source": [
    "hiper_k_rango = range(1,30)\n",
    "scores=[]\n",
    "for k in hiper_k_rango:\n",
    "    knn_model = KNeighborsClassifier(n_neighbors=k)\n",
    "    resultados_kfold = cross_val_score(knn_model,inputs,targets,cv=RKFold,scoring='accuracy')\n",
    "    scores.append(resultados_kfold.mean())\n",
    "\n",
    "print(scores)"
   ]
  },
  {
   "cell_type": "code",
   "execution_count": null,
   "metadata": {},
   "outputs": [],
   "source": [
    "boxplot(scores)"
   ]
  },
  {
   "cell_type": "code",
   "execution_count": null,
   "metadata": {},
   "outputs": [],
   "source": [
    "import matplotlib.pyplot as plt\n",
    "%matplotlib inline\n",
    "plt.plot(hiper_k_rango,scores)\n",
    "plt.xlabel(\"Valores de k\")\n",
    "plt.ylabel(\"Accuracy en 50 repeticiones 10-fold cross-validation\")"
   ]
  },
  {
   "cell_type": "markdown",
   "metadata": {},
   "source": [
    "A mayores otra cosa que se podría hacer es usar el modelo stratified de tal manera que conservemos las mismas proporciones que en el conjunto original como en este caso:"
   ]
  },
  {
   "cell_type": "code",
   "execution_count": null,
   "metadata": {},
   "outputs": [],
   "source": [
    "from sklearn.model_selection import cross_val_score,RepeatedStratifiedKFold\n",
    "\n",
    "hiper_k_rango = range(1,30)\n",
    "scores=[]\n",
    "RKFold_stratified = RepeatedStratifiedKFold(n_splits=10,n_repeats=50)\n",
    "\n",
    "for k in hiper_k_rango:\n",
    "    knn_model = KNeighborsClassifier(n_neighbors=k)\n",
    "    resultados_kfold = cross_val_score(knn_model,inputs,targets,cv=RKFold_stratified,scoring='accuracy')\n",
    "    scores.append(resultados_kfold.mean())\n",
    "    \n",
    "scores_media_Kfold = scores\n",
    "\n",
    "print(scores)\n",
    "import matplotlib.pyplot as plt\n",
    "%matplotlib inline\n",
    "plt.plot(hiper_k_rango,scores)\n",
    "plt.xlabel(\"Valores de k\")\n",
    "plt.ylabel(\"Accuracy en 50 repeticiones 10-fold cross-validation\")"
   ]
  },
  {
   "cell_type": "markdown",
   "metadata": {},
   "source": [
    "Un punto a destacar es que debiemos de tener mucho cuidado cuando usemos un API, esta nos simplifica la vida pero debemos saber que es lo que se esta haciendo, ya que nos puede llevar a resultados erroneos. Por ejemplo, el método *RepeatedKFold* devuelve la media de las repeticiones para cada fold, no para cada experimento. Si las quisieramos tendráiamos que hacer nuestra propia función que no es muy difícil como se ve a continuación:"
   ]
  },
  {
   "cell_type": "code",
   "execution_count": null,
   "metadata": {},
   "outputs": [],
   "source": [
    "import numpy as np\n",
    "from sklearn.utils import shuffle\n",
    "\n",
    "def cross_validate(model, x, y, folds=10, repeats=5):\n",
    "    score = np.zeros((repeats, folds))\n",
    "    x = np.array(x)\n",
    "    for r in range(repeats):\n",
    "        i=0\n",
    "        print('Experimento número', str(r + 1), 'de', str(repeats))\n",
    "        x,y = shuffle(x,y,random_state=r) \n",
    "        kf = KFold(n_splits=folds,random_state=i+1000,shuffle=True)\n",
    "        for train_ind,test_ind in kf.split(x):\n",
    "            print('Fold', i+1, 'de',folds)\n",
    "            xtrain,ytrain = x[train_ind,:],y[train_ind]\n",
    "            xtest,ytest = x[test_ind,:],y[test_ind]\n",
    "            model.fit(xtrain, ytrain)\n",
    "            score[r,i]=metrics.accuracy_score(model.predict(xtest), ytest)\n",
    "            i+=1\n",
    "        print('\\nAccuracy del experimento:',str(np.mean(score[r, :])))\n",
    "    print('\\nResults:',str(score))\n",
    "    print('Media:',str(np.mean(score)))\n",
    "    print('Desviación:',str(np.std(score)))\n",
    "    return score\n",
    "\n",
    "score=cross_validate(knn_model, inputs, targets, folds=10, repeats=5)"
   ]
  },
  {
   "cell_type": "code",
   "execution_count": null,
   "metadata": {},
   "outputs": [],
   "source": [
    "print(score)\n",
    "boxplot(score)"
   ]
  },
  {
   "cell_type": "markdown",
   "metadata": {},
   "source": [
    "Es un boxplot un poco grande pero quen nos da una idea bastante feaciente de como se hacomportado el modelo en cada uno folds teniendo en cuenta las repeticiones.\n",
    "\n",
    "## Otros tipos de cross-valiadation\n",
    "Estos son sólo los principales tipos de entrenamiento, pero existen otros. Entre los más comunes tendríamos:\n",
    "\n",
    "1. 5x2 *Cross-validation*. En este caso se realiza un 2-cv pero se repite 5 veces el proceso de tal manera que tengamos 10 valores de test. En casos con pocos datos es uno de las mejores aproximaciones porque permite hacer contrates de hipotesis como el t-test. "
   ]
  },
  {
   "cell_type": "code",
   "execution_count": null,
   "metadata": {},
   "outputs": [],
   "source": [
    "from sklearn.model_selection import cross_val_score,RepeatedKFold\n",
    "from sklearn.neighbors import KNeighborsClassifier\n",
    "\n",
    "knn = KNeighborsClassifier()\n",
    "cv_5x2 = RepeatedKFold(n_splits=2,n_repeats=5)\n",
    "scores = cross_val_score(knn, inputs, targets, cv=cv_5x2)\n",
    "\n",
    "print(np.mean(scores))"
   ]
  },
  {
   "cell_type": "markdown",
   "metadata": {},
   "source": [
    "2. *Leave-one-out (LOO)* es una aproximación en el que se aplica el cross-validation a nivel de dato dejando sólo un ejemplo fuera en que el modelo entrenado con el resto se lo juega a todo o nada. Tiende a ser demasiado optimista en los resultados si las muestras no están balanceadas, pero es una opción cuando hay muy pocos datos. En la librería se encuentra implementado en la clase `LeaveOneOut`."
   ]
  },
  {
   "cell_type": "code",
   "execution_count": null,
   "metadata": {},
   "outputs": [],
   "source": [
    "from sklearn.model_selection import LeaveOneOut, cross_val_score\n",
    "from sklearn.neighbors import KNeighborsClassifier\n",
    "\n",
    "knn = KNeighborsClassifier()\n",
    "loo = LeaveOneOut()\n",
    "scores = cross_val_score(knn, inputs, targets, cv=loo)\n",
    "\n",
    "print(np.mean(scores))"
   ]
  },
  {
   "cell_type": "markdown",
   "metadata": {},
   "source": [
    "3. Nested Cross Valiadation. En este caso se hace un cross-validation para cada conjunto de entrenamiento del cross-validation. Es particularmente útil para evitar sesgos a la hora de comparar Modelos con diferentes configuraciones. El interno nos permite seleccionar los parámetros y el externo nos da una ideal del rendimiento general del modelo"
   ]
  },
  {
   "cell_type": "code",
   "execution_count": null,
   "metadata": {},
   "outputs": [],
   "source": [
    "from sklearn.model_selection import KFold, cross_val_score\n",
    "from sklearn.neighbors import KNeighborsClassifier\n",
    "import numpy as np\n",
    "\n",
    "knn = KNeighborsClassifier()\n",
    "\n",
    "outer_cv = KFold(n_splits=5, shuffle=True, random_state=0)\n",
    "inner_cv = KFold(n_splits=5, shuffle=True, random_state=0)\n",
    "\n",
    "nested_scores = []\n",
    "for train_index, test_index in outer_cv.split(inputs):\n",
    "    inputs_train, inputs_test = inputs[train_index], inputs[test_index]\n",
    "    targets_train, targets_test = targets[train_index], targets[test_index]\n",
    "    inner_scores = cross_val_score(knn, inputs_train, targets_train, cv=inner_cv)\n",
    "    nested_score = np.mean(inner_scores)\n",
    "    nested_scores.append(nested_score)\n",
    "\n",
    "print(np.mean(nested_scores))"
   ]
  },
  {
   "cell_type": "markdown",
   "metadata": {},
   "source": [
    "4. Individual-wise o Group-wise cross-validation. En este caso concreto se tiene en cuenta el como están repartidas las muestras si, por ejemplo, son medidas sobre un mismo individuo en dos momentos diferentes. En dicho caso todas las muestras en el cross-validation debieran de ir a la misma partición porque, de otra manera, habría contaminación cruzada entre los conjuntos de entrenamiento y test."
   ]
  },
  {
   "cell_type": "code",
   "execution_count": null,
   "metadata": {},
   "outputs": [],
   "source": [
    "from sklearn.model_selection import GroupKFold, cross_val_score\n",
    "from sklearn.neighbors import KNeighborsClassifier\n",
    "import numpy as np\n",
    "\n",
    "#Necesario generarlos artificialmente para el ejemplo\n",
    "groups = np.zeros(len(inputs))\n",
    "groups[:(len(inputs)//2)] = 1\n",
    "knn = KNeighborsClassifier()\n",
    "\n",
    "cv = GroupKFold(n_splits=2)\n",
    "scores = cross_val_score(knn, inputs, targets, groups=groups, cv=cv)\n",
    "print(scores)"
   ]
  },
  {
   "cell_type": "markdown",
   "metadata": {},
   "source": [
    "# Resumiendo:\n",
    "* Los modelos generados solamente con una división de los datos en dos bloques (entrenamiento y test) tienden a generar resultados muy optimistas, no generalizan bien. Se conoce este fenómeno como *data snooping bias*\n",
    "* Un modelo generado mediante alguna aproximación de validación cruzada (la más típica es 10-fold aunque dependiendo del tamaño de los datos se podría aplicar, por ejemplo, una LOO por ejemplo) generaliza mejor\n",
    "* Para estar seguros de que los resultados del modelo y su capacidad de generalización es adecuada, se repiten los experimentos k-fold varias veces (permutando/randomizando el reparto de los ejemplos) y se estudia su variabilidad. Produce una estimación más real reduciendo la varianza de los resultados\n",
    "* Es más, lo ideal es hacer muchas repeticiones y estratificar los datos en el conjunto de validación.\n",
    "* En la medida de lo posible y en función del tamaño del dataset. Reserva, previo al proceso de cross-validation, una proporción de los datos para validación previa a puesta en producción. Se conoce como *hold-out test*. Esta es una estimación real del funcionamiento del modelo, pero en caso de una mala generalización del modelo no se debe usar para ajustar los siguientes modelos a ese conjunto específico.\n",
    "* Veremos más adelante en el curso diferenes aproximaciones de reducción de dimensionalidad. Normalmente, la selección de características o *feature selection* se realiza previamente a cross-validation. En lugar de eso, es más recomendable realizarlo dentro de cada iteración de cross validation, ya que el rendimiento es más parecido al que nos encontraremos al usar el modelo sobre datos externos no conocidos."
   ]
  }
 ],
 "metadata": {
  "kernelspec": {
   "display_name": "Python 3 (ipykernel)",
   "language": "python",
   "name": "python3"
  },
  "language_info": {
   "codemirror_mode": {
    "name": "ipython",
    "version": 3
   },
   "file_extension": ".py",
   "mimetype": "text/x-python",
   "name": "python",
   "nbconvert_exporter": "python",
   "pygments_lexer": "ipython3",
   "version": "3.10.6"
  }
 },
 "nbformat": 4,
 "nbformat_minor": 4
}
