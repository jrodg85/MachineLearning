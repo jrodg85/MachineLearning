{
 "cells": [
  {
   "cell_type": "markdown",
   "metadata": {},
   "source": [
    "# Tipos de entrenamiento \n",
    "\n",
    "En la unidad anterior se ha visto un ejemplo de entrenamiento de un par de modelos sencillos a mayores con estos podemos pasarle nuevos elementos y hacer predicciones ya sea sobre la clase o estimar algun valor en una regresión. \n",
    "\n",
    "Uno de los puntos donde no se ha prestado mucha atención en ese proceso es como se realiza el entrenamiento.En está unidad vermos la necesidad de realizar diferentes esquemas de reparto para el entrenamiento con el fin de obtener mejores modelos. \n",
    "\n",
    "En las próximas secciones se vera, en un proceso incremental de complejidad la necesidad de prestar atención el porqué se necesitan varios conjuntos de datos y los diferentes esquemas disponibles, así como cuando es mejor usar unos  u otros.\n",
    "\n",
    "## Carga de los datos\n",
    "En está ocasión, en lugar de usar una de las bases de datos preparadas por `scikit-learn`, cargaremos los datos desde un archivo CSV. Esto lo podremos realizar con el siguiente código:"
   ]
  },
  {
   "cell_type": "code",
   "execution_count": 1,
   "metadata": {
    "tags": []
   },
   "outputs": [
    {
     "data": {
      "text/html": [
       "<div>\n",
       "<style scoped>\n",
       "    .dataframe tbody tr th:only-of-type {\n",
       "        vertical-align: middle;\n",
       "    }\n",
       "\n",
       "    .dataframe tbody tr th {\n",
       "        vertical-align: top;\n",
       "    }\n",
       "\n",
       "    .dataframe thead th {\n",
       "        text-align: right;\n",
       "    }\n",
       "</style>\n",
       "<table border=\"1\" class=\"dataframe\">\n",
       "  <thead>\n",
       "    <tr style=\"text-align: right;\">\n",
       "      <th></th>\n",
       "      <th>0</th>\n",
       "      <th>1</th>\n",
       "      <th>2</th>\n",
       "      <th>3</th>\n",
       "      <th>4</th>\n",
       "      <th>5</th>\n",
       "      <th>6</th>\n",
       "      <th>7</th>\n",
       "      <th>8</th>\n",
       "      <th>9</th>\n",
       "      <th>...</th>\n",
       "      <th>51</th>\n",
       "      <th>52</th>\n",
       "      <th>53</th>\n",
       "      <th>54</th>\n",
       "      <th>55</th>\n",
       "      <th>56</th>\n",
       "      <th>57</th>\n",
       "      <th>58</th>\n",
       "      <th>59</th>\n",
       "      <th>60</th>\n",
       "    </tr>\n",
       "  </thead>\n",
       "  <tbody>\n",
       "    <tr>\n",
       "      <th>0</th>\n",
       "      <td>0.0200</td>\n",
       "      <td>0.0371</td>\n",
       "      <td>0.0428</td>\n",
       "      <td>0.0207</td>\n",
       "      <td>0.0954</td>\n",
       "      <td>0.0986</td>\n",
       "      <td>0.1539</td>\n",
       "      <td>0.1601</td>\n",
       "      <td>0.3109</td>\n",
       "      <td>0.2111</td>\n",
       "      <td>...</td>\n",
       "      <td>0.0027</td>\n",
       "      <td>0.0065</td>\n",
       "      <td>0.0159</td>\n",
       "      <td>0.0072</td>\n",
       "      <td>0.0167</td>\n",
       "      <td>0.0180</td>\n",
       "      <td>0.0084</td>\n",
       "      <td>0.0090</td>\n",
       "      <td>0.0032</td>\n",
       "      <td>R</td>\n",
       "    </tr>\n",
       "    <tr>\n",
       "      <th>1</th>\n",
       "      <td>0.0453</td>\n",
       "      <td>0.0523</td>\n",
       "      <td>0.0843</td>\n",
       "      <td>0.0689</td>\n",
       "      <td>0.1183</td>\n",
       "      <td>0.2583</td>\n",
       "      <td>0.2156</td>\n",
       "      <td>0.3481</td>\n",
       "      <td>0.3337</td>\n",
       "      <td>0.2872</td>\n",
       "      <td>...</td>\n",
       "      <td>0.0084</td>\n",
       "      <td>0.0089</td>\n",
       "      <td>0.0048</td>\n",
       "      <td>0.0094</td>\n",
       "      <td>0.0191</td>\n",
       "      <td>0.0140</td>\n",
       "      <td>0.0049</td>\n",
       "      <td>0.0052</td>\n",
       "      <td>0.0044</td>\n",
       "      <td>R</td>\n",
       "    </tr>\n",
       "    <tr>\n",
       "      <th>2</th>\n",
       "      <td>0.0262</td>\n",
       "      <td>0.0582</td>\n",
       "      <td>0.1099</td>\n",
       "      <td>0.1083</td>\n",
       "      <td>0.0974</td>\n",
       "      <td>0.2280</td>\n",
       "      <td>0.2431</td>\n",
       "      <td>0.3771</td>\n",
       "      <td>0.5598</td>\n",
       "      <td>0.6194</td>\n",
       "      <td>...</td>\n",
       "      <td>0.0232</td>\n",
       "      <td>0.0166</td>\n",
       "      <td>0.0095</td>\n",
       "      <td>0.0180</td>\n",
       "      <td>0.0244</td>\n",
       "      <td>0.0316</td>\n",
       "      <td>0.0164</td>\n",
       "      <td>0.0095</td>\n",
       "      <td>0.0078</td>\n",
       "      <td>R</td>\n",
       "    </tr>\n",
       "    <tr>\n",
       "      <th>3</th>\n",
       "      <td>0.0100</td>\n",
       "      <td>0.0171</td>\n",
       "      <td>0.0623</td>\n",
       "      <td>0.0205</td>\n",
       "      <td>0.0205</td>\n",
       "      <td>0.0368</td>\n",
       "      <td>0.1098</td>\n",
       "      <td>0.1276</td>\n",
       "      <td>0.0598</td>\n",
       "      <td>0.1264</td>\n",
       "      <td>...</td>\n",
       "      <td>0.0121</td>\n",
       "      <td>0.0036</td>\n",
       "      <td>0.0150</td>\n",
       "      <td>0.0085</td>\n",
       "      <td>0.0073</td>\n",
       "      <td>0.0050</td>\n",
       "      <td>0.0044</td>\n",
       "      <td>0.0040</td>\n",
       "      <td>0.0117</td>\n",
       "      <td>R</td>\n",
       "    </tr>\n",
       "    <tr>\n",
       "      <th>4</th>\n",
       "      <td>0.0762</td>\n",
       "      <td>0.0666</td>\n",
       "      <td>0.0481</td>\n",
       "      <td>0.0394</td>\n",
       "      <td>0.0590</td>\n",
       "      <td>0.0649</td>\n",
       "      <td>0.1209</td>\n",
       "      <td>0.2467</td>\n",
       "      <td>0.3564</td>\n",
       "      <td>0.4459</td>\n",
       "      <td>...</td>\n",
       "      <td>0.0031</td>\n",
       "      <td>0.0054</td>\n",
       "      <td>0.0105</td>\n",
       "      <td>0.0110</td>\n",
       "      <td>0.0015</td>\n",
       "      <td>0.0072</td>\n",
       "      <td>0.0048</td>\n",
       "      <td>0.0107</td>\n",
       "      <td>0.0094</td>\n",
       "      <td>R</td>\n",
       "    </tr>\n",
       "  </tbody>\n",
       "</table>\n",
       "<p>5 rows × 61 columns</p>\n",
       "</div>"
      ],
      "text/plain": [
       "       0       1       2       3       4       5       6       7       8   \\\n",
       "0  0.0200  0.0371  0.0428  0.0207  0.0954  0.0986  0.1539  0.1601  0.3109   \n",
       "1  0.0453  0.0523  0.0843  0.0689  0.1183  0.2583  0.2156  0.3481  0.3337   \n",
       "2  0.0262  0.0582  0.1099  0.1083  0.0974  0.2280  0.2431  0.3771  0.5598   \n",
       "3  0.0100  0.0171  0.0623  0.0205  0.0205  0.0368  0.1098  0.1276  0.0598   \n",
       "4  0.0762  0.0666  0.0481  0.0394  0.0590  0.0649  0.1209  0.2467  0.3564   \n",
       "\n",
       "       9   ...      51      52      53      54      55      56      57  \\\n",
       "0  0.2111  ...  0.0027  0.0065  0.0159  0.0072  0.0167  0.0180  0.0084   \n",
       "1  0.2872  ...  0.0084  0.0089  0.0048  0.0094  0.0191  0.0140  0.0049   \n",
       "2  0.6194  ...  0.0232  0.0166  0.0095  0.0180  0.0244  0.0316  0.0164   \n",
       "3  0.1264  ...  0.0121  0.0036  0.0150  0.0085  0.0073  0.0050  0.0044   \n",
       "4  0.4459  ...  0.0031  0.0054  0.0105  0.0110  0.0015  0.0072  0.0048   \n",
       "\n",
       "       58      59  60  \n",
       "0  0.0090  0.0032   R  \n",
       "1  0.0052  0.0044   R  \n",
       "2  0.0095  0.0078   R  \n",
       "3  0.0040  0.0117   R  \n",
       "4  0.0107  0.0094   R  \n",
       "\n",
       "[5 rows x 61 columns]"
      ]
     },
     "execution_count": 1,
     "metadata": {},
     "output_type": "execute_result"
    }
   ],
   "source": [
    "from rich import print\n",
    "import os.path\n",
    "import pandas as pd\n",
    "\n",
    "def load_data(folder, file_name, url):\n",
    "    #Comprobar si existe la carpeta, si no crearla\n",
    "    if not os.path.exists(folder):\n",
    "        os.mkdir(folder)\n",
    "        \n",
    "    #comprobar si existe el fichero y si no descargarlo\n",
    "    name = os.path.join(folder, file_name)   \n",
    "    if not os.path.isfile(name):\n",
    "        print(f'Downloading'.ljust(75,'.'), end='', flush=True)\n",
    "        import urllib.request\n",
    "        urllib.request.urlretrieve(url,name)\n",
    "        print(f\"Done!\")\n",
    "    return pd.read_csv(name, delimiter=',', header=None)\n",
    "\n",
    "# Datos generales\n",
    "data_folder = '_data_'\n",
    "file_name = 'sonar.all_data'\n",
    "url = 'https://archive.ics.uci.edu/ml/machine-learning-databases/undocumented/connectionist-bench/sonar/sonar.all-data'\n",
    "\n",
    "# Cargar los datos\n",
    "data = load_data(data_folder,file_name, url)\n",
    "\n",
    "# Mostrar los 5 primeros patrones\n",
    "data.head(5)"
   ]
  },
  {
   "cell_type": "markdown",
   "metadata": {},
   "source": [
    "En el código anterior se han definido una función load_data que nos permitirá descargar el archivo si aun no lo tenemos en un directorio local `_data_`. Una vez hecho eso lo que se hace es cargar los datos en una estructura conocida como *Dataframe* que en *Python* se puede usar con la librería `pandas`. Esta estructura es similar a una tabla de una base de datos y facilita la consulta de los mismos. Para nuestra suerte esta librería usa internamente otra librería `numpy` la cual es la usada en *Python* para la gestión de matrices de manera eficiente. Esta última es la necesaria para poder operar con `scikit-learn` por lo que no es necesario hacer la conversión a este formato es trivial como se verá. \n",
    "\n",
    "El problema en cuestión que estamos cargando es el que seinformalmente como **¿Roca o Mina?**. Se trata de una base de datos pequeña que consta de 111 patrones correspondientes a rocas y 97 a minas acuaticas (simuladas como cilindros metálicos). Cada uno de los patrones consta de 60 medidas (variables) numérica entre 0.0. y 1.0. Esas medidas se corresponden con el valor de la energia de diferentes rangos de longitud de onda para un cierto periodo de tiempo. A mayores, la columna 61 se corresponde con la salida deseada que, en este caso concreto se ha representado con una letra 'R' o 'M' segun el tipo. Dada esta situación vamos a preparar los datos tanto de entrada como de salida. "
   ]
  },
  {
   "cell_type": "code",
   "execution_count": 2,
   "metadata": {
    "tags": []
   },
   "outputs": [
    {
     "data": {
      "text/html": [
       "<pre style=\"white-space:pre;overflow-x:auto;line-height:normal;font-family:Menlo,'DejaVu Sans Mono',consolas,'Courier New',monospace\">Patrones disponibles <span style=\"font-weight: bold\">(</span><span style=\"color: #008080; text-decoration-color: #008080; font-weight: bold\">208</span>, <span style=\"color: #008080; text-decoration-color: #008080; font-weight: bold\">60</span><span style=\"font-weight: bold\">)</span> -&gt; <span style=\"font-weight: bold\">(</span><span style=\"color: #008080; text-decoration-color: #008080; font-weight: bold\">208</span>,<span style=\"font-weight: bold\">)</span>\n",
       "</pre>\n"
      ],
      "text/plain": [
       "Patrones disponibles \u001b[1m(\u001b[0m\u001b[1;36m208\u001b[0m, \u001b[1;36m60\u001b[0m\u001b[1m)\u001b[0m -> \u001b[1m(\u001b[0m\u001b[1;36m208\u001b[0m,\u001b[1m)\u001b[0m\n"
      ]
     },
     "metadata": {},
     "output_type": "display_data"
    }
   ],
   "source": [
    "import numpy as np\n",
    "from sklearn.model_selection import train_test_split\n",
    "\n",
    "#Recoger las 60 primeras mediciones y convertirlas a un Numpy\n",
    "#no tienen nombre así que accedemos según la posición\n",
    "inputs = (data.iloc[:,0:60]).to_numpy()\n",
    "\n",
    "#Convertir la salida a un Numpy y formato numérico\n",
    "targets = (data[60]=='M').to_numpy().astype('int')\n",
    "\n",
    "assert inputs.shape[0] == len(targets), \"Los patrones no se han cargado correctamente ya que no estan alineadas entrada y salida\"\n",
    "print(f\"Patrones disponibles {inputs.shape} -> {targets.shape}\")\n",
    "\n",
    "#Crear los conjuntos de entrenamiento y test\n",
    "#train_inputs, test_inputs, train_outputs, test_outputs = train_test_split(inputs, outputs, test_size=0.1, stratify=outputs)\n",
    "\n",
    "#print(f\"Train Patterns{train_inputs.shape} -> {train_outputs.shape}\")\n",
    "#print(f\"Test Patterns{test_inputs.shape} -> {test_outputs.shape}\")"
   ]
  },
  {
   "cell_type": "markdown",
   "metadata": {},
   "source": [
    "## Entrenar el modelo con todos los datos disponibles\n",
    "La primera tentación que podríamos tener es entrenar los modelos con todos los datos disponibles, por ejemplo, en el siguiente fragmento de código entrenaremos un modelo conocido como KNN (*K-nearest neighbours*) con todos los datos."
   ]
  },
  {
   "cell_type": "code",
   "execution_count": 3,
   "metadata": {
    "tags": []
   },
   "outputs": [
    {
     "data": {
      "text/html": [
       "<pre style=\"white-space:pre;overflow-x:auto;line-height:normal;font-family:Menlo,'DejaVu Sans Mono',consolas,'Courier New',monospace\"><span style=\"font-weight: bold\">[</span><span style=\"color: #008080; text-decoration-color: #008080; font-weight: bold\">1</span> <span style=\"color: #008080; text-decoration-color: #008080; font-weight: bold\">1</span> <span style=\"color: #008080; text-decoration-color: #008080; font-weight: bold\">0</span> <span style=\"color: #008080; text-decoration-color: #008080; font-weight: bold\">0</span> <span style=\"color: #008080; text-decoration-color: #008080; font-weight: bold\">0</span> <span style=\"color: #008080; text-decoration-color: #008080; font-weight: bold\">1</span> <span style=\"color: #008080; text-decoration-color: #008080; font-weight: bold\">0</span> <span style=\"color: #008080; text-decoration-color: #008080; font-weight: bold\">1</span> <span style=\"color: #008080; text-decoration-color: #008080; font-weight: bold\">0</span> <span style=\"color: #008080; text-decoration-color: #008080; font-weight: bold\">0</span> <span style=\"color: #008080; text-decoration-color: #008080; font-weight: bold\">0</span> <span style=\"color: #008080; text-decoration-color: #008080; font-weight: bold\">0</span> <span style=\"color: #008080; text-decoration-color: #008080; font-weight: bold\">1</span> <span style=\"color: #008080; text-decoration-color: #008080; font-weight: bold\">0</span> <span style=\"color: #008080; text-decoration-color: #008080; font-weight: bold\">0</span> <span style=\"color: #008080; text-decoration-color: #008080; font-weight: bold\">0</span> <span style=\"color: #008080; text-decoration-color: #008080; font-weight: bold\">0</span> <span style=\"color: #008080; text-decoration-color: #008080; font-weight: bold\">1</span> <span style=\"color: #008080; text-decoration-color: #008080; font-weight: bold\">0</span> <span style=\"color: #008080; text-decoration-color: #008080; font-weight: bold\">1</span> <span style=\"color: #008080; text-decoration-color: #008080; font-weight: bold\">1</span> <span style=\"color: #008080; text-decoration-color: #008080; font-weight: bold\">0</span> <span style=\"color: #008080; text-decoration-color: #008080; font-weight: bold\">0</span> <span style=\"color: #008080; text-decoration-color: #008080; font-weight: bold\">0</span> <span style=\"color: #008080; text-decoration-color: #008080; font-weight: bold\">0</span> <span style=\"color: #008080; text-decoration-color: #008080; font-weight: bold\">0</span> <span style=\"color: #008080; text-decoration-color: #008080; font-weight: bold\">1</span> <span style=\"color: #008080; text-decoration-color: #008080; font-weight: bold\">0</span> <span style=\"color: #008080; text-decoration-color: #008080; font-weight: bold\">1</span> <span style=\"color: #008080; text-decoration-color: #008080; font-weight: bold\">0</span> <span style=\"color: #008080; text-decoration-color: #008080; font-weight: bold\">0</span> <span style=\"color: #008080; text-decoration-color: #008080; font-weight: bold\">0</span> <span style=\"color: #008080; text-decoration-color: #008080; font-weight: bold\">1</span> <span style=\"color: #008080; text-decoration-color: #008080; font-weight: bold\">1</span> <span style=\"color: #008080; text-decoration-color: #008080; font-weight: bold\">1</span> <span style=\"color: #008080; text-decoration-color: #008080; font-weight: bold\">0</span> <span style=\"color: #008080; text-decoration-color: #008080; font-weight: bold\">0</span>\n",
       " <span style=\"color: #008080; text-decoration-color: #008080; font-weight: bold\">0</span> <span style=\"color: #008080; text-decoration-color: #008080; font-weight: bold\">0</span> <span style=\"color: #008080; text-decoration-color: #008080; font-weight: bold\">0</span> <span style=\"color: #008080; text-decoration-color: #008080; font-weight: bold\">0</span> <span style=\"color: #008080; text-decoration-color: #008080; font-weight: bold\">0</span> <span style=\"color: #008080; text-decoration-color: #008080; font-weight: bold\">0</span> <span style=\"color: #008080; text-decoration-color: #008080; font-weight: bold\">0</span> <span style=\"color: #008080; text-decoration-color: #008080; font-weight: bold\">0</span> <span style=\"color: #008080; text-decoration-color: #008080; font-weight: bold\">0</span> <span style=\"color: #008080; text-decoration-color: #008080; font-weight: bold\">1</span> <span style=\"color: #008080; text-decoration-color: #008080; font-weight: bold\">0</span> <span style=\"color: #008080; text-decoration-color: #008080; font-weight: bold\">0</span> <span style=\"color: #008080; text-decoration-color: #008080; font-weight: bold\">0</span> <span style=\"color: #008080; text-decoration-color: #008080; font-weight: bold\">1</span> <span style=\"color: #008080; text-decoration-color: #008080; font-weight: bold\">0</span> <span style=\"color: #008080; text-decoration-color: #008080; font-weight: bold\">0</span> <span style=\"color: #008080; text-decoration-color: #008080; font-weight: bold\">0</span> <span style=\"color: #008080; text-decoration-color: #008080; font-weight: bold\">0</span> <span style=\"color: #008080; text-decoration-color: #008080; font-weight: bold\">0</span> <span style=\"color: #008080; text-decoration-color: #008080; font-weight: bold\">0</span> <span style=\"color: #008080; text-decoration-color: #008080; font-weight: bold\">0</span> <span style=\"color: #008080; text-decoration-color: #008080; font-weight: bold\">0</span> <span style=\"color: #008080; text-decoration-color: #008080; font-weight: bold\">0</span> <span style=\"color: #008080; text-decoration-color: #008080; font-weight: bold\">0</span> <span style=\"color: #008080; text-decoration-color: #008080; font-weight: bold\">0</span> <span style=\"color: #008080; text-decoration-color: #008080; font-weight: bold\">0</span> <span style=\"color: #008080; text-decoration-color: #008080; font-weight: bold\">0</span> <span style=\"color: #008080; text-decoration-color: #008080; font-weight: bold\">0</span> <span style=\"color: #008080; text-decoration-color: #008080; font-weight: bold\">0</span> <span style=\"color: #008080; text-decoration-color: #008080; font-weight: bold\">0</span> <span style=\"color: #008080; text-decoration-color: #008080; font-weight: bold\">0</span> <span style=\"color: #008080; text-decoration-color: #008080; font-weight: bold\">0</span> <span style=\"color: #008080; text-decoration-color: #008080; font-weight: bold\">0</span> <span style=\"color: #008080; text-decoration-color: #008080; font-weight: bold\">0</span> <span style=\"color: #008080; text-decoration-color: #008080; font-weight: bold\">0</span> <span style=\"color: #008080; text-decoration-color: #008080; font-weight: bold\">0</span> <span style=\"color: #008080; text-decoration-color: #008080; font-weight: bold\">0</span>\n",
       " <span style=\"color: #008080; text-decoration-color: #008080; font-weight: bold\">0</span> <span style=\"color: #008080; text-decoration-color: #008080; font-weight: bold\">0</span> <span style=\"color: #008080; text-decoration-color: #008080; font-weight: bold\">0</span> <span style=\"color: #008080; text-decoration-color: #008080; font-weight: bold\">0</span> <span style=\"color: #008080; text-decoration-color: #008080; font-weight: bold\">0</span> <span style=\"color: #008080; text-decoration-color: #008080; font-weight: bold\">0</span> <span style=\"color: #008080; text-decoration-color: #008080; font-weight: bold\">1</span> <span style=\"color: #008080; text-decoration-color: #008080; font-weight: bold\">0</span> <span style=\"color: #008080; text-decoration-color: #008080; font-weight: bold\">0</span> <span style=\"color: #008080; text-decoration-color: #008080; font-weight: bold\">0</span> <span style=\"color: #008080; text-decoration-color: #008080; font-weight: bold\">0</span> <span style=\"color: #008080; text-decoration-color: #008080; font-weight: bold\">0</span> <span style=\"color: #008080; text-decoration-color: #008080; font-weight: bold\">0</span> <span style=\"color: #008080; text-decoration-color: #008080; font-weight: bold\">0</span> <span style=\"color: #008080; text-decoration-color: #008080; font-weight: bold\">0</span> <span style=\"color: #008080; text-decoration-color: #008080; font-weight: bold\">0</span> <span style=\"color: #008080; text-decoration-color: #008080; font-weight: bold\">0</span> <span style=\"color: #008080; text-decoration-color: #008080; font-weight: bold\">0</span> <span style=\"color: #008080; text-decoration-color: #008080; font-weight: bold\">1</span> <span style=\"color: #008080; text-decoration-color: #008080; font-weight: bold\">1</span> <span style=\"color: #008080; text-decoration-color: #008080; font-weight: bold\">1</span> <span style=\"color: #008080; text-decoration-color: #008080; font-weight: bold\">0</span> <span style=\"color: #008080; text-decoration-color: #008080; font-weight: bold\">0</span> <span style=\"color: #008080; text-decoration-color: #008080; font-weight: bold\">0</span> <span style=\"color: #008080; text-decoration-color: #008080; font-weight: bold\">1</span> <span style=\"color: #008080; text-decoration-color: #008080; font-weight: bold\">1</span> <span style=\"color: #008080; text-decoration-color: #008080; font-weight: bold\">1</span> <span style=\"color: #008080; text-decoration-color: #008080; font-weight: bold\">1</span> <span style=\"color: #008080; text-decoration-color: #008080; font-weight: bold\">1</span> <span style=\"color: #008080; text-decoration-color: #008080; font-weight: bold\">1</span> <span style=\"color: #008080; text-decoration-color: #008080; font-weight: bold\">1</span> <span style=\"color: #008080; text-decoration-color: #008080; font-weight: bold\">1</span> <span style=\"color: #008080; text-decoration-color: #008080; font-weight: bold\">1</span> <span style=\"color: #008080; text-decoration-color: #008080; font-weight: bold\">1</span> <span style=\"color: #008080; text-decoration-color: #008080; font-weight: bold\">1</span> <span style=\"color: #008080; text-decoration-color: #008080; font-weight: bold\">1</span> <span style=\"color: #008080; text-decoration-color: #008080; font-weight: bold\">1</span>\n",
       " <span style=\"color: #008080; text-decoration-color: #008080; font-weight: bold\">1</span> <span style=\"color: #008080; text-decoration-color: #008080; font-weight: bold\">1</span> <span style=\"color: #008080; text-decoration-color: #008080; font-weight: bold\">1</span> <span style=\"color: #008080; text-decoration-color: #008080; font-weight: bold\">1</span> <span style=\"color: #008080; text-decoration-color: #008080; font-weight: bold\">1</span> <span style=\"color: #008080; text-decoration-color: #008080; font-weight: bold\">1</span> <span style=\"color: #008080; text-decoration-color: #008080; font-weight: bold\">1</span> <span style=\"color: #008080; text-decoration-color: #008080; font-weight: bold\">1</span> <span style=\"color: #008080; text-decoration-color: #008080; font-weight: bold\">1</span> <span style=\"color: #008080; text-decoration-color: #008080; font-weight: bold\">1</span> <span style=\"color: #008080; text-decoration-color: #008080; font-weight: bold\">1</span> <span style=\"color: #008080; text-decoration-color: #008080; font-weight: bold\">1</span> <span style=\"color: #008080; text-decoration-color: #008080; font-weight: bold\">1</span> <span style=\"color: #008080; text-decoration-color: #008080; font-weight: bold\">1</span> <span style=\"color: #008080; text-decoration-color: #008080; font-weight: bold\">1</span> <span style=\"color: #008080; text-decoration-color: #008080; font-weight: bold\">1</span> <span style=\"color: #008080; text-decoration-color: #008080; font-weight: bold\">1</span> <span style=\"color: #008080; text-decoration-color: #008080; font-weight: bold\">1</span> <span style=\"color: #008080; text-decoration-color: #008080; font-weight: bold\">1</span> <span style=\"color: #008080; text-decoration-color: #008080; font-weight: bold\">1</span> <span style=\"color: #008080; text-decoration-color: #008080; font-weight: bold\">1</span> <span style=\"color: #008080; text-decoration-color: #008080; font-weight: bold\">1</span> <span style=\"color: #008080; text-decoration-color: #008080; font-weight: bold\">1</span> <span style=\"color: #008080; text-decoration-color: #008080; font-weight: bold\">1</span> <span style=\"color: #008080; text-decoration-color: #008080; font-weight: bold\">1</span> <span style=\"color: #008080; text-decoration-color: #008080; font-weight: bold\">1</span> <span style=\"color: #008080; text-decoration-color: #008080; font-weight: bold\">1</span> <span style=\"color: #008080; text-decoration-color: #008080; font-weight: bold\">0</span> <span style=\"color: #008080; text-decoration-color: #008080; font-weight: bold\">1</span> <span style=\"color: #008080; text-decoration-color: #008080; font-weight: bold\">1</span> <span style=\"color: #008080; text-decoration-color: #008080; font-weight: bold\">1</span> <span style=\"color: #008080; text-decoration-color: #008080; font-weight: bold\">1</span> <span style=\"color: #008080; text-decoration-color: #008080; font-weight: bold\">1</span> <span style=\"color: #008080; text-decoration-color: #008080; font-weight: bold\">1</span> <span style=\"color: #008080; text-decoration-color: #008080; font-weight: bold\">0</span> <span style=\"color: #008080; text-decoration-color: #008080; font-weight: bold\">1</span> <span style=\"color: #008080; text-decoration-color: #008080; font-weight: bold\">1</span>\n",
       " <span style=\"color: #008080; text-decoration-color: #008080; font-weight: bold\">0</span> <span style=\"color: #008080; text-decoration-color: #008080; font-weight: bold\">0</span> <span style=\"color: #008080; text-decoration-color: #008080; font-weight: bold\">1</span> <span style=\"color: #008080; text-decoration-color: #008080; font-weight: bold\">1</span> <span style=\"color: #008080; text-decoration-color: #008080; font-weight: bold\">1</span> <span style=\"color: #008080; text-decoration-color: #008080; font-weight: bold\">1</span> <span style=\"color: #008080; text-decoration-color: #008080; font-weight: bold\">1</span> <span style=\"color: #008080; text-decoration-color: #008080; font-weight: bold\">1</span> <span style=\"color: #008080; text-decoration-color: #008080; font-weight: bold\">1</span> <span style=\"color: #008080; text-decoration-color: #008080; font-weight: bold\">1</span> <span style=\"color: #008080; text-decoration-color: #008080; font-weight: bold\">1</span> <span style=\"color: #008080; text-decoration-color: #008080; font-weight: bold\">1</span> <span style=\"color: #008080; text-decoration-color: #008080; font-weight: bold\">1</span> <span style=\"color: #008080; text-decoration-color: #008080; font-weight: bold\">1</span> <span style=\"color: #008080; text-decoration-color: #008080; font-weight: bold\">0</span> <span style=\"color: #008080; text-decoration-color: #008080; font-weight: bold\">1</span> <span style=\"color: #008080; text-decoration-color: #008080; font-weight: bold\">0</span> <span style=\"color: #008080; text-decoration-color: #008080; font-weight: bold\">1</span> <span style=\"color: #008080; text-decoration-color: #008080; font-weight: bold\">1</span> <span style=\"color: #008080; text-decoration-color: #008080; font-weight: bold\">1</span> <span style=\"color: #008080; text-decoration-color: #008080; font-weight: bold\">1</span> <span style=\"color: #008080; text-decoration-color: #008080; font-weight: bold\">1</span> <span style=\"color: #008080; text-decoration-color: #008080; font-weight: bold\">1</span> <span style=\"color: #008080; text-decoration-color: #008080; font-weight: bold\">1</span> <span style=\"color: #008080; text-decoration-color: #008080; font-weight: bold\">1</span> <span style=\"color: #008080; text-decoration-color: #008080; font-weight: bold\">0</span> <span style=\"color: #008080; text-decoration-color: #008080; font-weight: bold\">1</span> <span style=\"color: #008080; text-decoration-color: #008080; font-weight: bold\">1</span> <span style=\"color: #008080; text-decoration-color: #008080; font-weight: bold\">1</span> <span style=\"color: #008080; text-decoration-color: #008080; font-weight: bold\">0</span> <span style=\"color: #008080; text-decoration-color: #008080; font-weight: bold\">1</span> <span style=\"color: #008080; text-decoration-color: #008080; font-weight: bold\">1</span> <span style=\"color: #008080; text-decoration-color: #008080; font-weight: bold\">1</span> <span style=\"color: #008080; text-decoration-color: #008080; font-weight: bold\">1</span> <span style=\"color: #008080; text-decoration-color: #008080; font-weight: bold\">1</span> <span style=\"color: #008080; text-decoration-color: #008080; font-weight: bold\">1</span> <span style=\"color: #008080; text-decoration-color: #008080; font-weight: bold\">1</span>\n",
       " <span style=\"color: #008080; text-decoration-color: #008080; font-weight: bold\">1</span> <span style=\"color: #008080; text-decoration-color: #008080; font-weight: bold\">1</span> <span style=\"color: #008080; text-decoration-color: #008080; font-weight: bold\">1</span> <span style=\"color: #008080; text-decoration-color: #008080; font-weight: bold\">1</span> <span style=\"color: #008080; text-decoration-color: #008080; font-weight: bold\">1</span> <span style=\"color: #008080; text-decoration-color: #008080; font-weight: bold\">1</span> <span style=\"color: #008080; text-decoration-color: #008080; font-weight: bold\">1</span> <span style=\"color: #008080; text-decoration-color: #008080; font-weight: bold\">1</span> <span style=\"color: #008080; text-decoration-color: #008080; font-weight: bold\">1</span> <span style=\"color: #008080; text-decoration-color: #008080; font-weight: bold\">1</span> <span style=\"color: #008080; text-decoration-color: #008080; font-weight: bold\">1</span> <span style=\"color: #008080; text-decoration-color: #008080; font-weight: bold\">1</span> <span style=\"color: #008080; text-decoration-color: #008080; font-weight: bold\">1</span> <span style=\"color: #008080; text-decoration-color: #008080; font-weight: bold\">1</span> <span style=\"color: #008080; text-decoration-color: #008080; font-weight: bold\">1</span> <span style=\"color: #008080; text-decoration-color: #008080; font-weight: bold\">1</span> <span style=\"color: #008080; text-decoration-color: #008080; font-weight: bold\">1</span> <span style=\"color: #008080; text-decoration-color: #008080; font-weight: bold\">1</span> <span style=\"color: #008080; text-decoration-color: #008080; font-weight: bold\">1</span> <span style=\"color: #008080; text-decoration-color: #008080; font-weight: bold\">1</span> <span style=\"color: #008080; text-decoration-color: #008080; font-weight: bold\">1</span> <span style=\"color: #008080; text-decoration-color: #008080; font-weight: bold\">1</span> <span style=\"color: #008080; text-decoration-color: #008080; font-weight: bold\">1</span><span style=\"font-weight: bold\">]</span>\n",
       "</pre>\n"
      ],
      "text/plain": [
       "\u001b[1m[\u001b[0m\u001b[1;36m1\u001b[0m \u001b[1;36m1\u001b[0m \u001b[1;36m0\u001b[0m \u001b[1;36m0\u001b[0m \u001b[1;36m0\u001b[0m \u001b[1;36m1\u001b[0m \u001b[1;36m0\u001b[0m \u001b[1;36m1\u001b[0m \u001b[1;36m0\u001b[0m \u001b[1;36m0\u001b[0m \u001b[1;36m0\u001b[0m \u001b[1;36m0\u001b[0m \u001b[1;36m1\u001b[0m \u001b[1;36m0\u001b[0m \u001b[1;36m0\u001b[0m \u001b[1;36m0\u001b[0m \u001b[1;36m0\u001b[0m \u001b[1;36m1\u001b[0m \u001b[1;36m0\u001b[0m \u001b[1;36m1\u001b[0m \u001b[1;36m1\u001b[0m \u001b[1;36m0\u001b[0m \u001b[1;36m0\u001b[0m \u001b[1;36m0\u001b[0m \u001b[1;36m0\u001b[0m \u001b[1;36m0\u001b[0m \u001b[1;36m1\u001b[0m \u001b[1;36m0\u001b[0m \u001b[1;36m1\u001b[0m \u001b[1;36m0\u001b[0m \u001b[1;36m0\u001b[0m \u001b[1;36m0\u001b[0m \u001b[1;36m1\u001b[0m \u001b[1;36m1\u001b[0m \u001b[1;36m1\u001b[0m \u001b[1;36m0\u001b[0m \u001b[1;36m0\u001b[0m\n",
       " \u001b[1;36m0\u001b[0m \u001b[1;36m0\u001b[0m \u001b[1;36m0\u001b[0m \u001b[1;36m0\u001b[0m \u001b[1;36m0\u001b[0m \u001b[1;36m0\u001b[0m \u001b[1;36m0\u001b[0m \u001b[1;36m0\u001b[0m \u001b[1;36m0\u001b[0m \u001b[1;36m1\u001b[0m \u001b[1;36m0\u001b[0m \u001b[1;36m0\u001b[0m \u001b[1;36m0\u001b[0m \u001b[1;36m1\u001b[0m \u001b[1;36m0\u001b[0m \u001b[1;36m0\u001b[0m \u001b[1;36m0\u001b[0m \u001b[1;36m0\u001b[0m \u001b[1;36m0\u001b[0m \u001b[1;36m0\u001b[0m \u001b[1;36m0\u001b[0m \u001b[1;36m0\u001b[0m \u001b[1;36m0\u001b[0m \u001b[1;36m0\u001b[0m \u001b[1;36m0\u001b[0m \u001b[1;36m0\u001b[0m \u001b[1;36m0\u001b[0m \u001b[1;36m0\u001b[0m \u001b[1;36m0\u001b[0m \u001b[1;36m0\u001b[0m \u001b[1;36m0\u001b[0m \u001b[1;36m0\u001b[0m \u001b[1;36m0\u001b[0m \u001b[1;36m0\u001b[0m \u001b[1;36m0\u001b[0m \u001b[1;36m0\u001b[0m \u001b[1;36m0\u001b[0m\n",
       " \u001b[1;36m0\u001b[0m \u001b[1;36m0\u001b[0m \u001b[1;36m0\u001b[0m \u001b[1;36m0\u001b[0m \u001b[1;36m0\u001b[0m \u001b[1;36m0\u001b[0m \u001b[1;36m1\u001b[0m \u001b[1;36m0\u001b[0m \u001b[1;36m0\u001b[0m \u001b[1;36m0\u001b[0m \u001b[1;36m0\u001b[0m \u001b[1;36m0\u001b[0m \u001b[1;36m0\u001b[0m \u001b[1;36m0\u001b[0m \u001b[1;36m0\u001b[0m \u001b[1;36m0\u001b[0m \u001b[1;36m0\u001b[0m \u001b[1;36m0\u001b[0m \u001b[1;36m1\u001b[0m \u001b[1;36m1\u001b[0m \u001b[1;36m1\u001b[0m \u001b[1;36m0\u001b[0m \u001b[1;36m0\u001b[0m \u001b[1;36m0\u001b[0m \u001b[1;36m1\u001b[0m \u001b[1;36m1\u001b[0m \u001b[1;36m1\u001b[0m \u001b[1;36m1\u001b[0m \u001b[1;36m1\u001b[0m \u001b[1;36m1\u001b[0m \u001b[1;36m1\u001b[0m \u001b[1;36m1\u001b[0m \u001b[1;36m1\u001b[0m \u001b[1;36m1\u001b[0m \u001b[1;36m1\u001b[0m \u001b[1;36m1\u001b[0m \u001b[1;36m1\u001b[0m\n",
       " \u001b[1;36m1\u001b[0m \u001b[1;36m1\u001b[0m \u001b[1;36m1\u001b[0m \u001b[1;36m1\u001b[0m \u001b[1;36m1\u001b[0m \u001b[1;36m1\u001b[0m \u001b[1;36m1\u001b[0m \u001b[1;36m1\u001b[0m \u001b[1;36m1\u001b[0m \u001b[1;36m1\u001b[0m \u001b[1;36m1\u001b[0m \u001b[1;36m1\u001b[0m \u001b[1;36m1\u001b[0m \u001b[1;36m1\u001b[0m \u001b[1;36m1\u001b[0m \u001b[1;36m1\u001b[0m \u001b[1;36m1\u001b[0m \u001b[1;36m1\u001b[0m \u001b[1;36m1\u001b[0m \u001b[1;36m1\u001b[0m \u001b[1;36m1\u001b[0m \u001b[1;36m1\u001b[0m \u001b[1;36m1\u001b[0m \u001b[1;36m1\u001b[0m \u001b[1;36m1\u001b[0m \u001b[1;36m1\u001b[0m \u001b[1;36m1\u001b[0m \u001b[1;36m0\u001b[0m \u001b[1;36m1\u001b[0m \u001b[1;36m1\u001b[0m \u001b[1;36m1\u001b[0m \u001b[1;36m1\u001b[0m \u001b[1;36m1\u001b[0m \u001b[1;36m1\u001b[0m \u001b[1;36m0\u001b[0m \u001b[1;36m1\u001b[0m \u001b[1;36m1\u001b[0m\n",
       " \u001b[1;36m0\u001b[0m \u001b[1;36m0\u001b[0m \u001b[1;36m1\u001b[0m \u001b[1;36m1\u001b[0m \u001b[1;36m1\u001b[0m \u001b[1;36m1\u001b[0m \u001b[1;36m1\u001b[0m \u001b[1;36m1\u001b[0m \u001b[1;36m1\u001b[0m \u001b[1;36m1\u001b[0m \u001b[1;36m1\u001b[0m \u001b[1;36m1\u001b[0m \u001b[1;36m1\u001b[0m \u001b[1;36m1\u001b[0m \u001b[1;36m0\u001b[0m \u001b[1;36m1\u001b[0m \u001b[1;36m0\u001b[0m \u001b[1;36m1\u001b[0m \u001b[1;36m1\u001b[0m \u001b[1;36m1\u001b[0m \u001b[1;36m1\u001b[0m \u001b[1;36m1\u001b[0m \u001b[1;36m1\u001b[0m \u001b[1;36m1\u001b[0m \u001b[1;36m1\u001b[0m \u001b[1;36m0\u001b[0m \u001b[1;36m1\u001b[0m \u001b[1;36m1\u001b[0m \u001b[1;36m1\u001b[0m \u001b[1;36m0\u001b[0m \u001b[1;36m1\u001b[0m \u001b[1;36m1\u001b[0m \u001b[1;36m1\u001b[0m \u001b[1;36m1\u001b[0m \u001b[1;36m1\u001b[0m \u001b[1;36m1\u001b[0m \u001b[1;36m1\u001b[0m\n",
       " \u001b[1;36m1\u001b[0m \u001b[1;36m1\u001b[0m \u001b[1;36m1\u001b[0m \u001b[1;36m1\u001b[0m \u001b[1;36m1\u001b[0m \u001b[1;36m1\u001b[0m \u001b[1;36m1\u001b[0m \u001b[1;36m1\u001b[0m \u001b[1;36m1\u001b[0m \u001b[1;36m1\u001b[0m \u001b[1;36m1\u001b[0m \u001b[1;36m1\u001b[0m \u001b[1;36m1\u001b[0m \u001b[1;36m1\u001b[0m \u001b[1;36m1\u001b[0m \u001b[1;36m1\u001b[0m \u001b[1;36m1\u001b[0m \u001b[1;36m1\u001b[0m \u001b[1;36m1\u001b[0m \u001b[1;36m1\u001b[0m \u001b[1;36m1\u001b[0m \u001b[1;36m1\u001b[0m \u001b[1;36m1\u001b[0m\u001b[1m]\u001b[0m\n"
      ]
     },
     "metadata": {},
     "output_type": "display_data"
    }
   ],
   "source": [
    "from sklearn.neighbors import KNeighborsClassifier\n",
    "# definición del modelo\n",
    "ml_knn = KNeighborsClassifier()\n",
    "\n",
    "# entrenamiento del modelo\n",
    "ml_knn.fit(inputs,targets)\n",
    "#Uso del modelo\n",
    "ml_knn_predictions = ml_knn.predict(inputs)\n",
    "print(ml_knn_predictions)"
   ]
  },
  {
   "cell_type": "markdown",
   "metadata": {},
   "source": [
    "Una vez entrenado, se ha usado el modelo resultante para predecir las mismas entradas. Con el resultado que se ve a continuación: "
   ]
  },
  {
   "cell_type": "code",
   "execution_count": 4,
   "metadata": {
    "tags": []
   },
   "outputs": [
    {
     "data": {
      "text/html": [
       "<pre style=\"white-space:pre;overflow-x:auto;line-height:normal;font-family:Menlo,'DejaVu Sans Mono',consolas,'Courier New',monospace\">Accuracy del modelo: <span style=\"color: #008080; text-decoration-color: #008080; font-weight: bold\">86.54</span>% \n",
       "</pre>\n"
      ],
      "text/plain": [
       "Accuracy del modelo: \u001b[1;36m86.54\u001b[0m% \n"
      ]
     },
     "metadata": {},
     "output_type": "display_data"
    }
   ],
   "source": [
    "from sklearn import metrics\n",
    "print(f\"Accuracy del modelo: {metrics.accuracy_score(targets,ml_knn_predictions)*100:.2f}% \")"
   ]
  },
  {
   "cell_type": "markdown",
   "metadata": {},
   "source": [
    "**PREGUNTA: ¿Podemos saber que el modelo lo ha hecho bien?**\n",
    "Realmente no, al no disponer de una parte de los datos con las que validar el funcionamiento del modelo que no se hayan usado para ajustar la verdad que no sabemmos como de generales son las relaciones. Por ello, uno de los primeros pasos y que ya se aplico en la unidad Introductoria es la división de los datos en dos sub conjuntos, uno para entrenar el modelo,  y otro para validarlo. Este último nos permitirá evaluar la capacidad de generalización del modelo al ver su rendimiento con datos desconocidos. De ese punto vendrá nuestra primera mejora."
   ]
  },
  {
   "cell_type": "markdown",
   "metadata": {},
   "source": [
    "## Dividir los datos en training y test\n",
    "\n",
    "Una priemra aproximación que es netamente mejor consiste en dividir nuestro conjunto de datos inicial en dos conjuntos, uno se usará para entrenar el modelo y otro se dejará fuera de todo el proceso (desconocido para el modelo). Este procedimeinto conocido por su voz inglesa, *hold-out*, permite contar con un conjunto de datos que no ha sido visto por el modelo para comprobar la capacidad de generalización del mismo usando datos desconocidos.\n",
    "Para realizar dicha división, `scikit-learn` cuanta con un método que se ha empleado en la unidad anteirior como es `train_test_split`, el cual se puede aplicar de la siguiente manera:"
   ]
  },
  {
   "cell_type": "code",
   "execution_count": 5,
   "metadata": {
    "tags": []
   },
   "outputs": [],
   "source": [
    "from sklearn.model_selection import train_test_split\n",
    "\n",
    "inputs_train, inputs_test, targets_train, targets_test = train_test_split(inputs,targets,test_size=0.2,stratify=targets,random_state=42)"
   ]
  },
  {
   "cell_type": "markdown",
   "metadata": {},
   "source": [
    "**PREGUNTA: ¿para qué sirve el parámetro stratify? y ¿el parámetro random_state?**\n",
    "\n",
    "Este es el típico parámetro que se ve mejor con un ejemplo:"
   ]
  },
  {
   "cell_type": "code",
   "execution_count": 6,
   "metadata": {
    "tags": []
   },
   "outputs": [
    {
     "data": {
      "text/html": [
       "<pre style=\"white-space:pre;overflow-x:auto;line-height:normal;font-family:Menlo,'DejaVu Sans Mono',consolas,'Courier New',monospace\">Si los datos globales son <span style=\"font-weight: bold\">(</span><span style=\"color: #008080; text-decoration-color: #008080; font-weight: bold\">208</span>, <span style=\"color: #008080; text-decoration-color: #008080; font-weight: bold\">60</span><span style=\"font-weight: bold\">)</span> es decir <span style=\"color: #008080; text-decoration-color: #008080; font-weight: bold\">208</span> patrones con <span style=\"color: #008080; text-decoration-color: #008080; font-weight: bold\">60</span> variables.\n",
       "</pre>\n"
      ],
      "text/plain": [
       "Si los datos globales son \u001b[1m(\u001b[0m\u001b[1;36m208\u001b[0m, \u001b[1;36m60\u001b[0m\u001b[1m)\u001b[0m es decir \u001b[1;36m208\u001b[0m patrones con \u001b[1;36m60\u001b[0m variables.\n"
      ]
     },
     "metadata": {},
     "output_type": "display_data"
    },
    {
     "data": {
      "text/html": [
       "<pre style=\"white-space:pre;overflow-x:auto;line-height:normal;font-family:Menlo,'DejaVu Sans Mono',consolas,'Courier New',monospace\">El <span style=\"color: #008080; text-decoration-color: #008080; font-weight: bold\">80</span>% de los patrones es <span style=\"color: #008080; text-decoration-color: #008080; font-weight: bold\">166.4</span>, que se corresponde con el número de patrones de entranamiento redondeado <span style=\"font-weight: bold\">(</span><span style=\"color: #008080; text-decoration-color: #008080; font-weight: bold\">166</span>, <span style=\"color: #008080; text-decoration-color: #008080; font-weight: bold\">60</span><span style=\"font-weight: bold\">)</span>\n",
       "</pre>\n"
      ],
      "text/plain": [
       "El \u001b[1;36m80\u001b[0m% de los patrones es \u001b[1;36m166.4\u001b[0m, que se corresponde con el número de patrones de entranamiento redondeado \u001b[1m(\u001b[0m\u001b[1;36m166\u001b[0m, \u001b[1;36m60\u001b[0m\u001b[1m)\u001b[0m\n"
      ]
     },
     "metadata": {},
     "output_type": "display_data"
    },
    {
     "data": {
      "text/html": [
       "<pre style=\"white-space:pre;overflow-x:auto;line-height:normal;font-family:Menlo,'DejaVu Sans Mono',consolas,'Courier New',monospace\">Mientras el <span style=\"color: #008080; text-decoration-color: #008080; font-weight: bold\">20</span>% restante de los patrones es <span style=\"color: #008080; text-decoration-color: #008080; font-weight: bold\">41.6</span>, que se corresponde con el número de patrones de test <span style=\"font-weight: bold\">(</span><span style=\"color: #008080; text-decoration-color: #008080; font-weight: bold\">42</span>, <span style=\"color: #008080; text-decoration-color: #008080; font-weight: bold\">60</span><span style=\"font-weight: bold\">)</span>\n",
       "</pre>\n"
      ],
      "text/plain": [
       "Mientras el \u001b[1;36m20\u001b[0m% restante de los patrones es \u001b[1;36m41.6\u001b[0m, que se corresponde con el número de patrones de test \u001b[1m(\u001b[0m\u001b[1;36m42\u001b[0m, \u001b[1;36m60\u001b[0m\u001b[1m)\u001b[0m\n"
      ]
     },
     "metadata": {},
     "output_type": "display_data"
    }
   ],
   "source": [
    "print(f\"Si los datos globales son {inputs.shape} es decir {inputs.shape[0]} patrones con {inputs.shape[1]} variables.\")\n",
    "print(f\"El 80% de los patrones es {0.8*inputs.shape[0]}, que se corresponde con el número de patrones de entranamiento redondeado {inputs_train.shape}\")\n",
    "print(f\"Mientras el 20% restante de los patrones es {0.2*inputs.shape[0]}, que se corresponde con el número de patrones de test {inputs_test.shape}\")"
   ]
  },
  {
   "cell_type": "markdown",
   "metadata": {},
   "source": [
    "Sin embargo, como son esos patrones, tenemos dos clases diferentes en el *dataset*, Mina y Roca, que no están en la misma proporción. El parámetro stratify nos permite hacer que los dos conjuntos tengan aproximadamente las mismas proporciones. Veamos:"
   ]
  },
  {
   "cell_type": "code",
   "execution_count": 7,
   "metadata": {
    "tags": []
   },
   "outputs": [
    {
     "data": {
      "text/html": [
       "<pre style=\"white-space:pre;overflow-x:auto;line-height:normal;font-family:Menlo,'DejaVu Sans Mono',consolas,'Courier New',monospace\">Conteo global: <span style=\"font-weight: bold\">(</span><span style=\"color: #800080; text-decoration-color: #800080; font-weight: bold\">array</span><span style=\"font-weight: bold\">([</span><span style=\"color: #008080; text-decoration-color: #008080; font-weight: bold\">0</span>, <span style=\"color: #008080; text-decoration-color: #008080; font-weight: bold\">1</span><span style=\"font-weight: bold\">])</span>, <span style=\"color: #800080; text-decoration-color: #800080; font-weight: bold\">array</span><span style=\"font-weight: bold\">([</span> <span style=\"color: #008080; text-decoration-color: #008080; font-weight: bold\">97</span>, <span style=\"color: #008080; text-decoration-color: #008080; font-weight: bold\">111</span><span style=\"font-weight: bold\">]))</span>\n",
       "</pre>\n"
      ],
      "text/plain": [
       "Conteo global: \u001b[1m(\u001b[0m\u001b[1;35marray\u001b[0m\u001b[1m(\u001b[0m\u001b[1m[\u001b[0m\u001b[1;36m0\u001b[0m, \u001b[1;36m1\u001b[0m\u001b[1m]\u001b[0m\u001b[1m)\u001b[0m, \u001b[1;35marray\u001b[0m\u001b[1m(\u001b[0m\u001b[1m[\u001b[0m \u001b[1;36m97\u001b[0m, \u001b[1;36m111\u001b[0m\u001b[1m]\u001b[0m\u001b[1m)\u001b[0m\u001b[1m)\u001b[0m\n"
      ]
     },
     "metadata": {},
     "output_type": "display_data"
    },
    {
     "data": {
      "text/html": [
       "<pre style=\"white-space:pre;overflow-x:auto;line-height:normal;font-family:Menlo,'DejaVu Sans Mono',consolas,'Courier New',monospace\">Conteo entrenamiento: <span style=\"font-weight: bold\">(</span><span style=\"color: #800080; text-decoration-color: #800080; font-weight: bold\">array</span><span style=\"font-weight: bold\">([</span><span style=\"color: #008080; text-decoration-color: #008080; font-weight: bold\">0</span>, <span style=\"color: #008080; text-decoration-color: #008080; font-weight: bold\">1</span><span style=\"font-weight: bold\">])</span>, <span style=\"color: #800080; text-decoration-color: #800080; font-weight: bold\">array</span><span style=\"font-weight: bold\">([</span><span style=\"color: #008080; text-decoration-color: #008080; font-weight: bold\">77</span>, <span style=\"color: #008080; text-decoration-color: #008080; font-weight: bold\">89</span><span style=\"font-weight: bold\">]))</span>\n",
       "</pre>\n"
      ],
      "text/plain": [
       "Conteo entrenamiento: \u001b[1m(\u001b[0m\u001b[1;35marray\u001b[0m\u001b[1m(\u001b[0m\u001b[1m[\u001b[0m\u001b[1;36m0\u001b[0m, \u001b[1;36m1\u001b[0m\u001b[1m]\u001b[0m\u001b[1m)\u001b[0m, \u001b[1;35marray\u001b[0m\u001b[1m(\u001b[0m\u001b[1m[\u001b[0m\u001b[1;36m77\u001b[0m, \u001b[1;36m89\u001b[0m\u001b[1m]\u001b[0m\u001b[1m)\u001b[0m\u001b[1m)\u001b[0m\n"
      ]
     },
     "metadata": {},
     "output_type": "display_data"
    },
    {
     "data": {
      "text/html": [
       "<pre style=\"white-space:pre;overflow-x:auto;line-height:normal;font-family:Menlo,'DejaVu Sans Mono',consolas,'Courier New',monospace\">Conteo test: <span style=\"font-weight: bold\">(</span><span style=\"color: #800080; text-decoration-color: #800080; font-weight: bold\">array</span><span style=\"font-weight: bold\">([</span><span style=\"color: #008080; text-decoration-color: #008080; font-weight: bold\">0</span>, <span style=\"color: #008080; text-decoration-color: #008080; font-weight: bold\">1</span><span style=\"font-weight: bold\">])</span>, <span style=\"color: #800080; text-decoration-color: #800080; font-weight: bold\">array</span><span style=\"font-weight: bold\">([</span><span style=\"color: #008080; text-decoration-color: #008080; font-weight: bold\">20</span>, <span style=\"color: #008080; text-decoration-color: #008080; font-weight: bold\">22</span><span style=\"font-weight: bold\">]))</span>\n",
       "</pre>\n"
      ],
      "text/plain": [
       "Conteo test: \u001b[1m(\u001b[0m\u001b[1;35marray\u001b[0m\u001b[1m(\u001b[0m\u001b[1m[\u001b[0m\u001b[1;36m0\u001b[0m, \u001b[1;36m1\u001b[0m\u001b[1m]\u001b[0m\u001b[1m)\u001b[0m, \u001b[1;35marray\u001b[0m\u001b[1m(\u001b[0m\u001b[1m[\u001b[0m\u001b[1;36m20\u001b[0m, \u001b[1;36m22\u001b[0m\u001b[1m]\u001b[0m\u001b[1m)\u001b[0m\u001b[1m)\u001b[0m\n"
      ]
     },
     "metadata": {},
     "output_type": "display_data"
    }
   ],
   "source": [
    "print(f\"Conteo global: {np.unique(targets,return_counts=True)}\")\n",
    "print(f\"Conteo entrenamiento: {np.unique(targets_train,return_counts=True)}\")\n",
    "print(f\"Conteo test: {np.unique(targets_test,return_counts=True)}\")"
   ]
  },
  {
   "cell_type": "code",
   "execution_count": 8,
   "metadata": {
    "tags": []
   },
   "outputs": [
    {
     "data": {
      "text/plain": [
       "(array([0, 1]), array([16, 26]))"
      ]
     },
     "execution_count": 8,
     "metadata": {},
     "output_type": "execute_result"
    }
   ],
   "source": [
    "from sklearn.model_selection import train_test_split\n",
    "\n",
    "inputs_train, inputs_test, targets_train, targets_test = train_test_split(inputs,targets,test_size=0.2)\n",
    "np.unique(targets_test,return_counts=True)"
   ]
  },
  {
   "cell_type": "markdown",
   "metadata": {},
   "source": [
    "Lo normal es que al no garantizar las salidas proporcionales al conjunto de entrada el entrenamiento se desvirtue ya que el conjunto de entranamiento puede que no este representando la proporción real que posteriormente el modelo encontraría en una hipotética puesta en producción. "
   ]
  },
  {
   "cell_type": "markdown",
   "metadata": {},
   "source": [
    "**PREGUNTA: ¿cuál es el proceso real que ha hecho la función `train_test_split`?. Es decir, si os dijese que hay que implementarlo, ¿qué tendriamos que hacer?**\n",
    "\n",
    "Vamos a compara el resultdo de la versión implementada por `sckit-learn` y una propia. "
   ]
  },
  {
   "cell_type": "markdown",
   "metadata": {},
   "source": [
    "### ¿Qué estamos haciendo realmente?\n",
    "Implementemos nuestra función de split:"
   ]
  },
  {
   "cell_type": "code",
   "execution_count": 9,
   "metadata": {
    "tags": []
   },
   "outputs": [],
   "source": [
    "import numpy as np\n",
    "import pandas as pd\n",
    "\n",
    "def own_split_train_test(inputs,target,ratio):\n",
    "    indices = np.random.permutation(len(inputs))\n",
    "    test_set_size = round(int(len(inputs)*ratio))\n",
    "    indices_test = indices[:test_set_size]\n",
    "    indices_train = indices[test_set_size:]\n",
    "    return inputs[indices_train], inputs[indices_test], targets[indices_train], targets[indices_test]"
   ]
  },
  {
   "cell_type": "markdown",
   "metadata": {},
   "source": [
    "Ahora procederemos a dividir los datos con nuestra función recien definida."
   ]
  },
  {
   "cell_type": "code",
   "execution_count": 10,
   "metadata": {
    "tags": []
   },
   "outputs": [
    {
     "data": {
      "text/html": [
       "<pre style=\"white-space:pre;overflow-x:auto;line-height:normal;font-family:Menlo,'DejaVu Sans Mono',consolas,'Courier New',monospace\"><span style=\"font-weight: bold\">(</span><span style=\"color: #008080; text-decoration-color: #008080; font-weight: bold\">167</span>, <span style=\"color: #008080; text-decoration-color: #008080; font-weight: bold\">60</span><span style=\"font-weight: bold\">)</span> -&gt; <span style=\"font-weight: bold\">(</span><span style=\"color: #008080; text-decoration-color: #008080; font-weight: bold\">167</span>,<span style=\"font-weight: bold\">)</span>\n",
       "</pre>\n"
      ],
      "text/plain": [
       "\u001b[1m(\u001b[0m\u001b[1;36m167\u001b[0m, \u001b[1;36m60\u001b[0m\u001b[1m)\u001b[0m -> \u001b[1m(\u001b[0m\u001b[1;36m167\u001b[0m,\u001b[1m)\u001b[0m\n"
      ]
     },
     "metadata": {},
     "output_type": "display_data"
    },
    {
     "data": {
      "text/html": [
       "<pre style=\"white-space:pre;overflow-x:auto;line-height:normal;font-family:Menlo,'DejaVu Sans Mono',consolas,'Courier New',monospace\"><span style=\"font-weight: bold\">(</span><span style=\"color: #008080; text-decoration-color: #008080; font-weight: bold\">41</span>, <span style=\"color: #008080; text-decoration-color: #008080; font-weight: bold\">60</span><span style=\"font-weight: bold\">)</span> -&gt; <span style=\"font-weight: bold\">(</span><span style=\"color: #008080; text-decoration-color: #008080; font-weight: bold\">41</span>,<span style=\"font-weight: bold\">)</span>\n",
       "</pre>\n"
      ],
      "text/plain": [
       "\u001b[1m(\u001b[0m\u001b[1;36m41\u001b[0m, \u001b[1;36m60\u001b[0m\u001b[1m)\u001b[0m -> \u001b[1m(\u001b[0m\u001b[1;36m41\u001b[0m,\u001b[1m)\u001b[0m\n"
      ]
     },
     "metadata": {},
     "output_type": "display_data"
    }
   ],
   "source": [
    "my_inputs_train, my_inputs_test, my_targets_train, my_targets_test = own_split_train_test(inputs, targets ,ratio=0.2)\n",
    "\n",
    "print(f\"{my_inputs_train.shape} -> {my_targets_train.shape}\")\n",
    "print(f\"{my_inputs_test.shape} -> {my_targets_test.shape}\")"
   ]
  },
  {
   "cell_type": "markdown",
   "metadata": {},
   "source": [
    "Como podemos ver la distribución es la misma, bueno, salvo por una discrepacia de 1.\n",
    "\n",
    "**PREGUNTA: ¿Que puede no ser correcto del código que acabamos de ver?**\n",
    "\n",
    "Cada vez que se llama a nuestra función, devolverá un conjunto de test diferente. Este no es un comportamiento deseable para poder repetir y comparar experimentos. Si entrenamos suficientes veces (muchas) el modelo de ML podemos estar introduciendo un sesgo y ajustar demasiado los modelos a los conjuntos que nos interesan. Este es el motivo por el que la función de `scikit-learn` añade *random_state*, que por defecto tiene el valor `None`. A veces se ven opciones del tipo random_state=42 para poder repetir el experimento. El número 42 no tiene nada de especial, pero de alguna manera se ha convertido tradicionalmente en el que se usa.\n",
    "\n",
    "En este sentido puede ser de utilidad el hecho de que en un entorno interactivo e incluso en jupyter o en consola, si se desea obtener información de una función, en Python, se puede emplear las siguientes sentencias."
   ]
  },
  {
   "cell_type": "code",
   "execution_count": 11,
   "metadata": {
    "tags": []
   },
   "outputs": [
    {
     "data": {
      "text/html": [
       "<pre style=\"white-space:pre;overflow-x:auto;line-height:normal;font-family:Menlo,'DejaVu Sans Mono',consolas,'Courier New',monospace\">def <span style=\"color: #800080; text-decoration-color: #800080; font-weight: bold\">train_test_split</span><span style=\"font-weight: bold\">(</span>\n",
       "    *arrays,\n",
       "    <span style=\"color: #808000; text-decoration-color: #808000\">test_size</span>=<span style=\"color: #800080; text-decoration-color: #800080; font-style: italic\">None</span>,\n",
       "    <span style=\"color: #808000; text-decoration-color: #808000\">train_size</span>=<span style=\"color: #800080; text-decoration-color: #800080; font-style: italic\">None</span>,\n",
       "    <span style=\"color: #808000; text-decoration-color: #808000\">random_state</span>=<span style=\"color: #800080; text-decoration-color: #800080; font-style: italic\">None</span>,\n",
       "    <span style=\"color: #808000; text-decoration-color: #808000\">shuffle</span>=<span style=\"color: #00ff00; text-decoration-color: #00ff00; font-style: italic\">True</span>,\n",
       "    <span style=\"color: #808000; text-decoration-color: #808000\">stratify</span>=<span style=\"color: #800080; text-decoration-color: #800080; font-style: italic\">None</span>,\n",
       "<span style=\"font-weight: bold\">)</span>:\n",
       "    <span style=\"color: #008000; text-decoration-color: #008000\">\"\"</span>\"Split arrays or matrices into random train and test subsets.\n",
       "\n",
       "    Quick utility that wraps input validation,\n",
       "    ``<span style=\"color: #800080; text-decoration-color: #800080; font-weight: bold\">next</span><span style=\"font-weight: bold\">(</span><span style=\"color: #800080; text-decoration-color: #800080; font-weight: bold\">ShuffleSplit</span><span style=\"font-weight: bold\">()</span><span style=\"color: #800080; text-decoration-color: #800080; font-weight: bold\">.split</span><span style=\"font-weight: bold\">(</span>X, y<span style=\"font-weight: bold\">))</span>``, and application to input data\n",
       "    into a single call for splitting <span style=\"font-weight: bold\">(</span>and optionally subsampling<span style=\"font-weight: bold\">)</span> data into a\n",
       "    one-liner.\n",
       "\n",
       "    Read more in the :ref:`User Guide <span style=\"font-weight: bold\">&lt;</span><span style=\"color: #ff00ff; text-decoration-color: #ff00ff; font-weight: bold\">cross_validation</span><span style=\"color: #000000; text-decoration-color: #000000\">&gt;`.</span>\n",
       "\n",
       "<span style=\"color: #000000; text-decoration-color: #000000\">    Parameters</span>\n",
       "<span style=\"color: #000000; text-decoration-color: #000000\">    ----------</span>\n",
       "<span style=\"color: #000000; text-decoration-color: #000000\">    *arrays : sequence of indexables with same length </span><span style=\"color: #800080; text-decoration-color: #800080\">/</span><span style=\"color: #000000; text-decoration-color: #000000\"> shape</span><span style=\"color: #000000; text-decoration-color: #000000; font-weight: bold\">[</span><span style=\"color: #008080; text-decoration-color: #008080; font-weight: bold\">0</span><span style=\"color: #000000; text-decoration-color: #000000; font-weight: bold\">]</span>\n",
       "<span style=\"color: #000000; text-decoration-color: #000000\">        Allowed inputs are lists, numpy arrays, scipy-sparse</span>\n",
       "<span style=\"color: #000000; text-decoration-color: #000000\">        matrices or pandas dataframes.</span>\n",
       "\n",
       "<span style=\"color: #000000; text-decoration-color: #000000\">    test_size : float or int, </span><span style=\"color: #808000; text-decoration-color: #808000\">default</span><span style=\"color: #000000; text-decoration-color: #000000\">=</span><span style=\"color: #800080; text-decoration-color: #800080; font-style: italic\">None</span>\n",
       "<span style=\"color: #000000; text-decoration-color: #000000\">        If float, should be between </span><span style=\"color: #008080; text-decoration-color: #008080; font-weight: bold\">0.0</span><span style=\"color: #000000; text-decoration-color: #000000\"> and </span><span style=\"color: #008080; text-decoration-color: #008080; font-weight: bold\">1.0</span><span style=\"color: #000000; text-decoration-color: #000000\"> and represent the proportion</span>\n",
       "<span style=\"color: #000000; text-decoration-color: #000000\">        of the dataset to include in the test split. If int, represents the</span>\n",
       "<span style=\"color: #000000; text-decoration-color: #000000\">        absolute number of test samples. If </span><span style=\"color: #800080; text-decoration-color: #800080; font-style: italic\">None</span><span style=\"color: #000000; text-decoration-color: #000000\">, the value is set to the</span>\n",
       "<span style=\"color: #000000; text-decoration-color: #000000\">        complement of the train size. If ``train_size`` is also </span><span style=\"color: #800080; text-decoration-color: #800080; font-style: italic\">None</span><span style=\"color: #000000; text-decoration-color: #000000\">, it will</span>\n",
       "<span style=\"color: #000000; text-decoration-color: #000000\">        be set to </span><span style=\"color: #008080; text-decoration-color: #008080; font-weight: bold\">0.25</span><span style=\"color: #000000; text-decoration-color: #000000\">.</span>\n",
       "\n",
       "<span style=\"color: #000000; text-decoration-color: #000000\">    train_size : float or int, </span><span style=\"color: #808000; text-decoration-color: #808000\">default</span><span style=\"color: #000000; text-decoration-color: #000000\">=</span><span style=\"color: #800080; text-decoration-color: #800080; font-style: italic\">None</span>\n",
       "<span style=\"color: #000000; text-decoration-color: #000000\">        If float, should be between </span><span style=\"color: #008080; text-decoration-color: #008080; font-weight: bold\">0.0</span><span style=\"color: #000000; text-decoration-color: #000000\"> and </span><span style=\"color: #008080; text-decoration-color: #008080; font-weight: bold\">1.0</span><span style=\"color: #000000; text-decoration-color: #000000\"> and represent the</span>\n",
       "<span style=\"color: #000000; text-decoration-color: #000000\">        proportion of the dataset to include in the train split. If</span>\n",
       "<span style=\"color: #000000; text-decoration-color: #000000\">        int, represents the absolute number of train samples. If </span><span style=\"color: #800080; text-decoration-color: #800080; font-style: italic\">None</span><span style=\"color: #000000; text-decoration-color: #000000\">,</span>\n",
       "<span style=\"color: #000000; text-decoration-color: #000000\">        the value is automatically set to the complement of the test size.</span>\n",
       "\n",
       "<span style=\"color: #000000; text-decoration-color: #000000\">    random_state : int, RandomState instance or </span><span style=\"color: #800080; text-decoration-color: #800080; font-style: italic\">None</span><span style=\"color: #000000; text-decoration-color: #000000\">, </span><span style=\"color: #808000; text-decoration-color: #808000\">default</span><span style=\"color: #000000; text-decoration-color: #000000\">=</span><span style=\"color: #800080; text-decoration-color: #800080; font-style: italic\">None</span>\n",
       "<span style=\"color: #000000; text-decoration-color: #000000\">        Controls the shuffling applied to the data before applying the split.</span>\n",
       "<span style=\"color: #000000; text-decoration-color: #000000\">        Pass an int for reproducible output across multiple function calls.</span>\n",
       "<span style=\"color: #000000; text-decoration-color: #000000\">        See :term:`Glossary &lt;random_state&gt;`.</span>\n",
       "\n",
       "<span style=\"color: #000000; text-decoration-color: #000000\">    shuffle : bool, </span><span style=\"color: #808000; text-decoration-color: #808000\">default</span><span style=\"color: #000000; text-decoration-color: #000000\">=</span><span style=\"color: #00ff00; text-decoration-color: #00ff00; font-style: italic\">True</span>\n",
       "<span style=\"color: #000000; text-decoration-color: #000000\">        Whether or not to shuffle the data before splitting. If </span><span style=\"color: #808000; text-decoration-color: #808000\">shuffle</span><span style=\"color: #000000; text-decoration-color: #000000\">=</span><span style=\"color: #ff0000; text-decoration-color: #ff0000; font-style: italic\">False</span>\n",
       "<span style=\"color: #000000; text-decoration-color: #000000\">        then stratify must be </span><span style=\"color: #800080; text-decoration-color: #800080; font-style: italic\">None</span><span style=\"color: #000000; text-decoration-color: #000000\">.</span>\n",
       "\n",
       "<span style=\"color: #000000; text-decoration-color: #000000\">    stratify : array-like, </span><span style=\"color: #808000; text-decoration-color: #808000\">default</span><span style=\"color: #000000; text-decoration-color: #000000\">=</span><span style=\"color: #800080; text-decoration-color: #800080; font-style: italic\">None</span>\n",
       "<span style=\"color: #000000; text-decoration-color: #000000\">        If not </span><span style=\"color: #800080; text-decoration-color: #800080; font-style: italic\">None</span><span style=\"color: #000000; text-decoration-color: #000000\">, data is split in a stratified fashion, using this as</span>\n",
       "<span style=\"color: #000000; text-decoration-color: #000000\">        the class labels.</span>\n",
       "<span style=\"color: #000000; text-decoration-color: #000000\">        Read more in the :ref:`User Guide &lt;stratification&gt;`.</span>\n",
       "\n",
       "<span style=\"color: #000000; text-decoration-color: #000000\">    Returns</span>\n",
       "<span style=\"color: #000000; text-decoration-color: #000000\">    -------</span>\n",
       "<span style=\"color: #000000; text-decoration-color: #000000\">    splitting : list, </span><span style=\"color: #808000; text-decoration-color: #808000\">length</span><span style=\"color: #000000; text-decoration-color: #000000\">=</span><span style=\"color: #008080; text-decoration-color: #008080; font-weight: bold\">2</span><span style=\"color: #000000; text-decoration-color: #000000\"> * </span><span style=\"color: #800080; text-decoration-color: #800080; font-weight: bold\">len</span><span style=\"color: #000000; text-decoration-color: #000000; font-weight: bold\">(</span><span style=\"color: #000000; text-decoration-color: #000000\">arrays</span><span style=\"color: #000000; text-decoration-color: #000000; font-weight: bold\">)</span>\n",
       "<span style=\"color: #000000; text-decoration-color: #000000\">        List containing train-test split of inputs.</span>\n",
       "\n",
       "<span style=\"color: #000000; text-decoration-color: #000000\">        .. versionadded:: </span><span style=\"color: #008080; text-decoration-color: #008080; font-weight: bold\">0.16</span>\n",
       "<span style=\"color: #000000; text-decoration-color: #000000\">            If the input is sparse, the output will be a</span>\n",
       "<span style=\"color: #000000; text-decoration-color: #000000\">            ``scipy.sparse.csr_matrix``. Else, output type is the same as the</span>\n",
       "<span style=\"color: #000000; text-decoration-color: #000000\">            input type.</span>\n",
       "\n",
       "<span style=\"color: #000000; text-decoration-color: #000000\">    Examples</span>\n",
       "<span style=\"color: #000000; text-decoration-color: #000000\">    --------</span>\n",
       "<span style=\"color: #000000; text-decoration-color: #000000\">    &gt;&gt;&gt; import numpy as np</span>\n",
       "<span style=\"color: #000000; text-decoration-color: #000000\">    &gt;&gt;&gt; from sklearn.model_selection import train_test_split</span>\n",
       "<span style=\"color: #000000; text-decoration-color: #000000\">    &gt;&gt;&gt; X, y = </span><span style=\"color: #800080; text-decoration-color: #800080; font-weight: bold\">np.arange</span><span style=\"color: #000000; text-decoration-color: #000000; font-weight: bold\">(</span><span style=\"color: #008080; text-decoration-color: #008080; font-weight: bold\">10</span><span style=\"color: #000000; text-decoration-color: #000000; font-weight: bold\">)</span><span style=\"color: #800080; text-decoration-color: #800080; font-weight: bold\">.reshape</span><span style=\"color: #000000; text-decoration-color: #000000; font-weight: bold\">((</span><span style=\"color: #008080; text-decoration-color: #008080; font-weight: bold\">5</span><span style=\"color: #000000; text-decoration-color: #000000\">, </span><span style=\"color: #008080; text-decoration-color: #008080; font-weight: bold\">2</span><span style=\"color: #000000; text-decoration-color: #000000; font-weight: bold\">))</span><span style=\"color: #000000; text-decoration-color: #000000\">, </span><span style=\"color: #800080; text-decoration-color: #800080; font-weight: bold\">range</span><span style=\"color: #000000; text-decoration-color: #000000; font-weight: bold\">(</span><span style=\"color: #008080; text-decoration-color: #008080; font-weight: bold\">5</span><span style=\"color: #000000; text-decoration-color: #000000; font-weight: bold\">)</span>\n",
       "<span style=\"color: #000000; text-decoration-color: #000000\">    &gt;&gt;&gt; X</span>\n",
       "<span style=\"color: #000000; text-decoration-color: #000000\">    </span><span style=\"color: #800080; text-decoration-color: #800080; font-weight: bold\">array</span><span style=\"color: #000000; text-decoration-color: #000000; font-weight: bold\">([[</span><span style=\"color: #008080; text-decoration-color: #008080; font-weight: bold\">0</span><span style=\"color: #000000; text-decoration-color: #000000\">, </span><span style=\"color: #008080; text-decoration-color: #008080; font-weight: bold\">1</span><span style=\"color: #000000; text-decoration-color: #000000; font-weight: bold\">]</span><span style=\"color: #000000; text-decoration-color: #000000\">,</span>\n",
       "<span style=\"color: #000000; text-decoration-color: #000000\">           </span><span style=\"color: #000000; text-decoration-color: #000000; font-weight: bold\">[</span><span style=\"color: #008080; text-decoration-color: #008080; font-weight: bold\">2</span><span style=\"color: #000000; text-decoration-color: #000000\">, </span><span style=\"color: #008080; text-decoration-color: #008080; font-weight: bold\">3</span><span style=\"color: #000000; text-decoration-color: #000000; font-weight: bold\">]</span><span style=\"color: #000000; text-decoration-color: #000000\">,</span>\n",
       "<span style=\"color: #000000; text-decoration-color: #000000\">           </span><span style=\"color: #000000; text-decoration-color: #000000; font-weight: bold\">[</span><span style=\"color: #008080; text-decoration-color: #008080; font-weight: bold\">4</span><span style=\"color: #000000; text-decoration-color: #000000\">, </span><span style=\"color: #008080; text-decoration-color: #008080; font-weight: bold\">5</span><span style=\"color: #000000; text-decoration-color: #000000; font-weight: bold\">]</span><span style=\"color: #000000; text-decoration-color: #000000\">,</span>\n",
       "<span style=\"color: #000000; text-decoration-color: #000000\">           </span><span style=\"color: #000000; text-decoration-color: #000000; font-weight: bold\">[</span><span style=\"color: #008080; text-decoration-color: #008080; font-weight: bold\">6</span><span style=\"color: #000000; text-decoration-color: #000000\">, </span><span style=\"color: #008080; text-decoration-color: #008080; font-weight: bold\">7</span><span style=\"color: #000000; text-decoration-color: #000000; font-weight: bold\">]</span><span style=\"color: #000000; text-decoration-color: #000000\">,</span>\n",
       "<span style=\"color: #000000; text-decoration-color: #000000\">           </span><span style=\"color: #000000; text-decoration-color: #000000; font-weight: bold\">[</span><span style=\"color: #008080; text-decoration-color: #008080; font-weight: bold\">8</span><span style=\"color: #000000; text-decoration-color: #000000\">, </span><span style=\"color: #008080; text-decoration-color: #008080; font-weight: bold\">9</span><span style=\"color: #000000; text-decoration-color: #000000; font-weight: bold\">]])</span>\n",
       "<span style=\"color: #000000; text-decoration-color: #000000\">    &gt;&gt;&gt; </span><span style=\"color: #800080; text-decoration-color: #800080; font-weight: bold\">list</span><span style=\"color: #000000; text-decoration-color: #000000; font-weight: bold\">(</span><span style=\"color: #000000; text-decoration-color: #000000\">y</span><span style=\"color: #000000; text-decoration-color: #000000; font-weight: bold\">)</span>\n",
       "<span style=\"color: #000000; text-decoration-color: #000000\">    </span><span style=\"color: #000000; text-decoration-color: #000000; font-weight: bold\">[</span><span style=\"color: #008080; text-decoration-color: #008080; font-weight: bold\">0</span><span style=\"color: #000000; text-decoration-color: #000000\">, </span><span style=\"color: #008080; text-decoration-color: #008080; font-weight: bold\">1</span><span style=\"color: #000000; text-decoration-color: #000000\">, </span><span style=\"color: #008080; text-decoration-color: #008080; font-weight: bold\">2</span><span style=\"color: #000000; text-decoration-color: #000000\">, </span><span style=\"color: #008080; text-decoration-color: #008080; font-weight: bold\">3</span><span style=\"color: #000000; text-decoration-color: #000000\">, </span><span style=\"color: #008080; text-decoration-color: #008080; font-weight: bold\">4</span><span style=\"color: #000000; text-decoration-color: #000000; font-weight: bold\">]</span>\n",
       "\n",
       "<span style=\"color: #000000; text-decoration-color: #000000\">    &gt;&gt;&gt; X_train, X_test, y_train, y_test = </span><span style=\"color: #800080; text-decoration-color: #800080; font-weight: bold\">train_test_split</span><span style=\"color: #000000; text-decoration-color: #000000; font-weight: bold\">(</span>\n",
       "<span style=\"color: #000000; text-decoration-color: #000000\">    </span><span style=\"color: #808000; text-decoration-color: #808000\">...</span><span style=\"color: #000000; text-decoration-color: #000000\">     X, y, </span><span style=\"color: #808000; text-decoration-color: #808000\">test_size</span><span style=\"color: #000000; text-decoration-color: #000000\">=</span><span style=\"color: #008080; text-decoration-color: #008080; font-weight: bold\">0.33</span><span style=\"color: #000000; text-decoration-color: #000000\">, </span><span style=\"color: #808000; text-decoration-color: #808000\">random_state</span><span style=\"color: #000000; text-decoration-color: #000000\">=</span><span style=\"color: #008080; text-decoration-color: #008080; font-weight: bold\">42</span><span style=\"color: #000000; text-decoration-color: #000000; font-weight: bold\">)</span>\n",
       "<span style=\"color: #000000; text-decoration-color: #000000\">    </span><span style=\"color: #808000; text-decoration-color: #808000\">...</span>\n",
       "<span style=\"color: #000000; text-decoration-color: #000000\">    &gt;&gt;&gt; X_train</span>\n",
       "<span style=\"color: #000000; text-decoration-color: #000000\">    </span><span style=\"color: #800080; text-decoration-color: #800080; font-weight: bold\">array</span><span style=\"color: #000000; text-decoration-color: #000000; font-weight: bold\">([[</span><span style=\"color: #008080; text-decoration-color: #008080; font-weight: bold\">4</span><span style=\"color: #000000; text-decoration-color: #000000\">, </span><span style=\"color: #008080; text-decoration-color: #008080; font-weight: bold\">5</span><span style=\"color: #000000; text-decoration-color: #000000; font-weight: bold\">]</span><span style=\"color: #000000; text-decoration-color: #000000\">,</span>\n",
       "<span style=\"color: #000000; text-decoration-color: #000000\">           </span><span style=\"color: #000000; text-decoration-color: #000000; font-weight: bold\">[</span><span style=\"color: #008080; text-decoration-color: #008080; font-weight: bold\">0</span><span style=\"color: #000000; text-decoration-color: #000000\">, </span><span style=\"color: #008080; text-decoration-color: #008080; font-weight: bold\">1</span><span style=\"color: #000000; text-decoration-color: #000000; font-weight: bold\">]</span><span style=\"color: #000000; text-decoration-color: #000000\">,</span>\n",
       "<span style=\"color: #000000; text-decoration-color: #000000\">           </span><span style=\"color: #000000; text-decoration-color: #000000; font-weight: bold\">[</span><span style=\"color: #008080; text-decoration-color: #008080; font-weight: bold\">6</span><span style=\"color: #000000; text-decoration-color: #000000\">, </span><span style=\"color: #008080; text-decoration-color: #008080; font-weight: bold\">7</span><span style=\"color: #000000; text-decoration-color: #000000; font-weight: bold\">]])</span>\n",
       "<span style=\"color: #000000; text-decoration-color: #000000\">    &gt;&gt;&gt; y_train</span>\n",
       "<span style=\"color: #000000; text-decoration-color: #000000\">    </span><span style=\"color: #000000; text-decoration-color: #000000; font-weight: bold\">[</span><span style=\"color: #008080; text-decoration-color: #008080; font-weight: bold\">2</span><span style=\"color: #000000; text-decoration-color: #000000\">, </span><span style=\"color: #008080; text-decoration-color: #008080; font-weight: bold\">0</span><span style=\"color: #000000; text-decoration-color: #000000\">, </span><span style=\"color: #008080; text-decoration-color: #008080; font-weight: bold\">3</span><span style=\"color: #000000; text-decoration-color: #000000; font-weight: bold\">]</span>\n",
       "<span style=\"color: #000000; text-decoration-color: #000000\">    &gt;&gt;&gt; X_test</span>\n",
       "<span style=\"color: #000000; text-decoration-color: #000000\">    </span><span style=\"color: #800080; text-decoration-color: #800080; font-weight: bold\">array</span><span style=\"color: #000000; text-decoration-color: #000000; font-weight: bold\">([[</span><span style=\"color: #008080; text-decoration-color: #008080; font-weight: bold\">2</span><span style=\"color: #000000; text-decoration-color: #000000\">, </span><span style=\"color: #008080; text-decoration-color: #008080; font-weight: bold\">3</span><span style=\"color: #000000; text-decoration-color: #000000; font-weight: bold\">]</span><span style=\"color: #000000; text-decoration-color: #000000\">,</span>\n",
       "<span style=\"color: #000000; text-decoration-color: #000000\">           </span><span style=\"color: #000000; text-decoration-color: #000000; font-weight: bold\">[</span><span style=\"color: #008080; text-decoration-color: #008080; font-weight: bold\">8</span><span style=\"color: #000000; text-decoration-color: #000000\">, </span><span style=\"color: #008080; text-decoration-color: #008080; font-weight: bold\">9</span><span style=\"color: #000000; text-decoration-color: #000000; font-weight: bold\">]])</span>\n",
       "<span style=\"color: #000000; text-decoration-color: #000000\">    &gt;&gt;&gt; y_test</span>\n",
       "<span style=\"color: #000000; text-decoration-color: #000000\">    </span><span style=\"color: #000000; text-decoration-color: #000000; font-weight: bold\">[</span><span style=\"color: #008080; text-decoration-color: #008080; font-weight: bold\">1</span><span style=\"color: #000000; text-decoration-color: #000000\">, </span><span style=\"color: #008080; text-decoration-color: #008080; font-weight: bold\">4</span><span style=\"color: #000000; text-decoration-color: #000000; font-weight: bold\">]</span>\n",
       "\n",
       "<span style=\"color: #000000; text-decoration-color: #000000\">    &gt;&gt;</span><span style=\"font-weight: bold\">&gt;</span> <span style=\"color: #800080; text-decoration-color: #800080; font-weight: bold\">train_test_split</span><span style=\"font-weight: bold\">(</span>y, <span style=\"color: #808000; text-decoration-color: #808000\">shuffle</span>=<span style=\"color: #ff0000; text-decoration-color: #ff0000; font-style: italic\">False</span><span style=\"font-weight: bold\">)</span>\n",
       "    <span style=\"font-weight: bold\">[[</span><span style=\"color: #008080; text-decoration-color: #008080; font-weight: bold\">0</span>, <span style=\"color: #008080; text-decoration-color: #008080; font-weight: bold\">1</span>, <span style=\"color: #008080; text-decoration-color: #008080; font-weight: bold\">2</span><span style=\"font-weight: bold\">]</span>, <span style=\"font-weight: bold\">[</span><span style=\"color: #008080; text-decoration-color: #008080; font-weight: bold\">3</span>, <span style=\"color: #008080; text-decoration-color: #008080; font-weight: bold\">4</span><span style=\"font-weight: bold\">]]</span>\n",
       "    <span style=\"color: #008000; text-decoration-color: #008000\">\"\"</span>\"\n",
       "    n_arrays = <span style=\"color: #800080; text-decoration-color: #800080; font-weight: bold\">len</span><span style=\"font-weight: bold\">(</span>arrays<span style=\"font-weight: bold\">)</span>\n",
       "    if n_arrays == <span style=\"color: #008080; text-decoration-color: #008080; font-weight: bold\">0</span>:\n",
       "        raise <span style=\"color: #800080; text-decoration-color: #800080; font-weight: bold\">ValueError</span><span style=\"font-weight: bold\">(</span><span style=\"color: #008000; text-decoration-color: #008000\">\"At least one array required as input\"</span><span style=\"font-weight: bold\">)</span>\n",
       "\n",
       "    arrays = <span style=\"color: #800080; text-decoration-color: #800080; font-weight: bold\">indexable</span><span style=\"font-weight: bold\">(</span>*arrays<span style=\"font-weight: bold\">)</span>\n",
       "\n",
       "    n_samples = <span style=\"color: #800080; text-decoration-color: #800080; font-weight: bold\">_num_samples</span><span style=\"font-weight: bold\">(</span>arrays<span style=\"font-weight: bold\">[</span><span style=\"color: #008080; text-decoration-color: #008080; font-weight: bold\">0</span><span style=\"font-weight: bold\">])</span>\n",
       "    n_train, n_test = <span style=\"color: #800080; text-decoration-color: #800080; font-weight: bold\">_validate_shuffle_split</span><span style=\"font-weight: bold\">(</span>\n",
       "        n_samples, test_size, train_size, <span style=\"color: #808000; text-decoration-color: #808000\">default_test_size</span>=<span style=\"color: #008080; text-decoration-color: #008080; font-weight: bold\">0.25</span>\n",
       "    <span style=\"font-weight: bold\">)</span>\n",
       "\n",
       "    if shuffle is <span style=\"color: #ff0000; text-decoration-color: #ff0000; font-style: italic\">False</span>:\n",
       "        if stratify is not <span style=\"color: #800080; text-decoration-color: #800080; font-style: italic\">None</span>:\n",
       "            raise <span style=\"color: #800080; text-decoration-color: #800080; font-weight: bold\">ValueError</span><span style=\"font-weight: bold\">(</span>\n",
       "                <span style=\"color: #008000; text-decoration-color: #008000\">\"Stratified train/test split is not implemented for shuffle=False\"</span>\n",
       "            <span style=\"font-weight: bold\">)</span>\n",
       "\n",
       "        train = <span style=\"color: #800080; text-decoration-color: #800080; font-weight: bold\">np.arange</span><span style=\"font-weight: bold\">(</span>n_train<span style=\"font-weight: bold\">)</span>\n",
       "        test = <span style=\"color: #800080; text-decoration-color: #800080; font-weight: bold\">np.arange</span><span style=\"font-weight: bold\">(</span>n_train, n_train + n_test<span style=\"font-weight: bold\">)</span>\n",
       "\n",
       "    else:\n",
       "        if stratify is not <span style=\"color: #800080; text-decoration-color: #800080; font-style: italic\">None</span>:\n",
       "            CVClass = StratifiedShuffleSplit\n",
       "        else:\n",
       "            CVClass = ShuffleSplit\n",
       "\n",
       "        cv = <span style=\"color: #800080; text-decoration-color: #800080; font-weight: bold\">CVClass</span><span style=\"font-weight: bold\">(</span><span style=\"color: #808000; text-decoration-color: #808000\">test_size</span>=<span style=\"color: #800080; text-decoration-color: #800080\">n_test</span>, <span style=\"color: #808000; text-decoration-color: #808000\">train_size</span>=<span style=\"color: #800080; text-decoration-color: #800080\">n_train</span>, <span style=\"color: #808000; text-decoration-color: #808000\">random_state</span>=<span style=\"color: #800080; text-decoration-color: #800080\">random_state</span><span style=\"font-weight: bold\">)</span>\n",
       "\n",
       "        train, test = <span style=\"color: #800080; text-decoration-color: #800080; font-weight: bold\">next</span><span style=\"font-weight: bold\">(</span><span style=\"color: #800080; text-decoration-color: #800080; font-weight: bold\">cv.split</span><span style=\"font-weight: bold\">(</span><span style=\"color: #808000; text-decoration-color: #808000\">X</span>=<span style=\"color: #800080; text-decoration-color: #800080\">arrays</span><span style=\"font-weight: bold\">[</span><span style=\"color: #008080; text-decoration-color: #008080; font-weight: bold\">0</span><span style=\"font-weight: bold\">]</span>, <span style=\"color: #808000; text-decoration-color: #808000\">y</span>=<span style=\"color: #800080; text-decoration-color: #800080\">stratify</span><span style=\"font-weight: bold\">))</span>\n",
       "\n",
       "    return <span style=\"color: #800080; text-decoration-color: #800080; font-weight: bold\">list</span><span style=\"font-weight: bold\">(</span>\n",
       "        <span style=\"color: #800080; text-decoration-color: #800080; font-weight: bold\">chain.from_iterable</span><span style=\"font-weight: bold\">(</span>\n",
       "            <span style=\"font-weight: bold\">(</span><span style=\"color: #800080; text-decoration-color: #800080; font-weight: bold\">_safe_indexing</span><span style=\"font-weight: bold\">(</span>a, train<span style=\"font-weight: bold\">)</span>, <span style=\"color: #800080; text-decoration-color: #800080; font-weight: bold\">_safe_indexing</span><span style=\"font-weight: bold\">(</span>a, test<span style=\"font-weight: bold\">))</span> for a in arrays\n",
       "        <span style=\"font-weight: bold\">)</span>\n",
       "    <span style=\"font-weight: bold\">)</span>\n",
       "\n",
       "</pre>\n"
      ],
      "text/plain": [
       "def \u001b[1;35mtrain_test_split\u001b[0m\u001b[1m(\u001b[0m\n",
       "    *arrays,\n",
       "    \u001b[33mtest_size\u001b[0m=\u001b[3;35mNone\u001b[0m,\n",
       "    \u001b[33mtrain_size\u001b[0m=\u001b[3;35mNone\u001b[0m,\n",
       "    \u001b[33mrandom_state\u001b[0m=\u001b[3;35mNone\u001b[0m,\n",
       "    \u001b[33mshuffle\u001b[0m=\u001b[3;92mTrue\u001b[0m,\n",
       "    \u001b[33mstratify\u001b[0m=\u001b[3;35mNone\u001b[0m,\n",
       "\u001b[1m)\u001b[0m:\n",
       "    \u001b[32m\"\"\u001b[0m\"Split arrays or matrices into random train and test subsets.\n",
       "\n",
       "    Quick utility that wraps input validation,\n",
       "    ``\u001b[1;35mnext\u001b[0m\u001b[1m(\u001b[0m\u001b[1;35mShuffleSplit\u001b[0m\u001b[1m(\u001b[0m\u001b[1m)\u001b[0m\u001b[1;35m.split\u001b[0m\u001b[1m(\u001b[0mX, y\u001b[1m)\u001b[0m\u001b[1m)\u001b[0m``, and application to input data\n",
       "    into a single call for splitting \u001b[1m(\u001b[0mand optionally subsampling\u001b[1m)\u001b[0m data into a\n",
       "    one-liner.\n",
       "\n",
       "    Read more in the :ref:`User Guide \u001b[1m<\u001b[0m\u001b[1;95mcross_validation\u001b[0m\u001b[39m>`.\u001b[0m\n",
       "\n",
       "\u001b[39m    Parameters\u001b[0m\n",
       "\u001b[39m    ----------\u001b[0m\n",
       "\u001b[39m    *arrays : sequence of indexables with same length \u001b[0m\u001b[35m/\u001b[0m\u001b[39m shape\u001b[0m\u001b[1;39m[\u001b[0m\u001b[1;36m0\u001b[0m\u001b[1;39m]\u001b[0m\n",
       "\u001b[39m        Allowed inputs are lists, numpy arrays, scipy-sparse\u001b[0m\n",
       "\u001b[39m        matrices or pandas dataframes.\u001b[0m\n",
       "\n",
       "\u001b[39m    test_size : float or int, \u001b[0m\u001b[33mdefault\u001b[0m\u001b[39m=\u001b[0m\u001b[3;35mNone\u001b[0m\n",
       "\u001b[39m        If float, should be between \u001b[0m\u001b[1;36m0.0\u001b[0m\u001b[39m and \u001b[0m\u001b[1;36m1.0\u001b[0m\u001b[39m and represent the proportion\u001b[0m\n",
       "\u001b[39m        of the dataset to include in the test split. If int, represents the\u001b[0m\n",
       "\u001b[39m        absolute number of test samples. If \u001b[0m\u001b[3;35mNone\u001b[0m\u001b[39m, the value is set to the\u001b[0m\n",
       "\u001b[39m        complement of the train size. If ``train_size`` is also \u001b[0m\u001b[3;35mNone\u001b[0m\u001b[39m, it will\u001b[0m\n",
       "\u001b[39m        be set to \u001b[0m\u001b[1;36m0.25\u001b[0m\u001b[39m.\u001b[0m\n",
       "\n",
       "\u001b[39m    train_size : float or int, \u001b[0m\u001b[33mdefault\u001b[0m\u001b[39m=\u001b[0m\u001b[3;35mNone\u001b[0m\n",
       "\u001b[39m        If float, should be between \u001b[0m\u001b[1;36m0.0\u001b[0m\u001b[39m and \u001b[0m\u001b[1;36m1.0\u001b[0m\u001b[39m and represent the\u001b[0m\n",
       "\u001b[39m        proportion of the dataset to include in the train split. If\u001b[0m\n",
       "\u001b[39m        int, represents the absolute number of train samples. If \u001b[0m\u001b[3;35mNone\u001b[0m\u001b[39m,\u001b[0m\n",
       "\u001b[39m        the value is automatically set to the complement of the test size.\u001b[0m\n",
       "\n",
       "\u001b[39m    random_state : int, RandomState instance or \u001b[0m\u001b[3;35mNone\u001b[0m\u001b[39m, \u001b[0m\u001b[33mdefault\u001b[0m\u001b[39m=\u001b[0m\u001b[3;35mNone\u001b[0m\n",
       "\u001b[39m        Controls the shuffling applied to the data before applying the split.\u001b[0m\n",
       "\u001b[39m        Pass an int for reproducible output across multiple function calls.\u001b[0m\n",
       "\u001b[39m        See :term:`Glossary <random_state>`.\u001b[0m\n",
       "\n",
       "\u001b[39m    shuffle : bool, \u001b[0m\u001b[33mdefault\u001b[0m\u001b[39m=\u001b[0m\u001b[3;92mTrue\u001b[0m\n",
       "\u001b[39m        Whether or not to shuffle the data before splitting. If \u001b[0m\u001b[33mshuffle\u001b[0m\u001b[39m=\u001b[0m\u001b[3;91mFalse\u001b[0m\n",
       "\u001b[39m        then stratify must be \u001b[0m\u001b[3;35mNone\u001b[0m\u001b[39m.\u001b[0m\n",
       "\n",
       "\u001b[39m    stratify : array-like, \u001b[0m\u001b[33mdefault\u001b[0m\u001b[39m=\u001b[0m\u001b[3;35mNone\u001b[0m\n",
       "\u001b[39m        If not \u001b[0m\u001b[3;35mNone\u001b[0m\u001b[39m, data is split in a stratified fashion, using this as\u001b[0m\n",
       "\u001b[39m        the class labels.\u001b[0m\n",
       "\u001b[39m        Read more in the :ref:`User Guide <stratification>`.\u001b[0m\n",
       "\n",
       "\u001b[39m    Returns\u001b[0m\n",
       "\u001b[39m    -------\u001b[0m\n",
       "\u001b[39m    splitting : list, \u001b[0m\u001b[33mlength\u001b[0m\u001b[39m=\u001b[0m\u001b[1;36m2\u001b[0m\u001b[39m * \u001b[0m\u001b[1;35mlen\u001b[0m\u001b[1;39m(\u001b[0m\u001b[39marrays\u001b[0m\u001b[1;39m)\u001b[0m\n",
       "\u001b[39m        List containing train-test split of inputs.\u001b[0m\n",
       "\n",
       "\u001b[39m        .. versionadded:: \u001b[0m\u001b[1;36m0.16\u001b[0m\n",
       "\u001b[39m            If the input is sparse, the output will be a\u001b[0m\n",
       "\u001b[39m            ``scipy.sparse.csr_matrix``. Else, output type is the same as the\u001b[0m\n",
       "\u001b[39m            input type.\u001b[0m\n",
       "\n",
       "\u001b[39m    Examples\u001b[0m\n",
       "\u001b[39m    --------\u001b[0m\n",
       "\u001b[39m    >>> import numpy as np\u001b[0m\n",
       "\u001b[39m    >>> from sklearn.model_selection import train_test_split\u001b[0m\n",
       "\u001b[39m    >>> X, y = \u001b[0m\u001b[1;35mnp.arange\u001b[0m\u001b[1;39m(\u001b[0m\u001b[1;36m10\u001b[0m\u001b[1;39m)\u001b[0m\u001b[1;35m.reshape\u001b[0m\u001b[1;39m(\u001b[0m\u001b[1;39m(\u001b[0m\u001b[1;36m5\u001b[0m\u001b[39m, \u001b[0m\u001b[1;36m2\u001b[0m\u001b[1;39m)\u001b[0m\u001b[1;39m)\u001b[0m\u001b[39m, \u001b[0m\u001b[1;35mrange\u001b[0m\u001b[1;39m(\u001b[0m\u001b[1;36m5\u001b[0m\u001b[1;39m)\u001b[0m\n",
       "\u001b[39m    >>> X\u001b[0m\n",
       "\u001b[39m    \u001b[0m\u001b[1;35marray\u001b[0m\u001b[1;39m(\u001b[0m\u001b[1;39m[\u001b[0m\u001b[1;39m[\u001b[0m\u001b[1;36m0\u001b[0m\u001b[39m, \u001b[0m\u001b[1;36m1\u001b[0m\u001b[1;39m]\u001b[0m\u001b[39m,\u001b[0m\n",
       "\u001b[39m           \u001b[0m\u001b[1;39m[\u001b[0m\u001b[1;36m2\u001b[0m\u001b[39m, \u001b[0m\u001b[1;36m3\u001b[0m\u001b[1;39m]\u001b[0m\u001b[39m,\u001b[0m\n",
       "\u001b[39m           \u001b[0m\u001b[1;39m[\u001b[0m\u001b[1;36m4\u001b[0m\u001b[39m, \u001b[0m\u001b[1;36m5\u001b[0m\u001b[1;39m]\u001b[0m\u001b[39m,\u001b[0m\n",
       "\u001b[39m           \u001b[0m\u001b[1;39m[\u001b[0m\u001b[1;36m6\u001b[0m\u001b[39m, \u001b[0m\u001b[1;36m7\u001b[0m\u001b[1;39m]\u001b[0m\u001b[39m,\u001b[0m\n",
       "\u001b[39m           \u001b[0m\u001b[1;39m[\u001b[0m\u001b[1;36m8\u001b[0m\u001b[39m, \u001b[0m\u001b[1;36m9\u001b[0m\u001b[1;39m]\u001b[0m\u001b[1;39m]\u001b[0m\u001b[1;39m)\u001b[0m\n",
       "\u001b[39m    >>> \u001b[0m\u001b[1;35mlist\u001b[0m\u001b[1;39m(\u001b[0m\u001b[39my\u001b[0m\u001b[1;39m)\u001b[0m\n",
       "\u001b[39m    \u001b[0m\u001b[1;39m[\u001b[0m\u001b[1;36m0\u001b[0m\u001b[39m, \u001b[0m\u001b[1;36m1\u001b[0m\u001b[39m, \u001b[0m\u001b[1;36m2\u001b[0m\u001b[39m, \u001b[0m\u001b[1;36m3\u001b[0m\u001b[39m, \u001b[0m\u001b[1;36m4\u001b[0m\u001b[1;39m]\u001b[0m\n",
       "\n",
       "\u001b[39m    >>> X_train, X_test, y_train, y_test = \u001b[0m\u001b[1;35mtrain_test_split\u001b[0m\u001b[1;39m(\u001b[0m\n",
       "\u001b[39m    \u001b[0m\u001b[33m...\u001b[0m\u001b[39m     X, y, \u001b[0m\u001b[33mtest_size\u001b[0m\u001b[39m=\u001b[0m\u001b[1;36m0\u001b[0m\u001b[1;36m.33\u001b[0m\u001b[39m, \u001b[0m\u001b[33mrandom_state\u001b[0m\u001b[39m=\u001b[0m\u001b[1;36m42\u001b[0m\u001b[1;39m)\u001b[0m\n",
       "\u001b[39m    \u001b[0m\u001b[33m...\u001b[0m\n",
       "\u001b[39m    >>> X_train\u001b[0m\n",
       "\u001b[39m    \u001b[0m\u001b[1;35marray\u001b[0m\u001b[1;39m(\u001b[0m\u001b[1;39m[\u001b[0m\u001b[1;39m[\u001b[0m\u001b[1;36m4\u001b[0m\u001b[39m, \u001b[0m\u001b[1;36m5\u001b[0m\u001b[1;39m]\u001b[0m\u001b[39m,\u001b[0m\n",
       "\u001b[39m           \u001b[0m\u001b[1;39m[\u001b[0m\u001b[1;36m0\u001b[0m\u001b[39m, \u001b[0m\u001b[1;36m1\u001b[0m\u001b[1;39m]\u001b[0m\u001b[39m,\u001b[0m\n",
       "\u001b[39m           \u001b[0m\u001b[1;39m[\u001b[0m\u001b[1;36m6\u001b[0m\u001b[39m, \u001b[0m\u001b[1;36m7\u001b[0m\u001b[1;39m]\u001b[0m\u001b[1;39m]\u001b[0m\u001b[1;39m)\u001b[0m\n",
       "\u001b[39m    >>> y_train\u001b[0m\n",
       "\u001b[39m    \u001b[0m\u001b[1;39m[\u001b[0m\u001b[1;36m2\u001b[0m\u001b[39m, \u001b[0m\u001b[1;36m0\u001b[0m\u001b[39m, \u001b[0m\u001b[1;36m3\u001b[0m\u001b[1;39m]\u001b[0m\n",
       "\u001b[39m    >>> X_test\u001b[0m\n",
       "\u001b[39m    \u001b[0m\u001b[1;35marray\u001b[0m\u001b[1;39m(\u001b[0m\u001b[1;39m[\u001b[0m\u001b[1;39m[\u001b[0m\u001b[1;36m2\u001b[0m\u001b[39m, \u001b[0m\u001b[1;36m3\u001b[0m\u001b[1;39m]\u001b[0m\u001b[39m,\u001b[0m\n",
       "\u001b[39m           \u001b[0m\u001b[1;39m[\u001b[0m\u001b[1;36m8\u001b[0m\u001b[39m, \u001b[0m\u001b[1;36m9\u001b[0m\u001b[1;39m]\u001b[0m\u001b[1;39m]\u001b[0m\u001b[1;39m)\u001b[0m\n",
       "\u001b[39m    >>> y_test\u001b[0m\n",
       "\u001b[39m    \u001b[0m\u001b[1;39m[\u001b[0m\u001b[1;36m1\u001b[0m\u001b[39m, \u001b[0m\u001b[1;36m4\u001b[0m\u001b[1;39m]\u001b[0m\n",
       "\n",
       "\u001b[39m    >>\u001b[0m\u001b[1m>\u001b[0m \u001b[1;35mtrain_test_split\u001b[0m\u001b[1m(\u001b[0my, \u001b[33mshuffle\u001b[0m=\u001b[3;91mFalse\u001b[0m\u001b[1m)\u001b[0m\n",
       "    \u001b[1m[\u001b[0m\u001b[1m[\u001b[0m\u001b[1;36m0\u001b[0m, \u001b[1;36m1\u001b[0m, \u001b[1;36m2\u001b[0m\u001b[1m]\u001b[0m, \u001b[1m[\u001b[0m\u001b[1;36m3\u001b[0m, \u001b[1;36m4\u001b[0m\u001b[1m]\u001b[0m\u001b[1m]\u001b[0m\n",
       "    \u001b[32m\"\"\u001b[0m\"\n",
       "    n_arrays = \u001b[1;35mlen\u001b[0m\u001b[1m(\u001b[0marrays\u001b[1m)\u001b[0m\n",
       "    if n_arrays == \u001b[1;36m0\u001b[0m:\n",
       "        raise \u001b[1;35mValueError\u001b[0m\u001b[1m(\u001b[0m\u001b[32m\"At least one array required as input\"\u001b[0m\u001b[1m)\u001b[0m\n",
       "\n",
       "    arrays = \u001b[1;35mindexable\u001b[0m\u001b[1m(\u001b[0m*arrays\u001b[1m)\u001b[0m\n",
       "\n",
       "    n_samples = \u001b[1;35m_num_samples\u001b[0m\u001b[1m(\u001b[0marrays\u001b[1m[\u001b[0m\u001b[1;36m0\u001b[0m\u001b[1m]\u001b[0m\u001b[1m)\u001b[0m\n",
       "    n_train, n_test = \u001b[1;35m_validate_shuffle_split\u001b[0m\u001b[1m(\u001b[0m\n",
       "        n_samples, test_size, train_size, \u001b[33mdefault_test_size\u001b[0m=\u001b[1;36m0\u001b[0m\u001b[1;36m.25\u001b[0m\n",
       "    \u001b[1m)\u001b[0m\n",
       "\n",
       "    if shuffle is \u001b[3;91mFalse\u001b[0m:\n",
       "        if stratify is not \u001b[3;35mNone\u001b[0m:\n",
       "            raise \u001b[1;35mValueError\u001b[0m\u001b[1m(\u001b[0m\n",
       "                \u001b[32m\"Stratified train/test split is not implemented for \u001b[0m\u001b[32mshuffle\u001b[0m\u001b[32m=\u001b[0m\u001b[32mFalse\"\u001b[0m\n",
       "            \u001b[1m)\u001b[0m\n",
       "\n",
       "        train = \u001b[1;35mnp.arange\u001b[0m\u001b[1m(\u001b[0mn_train\u001b[1m)\u001b[0m\n",
       "        test = \u001b[1;35mnp.arange\u001b[0m\u001b[1m(\u001b[0mn_train, n_train + n_test\u001b[1m)\u001b[0m\n",
       "\n",
       "    else:\n",
       "        if stratify is not \u001b[3;35mNone\u001b[0m:\n",
       "            CVClass = StratifiedShuffleSplit\n",
       "        else:\n",
       "            CVClass = ShuffleSplit\n",
       "\n",
       "        cv = \u001b[1;35mCVClass\u001b[0m\u001b[1m(\u001b[0m\u001b[33mtest_size\u001b[0m=\u001b[35mn_test\u001b[0m, \u001b[33mtrain_size\u001b[0m=\u001b[35mn_train\u001b[0m, \u001b[33mrandom_state\u001b[0m=\u001b[35mrandom_state\u001b[0m\u001b[1m)\u001b[0m\n",
       "\n",
       "        train, test = \u001b[1;35mnext\u001b[0m\u001b[1m(\u001b[0m\u001b[1;35mcv.split\u001b[0m\u001b[1m(\u001b[0m\u001b[33mX\u001b[0m=\u001b[35marrays\u001b[0m\u001b[1m[\u001b[0m\u001b[1;36m0\u001b[0m\u001b[1m]\u001b[0m, \u001b[33my\u001b[0m=\u001b[35mstratify\u001b[0m\u001b[1m)\u001b[0m\u001b[1m)\u001b[0m\n",
       "\n",
       "    return \u001b[1;35mlist\u001b[0m\u001b[1m(\u001b[0m\n",
       "        \u001b[1;35mchain.from_iterable\u001b[0m\u001b[1m(\u001b[0m\n",
       "            \u001b[1m(\u001b[0m\u001b[1;35m_safe_indexing\u001b[0m\u001b[1m(\u001b[0ma, train\u001b[1m)\u001b[0m, \u001b[1;35m_safe_indexing\u001b[0m\u001b[1m(\u001b[0ma, test\u001b[1m)\u001b[0m\u001b[1m)\u001b[0m for a in arrays\n",
       "        \u001b[1m)\u001b[0m\n",
       "    \u001b[1m)\u001b[0m\n",
       "\n"
      ]
     },
     "metadata": {},
     "output_type": "display_data"
    }
   ],
   "source": [
    "import inspect\n",
    "lines = inspect.getsource(train_test_split)\n",
    "print(lines)"
   ]
  },
  {
   "cell_type": "markdown",
   "metadata": {},
   "source": [
    "Por tanto,  cones e parámetro apra la división de los datos podemos repetir la misma dividión para comprobarlo vamos a entrenar 2 veces repitiendo la división y sin repetirla. Es más, no lo vamos a hacer con un modelo si no con 30 modelos diferentes. El modelo KNN tiene un parámtro que indica cuantos vecinos tiene en cuenta para asignarle la clase a un nuevo patrón. Lo podríamos hacer a mano pero igual es mejor con un bucle. "
   ]
  },
  {
   "cell_type": "code",
   "execution_count": 12,
   "metadata": {
    "tags": []
   },
   "outputs": [],
   "source": [
    "# Función para ejecutar tanto los entrenamientos como pintar la gráfica\n",
    "def entrenar_y_dibujar(inputs_train,inputs_test, targets_train, targets_test):\n",
    "    hiper_k_rango = range(1,30)\n",
    "    scores_train=[]\n",
    "    scores_test=[]\n",
    "    for k in hiper_k_rango:\n",
    "        knn_model = KNeighborsClassifier(n_neighbors=k)\n",
    "        knn_model.fit(inputs_train,targets_train)\n",
    "        predicted_train = knn_model.predict(inputs_train)\n",
    "        predicted_test = knn_model.predict(inputs_test)\n",
    "        scores_train.append(metrics.accuracy_score(targets_train, predicted_train))\n",
    "        scores_test.append(metrics.accuracy_score(targets_test,predicted_test))\n",
    "\n",
    "    print(scores_test)\n",
    "    import matplotlib.pyplot as plt\n",
    "    %matplotlib inline\n",
    "    plt.figure()\n",
    "\n",
    "    plt.plot(hiper_k_rango,scores_train, color='orange')\n",
    "    plt.plot(hiper_k_rango,scores_test, color='navy')\n",
    "\n",
    "    plt.xlabel(\"Valores de k\")\n",
    "    plt.ylabel(\"Accuracy en test\")\n"
   ]
  },
  {
   "cell_type": "code",
   "execution_count": 13,
   "metadata": {
    "tags": []
   },
   "outputs": [
    {
     "data": {
      "text/html": [
       "<pre style=\"white-space:pre;overflow-x:auto;line-height:normal;font-family:Menlo,'DejaVu Sans Mono',consolas,'Courier New',monospace\"><span style=\"font-weight: bold\">[</span>\n",
       "    <span style=\"color: #008080; text-decoration-color: #008080; font-weight: bold\">0.8809523809523809</span>,\n",
       "    <span style=\"color: #008080; text-decoration-color: #008080; font-weight: bold\">0.8333333333333334</span>,\n",
       "    <span style=\"color: #008080; text-decoration-color: #008080; font-weight: bold\">0.8809523809523809</span>,\n",
       "    <span style=\"color: #008080; text-decoration-color: #008080; font-weight: bold\">0.8333333333333334</span>,\n",
       "    <span style=\"color: #008080; text-decoration-color: #008080; font-weight: bold\">0.8571428571428571</span>,\n",
       "    <span style=\"color: #008080; text-decoration-color: #008080; font-weight: bold\">0.8333333333333334</span>,\n",
       "    <span style=\"color: #008080; text-decoration-color: #008080; font-weight: bold\">0.8095238095238095</span>,\n",
       "    <span style=\"color: #008080; text-decoration-color: #008080; font-weight: bold\">0.8571428571428571</span>,\n",
       "    <span style=\"color: #008080; text-decoration-color: #008080; font-weight: bold\">0.8333333333333334</span>,\n",
       "    <span style=\"color: #008080; text-decoration-color: #008080; font-weight: bold\">0.8095238095238095</span>,\n",
       "    <span style=\"color: #008080; text-decoration-color: #008080; font-weight: bold\">0.7619047619047619</span>,\n",
       "    <span style=\"color: #008080; text-decoration-color: #008080; font-weight: bold\">0.7142857142857143</span>,\n",
       "    <span style=\"color: #008080; text-decoration-color: #008080; font-weight: bold\">0.7619047619047619</span>,\n",
       "    <span style=\"color: #008080; text-decoration-color: #008080; font-weight: bold\">0.7380952380952381</span>,\n",
       "    <span style=\"color: #008080; text-decoration-color: #008080; font-weight: bold\">0.7619047619047619</span>,\n",
       "    <span style=\"color: #008080; text-decoration-color: #008080; font-weight: bold\">0.6904761904761905</span>,\n",
       "    <span style=\"color: #008080; text-decoration-color: #008080; font-weight: bold\">0.7380952380952381</span>,\n",
       "    <span style=\"color: #008080; text-decoration-color: #008080; font-weight: bold\">0.7142857142857143</span>,\n",
       "    <span style=\"color: #008080; text-decoration-color: #008080; font-weight: bold\">0.7142857142857143</span>,\n",
       "    <span style=\"color: #008080; text-decoration-color: #008080; font-weight: bold\">0.7142857142857143</span>,\n",
       "    <span style=\"color: #008080; text-decoration-color: #008080; font-weight: bold\">0.7380952380952381</span>,\n",
       "    <span style=\"color: #008080; text-decoration-color: #008080; font-weight: bold\">0.7380952380952381</span>,\n",
       "    <span style=\"color: #008080; text-decoration-color: #008080; font-weight: bold\">0.7142857142857143</span>,\n",
       "    <span style=\"color: #008080; text-decoration-color: #008080; font-weight: bold\">0.7142857142857143</span>,\n",
       "    <span style=\"color: #008080; text-decoration-color: #008080; font-weight: bold\">0.7142857142857143</span>,\n",
       "    <span style=\"color: #008080; text-decoration-color: #008080; font-weight: bold\">0.7380952380952381</span>,\n",
       "    <span style=\"color: #008080; text-decoration-color: #008080; font-weight: bold\">0.6904761904761905</span>,\n",
       "    <span style=\"color: #008080; text-decoration-color: #008080; font-weight: bold\">0.7142857142857143</span>,\n",
       "    <span style=\"color: #008080; text-decoration-color: #008080; font-weight: bold\">0.6904761904761905</span>\n",
       "<span style=\"font-weight: bold\">]</span>\n",
       "</pre>\n"
      ],
      "text/plain": [
       "\u001b[1m[\u001b[0m\n",
       "    \u001b[1;36m0.8809523809523809\u001b[0m,\n",
       "    \u001b[1;36m0.8333333333333334\u001b[0m,\n",
       "    \u001b[1;36m0.8809523809523809\u001b[0m,\n",
       "    \u001b[1;36m0.8333333333333334\u001b[0m,\n",
       "    \u001b[1;36m0.8571428571428571\u001b[0m,\n",
       "    \u001b[1;36m0.8333333333333334\u001b[0m,\n",
       "    \u001b[1;36m0.8095238095238095\u001b[0m,\n",
       "    \u001b[1;36m0.8571428571428571\u001b[0m,\n",
       "    \u001b[1;36m0.8333333333333334\u001b[0m,\n",
       "    \u001b[1;36m0.8095238095238095\u001b[0m,\n",
       "    \u001b[1;36m0.7619047619047619\u001b[0m,\n",
       "    \u001b[1;36m0.7142857142857143\u001b[0m,\n",
       "    \u001b[1;36m0.7619047619047619\u001b[0m,\n",
       "    \u001b[1;36m0.7380952380952381\u001b[0m,\n",
       "    \u001b[1;36m0.7619047619047619\u001b[0m,\n",
       "    \u001b[1;36m0.6904761904761905\u001b[0m,\n",
       "    \u001b[1;36m0.7380952380952381\u001b[0m,\n",
       "    \u001b[1;36m0.7142857142857143\u001b[0m,\n",
       "    \u001b[1;36m0.7142857142857143\u001b[0m,\n",
       "    \u001b[1;36m0.7142857142857143\u001b[0m,\n",
       "    \u001b[1;36m0.7380952380952381\u001b[0m,\n",
       "    \u001b[1;36m0.7380952380952381\u001b[0m,\n",
       "    \u001b[1;36m0.7142857142857143\u001b[0m,\n",
       "    \u001b[1;36m0.7142857142857143\u001b[0m,\n",
       "    \u001b[1;36m0.7142857142857143\u001b[0m,\n",
       "    \u001b[1;36m0.7380952380952381\u001b[0m,\n",
       "    \u001b[1;36m0.6904761904761905\u001b[0m,\n",
       "    \u001b[1;36m0.7142857142857143\u001b[0m,\n",
       "    \u001b[1;36m0.6904761904761905\u001b[0m\n",
       "\u001b[1m]\u001b[0m\n"
      ]
     },
     "metadata": {},
     "output_type": "display_data"
    },
    {
     "data": {
      "image/png": "[encoded data removed]",
      "text/plain": [
       "<Figure size 640x480 with 1 Axes>"
      ]
     },
     "metadata": {},
     "output_type": "display_data"
    }
   ],
   "source": [
    "#primera repetición\n",
    "inputs_train, inputs_test, targets_train, targets_test = train_test_split(inputs, targets, test_size=0.2, random_state=42)\n",
    "entrenar_y_dibujar(inputs_train, inputs_test, targets_train, targets_test)"
   ]
  },
  {
   "cell_type": "code",
   "execution_count": 14,
   "metadata": {
    "tags": []
   },
   "outputs": [
    {
     "data": {
      "text/html": [
       "<pre style=\"white-space:pre;overflow-x:auto;line-height:normal;font-family:Menlo,'DejaVu Sans Mono',consolas,'Courier New',monospace\"><span style=\"font-weight: bold\">[</span>\n",
       "    <span style=\"color: #008080; text-decoration-color: #008080; font-weight: bold\">0.8809523809523809</span>,\n",
       "    <span style=\"color: #008080; text-decoration-color: #008080; font-weight: bold\">0.8333333333333334</span>,\n",
       "    <span style=\"color: #008080; text-decoration-color: #008080; font-weight: bold\">0.8809523809523809</span>,\n",
       "    <span style=\"color: #008080; text-decoration-color: #008080; font-weight: bold\">0.8333333333333334</span>,\n",
       "    <span style=\"color: #008080; text-decoration-color: #008080; font-weight: bold\">0.8571428571428571</span>,\n",
       "    <span style=\"color: #008080; text-decoration-color: #008080; font-weight: bold\">0.8333333333333334</span>,\n",
       "    <span style=\"color: #008080; text-decoration-color: #008080; font-weight: bold\">0.8095238095238095</span>,\n",
       "    <span style=\"color: #008080; text-decoration-color: #008080; font-weight: bold\">0.8571428571428571</span>,\n",
       "    <span style=\"color: #008080; text-decoration-color: #008080; font-weight: bold\">0.8333333333333334</span>,\n",
       "    <span style=\"color: #008080; text-decoration-color: #008080; font-weight: bold\">0.8095238095238095</span>,\n",
       "    <span style=\"color: #008080; text-decoration-color: #008080; font-weight: bold\">0.7619047619047619</span>,\n",
       "    <span style=\"color: #008080; text-decoration-color: #008080; font-weight: bold\">0.7142857142857143</span>,\n",
       "    <span style=\"color: #008080; text-decoration-color: #008080; font-weight: bold\">0.7619047619047619</span>,\n",
       "    <span style=\"color: #008080; text-decoration-color: #008080; font-weight: bold\">0.7380952380952381</span>,\n",
       "    <span style=\"color: #008080; text-decoration-color: #008080; font-weight: bold\">0.7619047619047619</span>,\n",
       "    <span style=\"color: #008080; text-decoration-color: #008080; font-weight: bold\">0.6904761904761905</span>,\n",
       "    <span style=\"color: #008080; text-decoration-color: #008080; font-weight: bold\">0.7380952380952381</span>,\n",
       "    <span style=\"color: #008080; text-decoration-color: #008080; font-weight: bold\">0.7142857142857143</span>,\n",
       "    <span style=\"color: #008080; text-decoration-color: #008080; font-weight: bold\">0.7142857142857143</span>,\n",
       "    <span style=\"color: #008080; text-decoration-color: #008080; font-weight: bold\">0.7142857142857143</span>,\n",
       "    <span style=\"color: #008080; text-decoration-color: #008080; font-weight: bold\">0.7380952380952381</span>,\n",
       "    <span style=\"color: #008080; text-decoration-color: #008080; font-weight: bold\">0.7380952380952381</span>,\n",
       "    <span style=\"color: #008080; text-decoration-color: #008080; font-weight: bold\">0.7142857142857143</span>,\n",
       "    <span style=\"color: #008080; text-decoration-color: #008080; font-weight: bold\">0.7142857142857143</span>,\n",
       "    <span style=\"color: #008080; text-decoration-color: #008080; font-weight: bold\">0.7142857142857143</span>,\n",
       "    <span style=\"color: #008080; text-decoration-color: #008080; font-weight: bold\">0.7380952380952381</span>,\n",
       "    <span style=\"color: #008080; text-decoration-color: #008080; font-weight: bold\">0.6904761904761905</span>,\n",
       "    <span style=\"color: #008080; text-decoration-color: #008080; font-weight: bold\">0.7142857142857143</span>,\n",
       "    <span style=\"color: #008080; text-decoration-color: #008080; font-weight: bold\">0.6904761904761905</span>\n",
       "<span style=\"font-weight: bold\">]</span>\n",
       "</pre>\n"
      ],
      "text/plain": [
       "\u001b[1m[\u001b[0m\n",
       "    \u001b[1;36m0.8809523809523809\u001b[0m,\n",
       "    \u001b[1;36m0.8333333333333334\u001b[0m,\n",
       "    \u001b[1;36m0.8809523809523809\u001b[0m,\n",
       "    \u001b[1;36m0.8333333333333334\u001b[0m,\n",
       "    \u001b[1;36m0.8571428571428571\u001b[0m,\n",
       "    \u001b[1;36m0.8333333333333334\u001b[0m,\n",
       "    \u001b[1;36m0.8095238095238095\u001b[0m,\n",
       "    \u001b[1;36m0.8571428571428571\u001b[0m,\n",
       "    \u001b[1;36m0.8333333333333334\u001b[0m,\n",
       "    \u001b[1;36m0.8095238095238095\u001b[0m,\n",
       "    \u001b[1;36m0.7619047619047619\u001b[0m,\n",
       "    \u001b[1;36m0.7142857142857143\u001b[0m,\n",
       "    \u001b[1;36m0.7619047619047619\u001b[0m,\n",
       "    \u001b[1;36m0.7380952380952381\u001b[0m,\n",
       "    \u001b[1;36m0.7619047619047619\u001b[0m,\n",
       "    \u001b[1;36m0.6904761904761905\u001b[0m,\n",
       "    \u001b[1;36m0.7380952380952381\u001b[0m,\n",
       "    \u001b[1;36m0.7142857142857143\u001b[0m,\n",
       "    \u001b[1;36m0.7142857142857143\u001b[0m,\n",
       "    \u001b[1;36m0.7142857142857143\u001b[0m,\n",
       "    \u001b[1;36m0.7380952380952381\u001b[0m,\n",
       "    \u001b[1;36m0.7380952380952381\u001b[0m,\n",
       "    \u001b[1;36m0.7142857142857143\u001b[0m,\n",
       "    \u001b[1;36m0.7142857142857143\u001b[0m,\n",
       "    \u001b[1;36m0.7142857142857143\u001b[0m,\n",
       "    \u001b[1;36m0.7380952380952381\u001b[0m,\n",
       "    \u001b[1;36m0.6904761904761905\u001b[0m,\n",
       "    \u001b[1;36m0.7142857142857143\u001b[0m,\n",
       "    \u001b[1;36m0.6904761904761905\u001b[0m\n",
       "\u001b[1m]\u001b[0m\n"
      ]
     },
     "metadata": {},
     "output_type": "display_data"
    },
    {
     "data": {
      "image/png": "[encoded data removed]",
      "text/plain": [
       "<Figure size 640x480 with 1 Axes>"
      ]
     },
     "metadata": {},
     "output_type": "display_data"
    }
   ],
   "source": [
    "#segunda repetición\n",
    "inputs_train, inputs_test, targets_train, targets_test = train_test_split(inputs, targets, test_size=0.2, random_state=42)\n",
    "entrenar_y_dibujar(inputs_train, inputs_test, targets_train, targets_test)"
   ]
  },
  {
   "cell_type": "code",
   "execution_count": 15,
   "metadata": {
    "tags": []
   },
   "outputs": [
    {
     "data": {
      "text/html": [
       "<pre style=\"white-space:pre;overflow-x:auto;line-height:normal;font-family:Menlo,'DejaVu Sans Mono',consolas,'Courier New',monospace\"><span style=\"font-weight: bold\">[</span>\n",
       "    <span style=\"color: #008080; text-decoration-color: #008080; font-weight: bold\">0.8095238095238095</span>,\n",
       "    <span style=\"color: #008080; text-decoration-color: #008080; font-weight: bold\">0.8095238095238095</span>,\n",
       "    <span style=\"color: #008080; text-decoration-color: #008080; font-weight: bold\">0.8095238095238095</span>,\n",
       "    <span style=\"color: #008080; text-decoration-color: #008080; font-weight: bold\">0.7380952380952381</span>,\n",
       "    <span style=\"color: #008080; text-decoration-color: #008080; font-weight: bold\">0.7857142857142857</span>,\n",
       "    <span style=\"color: #008080; text-decoration-color: #008080; font-weight: bold\">0.8095238095238095</span>,\n",
       "    <span style=\"color: #008080; text-decoration-color: #008080; font-weight: bold\">0.7619047619047619</span>,\n",
       "    <span style=\"color: #008080; text-decoration-color: #008080; font-weight: bold\">0.7619047619047619</span>,\n",
       "    <span style=\"color: #008080; text-decoration-color: #008080; font-weight: bold\">0.7380952380952381</span>,\n",
       "    <span style=\"color: #008080; text-decoration-color: #008080; font-weight: bold\">0.7857142857142857</span>,\n",
       "    <span style=\"color: #008080; text-decoration-color: #008080; font-weight: bold\">0.7380952380952381</span>,\n",
       "    <span style=\"color: #008080; text-decoration-color: #008080; font-weight: bold\">0.7619047619047619</span>,\n",
       "    <span style=\"color: #008080; text-decoration-color: #008080; font-weight: bold\">0.7380952380952381</span>,\n",
       "    <span style=\"color: #008080; text-decoration-color: #008080; font-weight: bold\">0.7142857142857143</span>,\n",
       "    <span style=\"color: #008080; text-decoration-color: #008080; font-weight: bold\">0.7380952380952381</span>,\n",
       "    <span style=\"color: #008080; text-decoration-color: #008080; font-weight: bold\">0.7380952380952381</span>,\n",
       "    <span style=\"color: #008080; text-decoration-color: #008080; font-weight: bold\">0.7619047619047619</span>,\n",
       "    <span style=\"color: #008080; text-decoration-color: #008080; font-weight: bold\">0.7142857142857143</span>,\n",
       "    <span style=\"color: #008080; text-decoration-color: #008080; font-weight: bold\">0.7142857142857143</span>,\n",
       "    <span style=\"color: #008080; text-decoration-color: #008080; font-weight: bold\">0.7380952380952381</span>,\n",
       "    <span style=\"color: #008080; text-decoration-color: #008080; font-weight: bold\">0.7619047619047619</span>,\n",
       "    <span style=\"color: #008080; text-decoration-color: #008080; font-weight: bold\">0.7619047619047619</span>,\n",
       "    <span style=\"color: #008080; text-decoration-color: #008080; font-weight: bold\">0.7857142857142857</span>,\n",
       "    <span style=\"color: #008080; text-decoration-color: #008080; font-weight: bold\">0.7619047619047619</span>,\n",
       "    <span style=\"color: #008080; text-decoration-color: #008080; font-weight: bold\">0.7142857142857143</span>,\n",
       "    <span style=\"color: #008080; text-decoration-color: #008080; font-weight: bold\">0.7380952380952381</span>,\n",
       "    <span style=\"color: #008080; text-decoration-color: #008080; font-weight: bold\">0.7142857142857143</span>,\n",
       "    <span style=\"color: #008080; text-decoration-color: #008080; font-weight: bold\">0.7857142857142857</span>,\n",
       "    <span style=\"color: #008080; text-decoration-color: #008080; font-weight: bold\">0.7142857142857143</span>\n",
       "<span style=\"font-weight: bold\">]</span>\n",
       "</pre>\n"
      ],
      "text/plain": [
       "\u001b[1m[\u001b[0m\n",
       "    \u001b[1;36m0.8095238095238095\u001b[0m,\n",
       "    \u001b[1;36m0.8095238095238095\u001b[0m,\n",
       "    \u001b[1;36m0.8095238095238095\u001b[0m,\n",
       "    \u001b[1;36m0.7380952380952381\u001b[0m,\n",
       "    \u001b[1;36m0.7857142857142857\u001b[0m,\n",
       "    \u001b[1;36m0.8095238095238095\u001b[0m,\n",
       "    \u001b[1;36m0.7619047619047619\u001b[0m,\n",
       "    \u001b[1;36m0.7619047619047619\u001b[0m,\n",
       "    \u001b[1;36m0.7380952380952381\u001b[0m,\n",
       "    \u001b[1;36m0.7857142857142857\u001b[0m,\n",
       "    \u001b[1;36m0.7380952380952381\u001b[0m,\n",
       "    \u001b[1;36m0.7619047619047619\u001b[0m,\n",
       "    \u001b[1;36m0.7380952380952381\u001b[0m,\n",
       "    \u001b[1;36m0.7142857142857143\u001b[0m,\n",
       "    \u001b[1;36m0.7380952380952381\u001b[0m,\n",
       "    \u001b[1;36m0.7380952380952381\u001b[0m,\n",
       "    \u001b[1;36m0.7619047619047619\u001b[0m,\n",
       "    \u001b[1;36m0.7142857142857143\u001b[0m,\n",
       "    \u001b[1;36m0.7142857142857143\u001b[0m,\n",
       "    \u001b[1;36m0.7380952380952381\u001b[0m,\n",
       "    \u001b[1;36m0.7619047619047619\u001b[0m,\n",
       "    \u001b[1;36m0.7619047619047619\u001b[0m,\n",
       "    \u001b[1;36m0.7857142857142857\u001b[0m,\n",
       "    \u001b[1;36m0.7619047619047619\u001b[0m,\n",
       "    \u001b[1;36m0.7142857142857143\u001b[0m,\n",
       "    \u001b[1;36m0.7380952380952381\u001b[0m,\n",
       "    \u001b[1;36m0.7142857142857143\u001b[0m,\n",
       "    \u001b[1;36m0.7857142857142857\u001b[0m,\n",
       "    \u001b[1;36m0.7142857142857143\u001b[0m\n",
       "\u001b[1m]\u001b[0m\n"
      ]
     },
     "metadata": {},
     "output_type": "display_data"
    },
    {
     "data": {
      "image/png": "[encoded data removed]",
      "text/plain": [
       "<Figure size 640x480 with 1 Axes>"
      ]
     },
     "metadata": {},
     "output_type": "display_data"
    }
   ],
   "source": [
    "#con un split diferente\n",
    "inputs_train, inputs_test, targets_train, targets_test = train_test_split(inputs, targets, test_size=0.2)\n",
    "entrenar_y_dibujar(inputs_train, inputs_test, targets_train, targets_test)"
   ]
  },
  {
   "cell_type": "markdown",
   "metadata": {},
   "source": [
    "En términos generales:\n",
    "* Vemos que al coincidir el estado del spit los resultados son replicables, \n",
    "* El accuracy disminuye cuando se incrementa la complejidad.\n",
    "* Los modelos muy complejos para los datos analizados son penalizados severamente en el accuracy de test\n",
    "\n",
    "**PREGUNTA: ¿por qué?** En general cuando se incrementa la complejidad del modelo no implica que este pueda resolver mejor el problema plantedo, todo lo contraría este tiende al sobreajuste (*overfitting*) o al subajuste (*underfitting*). \n",
    "**PREGUNTA: Supongase que  que ahora mismo hemos seguido la mejor aproximación posible para entrenar un modelo de ML.¿qué modelo pondríamos en producción?** La respuesta a esta pregunta debiera de ser el modelo más sencillo entre aquellos que han alcanzaddo los mejores resultdaos en test.\n",
    "Aun así vemos una cosa y es que no todas las particiones tienen los mismos resultados aun con los mismos individuos, es decir somos dependientes de que hemos escogido como test y que hemos escogido como conjunto de entrenamiento. Este hecho nos llevará al siguiente punto que el el Además vemos la diferencia entre las dos pruebas con particiones, y que nos llevará al siguiente concepto que es el * k-fold cross-validation* tratando de paliar este punto.\n",
    "Eso quiere decir que *hold-out* no sirve para nada, para nada, si tengo suficientes datos no sería preciso el usar otro tipo de metodos, aunque se ha demostrado con un *sampling* puramente aleatorio que tenemos entorno al 20% de posibilidades de introducir un sesgo debido a la división de los datos. \n",
    "\n",
    "Por tanto, cuando usar este tipo de aproximación, en primer lugar cuando queramos hacer alguna prueba rápida, este siempre será menos costoso computacionalmente que los esquemas que veremos a continuación. O bien, cuando tengamos tamaños muestrales grandes en el que esta cuasi-garantizada la diversidad entre los dos subconjuntos."
   ]
  },
  {
   "attachments": {
    "sphx_glr_plot_cv_indices_0041.png": {
     "image/png": "[encoded data removed]"
    }
   },
   "cell_type": "markdown",
   "metadata": {},
   "source": [
    "## k-fold cross-validation\n",
    "Una vez vistas las limitaciones del reparto de las observaciones en dos conjuntos (entrenamiento y test), vamos a ver una mejor aproximación que va a permitir a los modelos generalizar en condiciones más estables y seguras o al menos tomar una decisión más informada por nuestra parte con mayor confianza. \n",
    "\n",
    "Vamos a realizar un *K-fold Cross-validation*, en este caso seguiremos los siguientes pasos:\n",
    "\n",
    "1. Divide el dataset en **k** grupos de igual tamaño\n",
    "2. Usa el primer fold para test y todos los demás juntos para entrenar el modelo\n",
    "3. Calcula el accuracy en test\n",
    "4. Repite los pasos 2 y 3 **k** veces, utilizando como fold de validación una vez cada uno de los folds\n",
    "4. Calcula el rendimiento global al final del proceso. Existen dos aproximaciones:\n",
    "    + hacer la media de todos los folds\n",
    "    + una aproximación más purista o respetuosa con el ML extraería la salida esperada y la salida predicha (vectores) de cada uno de los folds, reconstruiría el *vector grande* y calcularía el resultado.\n",
    " \n",
    "El esquema de este procedimiento sería como en el gráfico siguiente\n",
    "\n",
    "![sphx_glr_plot_cv_indices_0041.png](attachment:sphx_glr_plot_cv_indices_0041.png)\n",
    "Por lo tanto, cada uno de los posibles datos dentro del dataset se usa al menos una vez en el test y el valor extraido representará como se comporta el sistema con todo el conjunto reduciendo, por lo tanto, el sesgo debido a la selección.\n",
    "\n",
    "Para hacer esto, `scikit-learn` también nos ofrece utilidades que simplifican mucho el trabajo mediante la clase KFold, vemaos un ejemplo con numeros secuenciales:"
   ]
  },
  {
   "cell_type": "code",
   "execution_count": 16,
   "metadata": {
    "tags": []
   },
   "outputs": [
    {
     "data": {
      "text/html": [
       "<pre style=\"white-space:pre;overflow-x:auto;line-height:normal;font-family:Menlo,'DejaVu Sans Mono',consolas,'Courier New',monospace\">TRAIN: <span style=\"font-weight: bold\">[</span> <span style=\"color: #008080; text-decoration-color: #008080; font-weight: bold\">6</span>  <span style=\"color: #008080; text-decoration-color: #008080; font-weight: bold\">7</span>  <span style=\"color: #008080; text-decoration-color: #008080; font-weight: bold\">8</span>  <span style=\"color: #008080; text-decoration-color: #008080; font-weight: bold\">9</span> <span style=\"color: #008080; text-decoration-color: #008080; font-weight: bold\">10</span> <span style=\"color: #008080; text-decoration-color: #008080; font-weight: bold\">11</span> <span style=\"color: #008080; text-decoration-color: #008080; font-weight: bold\">12</span> <span style=\"color: #008080; text-decoration-color: #008080; font-weight: bold\">13</span> <span style=\"color: #008080; text-decoration-color: #008080; font-weight: bold\">14</span> <span style=\"color: #008080; text-decoration-color: #008080; font-weight: bold\">15</span> <span style=\"color: #008080; text-decoration-color: #008080; font-weight: bold\">16</span> <span style=\"color: #008080; text-decoration-color: #008080; font-weight: bold\">17</span> <span style=\"color: #008080; text-decoration-color: #008080; font-weight: bold\">18</span> <span style=\"color: #008080; text-decoration-color: #008080; font-weight: bold\">19</span> <span style=\"color: #008080; text-decoration-color: #008080; font-weight: bold\">20</span> <span style=\"color: #008080; text-decoration-color: #008080; font-weight: bold\">21</span> <span style=\"color: #008080; text-decoration-color: #008080; font-weight: bold\">22</span> <span style=\"color: #008080; text-decoration-color: #008080; font-weight: bold\">23</span> <span style=\"color: #008080; text-decoration-color: #008080; font-weight: bold\">24</span> <span style=\"color: #008080; text-decoration-color: #008080; font-weight: bold\">25</span> <span style=\"color: #008080; text-decoration-color: #008080; font-weight: bold\">26</span> <span style=\"color: #008080; text-decoration-color: #008080; font-weight: bold\">27</span> <span style=\"color: #008080; text-decoration-color: #008080; font-weight: bold\">28</span> <span style=\"color: #008080; text-decoration-color: #008080; font-weight: bold\">29</span><span style=\"font-weight: bold\">]</span> TEST: <span style=\"font-weight: bold\">[</span><span style=\"color: #008080; text-decoration-color: #008080; font-weight: bold\">0</span> <span style=\"color: #008080; text-decoration-color: #008080; font-weight: bold\">1</span> <span style=\"color: #008080; text-decoration-color: #008080; font-weight: bold\">2</span> <span style=\"color: #008080; text-decoration-color: #008080; font-weight: bold\">3</span> <span style=\"color: #008080; text-decoration-color: #008080; font-weight: bold\">4</span> <span style=\"color: #008080; text-decoration-color: #008080; font-weight: bold\">5</span><span style=\"font-weight: bold\">]</span>\n",
       "</pre>\n"
      ],
      "text/plain": [
       "TRAIN: \u001b[1m[\u001b[0m \u001b[1;36m6\u001b[0m  \u001b[1;36m7\u001b[0m  \u001b[1;36m8\u001b[0m  \u001b[1;36m9\u001b[0m \u001b[1;36m10\u001b[0m \u001b[1;36m11\u001b[0m \u001b[1;36m12\u001b[0m \u001b[1;36m13\u001b[0m \u001b[1;36m14\u001b[0m \u001b[1;36m15\u001b[0m \u001b[1;36m16\u001b[0m \u001b[1;36m17\u001b[0m \u001b[1;36m18\u001b[0m \u001b[1;36m19\u001b[0m \u001b[1;36m20\u001b[0m \u001b[1;36m21\u001b[0m \u001b[1;36m22\u001b[0m \u001b[1;36m23\u001b[0m \u001b[1;36m24\u001b[0m \u001b[1;36m25\u001b[0m \u001b[1;36m26\u001b[0m \u001b[1;36m27\u001b[0m \u001b[1;36m28\u001b[0m \u001b[1;36m29\u001b[0m\u001b[1m]\u001b[0m TEST: \u001b[1m[\u001b[0m\u001b[1;36m0\u001b[0m \u001b[1;36m1\u001b[0m \u001b[1;36m2\u001b[0m \u001b[1;36m3\u001b[0m \u001b[1;36m4\u001b[0m \u001b[1;36m5\u001b[0m\u001b[1m]\u001b[0m\n"
      ]
     },
     "metadata": {},
     "output_type": "display_data"
    },
    {
     "data": {
      "text/html": [
       "<pre style=\"white-space:pre;overflow-x:auto;line-height:normal;font-family:Menlo,'DejaVu Sans Mono',consolas,'Courier New',monospace\">TRAIN: <span style=\"font-weight: bold\">[</span> <span style=\"color: #008080; text-decoration-color: #008080; font-weight: bold\">0</span>  <span style=\"color: #008080; text-decoration-color: #008080; font-weight: bold\">1</span>  <span style=\"color: #008080; text-decoration-color: #008080; font-weight: bold\">2</span>  <span style=\"color: #008080; text-decoration-color: #008080; font-weight: bold\">3</span>  <span style=\"color: #008080; text-decoration-color: #008080; font-weight: bold\">4</span>  <span style=\"color: #008080; text-decoration-color: #008080; font-weight: bold\">5</span> <span style=\"color: #008080; text-decoration-color: #008080; font-weight: bold\">12</span> <span style=\"color: #008080; text-decoration-color: #008080; font-weight: bold\">13</span> <span style=\"color: #008080; text-decoration-color: #008080; font-weight: bold\">14</span> <span style=\"color: #008080; text-decoration-color: #008080; font-weight: bold\">15</span> <span style=\"color: #008080; text-decoration-color: #008080; font-weight: bold\">16</span> <span style=\"color: #008080; text-decoration-color: #008080; font-weight: bold\">17</span> <span style=\"color: #008080; text-decoration-color: #008080; font-weight: bold\">18</span> <span style=\"color: #008080; text-decoration-color: #008080; font-weight: bold\">19</span> <span style=\"color: #008080; text-decoration-color: #008080; font-weight: bold\">20</span> <span style=\"color: #008080; text-decoration-color: #008080; font-weight: bold\">21</span> <span style=\"color: #008080; text-decoration-color: #008080; font-weight: bold\">22</span> <span style=\"color: #008080; text-decoration-color: #008080; font-weight: bold\">23</span> <span style=\"color: #008080; text-decoration-color: #008080; font-weight: bold\">24</span> <span style=\"color: #008080; text-decoration-color: #008080; font-weight: bold\">25</span> <span style=\"color: #008080; text-decoration-color: #008080; font-weight: bold\">26</span> <span style=\"color: #008080; text-decoration-color: #008080; font-weight: bold\">27</span> <span style=\"color: #008080; text-decoration-color: #008080; font-weight: bold\">28</span> <span style=\"color: #008080; text-decoration-color: #008080; font-weight: bold\">29</span><span style=\"font-weight: bold\">]</span> TEST: <span style=\"font-weight: bold\">[</span> <span style=\"color: #008080; text-decoration-color: #008080; font-weight: bold\">6</span>  <span style=\"color: #008080; text-decoration-color: #008080; font-weight: bold\">7</span>  <span style=\"color: #008080; text-decoration-color: #008080; font-weight: bold\">8</span>  <span style=\"color: #008080; text-decoration-color: #008080; font-weight: bold\">9</span> <span style=\"color: #008080; text-decoration-color: #008080; font-weight: bold\">10</span> <span style=\"color: #008080; text-decoration-color: #008080; font-weight: bold\">11</span><span style=\"font-weight: bold\">]</span>\n",
       "</pre>\n"
      ],
      "text/plain": [
       "TRAIN: \u001b[1m[\u001b[0m \u001b[1;36m0\u001b[0m  \u001b[1;36m1\u001b[0m  \u001b[1;36m2\u001b[0m  \u001b[1;36m3\u001b[0m  \u001b[1;36m4\u001b[0m  \u001b[1;36m5\u001b[0m \u001b[1;36m12\u001b[0m \u001b[1;36m13\u001b[0m \u001b[1;36m14\u001b[0m \u001b[1;36m15\u001b[0m \u001b[1;36m16\u001b[0m \u001b[1;36m17\u001b[0m \u001b[1;36m18\u001b[0m \u001b[1;36m19\u001b[0m \u001b[1;36m20\u001b[0m \u001b[1;36m21\u001b[0m \u001b[1;36m22\u001b[0m \u001b[1;36m23\u001b[0m \u001b[1;36m24\u001b[0m \u001b[1;36m25\u001b[0m \u001b[1;36m26\u001b[0m \u001b[1;36m27\u001b[0m \u001b[1;36m28\u001b[0m \u001b[1;36m29\u001b[0m\u001b[1m]\u001b[0m TEST: \u001b[1m[\u001b[0m \u001b[1;36m6\u001b[0m  \u001b[1;36m7\u001b[0m  \u001b[1;36m8\u001b[0m  \u001b[1;36m9\u001b[0m \u001b[1;36m10\u001b[0m \u001b[1;36m11\u001b[0m\u001b[1m]\u001b[0m\n"
      ]
     },
     "metadata": {},
     "output_type": "display_data"
    },
    {
     "data": {
      "text/html": [
       "<pre style=\"white-space:pre;overflow-x:auto;line-height:normal;font-family:Menlo,'DejaVu Sans Mono',consolas,'Courier New',monospace\">TRAIN: <span style=\"font-weight: bold\">[</span> <span style=\"color: #008080; text-decoration-color: #008080; font-weight: bold\">0</span>  <span style=\"color: #008080; text-decoration-color: #008080; font-weight: bold\">1</span>  <span style=\"color: #008080; text-decoration-color: #008080; font-weight: bold\">2</span>  <span style=\"color: #008080; text-decoration-color: #008080; font-weight: bold\">3</span>  <span style=\"color: #008080; text-decoration-color: #008080; font-weight: bold\">4</span>  <span style=\"color: #008080; text-decoration-color: #008080; font-weight: bold\">5</span>  <span style=\"color: #008080; text-decoration-color: #008080; font-weight: bold\">6</span>  <span style=\"color: #008080; text-decoration-color: #008080; font-weight: bold\">7</span>  <span style=\"color: #008080; text-decoration-color: #008080; font-weight: bold\">8</span>  <span style=\"color: #008080; text-decoration-color: #008080; font-weight: bold\">9</span> <span style=\"color: #008080; text-decoration-color: #008080; font-weight: bold\">10</span> <span style=\"color: #008080; text-decoration-color: #008080; font-weight: bold\">11</span> <span style=\"color: #008080; text-decoration-color: #008080; font-weight: bold\">18</span> <span style=\"color: #008080; text-decoration-color: #008080; font-weight: bold\">19</span> <span style=\"color: #008080; text-decoration-color: #008080; font-weight: bold\">20</span> <span style=\"color: #008080; text-decoration-color: #008080; font-weight: bold\">21</span> <span style=\"color: #008080; text-decoration-color: #008080; font-weight: bold\">22</span> <span style=\"color: #008080; text-decoration-color: #008080; font-weight: bold\">23</span> <span style=\"color: #008080; text-decoration-color: #008080; font-weight: bold\">24</span> <span style=\"color: #008080; text-decoration-color: #008080; font-weight: bold\">25</span> <span style=\"color: #008080; text-decoration-color: #008080; font-weight: bold\">26</span> <span style=\"color: #008080; text-decoration-color: #008080; font-weight: bold\">27</span> <span style=\"color: #008080; text-decoration-color: #008080; font-weight: bold\">28</span> <span style=\"color: #008080; text-decoration-color: #008080; font-weight: bold\">29</span><span style=\"font-weight: bold\">]</span> TEST: <span style=\"font-weight: bold\">[</span><span style=\"color: #008080; text-decoration-color: #008080; font-weight: bold\">12</span> <span style=\"color: #008080; text-decoration-color: #008080; font-weight: bold\">13</span> <span style=\"color: #008080; text-decoration-color: #008080; font-weight: bold\">14</span> <span style=\"color: #008080; text-decoration-color: #008080; font-weight: bold\">15</span> <span style=\"color: #008080; text-decoration-color: #008080; font-weight: bold\">16</span> <span style=\"color: #008080; text-decoration-color: #008080; font-weight: bold\">17</span><span style=\"font-weight: bold\">]</span>\n",
       "</pre>\n"
      ],
      "text/plain": [
       "TRAIN: \u001b[1m[\u001b[0m \u001b[1;36m0\u001b[0m  \u001b[1;36m1\u001b[0m  \u001b[1;36m2\u001b[0m  \u001b[1;36m3\u001b[0m  \u001b[1;36m4\u001b[0m  \u001b[1;36m5\u001b[0m  \u001b[1;36m6\u001b[0m  \u001b[1;36m7\u001b[0m  \u001b[1;36m8\u001b[0m  \u001b[1;36m9\u001b[0m \u001b[1;36m10\u001b[0m \u001b[1;36m11\u001b[0m \u001b[1;36m18\u001b[0m \u001b[1;36m19\u001b[0m \u001b[1;36m20\u001b[0m \u001b[1;36m21\u001b[0m \u001b[1;36m22\u001b[0m \u001b[1;36m23\u001b[0m \u001b[1;36m24\u001b[0m \u001b[1;36m25\u001b[0m \u001b[1;36m26\u001b[0m \u001b[1;36m27\u001b[0m \u001b[1;36m28\u001b[0m \u001b[1;36m29\u001b[0m\u001b[1m]\u001b[0m TEST: \u001b[1m[\u001b[0m\u001b[1;36m12\u001b[0m \u001b[1;36m13\u001b[0m \u001b[1;36m14\u001b[0m \u001b[1;36m15\u001b[0m \u001b[1;36m16\u001b[0m \u001b[1;36m17\u001b[0m\u001b[1m]\u001b[0m\n"
      ]
     },
     "metadata": {},
     "output_type": "display_data"
    },
    {
     "data": {
      "text/html": [
       "<pre style=\"white-space:pre;overflow-x:auto;line-height:normal;font-family:Menlo,'DejaVu Sans Mono',consolas,'Courier New',monospace\">TRAIN: <span style=\"font-weight: bold\">[</span> <span style=\"color: #008080; text-decoration-color: #008080; font-weight: bold\">0</span>  <span style=\"color: #008080; text-decoration-color: #008080; font-weight: bold\">1</span>  <span style=\"color: #008080; text-decoration-color: #008080; font-weight: bold\">2</span>  <span style=\"color: #008080; text-decoration-color: #008080; font-weight: bold\">3</span>  <span style=\"color: #008080; text-decoration-color: #008080; font-weight: bold\">4</span>  <span style=\"color: #008080; text-decoration-color: #008080; font-weight: bold\">5</span>  <span style=\"color: #008080; text-decoration-color: #008080; font-weight: bold\">6</span>  <span style=\"color: #008080; text-decoration-color: #008080; font-weight: bold\">7</span>  <span style=\"color: #008080; text-decoration-color: #008080; font-weight: bold\">8</span>  <span style=\"color: #008080; text-decoration-color: #008080; font-weight: bold\">9</span> <span style=\"color: #008080; text-decoration-color: #008080; font-weight: bold\">10</span> <span style=\"color: #008080; text-decoration-color: #008080; font-weight: bold\">11</span> <span style=\"color: #008080; text-decoration-color: #008080; font-weight: bold\">12</span> <span style=\"color: #008080; text-decoration-color: #008080; font-weight: bold\">13</span> <span style=\"color: #008080; text-decoration-color: #008080; font-weight: bold\">14</span> <span style=\"color: #008080; text-decoration-color: #008080; font-weight: bold\">15</span> <span style=\"color: #008080; text-decoration-color: #008080; font-weight: bold\">16</span> <span style=\"color: #008080; text-decoration-color: #008080; font-weight: bold\">17</span> <span style=\"color: #008080; text-decoration-color: #008080; font-weight: bold\">24</span> <span style=\"color: #008080; text-decoration-color: #008080; font-weight: bold\">25</span> <span style=\"color: #008080; text-decoration-color: #008080; font-weight: bold\">26</span> <span style=\"color: #008080; text-decoration-color: #008080; font-weight: bold\">27</span> <span style=\"color: #008080; text-decoration-color: #008080; font-weight: bold\">28</span> <span style=\"color: #008080; text-decoration-color: #008080; font-weight: bold\">29</span><span style=\"font-weight: bold\">]</span> TEST: <span style=\"font-weight: bold\">[</span><span style=\"color: #008080; text-decoration-color: #008080; font-weight: bold\">18</span> <span style=\"color: #008080; text-decoration-color: #008080; font-weight: bold\">19</span> <span style=\"color: #008080; text-decoration-color: #008080; font-weight: bold\">20</span> <span style=\"color: #008080; text-decoration-color: #008080; font-weight: bold\">21</span> <span style=\"color: #008080; text-decoration-color: #008080; font-weight: bold\">22</span> <span style=\"color: #008080; text-decoration-color: #008080; font-weight: bold\">23</span><span style=\"font-weight: bold\">]</span>\n",
       "</pre>\n"
      ],
      "text/plain": [
       "TRAIN: \u001b[1m[\u001b[0m \u001b[1;36m0\u001b[0m  \u001b[1;36m1\u001b[0m  \u001b[1;36m2\u001b[0m  \u001b[1;36m3\u001b[0m  \u001b[1;36m4\u001b[0m  \u001b[1;36m5\u001b[0m  \u001b[1;36m6\u001b[0m  \u001b[1;36m7\u001b[0m  \u001b[1;36m8\u001b[0m  \u001b[1;36m9\u001b[0m \u001b[1;36m10\u001b[0m \u001b[1;36m11\u001b[0m \u001b[1;36m12\u001b[0m \u001b[1;36m13\u001b[0m \u001b[1;36m14\u001b[0m \u001b[1;36m15\u001b[0m \u001b[1;36m16\u001b[0m \u001b[1;36m17\u001b[0m \u001b[1;36m24\u001b[0m \u001b[1;36m25\u001b[0m \u001b[1;36m26\u001b[0m \u001b[1;36m27\u001b[0m \u001b[1;36m28\u001b[0m \u001b[1;36m29\u001b[0m\u001b[1m]\u001b[0m TEST: \u001b[1m[\u001b[0m\u001b[1;36m18\u001b[0m \u001b[1;36m19\u001b[0m \u001b[1;36m20\u001b[0m \u001b[1;36m21\u001b[0m \u001b[1;36m22\u001b[0m \u001b[1;36m23\u001b[0m\u001b[1m]\u001b[0m\n"
      ]
     },
     "metadata": {},
     "output_type": "display_data"
    },
    {
     "data": {
      "text/html": [
       "<pre style=\"white-space:pre;overflow-x:auto;line-height:normal;font-family:Menlo,'DejaVu Sans Mono',consolas,'Courier New',monospace\">TRAIN: <span style=\"font-weight: bold\">[</span> <span style=\"color: #008080; text-decoration-color: #008080; font-weight: bold\">0</span>  <span style=\"color: #008080; text-decoration-color: #008080; font-weight: bold\">1</span>  <span style=\"color: #008080; text-decoration-color: #008080; font-weight: bold\">2</span>  <span style=\"color: #008080; text-decoration-color: #008080; font-weight: bold\">3</span>  <span style=\"color: #008080; text-decoration-color: #008080; font-weight: bold\">4</span>  <span style=\"color: #008080; text-decoration-color: #008080; font-weight: bold\">5</span>  <span style=\"color: #008080; text-decoration-color: #008080; font-weight: bold\">6</span>  <span style=\"color: #008080; text-decoration-color: #008080; font-weight: bold\">7</span>  <span style=\"color: #008080; text-decoration-color: #008080; font-weight: bold\">8</span>  <span style=\"color: #008080; text-decoration-color: #008080; font-weight: bold\">9</span> <span style=\"color: #008080; text-decoration-color: #008080; font-weight: bold\">10</span> <span style=\"color: #008080; text-decoration-color: #008080; font-weight: bold\">11</span> <span style=\"color: #008080; text-decoration-color: #008080; font-weight: bold\">12</span> <span style=\"color: #008080; text-decoration-color: #008080; font-weight: bold\">13</span> <span style=\"color: #008080; text-decoration-color: #008080; font-weight: bold\">14</span> <span style=\"color: #008080; text-decoration-color: #008080; font-weight: bold\">15</span> <span style=\"color: #008080; text-decoration-color: #008080; font-weight: bold\">16</span> <span style=\"color: #008080; text-decoration-color: #008080; font-weight: bold\">17</span> <span style=\"color: #008080; text-decoration-color: #008080; font-weight: bold\">18</span> <span style=\"color: #008080; text-decoration-color: #008080; font-weight: bold\">19</span> <span style=\"color: #008080; text-decoration-color: #008080; font-weight: bold\">20</span> <span style=\"color: #008080; text-decoration-color: #008080; font-weight: bold\">21</span> <span style=\"color: #008080; text-decoration-color: #008080; font-weight: bold\">22</span> <span style=\"color: #008080; text-decoration-color: #008080; font-weight: bold\">23</span><span style=\"font-weight: bold\">]</span> TEST: <span style=\"font-weight: bold\">[</span><span style=\"color: #008080; text-decoration-color: #008080; font-weight: bold\">24</span> <span style=\"color: #008080; text-decoration-color: #008080; font-weight: bold\">25</span> <span style=\"color: #008080; text-decoration-color: #008080; font-weight: bold\">26</span> <span style=\"color: #008080; text-decoration-color: #008080; font-weight: bold\">27</span> <span style=\"color: #008080; text-decoration-color: #008080; font-weight: bold\">28</span> <span style=\"color: #008080; text-decoration-color: #008080; font-weight: bold\">29</span><span style=\"font-weight: bold\">]</span>\n",
       "</pre>\n"
      ],
      "text/plain": [
       "TRAIN: \u001b[1m[\u001b[0m \u001b[1;36m0\u001b[0m  \u001b[1;36m1\u001b[0m  \u001b[1;36m2\u001b[0m  \u001b[1;36m3\u001b[0m  \u001b[1;36m4\u001b[0m  \u001b[1;36m5\u001b[0m  \u001b[1;36m6\u001b[0m  \u001b[1;36m7\u001b[0m  \u001b[1;36m8\u001b[0m  \u001b[1;36m9\u001b[0m \u001b[1;36m10\u001b[0m \u001b[1;36m11\u001b[0m \u001b[1;36m12\u001b[0m \u001b[1;36m13\u001b[0m \u001b[1;36m14\u001b[0m \u001b[1;36m15\u001b[0m \u001b[1;36m16\u001b[0m \u001b[1;36m17\u001b[0m \u001b[1;36m18\u001b[0m \u001b[1;36m19\u001b[0m \u001b[1;36m20\u001b[0m \u001b[1;36m21\u001b[0m \u001b[1;36m22\u001b[0m \u001b[1;36m23\u001b[0m\u001b[1m]\u001b[0m TEST: \u001b[1m[\u001b[0m\u001b[1;36m24\u001b[0m \u001b[1;36m25\u001b[0m \u001b[1;36m26\u001b[0m \u001b[1;36m27\u001b[0m \u001b[1;36m28\u001b[0m \u001b[1;36m29\u001b[0m\u001b[1m]\u001b[0m\n"
      ]
     },
     "metadata": {},
     "output_type": "display_data"
    }
   ],
   "source": [
    "from sklearn.model_selection import KFold\n",
    "X = np.random.rand(30,10)\n",
    "y = np.random.rand(30,1)\n",
    "kf = KFold(n_splits=5)\n",
    "kf.get_n_splits(X)\n",
    "\n",
    "for train_index, test_index in kf.split(X):\n",
    "   print(\"TRAIN:\", train_index, \"TEST:\", test_index)\n",
    "   X_train, X_test = X[train_index], X[test_index]\n",
    "   y_train, y_test = y[train_index], y[test_index]\n"
   ]
  },
  {
   "cell_type": "markdown",
   "metadata": {},
   "source": [
    "**PREGUNTA: ¿le veis algún problema?**\n",
    "Efectivamente, los datos son correlativos, deberemos de indicar que queremos que no los baraje ya que en otro caso podríamos tener que todos los patrones de una clase caerían en la misma partición siendo esta poco representativa del total. Para ello, la función `KFold` tiene un parámetro `shuffle` que nos dará el comportameinto deseado."
   ]
  },
  {
   "cell_type": "code",
   "execution_count": 17,
   "metadata": {
    "tags": []
   },
   "outputs": [
    {
     "data": {
      "text/html": [
       "<pre style=\"white-space:pre;overflow-x:auto;line-height:normal;font-family:Menlo,'DejaVu Sans Mono',consolas,'Courier New',monospace\">TRAIN: <span style=\"font-weight: bold\">[</span> <span style=\"color: #008080; text-decoration-color: #008080; font-weight: bold\">0</span>  <span style=\"color: #008080; text-decoration-color: #008080; font-weight: bold\">1</span>  <span style=\"color: #008080; text-decoration-color: #008080; font-weight: bold\">2</span>  <span style=\"color: #008080; text-decoration-color: #008080; font-weight: bold\">3</span>  <span style=\"color: #008080; text-decoration-color: #008080; font-weight: bold\">4</span>  <span style=\"color: #008080; text-decoration-color: #008080; font-weight: bold\">5</span>  <span style=\"color: #008080; text-decoration-color: #008080; font-weight: bold\">6</span>  <span style=\"color: #008080; text-decoration-color: #008080; font-weight: bold\">7</span>  <span style=\"color: #008080; text-decoration-color: #008080; font-weight: bold\">8</span>  <span style=\"color: #008080; text-decoration-color: #008080; font-weight: bold\">9</span> <span style=\"color: #008080; text-decoration-color: #008080; font-weight: bold\">10</span> <span style=\"color: #008080; text-decoration-color: #008080; font-weight: bold\">11</span> <span style=\"color: #008080; text-decoration-color: #008080; font-weight: bold\">13</span> <span style=\"color: #008080; text-decoration-color: #008080; font-weight: bold\">14</span> <span style=\"color: #008080; text-decoration-color: #008080; font-weight: bold\">15</span> <span style=\"color: #008080; text-decoration-color: #008080; font-weight: bold\">16</span> <span style=\"color: #008080; text-decoration-color: #008080; font-weight: bold\">19</span> <span style=\"color: #008080; text-decoration-color: #008080; font-weight: bold\">20</span> <span style=\"color: #008080; text-decoration-color: #008080; font-weight: bold\">23</span> <span style=\"color: #008080; text-decoration-color: #008080; font-weight: bold\">24</span> <span style=\"color: #008080; text-decoration-color: #008080; font-weight: bold\">25</span> <span style=\"color: #008080; text-decoration-color: #008080; font-weight: bold\">29</span><span style=\"font-weight: bold\">]</span> TEST: <span style=\"font-weight: bold\">[</span><span style=\"color: #008080; text-decoration-color: #008080; font-weight: bold\">12</span> <span style=\"color: #008080; text-decoration-color: #008080; font-weight: bold\">17</span> <span style=\"color: #008080; text-decoration-color: #008080; font-weight: bold\">18</span> <span style=\"color: #008080; text-decoration-color: #008080; font-weight: bold\">21</span> <span style=\"color: #008080; text-decoration-color: #008080; font-weight: bold\">22</span> <span style=\"color: #008080; text-decoration-color: #008080; font-weight: bold\">26</span> <span style=\"color: #008080; text-decoration-color: #008080; font-weight: bold\">27</span> <span style=\"color: #008080; text-decoration-color: #008080; font-weight: bold\">28</span><span style=\"font-weight: bold\">]</span>\n",
       "</pre>\n"
      ],
      "text/plain": [
       "TRAIN: \u001b[1m[\u001b[0m \u001b[1;36m0\u001b[0m  \u001b[1;36m1\u001b[0m  \u001b[1;36m2\u001b[0m  \u001b[1;36m3\u001b[0m  \u001b[1;36m4\u001b[0m  \u001b[1;36m5\u001b[0m  \u001b[1;36m6\u001b[0m  \u001b[1;36m7\u001b[0m  \u001b[1;36m8\u001b[0m  \u001b[1;36m9\u001b[0m \u001b[1;36m10\u001b[0m \u001b[1;36m11\u001b[0m \u001b[1;36m13\u001b[0m \u001b[1;36m14\u001b[0m \u001b[1;36m15\u001b[0m \u001b[1;36m16\u001b[0m \u001b[1;36m19\u001b[0m \u001b[1;36m20\u001b[0m \u001b[1;36m23\u001b[0m \u001b[1;36m24\u001b[0m \u001b[1;36m25\u001b[0m \u001b[1;36m29\u001b[0m\u001b[1m]\u001b[0m TEST: \u001b[1m[\u001b[0m\u001b[1;36m12\u001b[0m \u001b[1;36m17\u001b[0m \u001b[1;36m18\u001b[0m \u001b[1;36m21\u001b[0m \u001b[1;36m22\u001b[0m \u001b[1;36m26\u001b[0m \u001b[1;36m27\u001b[0m \u001b[1;36m28\u001b[0m\u001b[1m]\u001b[0m\n"
      ]
     },
     "metadata": {},
     "output_type": "display_data"
    },
    {
     "data": {
      "text/html": [
       "<pre style=\"white-space:pre;overflow-x:auto;line-height:normal;font-family:Menlo,'DejaVu Sans Mono',consolas,'Courier New',monospace\">TRAIN: <span style=\"font-weight: bold\">[</span> <span style=\"color: #008080; text-decoration-color: #008080; font-weight: bold\">0</span>  <span style=\"color: #008080; text-decoration-color: #008080; font-weight: bold\">1</span>  <span style=\"color: #008080; text-decoration-color: #008080; font-weight: bold\">3</span>  <span style=\"color: #008080; text-decoration-color: #008080; font-weight: bold\">5</span>  <span style=\"color: #008080; text-decoration-color: #008080; font-weight: bold\">6</span>  <span style=\"color: #008080; text-decoration-color: #008080; font-weight: bold\">7</span>  <span style=\"color: #008080; text-decoration-color: #008080; font-weight: bold\">8</span> <span style=\"color: #008080; text-decoration-color: #008080; font-weight: bold\">12</span> <span style=\"color: #008080; text-decoration-color: #008080; font-weight: bold\">13</span> <span style=\"color: #008080; text-decoration-color: #008080; font-weight: bold\">15</span> <span style=\"color: #008080; text-decoration-color: #008080; font-weight: bold\">17</span> <span style=\"color: #008080; text-decoration-color: #008080; font-weight: bold\">18</span> <span style=\"color: #008080; text-decoration-color: #008080; font-weight: bold\">19</span> <span style=\"color: #008080; text-decoration-color: #008080; font-weight: bold\">20</span> <span style=\"color: #008080; text-decoration-color: #008080; font-weight: bold\">21</span> <span style=\"color: #008080; text-decoration-color: #008080; font-weight: bold\">22</span> <span style=\"color: #008080; text-decoration-color: #008080; font-weight: bold\">23</span> <span style=\"color: #008080; text-decoration-color: #008080; font-weight: bold\">24</span> <span style=\"color: #008080; text-decoration-color: #008080; font-weight: bold\">25</span> <span style=\"color: #008080; text-decoration-color: #008080; font-weight: bold\">26</span> <span style=\"color: #008080; text-decoration-color: #008080; font-weight: bold\">27</span> <span style=\"color: #008080; text-decoration-color: #008080; font-weight: bold\">28</span><span style=\"font-weight: bold\">]</span> TEST: <span style=\"font-weight: bold\">[</span> <span style=\"color: #008080; text-decoration-color: #008080; font-weight: bold\">2</span>  <span style=\"color: #008080; text-decoration-color: #008080; font-weight: bold\">4</span>  <span style=\"color: #008080; text-decoration-color: #008080; font-weight: bold\">9</span> <span style=\"color: #008080; text-decoration-color: #008080; font-weight: bold\">10</span> <span style=\"color: #008080; text-decoration-color: #008080; font-weight: bold\">11</span> <span style=\"color: #008080; text-decoration-color: #008080; font-weight: bold\">14</span> <span style=\"color: #008080; text-decoration-color: #008080; font-weight: bold\">16</span> <span style=\"color: #008080; text-decoration-color: #008080; font-weight: bold\">29</span><span style=\"font-weight: bold\">]</span>\n",
       "</pre>\n"
      ],
      "text/plain": [
       "TRAIN: \u001b[1m[\u001b[0m \u001b[1;36m0\u001b[0m  \u001b[1;36m1\u001b[0m  \u001b[1;36m3\u001b[0m  \u001b[1;36m5\u001b[0m  \u001b[1;36m6\u001b[0m  \u001b[1;36m7\u001b[0m  \u001b[1;36m8\u001b[0m \u001b[1;36m12\u001b[0m \u001b[1;36m13\u001b[0m \u001b[1;36m15\u001b[0m \u001b[1;36m17\u001b[0m \u001b[1;36m18\u001b[0m \u001b[1;36m19\u001b[0m \u001b[1;36m20\u001b[0m \u001b[1;36m21\u001b[0m \u001b[1;36m22\u001b[0m \u001b[1;36m23\u001b[0m \u001b[1;36m24\u001b[0m \u001b[1;36m25\u001b[0m \u001b[1;36m26\u001b[0m \u001b[1;36m27\u001b[0m \u001b[1;36m28\u001b[0m\u001b[1m]\u001b[0m TEST: \u001b[1m[\u001b[0m \u001b[1;36m2\u001b[0m  \u001b[1;36m4\u001b[0m  \u001b[1;36m9\u001b[0m \u001b[1;36m10\u001b[0m \u001b[1;36m11\u001b[0m \u001b[1;36m14\u001b[0m \u001b[1;36m16\u001b[0m \u001b[1;36m29\u001b[0m\u001b[1m]\u001b[0m\n"
      ]
     },
     "metadata": {},
     "output_type": "display_data"
    },
    {
     "data": {
      "text/html": [
       "<pre style=\"white-space:pre;overflow-x:auto;line-height:normal;font-family:Menlo,'DejaVu Sans Mono',consolas,'Courier New',monospace\">TRAIN: <span style=\"font-weight: bold\">[</span> <span style=\"color: #008080; text-decoration-color: #008080; font-weight: bold\">2</span>  <span style=\"color: #008080; text-decoration-color: #008080; font-weight: bold\">4</span>  <span style=\"color: #008080; text-decoration-color: #008080; font-weight: bold\">5</span>  <span style=\"color: #008080; text-decoration-color: #008080; font-weight: bold\">6</span>  <span style=\"color: #008080; text-decoration-color: #008080; font-weight: bold\">7</span>  <span style=\"color: #008080; text-decoration-color: #008080; font-weight: bold\">9</span> <span style=\"color: #008080; text-decoration-color: #008080; font-weight: bold\">10</span> <span style=\"color: #008080; text-decoration-color: #008080; font-weight: bold\">11</span> <span style=\"color: #008080; text-decoration-color: #008080; font-weight: bold\">12</span> <span style=\"color: #008080; text-decoration-color: #008080; font-weight: bold\">13</span> <span style=\"color: #008080; text-decoration-color: #008080; font-weight: bold\">14</span> <span style=\"color: #008080; text-decoration-color: #008080; font-weight: bold\">16</span> <span style=\"color: #008080; text-decoration-color: #008080; font-weight: bold\">17</span> <span style=\"color: #008080; text-decoration-color: #008080; font-weight: bold\">18</span> <span style=\"color: #008080; text-decoration-color: #008080; font-weight: bold\">19</span> <span style=\"color: #008080; text-decoration-color: #008080; font-weight: bold\">21</span> <span style=\"color: #008080; text-decoration-color: #008080; font-weight: bold\">22</span> <span style=\"color: #008080; text-decoration-color: #008080; font-weight: bold\">23</span> <span style=\"color: #008080; text-decoration-color: #008080; font-weight: bold\">25</span> <span style=\"color: #008080; text-decoration-color: #008080; font-weight: bold\">26</span> <span style=\"color: #008080; text-decoration-color: #008080; font-weight: bold\">27</span> <span style=\"color: #008080; text-decoration-color: #008080; font-weight: bold\">28</span> <span style=\"color: #008080; text-decoration-color: #008080; font-weight: bold\">29</span><span style=\"font-weight: bold\">]</span> TEST: <span style=\"font-weight: bold\">[</span> <span style=\"color: #008080; text-decoration-color: #008080; font-weight: bold\">0</span>  <span style=\"color: #008080; text-decoration-color: #008080; font-weight: bold\">1</span>  <span style=\"color: #008080; text-decoration-color: #008080; font-weight: bold\">3</span>  <span style=\"color: #008080; text-decoration-color: #008080; font-weight: bold\">8</span> <span style=\"color: #008080; text-decoration-color: #008080; font-weight: bold\">15</span> <span style=\"color: #008080; text-decoration-color: #008080; font-weight: bold\">20</span> <span style=\"color: #008080; text-decoration-color: #008080; font-weight: bold\">24</span><span style=\"font-weight: bold\">]</span>\n",
       "</pre>\n"
      ],
      "text/plain": [
       "TRAIN: \u001b[1m[\u001b[0m \u001b[1;36m2\u001b[0m  \u001b[1;36m4\u001b[0m  \u001b[1;36m5\u001b[0m  \u001b[1;36m6\u001b[0m  \u001b[1;36m7\u001b[0m  \u001b[1;36m9\u001b[0m \u001b[1;36m10\u001b[0m \u001b[1;36m11\u001b[0m \u001b[1;36m12\u001b[0m \u001b[1;36m13\u001b[0m \u001b[1;36m14\u001b[0m \u001b[1;36m16\u001b[0m \u001b[1;36m17\u001b[0m \u001b[1;36m18\u001b[0m \u001b[1;36m19\u001b[0m \u001b[1;36m21\u001b[0m \u001b[1;36m22\u001b[0m \u001b[1;36m23\u001b[0m \u001b[1;36m25\u001b[0m \u001b[1;36m26\u001b[0m \u001b[1;36m27\u001b[0m \u001b[1;36m28\u001b[0m \u001b[1;36m29\u001b[0m\u001b[1m]\u001b[0m TEST: \u001b[1m[\u001b[0m \u001b[1;36m0\u001b[0m  \u001b[1;36m1\u001b[0m  \u001b[1;36m3\u001b[0m  \u001b[1;36m8\u001b[0m \u001b[1;36m15\u001b[0m \u001b[1;36m20\u001b[0m \u001b[1;36m24\u001b[0m\u001b[1m]\u001b[0m\n"
      ]
     },
     "metadata": {},
     "output_type": "display_data"
    },
    {
     "data": {
      "text/html": [
       "<pre style=\"white-space:pre;overflow-x:auto;line-height:normal;font-family:Menlo,'DejaVu Sans Mono',consolas,'Courier New',monospace\">TRAIN: <span style=\"font-weight: bold\">[</span> <span style=\"color: #008080; text-decoration-color: #008080; font-weight: bold\">0</span>  <span style=\"color: #008080; text-decoration-color: #008080; font-weight: bold\">1</span>  <span style=\"color: #008080; text-decoration-color: #008080; font-weight: bold\">2</span>  <span style=\"color: #008080; text-decoration-color: #008080; font-weight: bold\">3</span>  <span style=\"color: #008080; text-decoration-color: #008080; font-weight: bold\">4</span>  <span style=\"color: #008080; text-decoration-color: #008080; font-weight: bold\">8</span>  <span style=\"color: #008080; text-decoration-color: #008080; font-weight: bold\">9</span> <span style=\"color: #008080; text-decoration-color: #008080; font-weight: bold\">10</span> <span style=\"color: #008080; text-decoration-color: #008080; font-weight: bold\">11</span> <span style=\"color: #008080; text-decoration-color: #008080; font-weight: bold\">12</span> <span style=\"color: #008080; text-decoration-color: #008080; font-weight: bold\">14</span> <span style=\"color: #008080; text-decoration-color: #008080; font-weight: bold\">15</span> <span style=\"color: #008080; text-decoration-color: #008080; font-weight: bold\">16</span> <span style=\"color: #008080; text-decoration-color: #008080; font-weight: bold\">17</span> <span style=\"color: #008080; text-decoration-color: #008080; font-weight: bold\">18</span> <span style=\"color: #008080; text-decoration-color: #008080; font-weight: bold\">20</span> <span style=\"color: #008080; text-decoration-color: #008080; font-weight: bold\">21</span> <span style=\"color: #008080; text-decoration-color: #008080; font-weight: bold\">22</span> <span style=\"color: #008080; text-decoration-color: #008080; font-weight: bold\">24</span> <span style=\"color: #008080; text-decoration-color: #008080; font-weight: bold\">26</span> <span style=\"color: #008080; text-decoration-color: #008080; font-weight: bold\">27</span> <span style=\"color: #008080; text-decoration-color: #008080; font-weight: bold\">28</span> <span style=\"color: #008080; text-decoration-color: #008080; font-weight: bold\">29</span><span style=\"font-weight: bold\">]</span> TEST: <span style=\"font-weight: bold\">[</span> <span style=\"color: #008080; text-decoration-color: #008080; font-weight: bold\">5</span>  <span style=\"color: #008080; text-decoration-color: #008080; font-weight: bold\">6</span>  <span style=\"color: #008080; text-decoration-color: #008080; font-weight: bold\">7</span> <span style=\"color: #008080; text-decoration-color: #008080; font-weight: bold\">13</span> <span style=\"color: #008080; text-decoration-color: #008080; font-weight: bold\">19</span> <span style=\"color: #008080; text-decoration-color: #008080; font-weight: bold\">23</span> <span style=\"color: #008080; text-decoration-color: #008080; font-weight: bold\">25</span><span style=\"font-weight: bold\">]</span>\n",
       "</pre>\n"
      ],
      "text/plain": [
       "TRAIN: \u001b[1m[\u001b[0m \u001b[1;36m0\u001b[0m  \u001b[1;36m1\u001b[0m  \u001b[1;36m2\u001b[0m  \u001b[1;36m3\u001b[0m  \u001b[1;36m4\u001b[0m  \u001b[1;36m8\u001b[0m  \u001b[1;36m9\u001b[0m \u001b[1;36m10\u001b[0m \u001b[1;36m11\u001b[0m \u001b[1;36m12\u001b[0m \u001b[1;36m14\u001b[0m \u001b[1;36m15\u001b[0m \u001b[1;36m16\u001b[0m \u001b[1;36m17\u001b[0m \u001b[1;36m18\u001b[0m \u001b[1;36m20\u001b[0m \u001b[1;36m21\u001b[0m \u001b[1;36m22\u001b[0m \u001b[1;36m24\u001b[0m \u001b[1;36m26\u001b[0m \u001b[1;36m27\u001b[0m \u001b[1;36m28\u001b[0m \u001b[1;36m29\u001b[0m\u001b[1m]\u001b[0m TEST: \u001b[1m[\u001b[0m \u001b[1;36m5\u001b[0m  \u001b[1;36m6\u001b[0m  \u001b[1;36m7\u001b[0m \u001b[1;36m13\u001b[0m \u001b[1;36m19\u001b[0m \u001b[1;36m23\u001b[0m \u001b[1;36m25\u001b[0m\u001b[1m]\u001b[0m\n"
      ]
     },
     "metadata": {},
     "output_type": "display_data"
    }
   ],
   "source": [
    "from sklearn.model_selection import KFold\n",
    "X = np.random.rand(30,10)\n",
    "y = np.random.rand(30,1)\n",
    "kf = KFold(n_splits=4,shuffle=True)\n",
    "kf.get_n_splits(X)\n",
    "\n",
    "for train_index, test_index in kf.split(X):\n",
    "   print(\"TRAIN:\", train_index, \"TEST:\", test_index)\n",
    "   X_train, X_test = X[train_index], X[test_index]\n",
    "   y_train, y_test = y[train_index], y[test_index]"
   ]
  },
  {
   "cell_type": "markdown",
   "metadata": {},
   "source": [
    "Procedamos ahora a realizar el primer *cross-validation*, en este caso es uno de los más habituales un *10-fold cross-validation* o 10-cv para abreviar. A mayores en lugar de aplicar nosotros con un bucle cada uno de los conjuntos y tener que llevar el conteo hacer las medias, etc. `scikit-learn` cuenta también con una función `cross_val_score` que automatiza todo el proceso encapsulándolo en una sencilla llamada a función. Un punto a destacar de esta función es que, en el parámetro `cv`, puede recibir bien unn numero para hacer un KFold, un objeto de reparto predefinido como vemos más tarde o las listas directamente."
   ]
  },
  {
   "cell_type": "code",
   "execution_count": 18,
   "metadata": {
    "tags": []
   },
   "outputs": [
    {
     "data": {
      "text/html": [
       "<pre style=\"white-space:pre;overflow-x:auto;line-height:normal;font-family:Menlo,'DejaVu Sans Mono',consolas,'Courier New',monospace\">Los resultados para las <span style=\"color: #008080; text-decoration-color: #008080; font-weight: bold\">10</span> particiones son: <span style=\"font-weight: bold\">[</span><span style=\"color: #008080; text-decoration-color: #008080; font-weight: bold\">0.47619048</span> <span style=\"color: #008080; text-decoration-color: #008080; font-weight: bold\">0.9047619</span>  <span style=\"color: #008080; text-decoration-color: #008080; font-weight: bold\">0.80952381</span> <span style=\"color: #008080; text-decoration-color: #008080; font-weight: bold\">0.52380952</span> <span style=\"color: #008080; text-decoration-color: #008080; font-weight: bold\">0.66666667</span> <span style=\"color: #008080; text-decoration-color: #008080; font-weight: bold\">0.38095238</span>\n",
       " <span style=\"color: #008080; text-decoration-color: #008080; font-weight: bold\">0.66666667</span> <span style=\"color: #008080; text-decoration-color: #008080; font-weight: bold\">0.52380952</span> <span style=\"color: #008080; text-decoration-color: #008080; font-weight: bold\">0.3</span>        <span style=\"color: #008080; text-decoration-color: #008080; font-weight: bold\">0.7</span>       <span style=\"font-weight: bold\">]</span>\n",
       "</pre>\n"
      ],
      "text/plain": [
       "Los resultados para las \u001b[1;36m10\u001b[0m particiones son: \u001b[1m[\u001b[0m\u001b[1;36m0.47619048\u001b[0m \u001b[1;36m0.9047619\u001b[0m  \u001b[1;36m0.80952381\u001b[0m \u001b[1;36m0.52380952\u001b[0m \u001b[1;36m0.66666667\u001b[0m \u001b[1;36m0.38095238\u001b[0m\n",
       " \u001b[1;36m0.66666667\u001b[0m \u001b[1;36m0.52380952\u001b[0m \u001b[1;36m0.3\u001b[0m        \u001b[1;36m0.7\u001b[0m       \u001b[1m]\u001b[0m\n"
      ]
     },
     "metadata": {},
     "output_type": "display_data"
    },
    {
     "data": {
      "text/html": [
       "<pre style=\"white-space:pre;overflow-x:auto;line-height:normal;font-family:Menlo,'DejaVu Sans Mono',consolas,'Courier New',monospace\">Es decir, tiene un resultado de: <span style=\"color: #008080; text-decoration-color: #008080; font-weight: bold\">0.5952380952380952</span> +<span style=\"color: #800080; text-decoration-color: #800080\">/</span><span style=\"color: #ff00ff; text-decoration-color: #ff00ff\">-</span> <span style=\"color: #008080; text-decoration-color: #008080; font-weight: bold\">0.1789868184507963</span>\n",
       "</pre>\n"
      ],
      "text/plain": [
       "Es decir, tiene un resultado de: \u001b[1;36m0.5952380952380952\u001b[0m +\u001b[35m/\u001b[0m\u001b[95m-\u001b[0m \u001b[1;36m0.1789868184507963\u001b[0m\n"
      ]
     },
     "metadata": {},
     "output_type": "display_data"
    }
   ],
   "source": [
    "from sklearn.model_selection import cross_val_score\n",
    "from sklearn.neighbors import KNeighborsClassifier\n",
    "from sklearn import metrics\n",
    "\n",
    "knn_model = KNeighborsClassifier()\n",
    "\n",
    "resultados_kfold = cross_val_score(knn_model,inputs,targets,cv=10,scoring='accuracy')\n",
    "print(f\"Los resultados para las 10 particiones son: {resultados_kfold}\")\n",
    "print(f\"Es decir, tiene un resultado de: {resultados_kfold.mean()} +/- {resultados_kfold.std()}\")"
   ]
  },
  {
   "cell_type": "markdown",
   "metadata": {},
   "source": [
    "Idealmente, ahora podríamos buscar el mejor valor de K igual que antes, pero con modelos entrenados siguiendo un 10-fold cross-validation. Ajustando el código anterior:"
   ]
  },
  {
   "cell_type": "code",
   "execution_count": 19,
   "metadata": {
    "tags": []
   },
   "outputs": [
    {
     "data": {
      "text/html": [
       "<pre style=\"white-space:pre;overflow-x:auto;line-height:normal;font-family:Menlo,'DejaVu Sans Mono',consolas,'Courier New',monospace\"><span style=\"font-weight: bold\">[</span>\n",
       "    <span style=\"color: #008080; text-decoration-color: #008080; font-weight: bold\">0.6057142857142858</span>,\n",
       "    <span style=\"color: #008080; text-decoration-color: #008080; font-weight: bold\">0.5807142857142856</span>,\n",
       "    <span style=\"color: #008080; text-decoration-color: #008080; font-weight: bold\">0.5952380952380952</span>,\n",
       "    <span style=\"color: #008080; text-decoration-color: #008080; font-weight: bold\">0.605</span>,\n",
       "    <span style=\"color: #008080; text-decoration-color: #008080; font-weight: bold\">0.5952380952380952</span>,\n",
       "    <span style=\"color: #008080; text-decoration-color: #008080; font-weight: bold\">0.5661904761904761</span>,\n",
       "    <span style=\"color: #008080; text-decoration-color: #008080; font-weight: bold\">0.5757142857142857</span>,\n",
       "    <span style=\"color: #008080; text-decoration-color: #008080; font-weight: bold\">0.5609523809523809</span>,\n",
       "    <span style=\"color: #008080; text-decoration-color: #008080; font-weight: bold\">0.5554761904761905</span>,\n",
       "    <span style=\"color: #008080; text-decoration-color: #008080; font-weight: bold\">0.5745238095238095</span>,\n",
       "    <span style=\"color: #008080; text-decoration-color: #008080; font-weight: bold\">0.5602380952380952</span>,\n",
       "    <span style=\"color: #008080; text-decoration-color: #008080; font-weight: bold\">0.5792857142857144</span>,\n",
       "    <span style=\"color: #008080; text-decoration-color: #008080; font-weight: bold\">0.6092857142857142</span>,\n",
       "    <span style=\"color: #008080; text-decoration-color: #008080; font-weight: bold\">0.5895238095238095</span>,\n",
       "    <span style=\"color: #008080; text-decoration-color: #008080; font-weight: bold\">0.6045238095238095</span>,\n",
       "    <span style=\"color: #008080; text-decoration-color: #008080; font-weight: bold\">0.5757142857142858</span>,\n",
       "    <span style=\"color: #008080; text-decoration-color: #008080; font-weight: bold\">0.6245238095238095</span>,\n",
       "    <span style=\"color: #008080; text-decoration-color: #008080; font-weight: bold\">0.5807142857142857</span>,\n",
       "    <span style=\"color: #008080; text-decoration-color: #008080; font-weight: bold\">0.6047619047619047</span>,\n",
       "    <span style=\"color: #008080; text-decoration-color: #008080; font-weight: bold\">0.5664285714285714</span>,\n",
       "    <span style=\"color: #008080; text-decoration-color: #008080; font-weight: bold\">0.6002380952380953</span>,\n",
       "    <span style=\"color: #008080; text-decoration-color: #008080; font-weight: bold\">0.5809523809523809</span>,\n",
       "    <span style=\"color: #008080; text-decoration-color: #008080; font-weight: bold\">0.5807142857142857</span>,\n",
       "    <span style=\"color: #008080; text-decoration-color: #008080; font-weight: bold\">0.5807142857142857</span>,\n",
       "    <span style=\"color: #008080; text-decoration-color: #008080; font-weight: bold\">0.5954761904761905</span>,\n",
       "    <span style=\"color: #008080; text-decoration-color: #008080; font-weight: bold\">0.5907142857142857</span>,\n",
       "    <span style=\"color: #008080; text-decoration-color: #008080; font-weight: bold\">0.5907142857142857</span>,\n",
       "    <span style=\"color: #008080; text-decoration-color: #008080; font-weight: bold\">0.5661904761904762</span>,\n",
       "    <span style=\"color: #008080; text-decoration-color: #008080; font-weight: bold\">0.5807142857142857</span>\n",
       "<span style=\"font-weight: bold\">]</span>\n",
       "</pre>\n"
      ],
      "text/plain": [
       "\u001b[1m[\u001b[0m\n",
       "    \u001b[1;36m0.6057142857142858\u001b[0m,\n",
       "    \u001b[1;36m0.5807142857142856\u001b[0m,\n",
       "    \u001b[1;36m0.5952380952380952\u001b[0m,\n",
       "    \u001b[1;36m0.605\u001b[0m,\n",
       "    \u001b[1;36m0.5952380952380952\u001b[0m,\n",
       "    \u001b[1;36m0.5661904761904761\u001b[0m,\n",
       "    \u001b[1;36m0.5757142857142857\u001b[0m,\n",
       "    \u001b[1;36m0.5609523809523809\u001b[0m,\n",
       "    \u001b[1;36m0.5554761904761905\u001b[0m,\n",
       "    \u001b[1;36m0.5745238095238095\u001b[0m,\n",
       "    \u001b[1;36m0.5602380952380952\u001b[0m,\n",
       "    \u001b[1;36m0.5792857142857144\u001b[0m,\n",
       "    \u001b[1;36m0.6092857142857142\u001b[0m,\n",
       "    \u001b[1;36m0.5895238095238095\u001b[0m,\n",
       "    \u001b[1;36m0.6045238095238095\u001b[0m,\n",
       "    \u001b[1;36m0.5757142857142858\u001b[0m,\n",
       "    \u001b[1;36m0.6245238095238095\u001b[0m,\n",
       "    \u001b[1;36m0.5807142857142857\u001b[0m,\n",
       "    \u001b[1;36m0.6047619047619047\u001b[0m,\n",
       "    \u001b[1;36m0.5664285714285714\u001b[0m,\n",
       "    \u001b[1;36m0.6002380952380953\u001b[0m,\n",
       "    \u001b[1;36m0.5809523809523809\u001b[0m,\n",
       "    \u001b[1;36m0.5807142857142857\u001b[0m,\n",
       "    \u001b[1;36m0.5807142857142857\u001b[0m,\n",
       "    \u001b[1;36m0.5954761904761905\u001b[0m,\n",
       "    \u001b[1;36m0.5907142857142857\u001b[0m,\n",
       "    \u001b[1;36m0.5907142857142857\u001b[0m,\n",
       "    \u001b[1;36m0.5661904761904762\u001b[0m,\n",
       "    \u001b[1;36m0.5807142857142857\u001b[0m\n",
       "\u001b[1m]\u001b[0m\n"
      ]
     },
     "metadata": {},
     "output_type": "display_data"
    },
    {
     "data": {
      "image/png": "[encoded data removed]",
      "text/plain": [
       "<Figure size 640x480 with 1 Axes>"
      ]
     },
     "metadata": {},
     "output_type": "display_data"
    }
   ],
   "source": [
    "def entrenar_y_dibujar(inputs, targets):\n",
    "    hiper_k_rango = range(1,30)\n",
    "    scores=[]\n",
    "    for k in hiper_k_rango:\n",
    "        knn_model = KNeighborsClassifier(n_neighbors=k)\n",
    "        resultados_kfold = cross_val_score(knn_model,inputs,targets,cv=10,scoring='accuracy')\n",
    "        scores.append(resultados_kfold.mean())\n",
    "        \n",
    "    print(scores)\n",
    "    import matplotlib.pyplot as plt\n",
    "    %matplotlib inline\n",
    "    plt.figure()\n",
    "    \n",
    "    plt.plot(hiper_k_rango,scores, color='navy')\n",
    "\n",
    "    plt.xlabel(\"Valores de k\")\n",
    "    plt.ylabel(\"Accuracy en test\")\n",
    "\n",
    "entrenar_y_dibujar(inputs, targets)"
   ]
  },
  {
   "cell_type": "markdown",
   "metadata": {},
   "source": [
    "Ahora ya podremos  hacer una afirmación del tipo el modelo knn es mejor que otro modelo. O alguno de los parámetros funciona mejor que el otro. \n",
    "\n",
    "**PREGUNTA: ¿con esto ya hemos terminado de mejorar el experimento CV?**\n",
    "Pues lo cierto es que si que se puede mejor y mucho, que seguimos teniendo un sesgo dependiendo cual sea el subconjunto de entrenamiento y el de test de cada uno, lo hemos reducido pero debido a esa componente de aleatoriedad en el reparto."
   ]
  },
  {
   "cell_type": "markdown",
   "metadata": {},
   "source": [
    "#### Mejoras al k-fold cross-validation\n",
    "Para reducir el sesgo generado por ese reparto en los diferentes *folds* o particiones la idea es repetir este procedimiento un número $X$ de veces de tal manera que cada data no sólo se use varias veces en el test si no que este acompaado de muestras diferentes y que los modelos entrenados sean diferentes.\n",
    "\n",
    "Esto se puede conseguir también con la librería con el uso de la calse `Repeated_KFold`en lugar de `KFold` al pasarselo a la función `cross_val_score` como antes."
   ]
  },
  {
   "cell_type": "code",
   "execution_count": 20,
   "metadata": {
    "tags": []
   },
   "outputs": [
    {
     "data": {
      "text/html": [
       "<pre style=\"white-space:pre;overflow-x:auto;line-height:normal;font-family:Menlo,'DejaVu Sans Mono',consolas,'Courier New',monospace\">Los resultados son: <span style=\"font-weight: bold\">[</span><span style=\"color: #008080; text-decoration-color: #008080; font-weight: bold\">0.47619048</span> <span style=\"color: #008080; text-decoration-color: #008080; font-weight: bold\">0.9047619</span>  <span style=\"color: #008080; text-decoration-color: #008080; font-weight: bold\">0.80952381</span> <span style=\"color: #008080; text-decoration-color: #008080; font-weight: bold\">0.52380952</span> <span style=\"color: #008080; text-decoration-color: #008080; font-weight: bold\">0.66666667</span> <span style=\"color: #008080; text-decoration-color: #008080; font-weight: bold\">0.38095238</span>\n",
       " <span style=\"color: #008080; text-decoration-color: #008080; font-weight: bold\">0.66666667</span> <span style=\"color: #008080; text-decoration-color: #008080; font-weight: bold\">0.52380952</span> <span style=\"color: #008080; text-decoration-color: #008080; font-weight: bold\">0.3</span>        <span style=\"color: #008080; text-decoration-color: #008080; font-weight: bold\">0.7</span>       <span style=\"font-weight: bold\">]</span>\n",
       "</pre>\n"
      ],
      "text/plain": [
       "Los resultados son: \u001b[1m[\u001b[0m\u001b[1;36m0.47619048\u001b[0m \u001b[1;36m0.9047619\u001b[0m  \u001b[1;36m0.80952381\u001b[0m \u001b[1;36m0.52380952\u001b[0m \u001b[1;36m0.66666667\u001b[0m \u001b[1;36m0.38095238\u001b[0m\n",
       " \u001b[1;36m0.66666667\u001b[0m \u001b[1;36m0.52380952\u001b[0m \u001b[1;36m0.3\u001b[0m        \u001b[1;36m0.7\u001b[0m       \u001b[1m]\u001b[0m\n"
      ]
     },
     "metadata": {},
     "output_type": "display_data"
    },
    {
     "data": {
      "text/html": [
       "<pre style=\"white-space:pre;overflow-x:auto;line-height:normal;font-family:Menlo,'DejaVu Sans Mono',consolas,'Courier New',monospace\">Es decir, tiene un resultado de: <span style=\"color: #008080; text-decoration-color: #008080; font-weight: bold\">0.5952380952380952</span> +<span style=\"color: #800080; text-decoration-color: #800080\">/</span><span style=\"color: #ff00ff; text-decoration-color: #ff00ff\">-</span> <span style=\"color: #008080; text-decoration-color: #008080; font-weight: bold\">0.1789868184507963</span>\n",
       "</pre>\n"
      ],
      "text/plain": [
       "Es decir, tiene un resultado de: \u001b[1;36m0.5952380952380952\u001b[0m +\u001b[35m/\u001b[0m\u001b[95m-\u001b[0m \u001b[1;36m0.1789868184507963\u001b[0m\n"
      ]
     },
     "metadata": {},
     "output_type": "display_data"
    }
   ],
   "source": [
    "from sklearn.model_selection import cross_val_score,RepeatedKFold\n",
    "from sklearn import metrics\n",
    "\n",
    "knn_model = KNeighborsClassifier()\n",
    "\n",
    "RKFold = RepeatedKFold(n_splits=10,n_repeats=50)\n",
    "resultados_RKfold = cross_val_score(knn_model,inputs,targets,cv=RKFold,scoring='accuracy')\n",
    "\n",
    "print(f\"Los resultados son: {resultados_kfold}\")\n",
    "print(f\"Es decir, tiene un resultado de: {resultados_kfold.mean()} +/- {resultados_kfold.std()}\")"
   ]
  },
  {
   "cell_type": "code",
   "execution_count": 21,
   "metadata": {
    "tags": []
   },
   "outputs": [
    {
     "data": {
      "text/plain": [
       "{'whiskers': [<matplotlib.lines.Line2D at 0x7fa7dbc99180>,\n",
       "  <matplotlib.lines.Line2D at 0x7fa7dbc98dc0>],\n",
       " 'caps': [<matplotlib.lines.Line2D at 0x7fa7dbc98d60>,\n",
       "  <matplotlib.lines.Line2D at 0x7fa7dbc994e0>],\n",
       " 'boxes': [<matplotlib.lines.Line2D at 0x7fa8282efd90>],\n",
       " 'medians': [<matplotlib.lines.Line2D at 0x7fa7dbc992d0>],\n",
       " 'fliers': [<matplotlib.lines.Line2D at 0x7fa7dbc99480>],\n",
       " 'means': []}"
      ]
     },
     "execution_count": 21,
     "metadata": {},
     "output_type": "execute_result"
    },
    {
     "data": {
      "image/png": "[encoded data removed]",
      "text/plain": [
       "<Figure size 640x480 with 1 Axes>"
      ]
     },
     "metadata": {},
     "output_type": "display_data"
    }
   ],
   "source": [
    "from matplotlib.pyplot import boxplot\n",
    "boxplot(resultados_kfold)"
   ]
  },
  {
   "attachments": {
    "static1.squarespace.com.png": {
     "image/png": "[encoded data removed]"
    }
   },
   "cell_type": "markdown",
   "metadata": {},
   "source": [
    "PREGUNTA: ¿qué tal el modelo?\n",
    "\n",
    "las diferencias en función de la variabilidad se podrían ver de la siguiente forma ![static1.squarespace.com.png](attachment:static1.squarespace.com.png)"
   ]
  },
  {
   "cell_type": "code",
   "execution_count": 22,
   "metadata": {
    "tags": []
   },
   "outputs": [
    {
     "data": {
      "text/html": [
       "<pre style=\"white-space:pre;overflow-x:auto;line-height:normal;font-family:Menlo,'DejaVu Sans Mono',consolas,'Courier New',monospace\"><span style=\"font-weight: bold\">[</span>\n",
       "    <span style=\"color: #008080; text-decoration-color: #008080; font-weight: bold\">0.8229619047619049</span>,\n",
       "    <span style=\"color: #008080; text-decoration-color: #008080; font-weight: bold\">0.8308333333333334</span>,\n",
       "    <span style=\"color: #008080; text-decoration-color: #008080; font-weight: bold\">0.8161428571428572</span>,\n",
       "    <span style=\"color: #008080; text-decoration-color: #008080; font-weight: bold\">0.8155380952380952</span>,\n",
       "    <span style=\"color: #008080; text-decoration-color: #008080; font-weight: bold\">0.8082952380952381</span>,\n",
       "    <span style=\"color: #008080; text-decoration-color: #008080; font-weight: bold\">0.7940380952380952</span>,\n",
       "    <span style=\"color: #008080; text-decoration-color: #008080; font-weight: bold\">0.7534333333333334</span>,\n",
       "    <span style=\"color: #008080; text-decoration-color: #008080; font-weight: bold\">0.7498952380952382</span>,\n",
       "    <span style=\"color: #008080; text-decoration-color: #008080; font-weight: bold\">0.7125428571428573</span>,\n",
       "    <span style=\"color: #008080; text-decoration-color: #008080; font-weight: bold\">0.7043047619047618</span>,\n",
       "    <span style=\"color: #008080; text-decoration-color: #008080; font-weight: bold\">0.6719571428571428</span>,\n",
       "    <span style=\"color: #008080; text-decoration-color: #008080; font-weight: bold\">0.6559190476190476</span>,\n",
       "    <span style=\"color: #008080; text-decoration-color: #008080; font-weight: bold\">0.6629904761904761</span>,\n",
       "    <span style=\"color: #008080; text-decoration-color: #008080; font-weight: bold\">0.6563619047619047</span>,\n",
       "    <span style=\"color: #008080; text-decoration-color: #008080; font-weight: bold\">0.6631761904761904</span>,\n",
       "    <span style=\"color: #008080; text-decoration-color: #008080; font-weight: bold\">0.6616095238095238</span>,\n",
       "    <span style=\"color: #008080; text-decoration-color: #008080; font-weight: bold\">0.6670095238095238</span>,\n",
       "    <span style=\"color: #008080; text-decoration-color: #008080; font-weight: bold\">0.6698047619047618</span>,\n",
       "    <span style=\"color: #008080; text-decoration-color: #008080; font-weight: bold\">0.6756238095238095</span>,\n",
       "    <span style=\"color: #008080; text-decoration-color: #008080; font-weight: bold\">0.6745428571428571</span>,\n",
       "    <span style=\"color: #008080; text-decoration-color: #008080; font-weight: bold\">0.6729238095238095</span>,\n",
       "    <span style=\"color: #008080; text-decoration-color: #008080; font-weight: bold\">0.6760571428571427</span>,\n",
       "    <span style=\"color: #008080; text-decoration-color: #008080; font-weight: bold\">0.6649285714285715</span>,\n",
       "    <span style=\"color: #008080; text-decoration-color: #008080; font-weight: bold\">0.6754238095238095</span>,\n",
       "    <span style=\"color: #008080; text-decoration-color: #008080; font-weight: bold\">0.6589952380952382</span>,\n",
       "    <span style=\"color: #008080; text-decoration-color: #008080; font-weight: bold\">0.6668190476190475</span>,\n",
       "    <span style=\"color: #008080; text-decoration-color: #008080; font-weight: bold\">0.6552380952380952</span>,\n",
       "    <span style=\"color: #008080; text-decoration-color: #008080; font-weight: bold\">0.6604142857142857</span>,\n",
       "    <span style=\"color: #008080; text-decoration-color: #008080; font-weight: bold\">0.6510571428571428</span>\n",
       "<span style=\"font-weight: bold\">]</span>\n",
       "</pre>\n"
      ],
      "text/plain": [
       "\u001b[1m[\u001b[0m\n",
       "    \u001b[1;36m0.8229619047619049\u001b[0m,\n",
       "    \u001b[1;36m0.8308333333333334\u001b[0m,\n",
       "    \u001b[1;36m0.8161428571428572\u001b[0m,\n",
       "    \u001b[1;36m0.8155380952380952\u001b[0m,\n",
       "    \u001b[1;36m0.8082952380952381\u001b[0m,\n",
       "    \u001b[1;36m0.7940380952380952\u001b[0m,\n",
       "    \u001b[1;36m0.7534333333333334\u001b[0m,\n",
       "    \u001b[1;36m0.7498952380952382\u001b[0m,\n",
       "    \u001b[1;36m0.7125428571428573\u001b[0m,\n",
       "    \u001b[1;36m0.7043047619047618\u001b[0m,\n",
       "    \u001b[1;36m0.6719571428571428\u001b[0m,\n",
       "    \u001b[1;36m0.6559190476190476\u001b[0m,\n",
       "    \u001b[1;36m0.6629904761904761\u001b[0m,\n",
       "    \u001b[1;36m0.6563619047619047\u001b[0m,\n",
       "    \u001b[1;36m0.6631761904761904\u001b[0m,\n",
       "    \u001b[1;36m0.6616095238095238\u001b[0m,\n",
       "    \u001b[1;36m0.6670095238095238\u001b[0m,\n",
       "    \u001b[1;36m0.6698047619047618\u001b[0m,\n",
       "    \u001b[1;36m0.6756238095238095\u001b[0m,\n",
       "    \u001b[1;36m0.6745428571428571\u001b[0m,\n",
       "    \u001b[1;36m0.6729238095238095\u001b[0m,\n",
       "    \u001b[1;36m0.6760571428571427\u001b[0m,\n",
       "    \u001b[1;36m0.6649285714285715\u001b[0m,\n",
       "    \u001b[1;36m0.6754238095238095\u001b[0m,\n",
       "    \u001b[1;36m0.6589952380952382\u001b[0m,\n",
       "    \u001b[1;36m0.6668190476190475\u001b[0m,\n",
       "    \u001b[1;36m0.6552380952380952\u001b[0m,\n",
       "    \u001b[1;36m0.6604142857142857\u001b[0m,\n",
       "    \u001b[1;36m0.6510571428571428\u001b[0m\n",
       "\u001b[1m]\u001b[0m\n"
      ]
     },
     "metadata": {},
     "output_type": "display_data"
    }
   ],
   "source": [
    "hiper_k_rango = range(1,30)\n",
    "scores=[]\n",
    "for k in hiper_k_rango:\n",
    "    knn_model = KNeighborsClassifier(n_neighbors=k)\n",
    "    resultados_kfold = cross_val_score(knn_model,inputs,targets,cv=RKFold,scoring='accuracy')\n",
    "    scores.append(resultados_kfold.mean())\n",
    "\n",
    "print(scores)"
   ]
  },
  {
   "cell_type": "code",
   "execution_count": 23,
   "metadata": {
    "tags": []
   },
   "outputs": [
    {
     "data": {
      "text/plain": [
       "{'whiskers': [<matplotlib.lines.Line2D at 0x7fa7dbce6d70>,\n",
       "  <matplotlib.lines.Line2D at 0x7fa7dbce6ad0>],\n",
       " 'caps': [<matplotlib.lines.Line2D at 0x7fa7dbce6830>,\n",
       "  <matplotlib.lines.Line2D at 0x7fa7dbce6590>],\n",
       " 'boxes': [<matplotlib.lines.Line2D at 0x7fa7dbce7010>],\n",
       " 'medians': [<matplotlib.lines.Line2D at 0x7fa7dbce62f0>],\n",
       " 'fliers': [<matplotlib.lines.Line2D at 0x7fa7dbce6110>],\n",
       " 'means': []}"
      ]
     },
     "execution_count": 23,
     "metadata": {},
     "output_type": "execute_result"
    },
    {
     "data": {
      "image/png": "[encoded data removed]",
      "text/plain": [
       "<Figure size 640x480 with 1 Axes>"
      ]
     },
     "metadata": {},
     "output_type": "display_data"
    }
   ],
   "source": [
    "boxplot(scores)"
   ]
  },
  {
   "cell_type": "code",
   "execution_count": 24,
   "metadata": {
    "tags": []
   },
   "outputs": [
    {
     "data": {
      "text/plain": [
       "Text(0, 0.5, 'Accuracy en 50 repeticiones 10-fold cross-validation')"
      ]
     },
     "execution_count": 24,
     "metadata": {},
     "output_type": "execute_result"
    },
    {
     "data": {
      "image/png": "[encoded data removed]",
      "text/plain": [
       "<Figure size 640x480 with 1 Axes>"
      ]
     },
     "metadata": {},
     "output_type": "display_data"
    }
   ],
   "source": [
    "import matplotlib.pyplot as plt\n",
    "%matplotlib inline\n",
    "plt.plot(hiper_k_rango,scores)\n",
    "plt.xlabel(\"Valores de k\")\n",
    "plt.ylabel(\"Accuracy en 50 repeticiones 10-fold cross-validation\")"
   ]
  },
  {
   "cell_type": "markdown",
   "metadata": {},
   "source": [
    "A mayores otra cosa que se podría hacer es usar el modelo stratified de tal manera que conservemos las mismas proporciones que en el conjunto original como en este caso:"
   ]
  },
  {
   "cell_type": "code",
   "execution_count": 25,
   "metadata": {
    "tags": []
   },
   "outputs": [
    {
     "data": {
      "text/html": [
       "<pre style=\"white-space:pre;overflow-x:auto;line-height:normal;font-family:Menlo,'DejaVu Sans Mono',consolas,'Courier New',monospace\"><span style=\"font-weight: bold\">[</span>\n",
       "    <span style=\"color: #008080; text-decoration-color: #008080; font-weight: bold\">0.8235142857142858</span>,\n",
       "    <span style=\"color: #008080; text-decoration-color: #008080; font-weight: bold\">0.8283809523809526</span>,\n",
       "    <span style=\"color: #008080; text-decoration-color: #008080; font-weight: bold\">0.816595238095238</span>,\n",
       "    <span style=\"color: #008080; text-decoration-color: #008080; font-weight: bold\">0.8191714285714286</span>,\n",
       "    <span style=\"color: #008080; text-decoration-color: #008080; font-weight: bold\">0.8094666666666666</span>,\n",
       "    <span style=\"color: #008080; text-decoration-color: #008080; font-weight: bold\">0.7976952380952382</span>,\n",
       "    <span style=\"color: #008080; text-decoration-color: #008080; font-weight: bold\">0.7596238095238096</span>,\n",
       "    <span style=\"color: #008080; text-decoration-color: #008080; font-weight: bold\">0.747547619047619</span>,\n",
       "    <span style=\"color: #008080; text-decoration-color: #008080; font-weight: bold\">0.7157333333333333</span>,\n",
       "    <span style=\"color: #008080; text-decoration-color: #008080; font-weight: bold\">0.7044333333333334</span>,\n",
       "    <span style=\"color: #008080; text-decoration-color: #008080; font-weight: bold\">0.6729809523809525</span>,\n",
       "    <span style=\"color: #008080; text-decoration-color: #008080; font-weight: bold\">0.6578428571428572</span>,\n",
       "    <span style=\"color: #008080; text-decoration-color: #008080; font-weight: bold\">0.6638619047619048</span>,\n",
       "    <span style=\"color: #008080; text-decoration-color: #008080; font-weight: bold\">0.6569761904761904</span>,\n",
       "    <span style=\"color: #008080; text-decoration-color: #008080; font-weight: bold\">0.6671904761904761</span>,\n",
       "    <span style=\"color: #008080; text-decoration-color: #008080; font-weight: bold\">0.660847619047619</span>,\n",
       "    <span style=\"color: #008080; text-decoration-color: #008080; font-weight: bold\">0.6690333333333333</span>,\n",
       "    <span style=\"color: #008080; text-decoration-color: #008080; font-weight: bold\">0.6720809523809523</span>,\n",
       "    <span style=\"color: #008080; text-decoration-color: #008080; font-weight: bold\">0.6794571428571428</span>,\n",
       "    <span style=\"color: #008080; text-decoration-color: #008080; font-weight: bold\">0.6804476190476189</span>,\n",
       "    <span style=\"color: #008080; text-decoration-color: #008080; font-weight: bold\">0.6758761904761904</span>,\n",
       "    <span style=\"color: #008080; text-decoration-color: #008080; font-weight: bold\">0.6801333333333334</span>,\n",
       "    <span style=\"color: #008080; text-decoration-color: #008080; font-weight: bold\">0.6715904761904761</span>,\n",
       "    <span style=\"color: #008080; text-decoration-color: #008080; font-weight: bold\">0.6794285714285714</span>,\n",
       "    <span style=\"color: #008080; text-decoration-color: #008080; font-weight: bold\">0.6617857142857142</span>,\n",
       "    <span style=\"color: #008080; text-decoration-color: #008080; font-weight: bold\">0.6733904761904762</span>,\n",
       "    <span style=\"color: #008080; text-decoration-color: #008080; font-weight: bold\">0.6565380952380951</span>,\n",
       "    <span style=\"color: #008080; text-decoration-color: #008080; font-weight: bold\">0.6622333333333333</span>,\n",
       "    <span style=\"color: #008080; text-decoration-color: #008080; font-weight: bold\">0.6541428571428571</span>\n",
       "<span style=\"font-weight: bold\">]</span>\n",
       "</pre>\n"
      ],
      "text/plain": [
       "\u001b[1m[\u001b[0m\n",
       "    \u001b[1;36m0.8235142857142858\u001b[0m,\n",
       "    \u001b[1;36m0.8283809523809526\u001b[0m,\n",
       "    \u001b[1;36m0.816595238095238\u001b[0m,\n",
       "    \u001b[1;36m0.8191714285714286\u001b[0m,\n",
       "    \u001b[1;36m0.8094666666666666\u001b[0m,\n",
       "    \u001b[1;36m0.7976952380952382\u001b[0m,\n",
       "    \u001b[1;36m0.7596238095238096\u001b[0m,\n",
       "    \u001b[1;36m0.747547619047619\u001b[0m,\n",
       "    \u001b[1;36m0.7157333333333333\u001b[0m,\n",
       "    \u001b[1;36m0.7044333333333334\u001b[0m,\n",
       "    \u001b[1;36m0.6729809523809525\u001b[0m,\n",
       "    \u001b[1;36m0.6578428571428572\u001b[0m,\n",
       "    \u001b[1;36m0.6638619047619048\u001b[0m,\n",
       "    \u001b[1;36m0.6569761904761904\u001b[0m,\n",
       "    \u001b[1;36m0.6671904761904761\u001b[0m,\n",
       "    \u001b[1;36m0.660847619047619\u001b[0m,\n",
       "    \u001b[1;36m0.6690333333333333\u001b[0m,\n",
       "    \u001b[1;36m0.6720809523809523\u001b[0m,\n",
       "    \u001b[1;36m0.6794571428571428\u001b[0m,\n",
       "    \u001b[1;36m0.6804476190476189\u001b[0m,\n",
       "    \u001b[1;36m0.6758761904761904\u001b[0m,\n",
       "    \u001b[1;36m0.6801333333333334\u001b[0m,\n",
       "    \u001b[1;36m0.6715904761904761\u001b[0m,\n",
       "    \u001b[1;36m0.6794285714285714\u001b[0m,\n",
       "    \u001b[1;36m0.6617857142857142\u001b[0m,\n",
       "    \u001b[1;36m0.6733904761904762\u001b[0m,\n",
       "    \u001b[1;36m0.6565380952380951\u001b[0m,\n",
       "    \u001b[1;36m0.6622333333333333\u001b[0m,\n",
       "    \u001b[1;36m0.6541428571428571\u001b[0m\n",
       "\u001b[1m]\u001b[0m\n"
      ]
     },
     "metadata": {},
     "output_type": "display_data"
    },
    {
     "data": {
      "text/plain": [
       "Text(0, 0.5, 'Accuracy en 50 repeticiones 10-fold cross-validation')"
      ]
     },
     "execution_count": 25,
     "metadata": {},
     "output_type": "execute_result"
    },
    {
     "data": {
      "image/png": "[encoded data removed]",
      "text/plain": [
       "<Figure size 640x480 with 1 Axes>"
      ]
     },
     "metadata": {},
     "output_type": "display_data"
    }
   ],
   "source": [
    "from sklearn.model_selection import cross_val_score,RepeatedStratifiedKFold\n",
    "\n",
    "hiper_k_rango = range(1,30)\n",
    "scores=[]\n",
    "RKFold_stratified = RepeatedStratifiedKFold(n_splits=10,n_repeats=50)\n",
    "\n",
    "for k in hiper_k_rango:\n",
    "    knn_model = KNeighborsClassifier(n_neighbors=k)\n",
    "    resultados_kfold = cross_val_score(knn_model,inputs,targets,cv=RKFold_stratified,scoring='accuracy')\n",
    "    scores.append(resultados_kfold.mean())\n",
    "    \n",
    "scores_media_Kfold = scores\n",
    "\n",
    "print(scores)\n",
    "import matplotlib.pyplot as plt\n",
    "%matplotlib inline\n",
    "plt.plot(hiper_k_rango,scores)\n",
    "plt.xlabel(\"Valores de k\")\n",
    "plt.ylabel(\"Accuracy en 50 repeticiones 10-fold cross-validation\")"
   ]
  },
  {
   "cell_type": "markdown",
   "metadata": {},
   "source": [
    "Un punto a destacar es que debiemos de tener mucho cuidado cuando usemos un API, esta nos simplifica la vida pero debemos saber que es lo que se esta haciendo, ya que nos puede llevar a resultados erroneos. Por ejemplo, el método *RepeatedKFold* devuelve la media de las repeticiones para cada fold, no para cada experimento. Si las quisieramos tendráiamos que hacer nuestra propia función que no es muy difícil como se ve a continuación:"
   ]
  },
  {
   "cell_type": "code",
   "execution_count": 26,
   "metadata": {
    "tags": []
   },
   "outputs": [
    {
     "data": {
      "text/html": [
       "<pre style=\"white-space:pre;overflow-x:auto;line-height:normal;font-family:Menlo,'DejaVu Sans Mono',consolas,'Courier New',monospace\">Experimento número <span style=\"color: #008080; text-decoration-color: #008080; font-weight: bold\">1</span> de <span style=\"color: #008080; text-decoration-color: #008080; font-weight: bold\">5</span>\n",
       "</pre>\n"
      ],
      "text/plain": [
       "Experimento número \u001b[1;36m1\u001b[0m de \u001b[1;36m5\u001b[0m\n"
      ]
     },
     "metadata": {},
     "output_type": "display_data"
    },
    {
     "data": {
      "text/html": [
       "<pre style=\"white-space:pre;overflow-x:auto;line-height:normal;font-family:Menlo,'DejaVu Sans Mono',consolas,'Courier New',monospace\">Fold <span style=\"color: #008080; text-decoration-color: #008080; font-weight: bold\">1</span> de <span style=\"color: #008080; text-decoration-color: #008080; font-weight: bold\">10</span>\n",
       "</pre>\n"
      ],
      "text/plain": [
       "Fold \u001b[1;36m1\u001b[0m de \u001b[1;36m10\u001b[0m\n"
      ]
     },
     "metadata": {},
     "output_type": "display_data"
    },
    {
     "data": {
      "text/html": [
       "<pre style=\"white-space:pre;overflow-x:auto;line-height:normal;font-family:Menlo,'DejaVu Sans Mono',consolas,'Courier New',monospace\">Fold <span style=\"color: #008080; text-decoration-color: #008080; font-weight: bold\">2</span> de <span style=\"color: #008080; text-decoration-color: #008080; font-weight: bold\">10</span>\n",
       "</pre>\n"
      ],
      "text/plain": [
       "Fold \u001b[1;36m2\u001b[0m de \u001b[1;36m10\u001b[0m\n"
      ]
     },
     "metadata": {},
     "output_type": "display_data"
    },
    {
     "data": {
      "text/html": [
       "<pre style=\"white-space:pre;overflow-x:auto;line-height:normal;font-family:Menlo,'DejaVu Sans Mono',consolas,'Courier New',monospace\">Fold <span style=\"color: #008080; text-decoration-color: #008080; font-weight: bold\">3</span> de <span style=\"color: #008080; text-decoration-color: #008080; font-weight: bold\">10</span>\n",
       "</pre>\n"
      ],
      "text/plain": [
       "Fold \u001b[1;36m3\u001b[0m de \u001b[1;36m10\u001b[0m\n"
      ]
     },
     "metadata": {},
     "output_type": "display_data"
    },
    {
     "data": {
      "text/html": [
       "<pre style=\"white-space:pre;overflow-x:auto;line-height:normal;font-family:Menlo,'DejaVu Sans Mono',consolas,'Courier New',monospace\">Fold <span style=\"color: #008080; text-decoration-color: #008080; font-weight: bold\">4</span> de <span style=\"color: #008080; text-decoration-color: #008080; font-weight: bold\">10</span>\n",
       "</pre>\n"
      ],
      "text/plain": [
       "Fold \u001b[1;36m4\u001b[0m de \u001b[1;36m10\u001b[0m\n"
      ]
     },
     "metadata": {},
     "output_type": "display_data"
    },
    {
     "data": {
      "text/html": [
       "<pre style=\"white-space:pre;overflow-x:auto;line-height:normal;font-family:Menlo,'DejaVu Sans Mono',consolas,'Courier New',monospace\">Fold <span style=\"color: #008080; text-decoration-color: #008080; font-weight: bold\">5</span> de <span style=\"color: #008080; text-decoration-color: #008080; font-weight: bold\">10</span>\n",
       "</pre>\n"
      ],
      "text/plain": [
       "Fold \u001b[1;36m5\u001b[0m de \u001b[1;36m10\u001b[0m\n"
      ]
     },
     "metadata": {},
     "output_type": "display_data"
    },
    {
     "data": {
      "text/html": [
       "<pre style=\"white-space:pre;overflow-x:auto;line-height:normal;font-family:Menlo,'DejaVu Sans Mono',consolas,'Courier New',monospace\">Fold <span style=\"color: #008080; text-decoration-color: #008080; font-weight: bold\">6</span> de <span style=\"color: #008080; text-decoration-color: #008080; font-weight: bold\">10</span>\n",
       "</pre>\n"
      ],
      "text/plain": [
       "Fold \u001b[1;36m6\u001b[0m de \u001b[1;36m10\u001b[0m\n"
      ]
     },
     "metadata": {},
     "output_type": "display_data"
    },
    {
     "data": {
      "text/html": [
       "<pre style=\"white-space:pre;overflow-x:auto;line-height:normal;font-family:Menlo,'DejaVu Sans Mono',consolas,'Courier New',monospace\">Fold <span style=\"color: #008080; text-decoration-color: #008080; font-weight: bold\">7</span> de <span style=\"color: #008080; text-decoration-color: #008080; font-weight: bold\">10</span>\n",
       "</pre>\n"
      ],
      "text/plain": [
       "Fold \u001b[1;36m7\u001b[0m de \u001b[1;36m10\u001b[0m\n"
      ]
     },
     "metadata": {},
     "output_type": "display_data"
    },
    {
     "data": {
      "text/html": [
       "<pre style=\"white-space:pre;overflow-x:auto;line-height:normal;font-family:Menlo,'DejaVu Sans Mono',consolas,'Courier New',monospace\">Fold <span style=\"color: #008080; text-decoration-color: #008080; font-weight: bold\">8</span> de <span style=\"color: #008080; text-decoration-color: #008080; font-weight: bold\">10</span>\n",
       "</pre>\n"
      ],
      "text/plain": [
       "Fold \u001b[1;36m8\u001b[0m de \u001b[1;36m10\u001b[0m\n"
      ]
     },
     "metadata": {},
     "output_type": "display_data"
    },
    {
     "data": {
      "text/html": [
       "<pre style=\"white-space:pre;overflow-x:auto;line-height:normal;font-family:Menlo,'DejaVu Sans Mono',consolas,'Courier New',monospace\">Fold <span style=\"color: #008080; text-decoration-color: #008080; font-weight: bold\">9</span> de <span style=\"color: #008080; text-decoration-color: #008080; font-weight: bold\">10</span>\n",
       "</pre>\n"
      ],
      "text/plain": [
       "Fold \u001b[1;36m9\u001b[0m de \u001b[1;36m10\u001b[0m\n"
      ]
     },
     "metadata": {},
     "output_type": "display_data"
    },
    {
     "data": {
      "text/html": [
       "<pre style=\"white-space:pre;overflow-x:auto;line-height:normal;font-family:Menlo,'DejaVu Sans Mono',consolas,'Courier New',monospace\">Fold <span style=\"color: #008080; text-decoration-color: #008080; font-weight: bold\">10</span> de <span style=\"color: #008080; text-decoration-color: #008080; font-weight: bold\">10</span>\n",
       "</pre>\n"
      ],
      "text/plain": [
       "Fold \u001b[1;36m10\u001b[0m de \u001b[1;36m10\u001b[0m\n"
      ]
     },
     "metadata": {},
     "output_type": "display_data"
    },
    {
     "data": {
      "text/html": [
       "<pre style=\"white-space:pre;overflow-x:auto;line-height:normal;font-family:Menlo,'DejaVu Sans Mono',consolas,'Courier New',monospace\">\n",
       "Accuracy del experimento: <span style=\"color: #008080; text-decoration-color: #008080; font-weight: bold\">0.6678571428571429</span>\n",
       "</pre>\n"
      ],
      "text/plain": [
       "\n",
       "Accuracy del experimento: \u001b[1;36m0.6678571428571429\u001b[0m\n"
      ]
     },
     "metadata": {},
     "output_type": "display_data"
    },
    {
     "data": {
      "text/html": [
       "<pre style=\"white-space:pre;overflow-x:auto;line-height:normal;font-family:Menlo,'DejaVu Sans Mono',consolas,'Courier New',monospace\">Experimento número <span style=\"color: #008080; text-decoration-color: #008080; font-weight: bold\">2</span> de <span style=\"color: #008080; text-decoration-color: #008080; font-weight: bold\">5</span>\n",
       "</pre>\n"
      ],
      "text/plain": [
       "Experimento número \u001b[1;36m2\u001b[0m de \u001b[1;36m5\u001b[0m\n"
      ]
     },
     "metadata": {},
     "output_type": "display_data"
    },
    {
     "data": {
      "text/html": [
       "<pre style=\"white-space:pre;overflow-x:auto;line-height:normal;font-family:Menlo,'DejaVu Sans Mono',consolas,'Courier New',monospace\">Fold <span style=\"color: #008080; text-decoration-color: #008080; font-weight: bold\">1</span> de <span style=\"color: #008080; text-decoration-color: #008080; font-weight: bold\">10</span>\n",
       "</pre>\n"
      ],
      "text/plain": [
       "Fold \u001b[1;36m1\u001b[0m de \u001b[1;36m10\u001b[0m\n"
      ]
     },
     "metadata": {},
     "output_type": "display_data"
    },
    {
     "data": {
      "text/html": [
       "<pre style=\"white-space:pre;overflow-x:auto;line-height:normal;font-family:Menlo,'DejaVu Sans Mono',consolas,'Courier New',monospace\">Fold <span style=\"color: #008080; text-decoration-color: #008080; font-weight: bold\">2</span> de <span style=\"color: #008080; text-decoration-color: #008080; font-weight: bold\">10</span>\n",
       "</pre>\n"
      ],
      "text/plain": [
       "Fold \u001b[1;36m2\u001b[0m de \u001b[1;36m10\u001b[0m\n"
      ]
     },
     "metadata": {},
     "output_type": "display_data"
    },
    {
     "data": {
      "text/html": [
       "<pre style=\"white-space:pre;overflow-x:auto;line-height:normal;font-family:Menlo,'DejaVu Sans Mono',consolas,'Courier New',monospace\">Fold <span style=\"color: #008080; text-decoration-color: #008080; font-weight: bold\">3</span> de <span style=\"color: #008080; text-decoration-color: #008080; font-weight: bold\">10</span>\n",
       "</pre>\n"
      ],
      "text/plain": [
       "Fold \u001b[1;36m3\u001b[0m de \u001b[1;36m10\u001b[0m\n"
      ]
     },
     "metadata": {},
     "output_type": "display_data"
    },
    {
     "data": {
      "text/html": [
       "<pre style=\"white-space:pre;overflow-x:auto;line-height:normal;font-family:Menlo,'DejaVu Sans Mono',consolas,'Courier New',monospace\">Fold <span style=\"color: #008080; text-decoration-color: #008080; font-weight: bold\">4</span> de <span style=\"color: #008080; text-decoration-color: #008080; font-weight: bold\">10</span>\n",
       "</pre>\n"
      ],
      "text/plain": [
       "Fold \u001b[1;36m4\u001b[0m de \u001b[1;36m10\u001b[0m\n"
      ]
     },
     "metadata": {},
     "output_type": "display_data"
    },
    {
     "data": {
      "text/html": [
       "<pre style=\"white-space:pre;overflow-x:auto;line-height:normal;font-family:Menlo,'DejaVu Sans Mono',consolas,'Courier New',monospace\">Fold <span style=\"color: #008080; text-decoration-color: #008080; font-weight: bold\">5</span> de <span style=\"color: #008080; text-decoration-color: #008080; font-weight: bold\">10</span>\n",
       "</pre>\n"
      ],
      "text/plain": [
       "Fold \u001b[1;36m5\u001b[0m de \u001b[1;36m10\u001b[0m\n"
      ]
     },
     "metadata": {},
     "output_type": "display_data"
    },
    {
     "data": {
      "text/html": [
       "<pre style=\"white-space:pre;overflow-x:auto;line-height:normal;font-family:Menlo,'DejaVu Sans Mono',consolas,'Courier New',monospace\">Fold <span style=\"color: #008080; text-decoration-color: #008080; font-weight: bold\">6</span> de <span style=\"color: #008080; text-decoration-color: #008080; font-weight: bold\">10</span>\n",
       "</pre>\n"
      ],
      "text/plain": [
       "Fold \u001b[1;36m6\u001b[0m de \u001b[1;36m10\u001b[0m\n"
      ]
     },
     "metadata": {},
     "output_type": "display_data"
    },
    {
     "data": {
      "text/html": [
       "<pre style=\"white-space:pre;overflow-x:auto;line-height:normal;font-family:Menlo,'DejaVu Sans Mono',consolas,'Courier New',monospace\">Fold <span style=\"color: #008080; text-decoration-color: #008080; font-weight: bold\">7</span> de <span style=\"color: #008080; text-decoration-color: #008080; font-weight: bold\">10</span>\n",
       "</pre>\n"
      ],
      "text/plain": [
       "Fold \u001b[1;36m7\u001b[0m de \u001b[1;36m10\u001b[0m\n"
      ]
     },
     "metadata": {},
     "output_type": "display_data"
    },
    {
     "data": {
      "text/html": [
       "<pre style=\"white-space:pre;overflow-x:auto;line-height:normal;font-family:Menlo,'DejaVu Sans Mono',consolas,'Courier New',monospace\">Fold <span style=\"color: #008080; text-decoration-color: #008080; font-weight: bold\">8</span> de <span style=\"color: #008080; text-decoration-color: #008080; font-weight: bold\">10</span>\n",
       "</pre>\n"
      ],
      "text/plain": [
       "Fold \u001b[1;36m8\u001b[0m de \u001b[1;36m10\u001b[0m\n"
      ]
     },
     "metadata": {},
     "output_type": "display_data"
    },
    {
     "data": {
      "text/html": [
       "<pre style=\"white-space:pre;overflow-x:auto;line-height:normal;font-family:Menlo,'DejaVu Sans Mono',consolas,'Courier New',monospace\">Fold <span style=\"color: #008080; text-decoration-color: #008080; font-weight: bold\">9</span> de <span style=\"color: #008080; text-decoration-color: #008080; font-weight: bold\">10</span>\n",
       "</pre>\n"
      ],
      "text/plain": [
       "Fold \u001b[1;36m9\u001b[0m de \u001b[1;36m10\u001b[0m\n"
      ]
     },
     "metadata": {},
     "output_type": "display_data"
    },
    {
     "data": {
      "text/html": [
       "<pre style=\"white-space:pre;overflow-x:auto;line-height:normal;font-family:Menlo,'DejaVu Sans Mono',consolas,'Courier New',monospace\">Fold <span style=\"color: #008080; text-decoration-color: #008080; font-weight: bold\">10</span> de <span style=\"color: #008080; text-decoration-color: #008080; font-weight: bold\">10</span>\n",
       "</pre>\n"
      ],
      "text/plain": [
       "Fold \u001b[1;36m10\u001b[0m de \u001b[1;36m10\u001b[0m\n"
      ]
     },
     "metadata": {},
     "output_type": "display_data"
    },
    {
     "data": {
      "text/html": [
       "<pre style=\"white-space:pre;overflow-x:auto;line-height:normal;font-family:Menlo,'DejaVu Sans Mono',consolas,'Courier New',monospace\">\n",
       "Accuracy del experimento: <span style=\"color: #008080; text-decoration-color: #008080; font-weight: bold\">0.6485714285714287</span>\n",
       "</pre>\n"
      ],
      "text/plain": [
       "\n",
       "Accuracy del experimento: \u001b[1;36m0.6485714285714287\u001b[0m\n"
      ]
     },
     "metadata": {},
     "output_type": "display_data"
    },
    {
     "data": {
      "text/html": [
       "<pre style=\"white-space:pre;overflow-x:auto;line-height:normal;font-family:Menlo,'DejaVu Sans Mono',consolas,'Courier New',monospace\">Experimento número <span style=\"color: #008080; text-decoration-color: #008080; font-weight: bold\">3</span> de <span style=\"color: #008080; text-decoration-color: #008080; font-weight: bold\">5</span>\n",
       "</pre>\n"
      ],
      "text/plain": [
       "Experimento número \u001b[1;36m3\u001b[0m de \u001b[1;36m5\u001b[0m\n"
      ]
     },
     "metadata": {},
     "output_type": "display_data"
    },
    {
     "data": {
      "text/html": [
       "<pre style=\"white-space:pre;overflow-x:auto;line-height:normal;font-family:Menlo,'DejaVu Sans Mono',consolas,'Courier New',monospace\">Fold <span style=\"color: #008080; text-decoration-color: #008080; font-weight: bold\">1</span> de <span style=\"color: #008080; text-decoration-color: #008080; font-weight: bold\">10</span>\n",
       "</pre>\n"
      ],
      "text/plain": [
       "Fold \u001b[1;36m1\u001b[0m de \u001b[1;36m10\u001b[0m\n"
      ]
     },
     "metadata": {},
     "output_type": "display_data"
    },
    {
     "data": {
      "text/html": [
       "<pre style=\"white-space:pre;overflow-x:auto;line-height:normal;font-family:Menlo,'DejaVu Sans Mono',consolas,'Courier New',monospace\">Fold <span style=\"color: #008080; text-decoration-color: #008080; font-weight: bold\">2</span> de <span style=\"color: #008080; text-decoration-color: #008080; font-weight: bold\">10</span>\n",
       "</pre>\n"
      ],
      "text/plain": [
       "Fold \u001b[1;36m2\u001b[0m de \u001b[1;36m10\u001b[0m\n"
      ]
     },
     "metadata": {},
     "output_type": "display_data"
    },
    {
     "data": {
      "text/html": [
       "<pre style=\"white-space:pre;overflow-x:auto;line-height:normal;font-family:Menlo,'DejaVu Sans Mono',consolas,'Courier New',monospace\">Fold <span style=\"color: #008080; text-decoration-color: #008080; font-weight: bold\">3</span> de <span style=\"color: #008080; text-decoration-color: #008080; font-weight: bold\">10</span>\n",
       "</pre>\n"
      ],
      "text/plain": [
       "Fold \u001b[1;36m3\u001b[0m de \u001b[1;36m10\u001b[0m\n"
      ]
     },
     "metadata": {},
     "output_type": "display_data"
    },
    {
     "data": {
      "text/html": [
       "<pre style=\"white-space:pre;overflow-x:auto;line-height:normal;font-family:Menlo,'DejaVu Sans Mono',consolas,'Courier New',monospace\">Fold <span style=\"color: #008080; text-decoration-color: #008080; font-weight: bold\">4</span> de <span style=\"color: #008080; text-decoration-color: #008080; font-weight: bold\">10</span>\n",
       "</pre>\n"
      ],
      "text/plain": [
       "Fold \u001b[1;36m4\u001b[0m de \u001b[1;36m10\u001b[0m\n"
      ]
     },
     "metadata": {},
     "output_type": "display_data"
    },
    {
     "data": {
      "text/html": [
       "<pre style=\"white-space:pre;overflow-x:auto;line-height:normal;font-family:Menlo,'DejaVu Sans Mono',consolas,'Courier New',monospace\">Fold <span style=\"color: #008080; text-decoration-color: #008080; font-weight: bold\">5</span> de <span style=\"color: #008080; text-decoration-color: #008080; font-weight: bold\">10</span>\n",
       "</pre>\n"
      ],
      "text/plain": [
       "Fold \u001b[1;36m5\u001b[0m de \u001b[1;36m10\u001b[0m\n"
      ]
     },
     "metadata": {},
     "output_type": "display_data"
    },
    {
     "data": {
      "text/html": [
       "<pre style=\"white-space:pre;overflow-x:auto;line-height:normal;font-family:Menlo,'DejaVu Sans Mono',consolas,'Courier New',monospace\">Fold <span style=\"color: #008080; text-decoration-color: #008080; font-weight: bold\">6</span> de <span style=\"color: #008080; text-decoration-color: #008080; font-weight: bold\">10</span>\n",
       "</pre>\n"
      ],
      "text/plain": [
       "Fold \u001b[1;36m6\u001b[0m de \u001b[1;36m10\u001b[0m\n"
      ]
     },
     "metadata": {},
     "output_type": "display_data"
    },
    {
     "data": {
      "text/html": [
       "<pre style=\"white-space:pre;overflow-x:auto;line-height:normal;font-family:Menlo,'DejaVu Sans Mono',consolas,'Courier New',monospace\">Fold <span style=\"color: #008080; text-decoration-color: #008080; font-weight: bold\">7</span> de <span style=\"color: #008080; text-decoration-color: #008080; font-weight: bold\">10</span>\n",
       "</pre>\n"
      ],
      "text/plain": [
       "Fold \u001b[1;36m7\u001b[0m de \u001b[1;36m10\u001b[0m\n"
      ]
     },
     "metadata": {},
     "output_type": "display_data"
    },
    {
     "data": {
      "text/html": [
       "<pre style=\"white-space:pre;overflow-x:auto;line-height:normal;font-family:Menlo,'DejaVu Sans Mono',consolas,'Courier New',monospace\">Fold <span style=\"color: #008080; text-decoration-color: #008080; font-weight: bold\">8</span> de <span style=\"color: #008080; text-decoration-color: #008080; font-weight: bold\">10</span>\n",
       "</pre>\n"
      ],
      "text/plain": [
       "Fold \u001b[1;36m8\u001b[0m de \u001b[1;36m10\u001b[0m\n"
      ]
     },
     "metadata": {},
     "output_type": "display_data"
    },
    {
     "data": {
      "text/html": [
       "<pre style=\"white-space:pre;overflow-x:auto;line-height:normal;font-family:Menlo,'DejaVu Sans Mono',consolas,'Courier New',monospace\">Fold <span style=\"color: #008080; text-decoration-color: #008080; font-weight: bold\">9</span> de <span style=\"color: #008080; text-decoration-color: #008080; font-weight: bold\">10</span>\n",
       "</pre>\n"
      ],
      "text/plain": [
       "Fold \u001b[1;36m9\u001b[0m de \u001b[1;36m10\u001b[0m\n"
      ]
     },
     "metadata": {},
     "output_type": "display_data"
    },
    {
     "data": {
      "text/html": [
       "<pre style=\"white-space:pre;overflow-x:auto;line-height:normal;font-family:Menlo,'DejaVu Sans Mono',consolas,'Courier New',monospace\">Fold <span style=\"color: #008080; text-decoration-color: #008080; font-weight: bold\">10</span> de <span style=\"color: #008080; text-decoration-color: #008080; font-weight: bold\">10</span>\n",
       "</pre>\n"
      ],
      "text/plain": [
       "Fold \u001b[1;36m10\u001b[0m de \u001b[1;36m10\u001b[0m\n"
      ]
     },
     "metadata": {},
     "output_type": "display_data"
    },
    {
     "data": {
      "text/html": [
       "<pre style=\"white-space:pre;overflow-x:auto;line-height:normal;font-family:Menlo,'DejaVu Sans Mono',consolas,'Courier New',monospace\">\n",
       "Accuracy del experimento: <span style=\"color: #008080; text-decoration-color: #008080; font-weight: bold\">0.6492857142857142</span>\n",
       "</pre>\n"
      ],
      "text/plain": [
       "\n",
       "Accuracy del experimento: \u001b[1;36m0.6492857142857142\u001b[0m\n"
      ]
     },
     "metadata": {},
     "output_type": "display_data"
    },
    {
     "data": {
      "text/html": [
       "<pre style=\"white-space:pre;overflow-x:auto;line-height:normal;font-family:Menlo,'DejaVu Sans Mono',consolas,'Courier New',monospace\">Experimento número <span style=\"color: #008080; text-decoration-color: #008080; font-weight: bold\">4</span> de <span style=\"color: #008080; text-decoration-color: #008080; font-weight: bold\">5</span>\n",
       "</pre>\n"
      ],
      "text/plain": [
       "Experimento número \u001b[1;36m4\u001b[0m de \u001b[1;36m5\u001b[0m\n"
      ]
     },
     "metadata": {},
     "output_type": "display_data"
    },
    {
     "data": {
      "text/html": [
       "<pre style=\"white-space:pre;overflow-x:auto;line-height:normal;font-family:Menlo,'DejaVu Sans Mono',consolas,'Courier New',monospace\">Fold <span style=\"color: #008080; text-decoration-color: #008080; font-weight: bold\">1</span> de <span style=\"color: #008080; text-decoration-color: #008080; font-weight: bold\">10</span>\n",
       "</pre>\n"
      ],
      "text/plain": [
       "Fold \u001b[1;36m1\u001b[0m de \u001b[1;36m10\u001b[0m\n"
      ]
     },
     "metadata": {},
     "output_type": "display_data"
    },
    {
     "data": {
      "text/html": [
       "<pre style=\"white-space:pre;overflow-x:auto;line-height:normal;font-family:Menlo,'DejaVu Sans Mono',consolas,'Courier New',monospace\">Fold <span style=\"color: #008080; text-decoration-color: #008080; font-weight: bold\">2</span> de <span style=\"color: #008080; text-decoration-color: #008080; font-weight: bold\">10</span>\n",
       "</pre>\n"
      ],
      "text/plain": [
       "Fold \u001b[1;36m2\u001b[0m de \u001b[1;36m10\u001b[0m\n"
      ]
     },
     "metadata": {},
     "output_type": "display_data"
    },
    {
     "data": {
      "text/html": [
       "<pre style=\"white-space:pre;overflow-x:auto;line-height:normal;font-family:Menlo,'DejaVu Sans Mono',consolas,'Courier New',monospace\">Fold <span style=\"color: #008080; text-decoration-color: #008080; font-weight: bold\">3</span> de <span style=\"color: #008080; text-decoration-color: #008080; font-weight: bold\">10</span>\n",
       "</pre>\n"
      ],
      "text/plain": [
       "Fold \u001b[1;36m3\u001b[0m de \u001b[1;36m10\u001b[0m\n"
      ]
     },
     "metadata": {},
     "output_type": "display_data"
    },
    {
     "data": {
      "text/html": [
       "<pre style=\"white-space:pre;overflow-x:auto;line-height:normal;font-family:Menlo,'DejaVu Sans Mono',consolas,'Courier New',monospace\">Fold <span style=\"color: #008080; text-decoration-color: #008080; font-weight: bold\">4</span> de <span style=\"color: #008080; text-decoration-color: #008080; font-weight: bold\">10</span>\n",
       "</pre>\n"
      ],
      "text/plain": [
       "Fold \u001b[1;36m4\u001b[0m de \u001b[1;36m10\u001b[0m\n"
      ]
     },
     "metadata": {},
     "output_type": "display_data"
    },
    {
     "data": {
      "text/html": [
       "<pre style=\"white-space:pre;overflow-x:auto;line-height:normal;font-family:Menlo,'DejaVu Sans Mono',consolas,'Courier New',monospace\">Fold <span style=\"color: #008080; text-decoration-color: #008080; font-weight: bold\">5</span> de <span style=\"color: #008080; text-decoration-color: #008080; font-weight: bold\">10</span>\n",
       "</pre>\n"
      ],
      "text/plain": [
       "Fold \u001b[1;36m5\u001b[0m de \u001b[1;36m10\u001b[0m\n"
      ]
     },
     "metadata": {},
     "output_type": "display_data"
    },
    {
     "data": {
      "text/html": [
       "<pre style=\"white-space:pre;overflow-x:auto;line-height:normal;font-family:Menlo,'DejaVu Sans Mono',consolas,'Courier New',monospace\">Fold <span style=\"color: #008080; text-decoration-color: #008080; font-weight: bold\">6</span> de <span style=\"color: #008080; text-decoration-color: #008080; font-weight: bold\">10</span>\n",
       "</pre>\n"
      ],
      "text/plain": [
       "Fold \u001b[1;36m6\u001b[0m de \u001b[1;36m10\u001b[0m\n"
      ]
     },
     "metadata": {},
     "output_type": "display_data"
    },
    {
     "data": {
      "text/html": [
       "<pre style=\"white-space:pre;overflow-x:auto;line-height:normal;font-family:Menlo,'DejaVu Sans Mono',consolas,'Courier New',monospace\">Fold <span style=\"color: #008080; text-decoration-color: #008080; font-weight: bold\">7</span> de <span style=\"color: #008080; text-decoration-color: #008080; font-weight: bold\">10</span>\n",
       "</pre>\n"
      ],
      "text/plain": [
       "Fold \u001b[1;36m7\u001b[0m de \u001b[1;36m10\u001b[0m\n"
      ]
     },
     "metadata": {},
     "output_type": "display_data"
    },
    {
     "data": {
      "text/html": [
       "<pre style=\"white-space:pre;overflow-x:auto;line-height:normal;font-family:Menlo,'DejaVu Sans Mono',consolas,'Courier New',monospace\">Fold <span style=\"color: #008080; text-decoration-color: #008080; font-weight: bold\">8</span> de <span style=\"color: #008080; text-decoration-color: #008080; font-weight: bold\">10</span>\n",
       "</pre>\n"
      ],
      "text/plain": [
       "Fold \u001b[1;36m8\u001b[0m de \u001b[1;36m10\u001b[0m\n"
      ]
     },
     "metadata": {},
     "output_type": "display_data"
    },
    {
     "data": {
      "text/html": [
       "<pre style=\"white-space:pre;overflow-x:auto;line-height:normal;font-family:Menlo,'DejaVu Sans Mono',consolas,'Courier New',monospace\">Fold <span style=\"color: #008080; text-decoration-color: #008080; font-weight: bold\">9</span> de <span style=\"color: #008080; text-decoration-color: #008080; font-weight: bold\">10</span>\n",
       "</pre>\n"
      ],
      "text/plain": [
       "Fold \u001b[1;36m9\u001b[0m de \u001b[1;36m10\u001b[0m\n"
      ]
     },
     "metadata": {},
     "output_type": "display_data"
    },
    {
     "data": {
      "text/html": [
       "<pre style=\"white-space:pre;overflow-x:auto;line-height:normal;font-family:Menlo,'DejaVu Sans Mono',consolas,'Courier New',monospace\">Fold <span style=\"color: #008080; text-decoration-color: #008080; font-weight: bold\">10</span> de <span style=\"color: #008080; text-decoration-color: #008080; font-weight: bold\">10</span>\n",
       "</pre>\n"
      ],
      "text/plain": [
       "Fold \u001b[1;36m10\u001b[0m de \u001b[1;36m10\u001b[0m\n"
      ]
     },
     "metadata": {},
     "output_type": "display_data"
    },
    {
     "data": {
      "text/html": [
       "<pre style=\"white-space:pre;overflow-x:auto;line-height:normal;font-family:Menlo,'DejaVu Sans Mono',consolas,'Courier New',monospace\">\n",
       "Accuracy del experimento: <span style=\"color: #008080; text-decoration-color: #008080; font-weight: bold\">0.6492857142857142</span>\n",
       "</pre>\n"
      ],
      "text/plain": [
       "\n",
       "Accuracy del experimento: \u001b[1;36m0.6492857142857142\u001b[0m\n"
      ]
     },
     "metadata": {},
     "output_type": "display_data"
    },
    {
     "data": {
      "text/html": [
       "<pre style=\"white-space:pre;overflow-x:auto;line-height:normal;font-family:Menlo,'DejaVu Sans Mono',consolas,'Courier New',monospace\">Experimento número <span style=\"color: #008080; text-decoration-color: #008080; font-weight: bold\">5</span> de <span style=\"color: #008080; text-decoration-color: #008080; font-weight: bold\">5</span>\n",
       "</pre>\n"
      ],
      "text/plain": [
       "Experimento número \u001b[1;36m5\u001b[0m de \u001b[1;36m5\u001b[0m\n"
      ]
     },
     "metadata": {},
     "output_type": "display_data"
    },
    {
     "data": {
      "text/html": [
       "<pre style=\"white-space:pre;overflow-x:auto;line-height:normal;font-family:Menlo,'DejaVu Sans Mono',consolas,'Courier New',monospace\">Fold <span style=\"color: #008080; text-decoration-color: #008080; font-weight: bold\">1</span> de <span style=\"color: #008080; text-decoration-color: #008080; font-weight: bold\">10</span>\n",
       "</pre>\n"
      ],
      "text/plain": [
       "Fold \u001b[1;36m1\u001b[0m de \u001b[1;36m10\u001b[0m\n"
      ]
     },
     "metadata": {},
     "output_type": "display_data"
    },
    {
     "data": {
      "text/html": [
       "<pre style=\"white-space:pre;overflow-x:auto;line-height:normal;font-family:Menlo,'DejaVu Sans Mono',consolas,'Courier New',monospace\">Fold <span style=\"color: #008080; text-decoration-color: #008080; font-weight: bold\">2</span> de <span style=\"color: #008080; text-decoration-color: #008080; font-weight: bold\">10</span>\n",
       "</pre>\n"
      ],
      "text/plain": [
       "Fold \u001b[1;36m2\u001b[0m de \u001b[1;36m10\u001b[0m\n"
      ]
     },
     "metadata": {},
     "output_type": "display_data"
    },
    {
     "data": {
      "text/html": [
       "<pre style=\"white-space:pre;overflow-x:auto;line-height:normal;font-family:Menlo,'DejaVu Sans Mono',consolas,'Courier New',monospace\">Fold <span style=\"color: #008080; text-decoration-color: #008080; font-weight: bold\">3</span> de <span style=\"color: #008080; text-decoration-color: #008080; font-weight: bold\">10</span>\n",
       "</pre>\n"
      ],
      "text/plain": [
       "Fold \u001b[1;36m3\u001b[0m de \u001b[1;36m10\u001b[0m\n"
      ]
     },
     "metadata": {},
     "output_type": "display_data"
    },
    {
     "data": {
      "text/html": [
       "<pre style=\"white-space:pre;overflow-x:auto;line-height:normal;font-family:Menlo,'DejaVu Sans Mono',consolas,'Courier New',monospace\">Fold <span style=\"color: #008080; text-decoration-color: #008080; font-weight: bold\">4</span> de <span style=\"color: #008080; text-decoration-color: #008080; font-weight: bold\">10</span>\n",
       "</pre>\n"
      ],
      "text/plain": [
       "Fold \u001b[1;36m4\u001b[0m de \u001b[1;36m10\u001b[0m\n"
      ]
     },
     "metadata": {},
     "output_type": "display_data"
    },
    {
     "data": {
      "text/html": [
       "<pre style=\"white-space:pre;overflow-x:auto;line-height:normal;font-family:Menlo,'DejaVu Sans Mono',consolas,'Courier New',monospace\">Fold <span style=\"color: #008080; text-decoration-color: #008080; font-weight: bold\">5</span> de <span style=\"color: #008080; text-decoration-color: #008080; font-weight: bold\">10</span>\n",
       "</pre>\n"
      ],
      "text/plain": [
       "Fold \u001b[1;36m5\u001b[0m de \u001b[1;36m10\u001b[0m\n"
      ]
     },
     "metadata": {},
     "output_type": "display_data"
    },
    {
     "data": {
      "text/html": [
       "<pre style=\"white-space:pre;overflow-x:auto;line-height:normal;font-family:Menlo,'DejaVu Sans Mono',consolas,'Courier New',monospace\">Fold <span style=\"color: #008080; text-decoration-color: #008080; font-weight: bold\">6</span> de <span style=\"color: #008080; text-decoration-color: #008080; font-weight: bold\">10</span>\n",
       "</pre>\n"
      ],
      "text/plain": [
       "Fold \u001b[1;36m6\u001b[0m de \u001b[1;36m10\u001b[0m\n"
      ]
     },
     "metadata": {},
     "output_type": "display_data"
    },
    {
     "data": {
      "text/html": [
       "<pre style=\"white-space:pre;overflow-x:auto;line-height:normal;font-family:Menlo,'DejaVu Sans Mono',consolas,'Courier New',monospace\">Fold <span style=\"color: #008080; text-decoration-color: #008080; font-weight: bold\">7</span> de <span style=\"color: #008080; text-decoration-color: #008080; font-weight: bold\">10</span>\n",
       "</pre>\n"
      ],
      "text/plain": [
       "Fold \u001b[1;36m7\u001b[0m de \u001b[1;36m10\u001b[0m\n"
      ]
     },
     "metadata": {},
     "output_type": "display_data"
    },
    {
     "data": {
      "text/html": [
       "<pre style=\"white-space:pre;overflow-x:auto;line-height:normal;font-family:Menlo,'DejaVu Sans Mono',consolas,'Courier New',monospace\">Fold <span style=\"color: #008080; text-decoration-color: #008080; font-weight: bold\">8</span> de <span style=\"color: #008080; text-decoration-color: #008080; font-weight: bold\">10</span>\n",
       "</pre>\n"
      ],
      "text/plain": [
       "Fold \u001b[1;36m8\u001b[0m de \u001b[1;36m10\u001b[0m\n"
      ]
     },
     "metadata": {},
     "output_type": "display_data"
    },
    {
     "data": {
      "text/html": [
       "<pre style=\"white-space:pre;overflow-x:auto;line-height:normal;font-family:Menlo,'DejaVu Sans Mono',consolas,'Courier New',monospace\">Fold <span style=\"color: #008080; text-decoration-color: #008080; font-weight: bold\">9</span> de <span style=\"color: #008080; text-decoration-color: #008080; font-weight: bold\">10</span>\n",
       "</pre>\n"
      ],
      "text/plain": [
       "Fold \u001b[1;36m9\u001b[0m de \u001b[1;36m10\u001b[0m\n"
      ]
     },
     "metadata": {},
     "output_type": "display_data"
    },
    {
     "data": {
      "text/html": [
       "<pre style=\"white-space:pre;overflow-x:auto;line-height:normal;font-family:Menlo,'DejaVu Sans Mono',consolas,'Courier New',monospace\">Fold <span style=\"color: #008080; text-decoration-color: #008080; font-weight: bold\">10</span> de <span style=\"color: #008080; text-decoration-color: #008080; font-weight: bold\">10</span>\n",
       "</pre>\n"
      ],
      "text/plain": [
       "Fold \u001b[1;36m10\u001b[0m de \u001b[1;36m10\u001b[0m\n"
      ]
     },
     "metadata": {},
     "output_type": "display_data"
    },
    {
     "data": {
      "text/html": [
       "<pre style=\"white-space:pre;overflow-x:auto;line-height:normal;font-family:Menlo,'DejaVu Sans Mono',consolas,'Courier New',monospace\">\n",
       "Accuracy del experimento: <span style=\"color: #008080; text-decoration-color: #008080; font-weight: bold\">0.644047619047619</span>\n",
       "</pre>\n"
      ],
      "text/plain": [
       "\n",
       "Accuracy del experimento: \u001b[1;36m0.644047619047619\u001b[0m\n"
      ]
     },
     "metadata": {},
     "output_type": "display_data"
    },
    {
     "data": {
      "text/html": [
       "<pre style=\"white-space:pre;overflow-x:auto;line-height:normal;font-family:Menlo,'DejaVu Sans Mono',consolas,'Courier New',monospace\">\n",
       "Results: <span style=\"font-weight: bold\">[[</span><span style=\"color: #008080; text-decoration-color: #008080; font-weight: bold\">0.61904762</span> <span style=\"color: #008080; text-decoration-color: #008080; font-weight: bold\">0.66666667</span> <span style=\"color: #008080; text-decoration-color: #008080; font-weight: bold\">0.61904762</span> <span style=\"color: #008080; text-decoration-color: #008080; font-weight: bold\">0.76190476</span> <span style=\"color: #008080; text-decoration-color: #008080; font-weight: bold\">0.71428571</span> <span style=\"color: #008080; text-decoration-color: #008080; font-weight: bold\">0.76190476</span>\n",
       "  <span style=\"color: #008080; text-decoration-color: #008080; font-weight: bold\">0.66666667</span> <span style=\"color: #008080; text-decoration-color: #008080; font-weight: bold\">0.61904762</span> <span style=\"color: #008080; text-decoration-color: #008080; font-weight: bold\">0.55</span>       <span style=\"color: #008080; text-decoration-color: #008080; font-weight: bold\">0.7</span>       <span style=\"font-weight: bold\">]</span>\n",
       " <span style=\"font-weight: bold\">[</span><span style=\"color: #008080; text-decoration-color: #008080; font-weight: bold\">0.71428571</span> <span style=\"color: #008080; text-decoration-color: #008080; font-weight: bold\">0.61904762</span> <span style=\"color: #008080; text-decoration-color: #008080; font-weight: bold\">0.66666667</span> <span style=\"color: #008080; text-decoration-color: #008080; font-weight: bold\">0.66666667</span> <span style=\"color: #008080; text-decoration-color: #008080; font-weight: bold\">0.42857143</span> <span style=\"color: #008080; text-decoration-color: #008080; font-weight: bold\">0.80952381</span>\n",
       "  <span style=\"color: #008080; text-decoration-color: #008080; font-weight: bold\">0.66666667</span> <span style=\"color: #008080; text-decoration-color: #008080; font-weight: bold\">0.71428571</span> <span style=\"color: #008080; text-decoration-color: #008080; font-weight: bold\">0.75</span>       <span style=\"color: #008080; text-decoration-color: #008080; font-weight: bold\">0.45</span>      <span style=\"font-weight: bold\">]</span>\n",
       " <span style=\"font-weight: bold\">[</span><span style=\"color: #008080; text-decoration-color: #008080; font-weight: bold\">0.52380952</span> <span style=\"color: #008080; text-decoration-color: #008080; font-weight: bold\">0.71428571</span> <span style=\"color: #008080; text-decoration-color: #008080; font-weight: bold\">0.52380952</span> <span style=\"color: #008080; text-decoration-color: #008080; font-weight: bold\">0.71428571</span> <span style=\"color: #008080; text-decoration-color: #008080; font-weight: bold\">0.61904762</span> <span style=\"color: #008080; text-decoration-color: #008080; font-weight: bold\">0.80952381</span>\n",
       "  <span style=\"color: #008080; text-decoration-color: #008080; font-weight: bold\">0.61904762</span> <span style=\"color: #008080; text-decoration-color: #008080; font-weight: bold\">0.61904762</span> <span style=\"color: #008080; text-decoration-color: #008080; font-weight: bold\">0.75</span>       <span style=\"color: #008080; text-decoration-color: #008080; font-weight: bold\">0.6</span>       <span style=\"font-weight: bold\">]</span>\n",
       " <span style=\"font-weight: bold\">[</span><span style=\"color: #008080; text-decoration-color: #008080; font-weight: bold\">0.71428571</span> <span style=\"color: #008080; text-decoration-color: #008080; font-weight: bold\">0.52380952</span> <span style=\"color: #008080; text-decoration-color: #008080; font-weight: bold\">0.66666667</span> <span style=\"color: #008080; text-decoration-color: #008080; font-weight: bold\">0.66666667</span> <span style=\"color: #008080; text-decoration-color: #008080; font-weight: bold\">0.52380952</span> <span style=\"color: #008080; text-decoration-color: #008080; font-weight: bold\">0.71428571</span>\n",
       "  <span style=\"color: #008080; text-decoration-color: #008080; font-weight: bold\">0.71428571</span> <span style=\"color: #008080; text-decoration-color: #008080; font-weight: bold\">0.61904762</span> <span style=\"color: #008080; text-decoration-color: #008080; font-weight: bold\">0.6</span>        <span style=\"color: #008080; text-decoration-color: #008080; font-weight: bold\">0.75</span>      <span style=\"font-weight: bold\">]</span>\n",
       " <span style=\"font-weight: bold\">[</span><span style=\"color: #008080; text-decoration-color: #008080; font-weight: bold\">0.57142857</span> <span style=\"color: #008080; text-decoration-color: #008080; font-weight: bold\">0.57142857</span> <span style=\"color: #008080; text-decoration-color: #008080; font-weight: bold\">0.85714286</span> <span style=\"color: #008080; text-decoration-color: #008080; font-weight: bold\">0.57142857</span> <span style=\"color: #008080; text-decoration-color: #008080; font-weight: bold\">0.71428571</span> <span style=\"color: #008080; text-decoration-color: #008080; font-weight: bold\">0.47619048</span>\n",
       "  <span style=\"color: #008080; text-decoration-color: #008080; font-weight: bold\">0.71428571</span> <span style=\"color: #008080; text-decoration-color: #008080; font-weight: bold\">0.71428571</span> <span style=\"color: #008080; text-decoration-color: #008080; font-weight: bold\">0.7</span>        <span style=\"color: #008080; text-decoration-color: #008080; font-weight: bold\">0.55</span>      <span style=\"font-weight: bold\">]]</span>\n",
       "</pre>\n"
      ],
      "text/plain": [
       "\n",
       "Results: \u001b[1m[\u001b[0m\u001b[1m[\u001b[0m\u001b[1;36m0.61904762\u001b[0m \u001b[1;36m0.66666667\u001b[0m \u001b[1;36m0.61904762\u001b[0m \u001b[1;36m0.76190476\u001b[0m \u001b[1;36m0.71428571\u001b[0m \u001b[1;36m0.76190476\u001b[0m\n",
       "  \u001b[1;36m0.66666667\u001b[0m \u001b[1;36m0.61904762\u001b[0m \u001b[1;36m0.55\u001b[0m       \u001b[1;36m0.7\u001b[0m       \u001b[1m]\u001b[0m\n",
       " \u001b[1m[\u001b[0m\u001b[1;36m0.71428571\u001b[0m \u001b[1;36m0.61904762\u001b[0m \u001b[1;36m0.66666667\u001b[0m \u001b[1;36m0.66666667\u001b[0m \u001b[1;36m0.42857143\u001b[0m \u001b[1;36m0.80952381\u001b[0m\n",
       "  \u001b[1;36m0.66666667\u001b[0m \u001b[1;36m0.71428571\u001b[0m \u001b[1;36m0.75\u001b[0m       \u001b[1;36m0.45\u001b[0m      \u001b[1m]\u001b[0m\n",
       " \u001b[1m[\u001b[0m\u001b[1;36m0.52380952\u001b[0m \u001b[1;36m0.71428571\u001b[0m \u001b[1;36m0.52380952\u001b[0m \u001b[1;36m0.71428571\u001b[0m \u001b[1;36m0.61904762\u001b[0m \u001b[1;36m0.80952381\u001b[0m\n",
       "  \u001b[1;36m0.61904762\u001b[0m \u001b[1;36m0.61904762\u001b[0m \u001b[1;36m0.75\u001b[0m       \u001b[1;36m0.6\u001b[0m       \u001b[1m]\u001b[0m\n",
       " \u001b[1m[\u001b[0m\u001b[1;36m0.71428571\u001b[0m \u001b[1;36m0.52380952\u001b[0m \u001b[1;36m0.66666667\u001b[0m \u001b[1;36m0.66666667\u001b[0m \u001b[1;36m0.52380952\u001b[0m \u001b[1;36m0.71428571\u001b[0m\n",
       "  \u001b[1;36m0.71428571\u001b[0m \u001b[1;36m0.61904762\u001b[0m \u001b[1;36m0.6\u001b[0m        \u001b[1;36m0.75\u001b[0m      \u001b[1m]\u001b[0m\n",
       " \u001b[1m[\u001b[0m\u001b[1;36m0.57142857\u001b[0m \u001b[1;36m0.57142857\u001b[0m \u001b[1;36m0.85714286\u001b[0m \u001b[1;36m0.57142857\u001b[0m \u001b[1;36m0.71428571\u001b[0m \u001b[1;36m0.47619048\u001b[0m\n",
       "  \u001b[1;36m0.71428571\u001b[0m \u001b[1;36m0.71428571\u001b[0m \u001b[1;36m0.7\u001b[0m        \u001b[1;36m0.55\u001b[0m      \u001b[1m]\u001b[0m\u001b[1m]\u001b[0m\n"
      ]
     },
     "metadata": {},
     "output_type": "display_data"
    },
    {
     "data": {
      "text/html": [
       "<pre style=\"white-space:pre;overflow-x:auto;line-height:normal;font-family:Menlo,'DejaVu Sans Mono',consolas,'Courier New',monospace\">Media: <span style=\"color: #008080; text-decoration-color: #008080; font-weight: bold\">0.6518095238095237</span>\n",
       "</pre>\n"
      ],
      "text/plain": [
       "Media: \u001b[1;36m0.6518095238095237\u001b[0m\n"
      ]
     },
     "metadata": {},
     "output_type": "display_data"
    },
    {
     "data": {
      "text/html": [
       "<pre style=\"white-space:pre;overflow-x:auto;line-height:normal;font-family:Menlo,'DejaVu Sans Mono',consolas,'Courier New',monospace\">Desviación: <span style=\"color: #008080; text-decoration-color: #008080; font-weight: bold\">0.09329634835715728</span>\n",
       "</pre>\n"
      ],
      "text/plain": [
       "Desviación: \u001b[1;36m0.09329634835715728\u001b[0m\n"
      ]
     },
     "metadata": {},
     "output_type": "display_data"
    }
   ],
   "source": [
    "import numpy as np\n",
    "from sklearn.utils import shuffle\n",
    "\n",
    "def cross_validate(model, x, y, folds=10, repeats=5):\n",
    "    score = np.zeros((repeats, folds))\n",
    "    x = np.array(x)\n",
    "    for r in range(repeats):\n",
    "        i=0\n",
    "        print('Experimento número', str(r + 1), 'de', str(repeats))\n",
    "        x,y = shuffle(x,y,random_state=r) \n",
    "        kf = KFold(n_splits=folds,random_state=i+1000,shuffle=True)\n",
    "        for train_ind,test_ind in kf.split(x):\n",
    "            print('Fold', i+1, 'de',folds)\n",
    "            xtrain,ytrain = x[train_ind,:],y[train_ind]\n",
    "            xtest,ytest = x[test_ind,:],y[test_ind]\n",
    "            model.fit(xtrain, ytrain)\n",
    "            score[r,i]=metrics.accuracy_score(model.predict(xtest), ytest)\n",
    "            i+=1\n",
    "        print('\\nAccuracy del experimento:',str(np.mean(score[r, :])))\n",
    "    print('\\nResults:',str(score))\n",
    "    print('Media:',str(np.mean(score)))\n",
    "    print('Desviación:',str(np.std(score)))\n",
    "    return score\n",
    "\n",
    "score=cross_validate(knn_model, inputs, targets, folds=10, repeats=5)"
   ]
  },
  {
   "cell_type": "code",
   "execution_count": 27,
   "metadata": {
    "tags": []
   },
   "outputs": [
    {
     "data": {
      "text/html": [
       "<pre style=\"white-space:pre;overflow-x:auto;line-height:normal;font-family:Menlo,'DejaVu Sans Mono',consolas,'Courier New',monospace\"><span style=\"font-weight: bold\">[[</span><span style=\"color: #008080; text-decoration-color: #008080; font-weight: bold\">0.61904762</span> <span style=\"color: #008080; text-decoration-color: #008080; font-weight: bold\">0.66666667</span> <span style=\"color: #008080; text-decoration-color: #008080; font-weight: bold\">0.61904762</span> <span style=\"color: #008080; text-decoration-color: #008080; font-weight: bold\">0.76190476</span> <span style=\"color: #008080; text-decoration-color: #008080; font-weight: bold\">0.71428571</span> <span style=\"color: #008080; text-decoration-color: #008080; font-weight: bold\">0.76190476</span>\n",
       "  <span style=\"color: #008080; text-decoration-color: #008080; font-weight: bold\">0.66666667</span> <span style=\"color: #008080; text-decoration-color: #008080; font-weight: bold\">0.61904762</span> <span style=\"color: #008080; text-decoration-color: #008080; font-weight: bold\">0.55</span>       <span style=\"color: #008080; text-decoration-color: #008080; font-weight: bold\">0.7</span>       <span style=\"font-weight: bold\">]</span>\n",
       " <span style=\"font-weight: bold\">[</span><span style=\"color: #008080; text-decoration-color: #008080; font-weight: bold\">0.71428571</span> <span style=\"color: #008080; text-decoration-color: #008080; font-weight: bold\">0.61904762</span> <span style=\"color: #008080; text-decoration-color: #008080; font-weight: bold\">0.66666667</span> <span style=\"color: #008080; text-decoration-color: #008080; font-weight: bold\">0.66666667</span> <span style=\"color: #008080; text-decoration-color: #008080; font-weight: bold\">0.42857143</span> <span style=\"color: #008080; text-decoration-color: #008080; font-weight: bold\">0.80952381</span>\n",
       "  <span style=\"color: #008080; text-decoration-color: #008080; font-weight: bold\">0.66666667</span> <span style=\"color: #008080; text-decoration-color: #008080; font-weight: bold\">0.71428571</span> <span style=\"color: #008080; text-decoration-color: #008080; font-weight: bold\">0.75</span>       <span style=\"color: #008080; text-decoration-color: #008080; font-weight: bold\">0.45</span>      <span style=\"font-weight: bold\">]</span>\n",
       " <span style=\"font-weight: bold\">[</span><span style=\"color: #008080; text-decoration-color: #008080; font-weight: bold\">0.52380952</span> <span style=\"color: #008080; text-decoration-color: #008080; font-weight: bold\">0.71428571</span> <span style=\"color: #008080; text-decoration-color: #008080; font-weight: bold\">0.52380952</span> <span style=\"color: #008080; text-decoration-color: #008080; font-weight: bold\">0.71428571</span> <span style=\"color: #008080; text-decoration-color: #008080; font-weight: bold\">0.61904762</span> <span style=\"color: #008080; text-decoration-color: #008080; font-weight: bold\">0.80952381</span>\n",
       "  <span style=\"color: #008080; text-decoration-color: #008080; font-weight: bold\">0.61904762</span> <span style=\"color: #008080; text-decoration-color: #008080; font-weight: bold\">0.61904762</span> <span style=\"color: #008080; text-decoration-color: #008080; font-weight: bold\">0.75</span>       <span style=\"color: #008080; text-decoration-color: #008080; font-weight: bold\">0.6</span>       <span style=\"font-weight: bold\">]</span>\n",
       " <span style=\"font-weight: bold\">[</span><span style=\"color: #008080; text-decoration-color: #008080; font-weight: bold\">0.71428571</span> <span style=\"color: #008080; text-decoration-color: #008080; font-weight: bold\">0.52380952</span> <span style=\"color: #008080; text-decoration-color: #008080; font-weight: bold\">0.66666667</span> <span style=\"color: #008080; text-decoration-color: #008080; font-weight: bold\">0.66666667</span> <span style=\"color: #008080; text-decoration-color: #008080; font-weight: bold\">0.52380952</span> <span style=\"color: #008080; text-decoration-color: #008080; font-weight: bold\">0.71428571</span>\n",
       "  <span style=\"color: #008080; text-decoration-color: #008080; font-weight: bold\">0.71428571</span> <span style=\"color: #008080; text-decoration-color: #008080; font-weight: bold\">0.61904762</span> <span style=\"color: #008080; text-decoration-color: #008080; font-weight: bold\">0.6</span>        <span style=\"color: #008080; text-decoration-color: #008080; font-weight: bold\">0.75</span>      <span style=\"font-weight: bold\">]</span>\n",
       " <span style=\"font-weight: bold\">[</span><span style=\"color: #008080; text-decoration-color: #008080; font-weight: bold\">0.57142857</span> <span style=\"color: #008080; text-decoration-color: #008080; font-weight: bold\">0.57142857</span> <span style=\"color: #008080; text-decoration-color: #008080; font-weight: bold\">0.85714286</span> <span style=\"color: #008080; text-decoration-color: #008080; font-weight: bold\">0.57142857</span> <span style=\"color: #008080; text-decoration-color: #008080; font-weight: bold\">0.71428571</span> <span style=\"color: #008080; text-decoration-color: #008080; font-weight: bold\">0.47619048</span>\n",
       "  <span style=\"color: #008080; text-decoration-color: #008080; font-weight: bold\">0.71428571</span> <span style=\"color: #008080; text-decoration-color: #008080; font-weight: bold\">0.71428571</span> <span style=\"color: #008080; text-decoration-color: #008080; font-weight: bold\">0.7</span>        <span style=\"color: #008080; text-decoration-color: #008080; font-weight: bold\">0.55</span>      <span style=\"font-weight: bold\">]]</span>\n",
       "</pre>\n"
      ],
      "text/plain": [
       "\u001b[1m[\u001b[0m\u001b[1m[\u001b[0m\u001b[1;36m0.61904762\u001b[0m \u001b[1;36m0.66666667\u001b[0m \u001b[1;36m0.61904762\u001b[0m \u001b[1;36m0.76190476\u001b[0m \u001b[1;36m0.71428571\u001b[0m \u001b[1;36m0.76190476\u001b[0m\n",
       "  \u001b[1;36m0.66666667\u001b[0m \u001b[1;36m0.61904762\u001b[0m \u001b[1;36m0.55\u001b[0m       \u001b[1;36m0.7\u001b[0m       \u001b[1m]\u001b[0m\n",
       " \u001b[1m[\u001b[0m\u001b[1;36m0.71428571\u001b[0m \u001b[1;36m0.61904762\u001b[0m \u001b[1;36m0.66666667\u001b[0m \u001b[1;36m0.66666667\u001b[0m \u001b[1;36m0.42857143\u001b[0m \u001b[1;36m0.80952381\u001b[0m\n",
       "  \u001b[1;36m0.66666667\u001b[0m \u001b[1;36m0.71428571\u001b[0m \u001b[1;36m0.75\u001b[0m       \u001b[1;36m0.45\u001b[0m      \u001b[1m]\u001b[0m\n",
       " \u001b[1m[\u001b[0m\u001b[1;36m0.52380952\u001b[0m \u001b[1;36m0.71428571\u001b[0m \u001b[1;36m0.52380952\u001b[0m \u001b[1;36m0.71428571\u001b[0m \u001b[1;36m0.61904762\u001b[0m \u001b[1;36m0.80952381\u001b[0m\n",
       "  \u001b[1;36m0.61904762\u001b[0m \u001b[1;36m0.61904762\u001b[0m \u001b[1;36m0.75\u001b[0m       \u001b[1;36m0.6\u001b[0m       \u001b[1m]\u001b[0m\n",
       " \u001b[1m[\u001b[0m\u001b[1;36m0.71428571\u001b[0m \u001b[1;36m0.52380952\u001b[0m \u001b[1;36m0.66666667\u001b[0m \u001b[1;36m0.66666667\u001b[0m \u001b[1;36m0.52380952\u001b[0m \u001b[1;36m0.71428571\u001b[0m\n",
       "  \u001b[1;36m0.71428571\u001b[0m \u001b[1;36m0.61904762\u001b[0m \u001b[1;36m0.6\u001b[0m        \u001b[1;36m0.75\u001b[0m      \u001b[1m]\u001b[0m\n",
       " \u001b[1m[\u001b[0m\u001b[1;36m0.57142857\u001b[0m \u001b[1;36m0.57142857\u001b[0m \u001b[1;36m0.85714286\u001b[0m \u001b[1;36m0.57142857\u001b[0m \u001b[1;36m0.71428571\u001b[0m \u001b[1;36m0.47619048\u001b[0m\n",
       "  \u001b[1;36m0.71428571\u001b[0m \u001b[1;36m0.71428571\u001b[0m \u001b[1;36m0.7\u001b[0m        \u001b[1;36m0.55\u001b[0m      \u001b[1m]\u001b[0m\u001b[1m]\u001b[0m\n"
      ]
     },
     "metadata": {},
     "output_type": "display_data"
    },
    {
     "data": {
      "text/plain": [
       "{'whiskers': [<matplotlib.lines.Line2D at 0x7fa7dbdab430>,\n",
       "  <matplotlib.lines.Line2D at 0x7fa7dbdab340>,\n",
       "  <matplotlib.lines.Line2D at 0x7fa7dbda8430>,\n",
       "  <matplotlib.lines.Line2D at 0x7fa7dbdaa050>,\n",
       "  <matplotlib.lines.Line2D at 0x7fa7dbdc2ec0>,\n",
       "  <matplotlib.lines.Line2D at 0x7fa7dbdc1570>,\n",
       "  <matplotlib.lines.Line2D at 0x7fa7dbdc0df0>,\n",
       "  <matplotlib.lines.Line2D at 0x7fa7dbdc2230>,\n",
       "  <matplotlib.lines.Line2D at 0x7fa7dbd7ddb0>,\n",
       "  <matplotlib.lines.Line2D at 0x7fa7dbd7e8c0>,\n",
       "  <matplotlib.lines.Line2D at 0x7fa7dbd7d690>,\n",
       "  <matplotlib.lines.Line2D at 0x7fa7dbd7d660>,\n",
       "  <matplotlib.lines.Line2D at 0x7fa7dbd7cd30>,\n",
       "  <matplotlib.lines.Line2D at 0x7fa7dbd7c310>,\n",
       "  <matplotlib.lines.Line2D at 0x7fa7dbd7f250>,\n",
       "  <matplotlib.lines.Line2D at 0x7fa7dbd7fd90>,\n",
       "  <matplotlib.lines.Line2D at 0x7fa7dbd5ada0>,\n",
       "  <matplotlib.lines.Line2D at 0x7fa7dbd58580>,\n",
       "  <matplotlib.lines.Line2D at 0x7fa7dbd5ba60>,\n",
       "  <matplotlib.lines.Line2D at 0x7fa7dbd5bf10>],\n",
       " 'caps': [<matplotlib.lines.Line2D at 0x7fa7dbdab9a0>,\n",
       "  <matplotlib.lines.Line2D at 0x7fa7dbdabd00>,\n",
       "  <matplotlib.lines.Line2D at 0x7fa7dbda8f40>,\n",
       "  <matplotlib.lines.Line2D at 0x7fa7dbda8be0>,\n",
       "  <matplotlib.lines.Line2D at 0x7fa7dbdc1ff0>,\n",
       "  <matplotlib.lines.Line2D at 0x7fa7dbdc36d0>,\n",
       "  <matplotlib.lines.Line2D at 0x7fa7dbdc01f0>,\n",
       "  <matplotlib.lines.Line2D at 0x7fa7dbdc0460>,\n",
       "  <matplotlib.lines.Line2D at 0x7fa7dbbe9c00>,\n",
       "  <matplotlib.lines.Line2D at 0x7fa7dbd7ea10>,\n",
       "  <matplotlib.lines.Line2D at 0x7fa7dbd7c5b0>,\n",
       "  <matplotlib.lines.Line2D at 0x7fa7dbd7c760>,\n",
       "  <matplotlib.lines.Line2D at 0x7fa7dbd7c070>,\n",
       "  <matplotlib.lines.Line2D at 0x7fa7dbd7dea0>,\n",
       "  <matplotlib.lines.Line2D at 0x7fa7dbd7fb50>,\n",
       "  <matplotlib.lines.Line2D at 0x7fa7dbd7f6a0>,\n",
       "  <matplotlib.lines.Line2D at 0x7fa7dbd5ab00>,\n",
       "  <matplotlib.lines.Line2D at 0x7fa7dbd5aa10>,\n",
       "  <matplotlib.lines.Line2D at 0x7fa7dbd5a1a0>,\n",
       "  <matplotlib.lines.Line2D at 0x7fa7dbd59ff0>],\n",
       " 'boxes': [<matplotlib.lines.Line2D at 0x7fa7dbdaa8f0>,\n",
       "  <matplotlib.lines.Line2D at 0x7fa7dbda9f00>,\n",
       "  <matplotlib.lines.Line2D at 0x7fa7dbdc1900>,\n",
       "  <matplotlib.lines.Line2D at 0x7fa7dbdc19f0>,\n",
       "  <matplotlib.lines.Line2D at 0x7fa7dbdc07f0>,\n",
       "  <matplotlib.lines.Line2D at 0x7fa7dbd7d8a0>,\n",
       "  <matplotlib.lines.Line2D at 0x7fa7dbd7c9d0>,\n",
       "  <matplotlib.lines.Line2D at 0x7fa7dbd7ee90>,\n",
       "  <matplotlib.lines.Line2D at 0x7fa7dbd5bb80>,\n",
       "  <matplotlib.lines.Line2D at 0x7fa7dbd58f70>],\n",
       " 'medians': [<matplotlib.lines.Line2D at 0x7fa7dbdaae90>,\n",
       "  <matplotlib.lines.Line2D at 0x7fa7dbdc08b0>,\n",
       "  <matplotlib.lines.Line2D at 0x7fa7dbdc3a90>,\n",
       "  <matplotlib.lines.Line2D at 0x7fa7dbdc1a50>,\n",
       "  <matplotlib.lines.Line2D at 0x7fa7dbd7f460>,\n",
       "  <matplotlib.lines.Line2D at 0x7fa7dbd7c4f0>,\n",
       "  <matplotlib.lines.Line2D at 0x7fa7dbd7e2c0>,\n",
       "  <matplotlib.lines.Line2D at 0x7fa7dbd7c370>,\n",
       "  <matplotlib.lines.Line2D at 0x7fa7dbd5a170>,\n",
       "  <matplotlib.lines.Line2D at 0x7fa7dbd59f00>],\n",
       " 'fliers': [<matplotlib.lines.Line2D at 0x7fa7dbda9bd0>,\n",
       "  <matplotlib.lines.Line2D at 0x7fa7dbdc1300>,\n",
       "  <matplotlib.lines.Line2D at 0x7fa7dbdc1000>,\n",
       "  <matplotlib.lines.Line2D at 0x7fa7dbdc0e50>,\n",
       "  <matplotlib.lines.Line2D at 0x7fa7dbd7fee0>,\n",
       "  <matplotlib.lines.Line2D at 0x7fa7dbd7cc70>,\n",
       "  <matplotlib.lines.Line2D at 0x7fa7dbd7e560>,\n",
       "  <matplotlib.lines.Line2D at 0x7fa7dbd59ed0>,\n",
       "  <matplotlib.lines.Line2D at 0x7fa7dbd593f0>,\n",
       "  <matplotlib.lines.Line2D at 0x7fa7dbd5a680>],\n",
       " 'means': []}"
      ]
     },
     "execution_count": 27,
     "metadata": {},
     "output_type": "execute_result"
    },
    {
     "data": {
      "image/png": "[encoded data removed]",
      "text/plain": [
       "<Figure size 640x480 with 1 Axes>"
      ]
     },
     "metadata": {},
     "output_type": "display_data"
    }
   ],
   "source": [
    "print(score)\n",
    "boxplot(score)"
   ]
  },
  {
   "cell_type": "markdown",
   "metadata": {},
   "source": [
    "Es un boxplot un poco grande pero quen nos da una idea bastante feaciente de como se hacomportado el modelo en cada uno folds teniendo en cuenta las repeticiones.\n",
    "\n",
    "## Otros tipos de cross-valiadation\n",
    "Estos son sólo los principales tipos de entrenamiento, pero existen otros. Entre los más comunes tendríamos:\n",
    "\n",
    "1. 5x2 *Cross-validation*. En este caso se realiza un 2-cv pero se repite 5 veces el proceso de tal manera que tengamos 10 valores de test. En casos con pocos datos es uno de las mejores aproximaciones porque permite hacer contrates de hipotesis como el t-test. "
   ]
  },
  {
   "cell_type": "code",
   "execution_count": 28,
   "metadata": {
    "tags": []
   },
   "outputs": [
    {
     "data": {
      "text/html": [
       "<pre style=\"white-space:pre;overflow-x:auto;line-height:normal;font-family:Menlo,'DejaVu Sans Mono',consolas,'Courier New',monospace\"><span style=\"color: #008080; text-decoration-color: #008080; font-weight: bold\">0.7076923076923076</span>\n",
       "</pre>\n"
      ],
      "text/plain": [
       "\u001b[1;36m0.7076923076923076\u001b[0m\n"
      ]
     },
     "metadata": {},
     "output_type": "display_data"
    }
   ],
   "source": [
    "from sklearn.model_selection import cross_val_score,RepeatedKFold\n",
    "from sklearn.neighbors import KNeighborsClassifier\n",
    "\n",
    "knn = KNeighborsClassifier()\n",
    "cv_5x2 = RepeatedKFold(n_splits=2,n_repeats=5)\n",
    "scores = cross_val_score(knn, inputs, targets, cv=cv_5x2)\n",
    "\n",
    "print(np.mean(scores))"
   ]
  },
  {
   "cell_type": "markdown",
   "metadata": {},
   "source": [
    "2. *Leave-one-out (LOO)* es una aproximación en el que se aplica el cross-validation a nivel de dato dejando sólo un ejemplo fuera en que el modelo entrenado con el resto se lo juega a todo o nada. Tiende a ser demasiado optimista en los resultados si las muestras no están balanceadas, pero es una opción cuando hay muy pocos datos. En la librería se encuentra implementado en la clase `LeaveOneOut`."
   ]
  },
  {
   "cell_type": "code",
   "execution_count": 29,
   "metadata": {
    "tags": []
   },
   "outputs": [
    {
     "data": {
      "text/html": [
       "<pre style=\"white-space:pre;overflow-x:auto;line-height:normal;font-family:Menlo,'DejaVu Sans Mono',consolas,'Courier New',monospace\"><span style=\"color: #008080; text-decoration-color: #008080; font-weight: bold\">0.8269230769230769</span>\n",
       "</pre>\n"
      ],
      "text/plain": [
       "\u001b[1;36m0.8269230769230769\u001b[0m\n"
      ]
     },
     "metadata": {},
     "output_type": "display_data"
    }
   ],
   "source": [
    "from sklearn.model_selection import LeaveOneOut, cross_val_score\n",
    "from sklearn.neighbors import KNeighborsClassifier\n",
    "\n",
    "knn = KNeighborsClassifier()\n",
    "loo = LeaveOneOut()\n",
    "scores = cross_val_score(knn, inputs, targets, cv=loo)\n",
    "\n",
    "print(np.mean(scores))"
   ]
  },
  {
   "cell_type": "markdown",
   "metadata": {},
   "source": [
    "3. Nested Cross Valiadation. En este caso se hace un cross-validation para cada conjunto de entrenamiento del cross-validation. Es particularmente útil para evitar sesgos a la hora de comparar Modelos con diferentes configuraciones. El interno nos permite seleccionar los parámetros y el externo nos da una ideal del rendimiento general del modelo"
   ]
  },
  {
   "cell_type": "code",
   "execution_count": 30,
   "metadata": {
    "tags": []
   },
   "outputs": [
    {
     "data": {
      "text/html": [
       "<pre style=\"white-space:pre;overflow-x:auto;line-height:normal;font-family:Menlo,'DejaVu Sans Mono',consolas,'Courier New',monospace\"><span style=\"color: #008080; text-decoration-color: #008080; font-weight: bold\">0.7416399286987523</span>\n",
       "</pre>\n"
      ],
      "text/plain": [
       "\u001b[1;36m0.7416399286987523\u001b[0m\n"
      ]
     },
     "metadata": {},
     "output_type": "display_data"
    }
   ],
   "source": [
    "from sklearn.model_selection import KFold, cross_val_score\n",
    "from sklearn.neighbors import KNeighborsClassifier\n",
    "import numpy as np\n",
    "\n",
    "knn = KNeighborsClassifier()\n",
    "\n",
    "outer_cv = KFold(n_splits=5, shuffle=True, random_state=0)\n",
    "inner_cv = KFold(n_splits=5, shuffle=True, random_state=0)\n",
    "\n",
    "nested_scores = []\n",
    "for train_index, test_index in outer_cv.split(inputs):\n",
    "    inputs_train, inputs_test = inputs[train_index], inputs[test_index]\n",
    "    targets_train, targets_test = targets[train_index], targets[test_index]\n",
    "    inner_scores = cross_val_score(knn, inputs_train, targets_train, cv=inner_cv)\n",
    "    nested_score = np.mean(inner_scores)\n",
    "    nested_scores.append(nested_score)\n",
    "\n",
    "print(np.mean(nested_scores))"
   ]
  },
  {
   "cell_type": "markdown",
   "metadata": {},
   "source": [
    "4. Individual-wise o Group-wise cross-validation. En este caso concreto se tiene en cuenta el como están repartidas las muestras si, por ejemplo, son medidas sobre un mismo individuo en dos momentos diferentes. En dicho caso todas las muestras en el cross-validation debieran de ir a la misma partición porque, de otra manera, habría contaminación cruzada entre los conjuntos de entrenamiento y test."
   ]
  },
  {
   "cell_type": "code",
   "execution_count": 31,
   "metadata": {
    "tags": []
   },
   "outputs": [
    {
     "data": {
      "text/html": [
       "<pre style=\"white-space:pre;overflow-x:auto;line-height:normal;font-family:Menlo,'DejaVu Sans Mono',consolas,'Courier New',monospace\"><span style=\"font-weight: bold\">[</span><span style=\"color: #008080; text-decoration-color: #008080; font-weight: bold\">0.06730769</span> <span style=\"color: #008080; text-decoration-color: #008080; font-weight: bold\">0.01923077</span><span style=\"font-weight: bold\">]</span>\n",
       "</pre>\n"
      ],
      "text/plain": [
       "\u001b[1m[\u001b[0m\u001b[1;36m0.06730769\u001b[0m \u001b[1;36m0.01923077\u001b[0m\u001b[1m]\u001b[0m\n"
      ]
     },
     "metadata": {},
     "output_type": "display_data"
    }
   ],
   "source": [
    "from sklearn.model_selection import GroupKFold, cross_val_score\n",
    "from sklearn.neighbors import KNeighborsClassifier\n",
    "import numpy as np\n",
    "\n",
    "#Necesario generarlos artificialmente para el ejemplo\n",
    "groups = np.zeros(len(inputs))\n",
    "groups[:(len(inputs)//2)] = 1\n",
    "knn = KNeighborsClassifier()\n",
    "\n",
    "cv = GroupKFold(n_splits=2)\n",
    "scores = cross_val_score(knn, inputs, targets, groups=groups, cv=cv)\n",
    "print(scores)"
   ]
  },
  {
   "cell_type": "markdown",
   "metadata": {},
   "source": [
    "# Resumiendo:\n",
    "* Los modelos generados solamente con una división de los datos en dos bloques (entrenamiento y test) tienden a generar resultados muy optimistas, no generalizan bien. Se conoce este fenómeno como *data snooping bias*\n",
    "* Un modelo generado mediante alguna aproximación de validación cruzada (la más típica es 10-fold aunque dependiendo del tamaño de los datos se podría aplicar, por ejemplo, una LOO por ejemplo) generaliza mejor\n",
    "* Para estar seguros de que los resultados del modelo y su capacidad de generalización es adecuada, se repiten los experimentos k-fold varias veces (permutando/randomizando el reparto de los ejemplos) y se estudia su variabilidad. Produce una estimación más real reduciendo la varianza de los resultados\n",
    "* Es más, lo ideal es hacer muchas repeticiones y estratificar los datos en el conjunto de validación.\n",
    "* En la medida de lo posible y en función del tamaño del dataset. Reserva, previo al proceso de cross-validation, una proporción de los datos para validación previa a puesta en producción. Se conoce como *hold-out test*. Esta es una estimación real del funcionamiento del modelo, pero en caso de una mala generalización del modelo no se debe usar para ajustar los siguientes modelos a ese conjunto específico.\n",
    "* Veremos más adelante en el curso diferenes aproximaciones de reducción de dimensionalidad. Normalmente, la selección de características o *feature selection* se realiza previamente a cross-validation. En lugar de eso, es más recomendable realizarlo dentro de cada iteración de cross validation, ya que el rendimiento es más parecido al que nos encontraremos al usar el modelo sobre datos externos no conocidos."
   ]
  }
 ],
 "metadata": {
  "kernelspec": {
   "display_name": "Python 3 (ipykernel)",
   "language": "python",
   "name": "python3"
  },
  "language_info": {
   "codemirror_mode": {
    "name": "ipython",
    "version": 3
   },
   "file_extension": ".py",
   "mimetype": "text/x-python",
   "name": "python",
   "nbconvert_exporter": "python",
   "pygments_lexer": "ipython3",
   "version": "3.10.9"
  }
 },
 "nbformat": 4,
 "nbformat_minor": 4
}
