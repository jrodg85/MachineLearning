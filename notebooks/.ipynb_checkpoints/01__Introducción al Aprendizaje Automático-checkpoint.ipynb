{
 "cells": [
  {
   "cell_type": "markdown",
   "id": "d353f935",
   "metadata": {},
   "source": [
    "# Introducción\n",
    "\n",
    "El aprendizaje automático o *machine learning* es una subárea dentro de la Inteligencia Artificial que aspira a encontrar patrones. El objetivo de encontrar esos patrones es poder diferntes tipos de problemas en base a la extracción de una serie de funciones, las cuales se basan en un conjunto de técnicas matemáticas. Estas técnicas permiten el aproximar una distribución de los datos en lo que se conoce como el **espacio de búsqueda**.\n",
    "\n",
    "El espacio de búsqueda se compone de todas las posibles soluciones al problema en cuestión que tratamos de solucionar. Entiéndase por solución la posible combinación de valores en cada una de las variables que componen un problema. Por ejemplo, en la imagen siguiente se puede ver un espacio de búsqueda compuesto por dos variables, $X_1$ y $X_2$. Cada uno de los puntos que sería una posible solución al problema.\n",
    "\n",
    "![Espacio de Busqueda](https://upload.wikimedia.org/wikipedia/commons/thumb/3/3c/Hyperparameter_Optimization_using_Tree-Structured_Parzen_Estimators.svg/640px-Hyperparameter_Optimization_using_Tree-Structured_Parzen_Estimators.svg.png)\n",
    "\n",
    "Aquellos puntos que conocemos dentro del espacio de búsqueda recibien por su parte el nombre de **patrones** y en la imagen anterior, se correcponderían con las x que están dentro del espacio de búsqueda y que nos darán la información para solucionar el problema que estemos enfocando y que representa ese espacio de búsqueda.\n",
    "\n",
    "Así pues, las técnicas de *machine learning* tratarán de acometer la resolución de un problema en base a los patrones y lo que se quiera hacer con ellas. De esa manera tendremos cada uno de los distintos tipos de problemas que se pueden acometer con este tipo de técnicas con la combinación tipo de información y tarea a realizar. Estos podrían identificarse en las siguientes categorías:\n",
    "\n",
    "\n",
    "* Problemas de clasificación.\n",
    "\n",
    " Este tipo de problemas son aquellos que tiene por objeto asignarle una clase o tipo a un ejemplo. Como particularidad son problemas conocidos como supervisados, es decir, necesitamos conocer la salida deseada a fin de ajustar el modelo. A su vez, estos se pueden dividir en dos subclases a razon de:\n",
    " \n",
    " * Clasificación binaria. En este caso solo existen dos posibles clases a las que asignarle a un patrón o solución. Un ejemplo de esto sería por ejemplo, el función de una señal de un sonar categorizar un objeto como una mina o una roca submarina. Otro ejemplo sería el decir si un paciente está sano o enfermo, etc.\n",
    " \n",
    " <img src=\"https://miro.medium.com/max/828/1*nB6MM2qFvnsCDhSuhNPcLA.webp\" alt=\"Clasificación\" width=\"450\"/>\n",
    " \n",
    " * Clasificición multiclase. En este caso en lugar de dos categorías tenemos más y cambia ligeramente el planteamiento ya que un patrón puede estar en una clase, en otra o en ninguna. En el caso de que se contemple este último hecho, implica, como veremos, meter una salida adicional para este último caso, pero ya se llegará a ese punto. Ejemplos de este tipo hay muchos, por ejemplo el reconocimiento de cual de los 10 dígitos se ha escrito a mano o la identidicación de que objeto se ve en una imagen serían solo algunos ejemplos clásicos.\n",
    " \n",
    " \n",
    "* Problemas de agrupamiento o custerización.\n",
    "Este tipo de problema al contrario que en el caso anterior, no tenemos la salida deseada si no que en lo que se basa es en agrupar los patrones por similitud o proximidad dentro del espacio de búsqueda.Este tipo de problemas serían aquellos más ligados al concepto conocido como **mineria de datos** puesto que eso es precisamente lo que tratamos de hacer encontrar relaciones entre los objetos sin saber a que categoría real pertenecen. Esto cae dentro de lo que se conoce como aprendizaje no supervisado. Ejemplos serían identificar trafico de red como maligno o benigno o mensajes de correo como spam o no.\n",
    "\n",
    "![Clustering](https://upload.wikimedia.org/wikipedia/commons/thumb/6/69/EM_Clustering_of_Old_Faithful_data.gif/640px-EM_Clustering_of_Old_Faithful_data.gif)\n",
    " \n",
    "* Problemas de regresión.\n",
    "El último tipo de problemas a concretar es el que se conoce como regresión. Este tipo de problemas tiene como particularidad que no se pretende asignar una categoría o clasificar como en los casos anteriores si no extraer de los patrones una función que permita obtener un valor exacto dentro de un espacio continuo. Es posiblemente el tipo de problemas más frecuentes pero también, muchas veces, los más complicados de acometer. Ejemplos de este tipo de problemas podría ser, por ejemplo, el obtener el parámetro de pontencia a pasarle a una bombilla en función de la hora y los datos de iluminación ambiente, predicción de toxicidad en un agua por marea roja, etc.\n",
    "\n",
    "![Regresion](https://upload.wikimedia.org/wikipedia/commons/d/da/Gaussianprocess.gif)\n",
    " \n",
    " \n",
    "Para acometer cualquiera de estos problemas, utilizaremos un conjunto de técnicas cuya implementación queda bastante fuera del temario de este curso. Es por ello que para poder hacer uso de ellas vamos a utilizar el lenguaje Python junto con una serie de librería que nos facilitaran el uso de las técnicas para solucionar cada uno de los problemas que tenemos. En concreto, la primera de todas y posiblemente la más importante desde un punto de vista inicial sea la que se presenta a continuación `scikit-learn`.\n",
    "\n",
    "\n",
    " ## Scikit-learn, toma de contacto y un vistazo al pipeline de procesado\n",
    " \n",
    " `scikit-learn`es una librería de **Python** que aglutina y simplifica gran parte del flujo de trabajo en *machine learning*. En concreto cuenta con muchas implementaciones de las técnicas más habituales y varias de sus variantes así como clases para el preprocesado o preparación de los datos y otras para la selección de parámetros o modelos como pueden ser las medidas de rendimiento que veremos en una unidad posterior.\n",
    "\n",
    "Es un API muy bien diseñada y simple. Está orientado a objetos y todos comparten un interfaz consistente y simple. En ella destacan los siguientes elementos:\n",
    "\n",
    "* Estimators: cualquier objeto que pueda estimar algún parámetro basado en un dataset. La estimación se hace mediante el método fit y sólo necesita un dataset como entrada (en caso de entrenamiento supervisado el estimador necesitaría dos, los datos y las salidas). Cualquier otro parámetro necesario para guiar la estimación, es considerado un hiperparámetro.\n",
    "* Transformers: algunos estimators pueden transformar un dataset. El API de nuevo es simple, tiene un método transform() y el método acepta como parámetro el dataset. Devuelve el dataset transformado. Todos tienen un fit_transform que realiza las dos operaciones pero de forma optimizada.\n",
    "* Predictors: algunos estimators pueden hacer predicciones también si se aplican sobre un dataset. Tiene un método predict() que recibe un dataset y devuelve las predicciones en el mismo formato. Tiene también un método score() que devuelve un valor que indica lo bien que se ha hecho la predicción (y las etiquetas en caso de ser un problema de clasificación).\n",
    "* Inspection: todos los hiperparámetros de un estimator son accesibles directamente mediante variables públicas (imputer.strategy) y los parámetros que haya aprendido son accesibles de la misma manera pero con símbolo de subrayad0 (imputer.strategy_)\n",
    "* Composición de los elementos anteriores. Es fácil realizar acción que incluyen varias acciones por composición de acciones sencillas.\n",
    "* Valores por defecto para la mayoría de hiperparámetros. Esto es bueno porque se puede usar cualquier cosa rápido y malo, porque muchas veces no se sabe lo que se está haciendo.\n",
    " \n",
    "En general, como se verá a continuación, la creación y uso de un modelo inteligente usando `scikit-learn`tiene unos pasos muy claros."
   ]
  },
  {
   "cell_type": "markdown",
   "id": "fddd203b",
   "metadata": {},
   "source": [
    "Primero de todo vamos a cargar un conjunto de librerías que, si bien no son propiamente de *machine learning*, nos facilitarán la visualización y la interpretación de los resultados."
   ]
  },
  {
   "cell_type": "code",
   "execution_count": 1,
   "id": "ceabc9c1",
   "metadata": {
    "tags": []
   },
   "outputs": [],
   "source": [
    "from rich import print\n",
    "import numpy as np"
   ]
  },
  {
   "cell_type": "markdown",
   "id": "386a4353",
   "metadata": {},
   "source": [
    "Una vez hecho esto y sabiendo que el entorno que estamos ejecutando tiene las librerías necesarias procedamos a ver un ejemplo paso a paso:\n",
    "\n",
    "### 1. Cargar los datos"
   ]
  },
  {
   "cell_type": "code",
   "execution_count": 2,
   "id": "78379628",
   "metadata": {
    "tags": []
   },
   "outputs": [],
   "source": [
    "from sklearn.datasets import load_iris\n",
    "\n",
    "# cargamos los datos\n",
    "iris = load_iris()\n",
    "in_data, target = iris.data, iris.target"
   ]
  },
  {
   "cell_type": "markdown",
   "id": "b4d32d1b",
   "metadata": {},
   "source": [
    "Dentro de la librería que estamos usando hay ya problemas preparados en este caso vamos a emplear un problema conocido en el mundo del *machine learning* como ejemplo de prueba. Se trata de un problema de clasificación de flores Iris en base a 4 variables:\n",
    "\n",
    "1. Ancho de sépalo\n",
    "2. Largo del sépalo\n",
    "3. Ancho del pétalo\n",
    "4. Larogo del pétalo\n",
    "\n",
    "Con estas entradas se trata de identificar a cual de las 3 posibles variadades que existen pertenece un determinado patrón. Es por tanto un ejemplo de clasificación multiclase pero que en este caso tiene que pertenecer a alguno de esos tres tipos. \n",
    "En el código anterior, la segunda de las líneas lo que hace es cargar cada uno de los datos por separado. Una de las cosas que se evidencia es que es un entrenamiento supervisado ya que tenemos la salida deseada. Este tipo de aproximaciones suele ser el preferido debido a la pontencia de las técnicas actuales en este campo. Ua cosa que se puede hacer con estas bases de datos preparadas por ejemplo es imprimir su descripción que nos dará más datos al respecto."
   ]
  },
  {
   "cell_type": "code",
   "execution_count": 3,
   "id": "4f056230",
   "metadata": {
    "tags": []
   },
   "outputs": [
    {
     "data": {
      "text/html": [
       "<pre style=\"white-space:pre;overflow-x:auto;line-height:normal;font-family:Menlo,'DejaVu Sans Mono',consolas,'Courier New',monospace\">.. _iris_dataset:\n",
       "\n",
       "Iris plants dataset\n",
       "--------------------\n",
       "\n",
       "**Data Set Characteristics:**\n",
       "\n",
       "    :Number of Instances: <span style=\"color: #008080; text-decoration-color: #008080; font-weight: bold\">150</span> <span style=\"font-weight: bold\">(</span><span style=\"color: #008080; text-decoration-color: #008080; font-weight: bold\">50</span> in each of three classes<span style=\"font-weight: bold\">)</span>\n",
       "    :Number of Attributes: <span style=\"color: #008080; text-decoration-color: #008080; font-weight: bold\">4</span> numeric, predictive attributes and the class\n",
       "    :Attribute Information:\n",
       "        - sepal length in cm\n",
       "        - sepal width in cm\n",
       "        - petal length in cm\n",
       "        - petal width in cm\n",
       "        - class:\n",
       "                - Iris-Setosa\n",
       "                - Iris-Versicolour\n",
       "                - Iris-Virginica\n",
       "                \n",
       "    :Summary Statistics:\n",
       "\n",
       "    ============== ==== ==== ======= ===== ====================\n",
       "                    Min  Max   Mean    SD   Class Correlation\n",
       "    ============== ==== ==== ======= ===== ====================\n",
       "    sepal length:   <span style=\"color: #008080; text-decoration-color: #008080; font-weight: bold\">4.3</span>  <span style=\"color: #008080; text-decoration-color: #008080; font-weight: bold\">7.9</span>   <span style=\"color: #008080; text-decoration-color: #008080; font-weight: bold\">5.84</span>   <span style=\"color: #008080; text-decoration-color: #008080; font-weight: bold\">0.83</span>    <span style=\"color: #008080; text-decoration-color: #008080; font-weight: bold\">0.7826</span>\n",
       "    sepal width:    <span style=\"color: #008080; text-decoration-color: #008080; font-weight: bold\">2.0</span>  <span style=\"color: #008080; text-decoration-color: #008080; font-weight: bold\">4.4</span>   <span style=\"color: #008080; text-decoration-color: #008080; font-weight: bold\">3.05</span>   <span style=\"color: #008080; text-decoration-color: #008080; font-weight: bold\">0.43</span>   <span style=\"color: #008080; text-decoration-color: #008080; font-weight: bold\">-0.4194</span>\n",
       "    petal length:   <span style=\"color: #008080; text-decoration-color: #008080; font-weight: bold\">1.0</span>  <span style=\"color: #008080; text-decoration-color: #008080; font-weight: bold\">6.9</span>   <span style=\"color: #008080; text-decoration-color: #008080; font-weight: bold\">3.76</span>   <span style=\"color: #008080; text-decoration-color: #008080; font-weight: bold\">1.76</span>    <span style=\"color: #008080; text-decoration-color: #008080; font-weight: bold\">0.9490</span>  <span style=\"font-weight: bold\">(</span>high!<span style=\"font-weight: bold\">)</span>\n",
       "    petal width:    <span style=\"color: #008080; text-decoration-color: #008080; font-weight: bold\">0.1</span>  <span style=\"color: #008080; text-decoration-color: #008080; font-weight: bold\">2.5</span>   <span style=\"color: #008080; text-decoration-color: #008080; font-weight: bold\">1.20</span>   <span style=\"color: #008080; text-decoration-color: #008080; font-weight: bold\">0.76</span>    <span style=\"color: #008080; text-decoration-color: #008080; font-weight: bold\">0.9565</span>  <span style=\"font-weight: bold\">(</span>high!<span style=\"font-weight: bold\">)</span>\n",
       "    ============== ==== ==== ======= ===== ====================\n",
       "\n",
       "    :Missing Attribute Values: <span style=\"color: #800080; text-decoration-color: #800080; font-style: italic\">None</span>\n",
       "    :Class Distribution: <span style=\"color: #008080; text-decoration-color: #008080; font-weight: bold\">33.3</span>% for each of <span style=\"color: #008080; text-decoration-color: #008080; font-weight: bold\">3</span> classes.\n",
       "    :Creator: R.A. Fisher\n",
       "    :Donor: Michael Marshall <span style=\"font-weight: bold\">(</span>MARSHALL%PLU@io.arc.nasa.gov<span style=\"font-weight: bold\">)</span>\n",
       "    📅 July, <span style=\"color: #008080; text-decoration-color: #008080; font-weight: bold\">1988</span>\n",
       "\n",
       "The famous Iris database, first used by Sir R.A. Fisher. The dataset is taken\n",
       "from Fisher's paper. Note that it's the same as in R, but not as in the UCI\n",
       "Machine Learning Repository, which has two wrong data points.\n",
       "\n",
       "This is perhaps the best known database to be found in the\n",
       "pattern recognition literature.  Fisher's paper is a classic in the field and\n",
       "is referenced frequently to this day.  <span style=\"font-weight: bold\">(</span>See Duda &amp; Hart, for example.<span style=\"font-weight: bold\">)</span>  The\n",
       "data set contains <span style=\"color: #008080; text-decoration-color: #008080; font-weight: bold\">3</span> classes of <span style=\"color: #008080; text-decoration-color: #008080; font-weight: bold\">50</span> instances each, where each class refers to a\n",
       "type of iris plant.  One class is linearly separable from the other <span style=\"color: #008080; text-decoration-color: #008080; font-weight: bold\">2</span>; the\n",
       "latter are NOT linearly separable from each other.\n",
       "\n",
       ".. topic:: References\n",
       "\n",
       "   - Fisher, R.A. <span style=\"color: #008000; text-decoration-color: #008000\">\"The use of multiple measurements in taxonomic problems\"</span>\n",
       "     Annual Eugenics, <span style=\"color: #008080; text-decoration-color: #008080; font-weight: bold\">7</span>, Part II, <span style=\"color: #008080; text-decoration-color: #008080; font-weight: bold\">179</span>-<span style=\"color: #008080; text-decoration-color: #008080; font-weight: bold\">188</span> <span style=\"font-weight: bold\">(</span><span style=\"color: #008080; text-decoration-color: #008080; font-weight: bold\">1936</span><span style=\"font-weight: bold\">)</span>; also in \"Contributions to\n",
       "     Mathematical Statistics\" <span style=\"font-weight: bold\">(</span>John Wiley, NY, <span style=\"color: #008080; text-decoration-color: #008080; font-weight: bold\">1950</span><span style=\"font-weight: bold\">)</span>.\n",
       "   - Duda, R.O., &amp; Hart, P.E. <span style=\"font-weight: bold\">(</span><span style=\"color: #008080; text-decoration-color: #008080; font-weight: bold\">1973</span><span style=\"font-weight: bold\">)</span> Pattern Classification and Scene Analysis.\n",
       "     <span style=\"font-weight: bold\">(</span>Q327.D83<span style=\"font-weight: bold\">)</span> John Wiley &amp; Sons.  ISBN <span style=\"color: #008080; text-decoration-color: #008080; font-weight: bold\">0</span>-<span style=\"color: #008080; text-decoration-color: #008080; font-weight: bold\">471</span>-<span style=\"color: #008080; text-decoration-color: #008080; font-weight: bold\">22361</span>-<span style=\"color: #008080; text-decoration-color: #008080; font-weight: bold\">1</span>.  See page <span style=\"color: #008080; text-decoration-color: #008080; font-weight: bold\">218</span>.\n",
       "   - Dasarathy, B.V. <span style=\"font-weight: bold\">(</span><span style=\"color: #008080; text-decoration-color: #008080; font-weight: bold\">1980</span><span style=\"font-weight: bold\">)</span> \"Nosing Around the Neighborhood: A New System\n",
       "     Structure and Classification Rule for Recognition in Partially Exposed\n",
       "     Environments\".  IEEE Transactions on Pattern Analysis and Machine\n",
       "     Intelligence, Vol. PAMI-<span style=\"color: #008080; text-decoration-color: #008080; font-weight: bold\">2</span>, No. <span style=\"color: #008080; text-decoration-color: #008080; font-weight: bold\">1</span>, <span style=\"color: #008080; text-decoration-color: #008080; font-weight: bold\">67</span>-<span style=\"color: #008080; text-decoration-color: #008080; font-weight: bold\">71</span>.\n",
       "   - Gates, G.W. <span style=\"font-weight: bold\">(</span><span style=\"color: #008080; text-decoration-color: #008080; font-weight: bold\">1972</span><span style=\"font-weight: bold\">)</span> <span style=\"color: #008000; text-decoration-color: #008000\">\"The Reduced Nearest Neighbor Rule\"</span>.  IEEE Transactions\n",
       "     on Information Theory, May <span style=\"color: #008080; text-decoration-color: #008080; font-weight: bold\">1972</span>, <span style=\"color: #008080; text-decoration-color: #008080; font-weight: bold\">431</span>-<span style=\"color: #008080; text-decoration-color: #008080; font-weight: bold\">433</span>.\n",
       "   - See also: <span style=\"color: #008080; text-decoration-color: #008080; font-weight: bold\">1988</span> MLC Proceedings, <span style=\"color: #008080; text-decoration-color: #008080; font-weight: bold\">54</span>-<span style=\"color: #008080; text-decoration-color: #008080; font-weight: bold\">64</span>.  Cheeseman et al\"s AUTOCLASS II\n",
       "     conceptual clustering system finds <span style=\"color: #008080; text-decoration-color: #008080; font-weight: bold\">3</span> classes in the data.\n",
       "   - Many, many more <span style=\"color: #808000; text-decoration-color: #808000\">...</span>\n",
       "</pre>\n"
      ],
      "text/plain": [
       ".. _iris_dataset:\n",
       "\n",
       "Iris plants dataset\n",
       "--------------------\n",
       "\n",
       "**Data Set Characteristics:**\n",
       "\n",
       "    :Number of Instances: \u001b[1;36m150\u001b[0m \u001b[1m(\u001b[0m\u001b[1;36m50\u001b[0m in each of three classes\u001b[1m)\u001b[0m\n",
       "    :Number of Attributes: \u001b[1;36m4\u001b[0m numeric, predictive attributes and the class\n",
       "    :Attribute Information:\n",
       "        - sepal length in cm\n",
       "        - sepal width in cm\n",
       "        - petal length in cm\n",
       "        - petal width in cm\n",
       "        - class:\n",
       "                - Iris-Setosa\n",
       "                - Iris-Versicolour\n",
       "                - Iris-Virginica\n",
       "                \n",
       "    :Summary Statistics:\n",
       "\n",
       "    ============== ==== ==== ======= ===== ====================\n",
       "                    Min  Max   Mean    SD   Class Correlation\n",
       "    ============== ==== ==== ======= ===== ====================\n",
       "    sepal length:   \u001b[1;36m4.3\u001b[0m  \u001b[1;36m7.9\u001b[0m   \u001b[1;36m5.84\u001b[0m   \u001b[1;36m0.83\u001b[0m    \u001b[1;36m0.7826\u001b[0m\n",
       "    sepal width:    \u001b[1;36m2.0\u001b[0m  \u001b[1;36m4.4\u001b[0m   \u001b[1;36m3.05\u001b[0m   \u001b[1;36m0.43\u001b[0m   \u001b[1;36m-0.4194\u001b[0m\n",
       "    petal length:   \u001b[1;36m1.0\u001b[0m  \u001b[1;36m6.9\u001b[0m   \u001b[1;36m3.76\u001b[0m   \u001b[1;36m1.76\u001b[0m    \u001b[1;36m0.9490\u001b[0m  \u001b[1m(\u001b[0mhigh!\u001b[1m)\u001b[0m\n",
       "    petal width:    \u001b[1;36m0.1\u001b[0m  \u001b[1;36m2.5\u001b[0m   \u001b[1;36m1.20\u001b[0m   \u001b[1;36m0.76\u001b[0m    \u001b[1;36m0.9565\u001b[0m  \u001b[1m(\u001b[0mhigh!\u001b[1m)\u001b[0m\n",
       "    ============== ==== ==== ======= ===== ====================\n",
       "\n",
       "    :Missing Attribute Values: \u001b[3;35mNone\u001b[0m\n",
       "    :Class Distribution: \u001b[1;36m33.3\u001b[0m% for each of \u001b[1;36m3\u001b[0m classes.\n",
       "    :Creator: R.A. Fisher\n",
       "    :Donor: Michael Marshall \u001b[1m(\u001b[0mMARSHALL%PLU@io.arc.nasa.gov\u001b[1m)\u001b[0m\n",
       "    📅 July, \u001b[1;36m1988\u001b[0m\n",
       "\n",
       "The famous Iris database, first used by Sir R.A. Fisher. The dataset is taken\n",
       "from Fisher's paper. Note that it's the same as in R, but not as in the UCI\n",
       "Machine Learning Repository, which has two wrong data points.\n",
       "\n",
       "This is perhaps the best known database to be found in the\n",
       "pattern recognition literature.  Fisher's paper is a classic in the field and\n",
       "is referenced frequently to this day.  \u001b[1m(\u001b[0mSee Duda & Hart, for example.\u001b[1m)\u001b[0m  The\n",
       "data set contains \u001b[1;36m3\u001b[0m classes of \u001b[1;36m50\u001b[0m instances each, where each class refers to a\n",
       "type of iris plant.  One class is linearly separable from the other \u001b[1;36m2\u001b[0m; the\n",
       "latter are NOT linearly separable from each other.\n",
       "\n",
       ".. topic:: References\n",
       "\n",
       "   - Fisher, R.A. \u001b[32m\"The use of multiple measurements in taxonomic problems\"\u001b[0m\n",
       "     Annual Eugenics, \u001b[1;36m7\u001b[0m, Part II, \u001b[1;36m179\u001b[0m-\u001b[1;36m188\u001b[0m \u001b[1m(\u001b[0m\u001b[1;36m1936\u001b[0m\u001b[1m)\u001b[0m; also in \"Contributions to\n",
       "     Mathematical Statistics\" \u001b[1m(\u001b[0mJohn Wiley, NY, \u001b[1;36m1950\u001b[0m\u001b[1m)\u001b[0m.\n",
       "   - Duda, R.O., & Hart, P.E. \u001b[1m(\u001b[0m\u001b[1;36m1973\u001b[0m\u001b[1m)\u001b[0m Pattern Classification and Scene Analysis.\n",
       "     \u001b[1m(\u001b[0mQ327.D83\u001b[1m)\u001b[0m John Wiley & Sons.  ISBN \u001b[1;36m0\u001b[0m-\u001b[1;36m471\u001b[0m-\u001b[1;36m22361\u001b[0m-\u001b[1;36m1\u001b[0m.  See page \u001b[1;36m218\u001b[0m.\n",
       "   - Dasarathy, B.V. \u001b[1m(\u001b[0m\u001b[1;36m1980\u001b[0m\u001b[1m)\u001b[0m \"Nosing Around the Neighborhood: A New System\n",
       "     Structure and Classification Rule for Recognition in Partially Exposed\n",
       "     Environments\".  IEEE Transactions on Pattern Analysis and Machine\n",
       "     Intelligence, Vol. PAMI-\u001b[1;36m2\u001b[0m, No. \u001b[1;36m1\u001b[0m, \u001b[1;36m67\u001b[0m-\u001b[1;36m71\u001b[0m.\n",
       "   - Gates, G.W. \u001b[1m(\u001b[0m\u001b[1;36m1972\u001b[0m\u001b[1m)\u001b[0m \u001b[32m\"The Reduced Nearest Neighbor Rule\"\u001b[0m.  IEEE Transactions\n",
       "     on Information Theory, May \u001b[1;36m1972\u001b[0m, \u001b[1;36m431\u001b[0m-\u001b[1;36m433\u001b[0m.\n",
       "   - See also: \u001b[1;36m1988\u001b[0m MLC Proceedings, \u001b[1;36m54\u001b[0m-\u001b[1;36m64\u001b[0m.  Cheeseman et al\"s AUTOCLASS II\n",
       "     conceptual clustering system finds \u001b[1;36m3\u001b[0m classes in the data.\n",
       "   - Many, many more \u001b[33m...\u001b[0m\n"
      ]
     },
     "metadata": {},
     "output_type": "display_data"
    }
   ],
   "source": [
    "print(iris.DESCR)"
   ]
  },
  {
   "cell_type": "markdown",
   "id": "1b1721da",
   "metadata": {},
   "source": [
    "Previamente a continuar, un paso típico en este punto es hacer una primera exploración del código con unas cuantas sentencias de comprobación a fin de realizar lo que se conoce como programación defensiva. Por ejemplo, comprobando los tamaños de las matrices de datos que vamos a utilizar en este punto. Algo muy simple es impormir las dimensiones de esos datos:"
   ]
  },
  {
   "cell_type": "code",
   "execution_count": 4,
   "id": "39d3fa7d",
   "metadata": {
    "tags": []
   },
   "outputs": [
    {
     "data": {
      "text/html": [
       "<pre style=\"white-space:pre;overflow-x:auto;line-height:normal;font-family:Menlo,'DejaVu Sans Mono',consolas,'Courier New',monospace\">Dimensiones del problema <span style=\"font-weight: bold\">(</span><span style=\"color: #008080; text-decoration-color: #008080; font-weight: bold\">150</span>, <span style=\"color: #008080; text-decoration-color: #008080; font-weight: bold\">4</span><span style=\"font-weight: bold\">)</span>-&gt;<span style=\"font-weight: bold\">(</span><span style=\"color: #008080; text-decoration-color: #008080; font-weight: bold\">150</span>,<span style=\"font-weight: bold\">)</span>\n",
       "</pre>\n"
      ],
      "text/plain": [
       "Dimensiones del problema \u001b[1m(\u001b[0m\u001b[1;36m150\u001b[0m, \u001b[1;36m4\u001b[0m\u001b[1m)\u001b[0m->\u001b[1m(\u001b[0m\u001b[1;36m150\u001b[0m,\u001b[1m)\u001b[0m\n"
      ]
     },
     "metadata": {},
     "output_type": "display_data"
    }
   ],
   "source": [
    "print(f\"Dimensiones del problema {in_data.shape}->{target.shape}\")"
   ]
  },
  {
   "cell_type": "markdown",
   "id": "50023bf9",
   "metadata": {},
   "source": [
    "La información que nos muestra este `print` es que tenemos una base de datos con 150 y 4 columnas en la entrada para 150 salidas que tienen un único valor. Esto lo que nos viene a decir es que, como se muestra en la descripción del problema cada una de las filas se corresponde con un ejemplo, instancia o patrón. Estos tienen en cada una de las columnas una de las 4 variables que se van a usar como entrada y que se han identiificado en la descripción. Finalmente en la salida se puede ver que sólo tenemos un valor y es porque en el caso de las 3 clases simplemente son identificadas como 0, 1 y 2. Este se puede comprobar con:"
   ]
  },
  {
   "cell_type": "code",
   "execution_count": 5,
   "id": "d4e1ea0e",
   "metadata": {
    "tags": []
   },
   "outputs": [
    {
     "data": {
      "text/html": [
       "<pre style=\"white-space:pre;overflow-x:auto;line-height:normal;font-family:Menlo,'DejaVu Sans Mono',consolas,'Courier New',monospace\">Posibles salidas: <span style=\"font-weight: bold\">[</span><span style=\"color: #008080; text-decoration-color: #008080; font-weight: bold\">0</span> <span style=\"color: #008080; text-decoration-color: #008080; font-weight: bold\">1</span> <span style=\"color: #008080; text-decoration-color: #008080; font-weight: bold\">2</span><span style=\"font-weight: bold\">]</span>\n",
       "</pre>\n"
      ],
      "text/plain": [
       "Posibles salidas: \u001b[1m[\u001b[0m\u001b[1;36m0\u001b[0m \u001b[1;36m1\u001b[0m \u001b[1;36m2\u001b[0m\u001b[1m]\u001b[0m\n"
      ]
     },
     "metadata": {},
     "output_type": "display_data"
    }
   ],
   "source": [
    "print(f\"Posibles salidas: {np.unique(target)}\")"
   ]
  },
  {
   "cell_type": "markdown",
   "id": "d7c99e78",
   "metadata": {},
   "source": [
    "Otra cosa si se quiere ser un poco más refinado es usar aserciones como en el ejemplo siguiente que comprueba que los datos coinciden"
   ]
  },
  {
   "cell_type": "code",
   "execution_count": 6,
   "id": "5f51df11",
   "metadata": {
    "scrolled": true,
    "tags": []
   },
   "outputs": [],
   "source": [
    "assert in_data.shape[0] == target.shape[0], \"No hay el mismo número de ejemplos que de salidas\""
   ]
  },
  {
   "cell_type": "markdown",
   "id": "effb7cb1",
   "metadata": {},
   "source": [
    "### 2. Preprocesado\n",
    "Una vez hecho esto se puede proceder al uso de estos datos. Habitualmente esto implicaría una serie de pasos que están contenidos dentro de lo que se conoce como preprocesado o preparación de los datos. En este punto es donde encontraríamos elementos como la limpieza, la completitud, normalización, reducción de la dimensionalidad, etc. En este caso, como los datos ya vienen preparados nos vamos a limitar a hacer un paso que se explicará en detalle porque es necesario en una unidad posterior que es la división de los datos entre entrenamiento y test. Para ello haremos uso de una función de utilidad que está disponible en `scikit-learn`."
   ]
  },
  {
   "cell_type": "code",
   "execution_count": 7,
   "id": "996af66c",
   "metadata": {
    "tags": []
   },
   "outputs": [],
   "source": [
    "from sklearn.model_selection import train_test_split\n",
    "\n",
    "# dividimos los datos en entrenamiento y prueba\n",
    "in_train, in_test, target_train, target_test = train_test_split(in_data, target, test_size=0.3, random_state=42)"
   ]
  },
  {
   "cell_type": "markdown",
   "id": "af68fe87",
   "metadata": {},
   "source": [
    "Esta función lo que hace es coger los datos y dividir el conjunto en dos subconjuntos disjuntos en donde el primero de ellos (entrenamiento, train) tienen el 70% de los datos, y el segundo de ellos (test) contiene el 30% de los datos."
   ]
  },
  {
   "cell_type": "code",
   "execution_count": 8,
   "id": "254a6fc6",
   "metadata": {
    "scrolled": true,
    "tags": []
   },
   "outputs": [
    {
     "data": {
      "text/html": [
       "<pre style=\"white-space:pre;overflow-x:auto;line-height:normal;font-family:Menlo,'DejaVu Sans Mono',consolas,'Courier New',monospace\">Dimensiones del conjunto de entrenamiento <span style=\"font-weight: bold\">(</span><span style=\"color: #008080; text-decoration-color: #008080; font-weight: bold\">105</span>, <span style=\"color: #008080; text-decoration-color: #008080; font-weight: bold\">4</span><span style=\"font-weight: bold\">)</span>-&gt;<span style=\"font-weight: bold\">(</span><span style=\"color: #008080; text-decoration-color: #008080; font-weight: bold\">105</span>,<span style=\"font-weight: bold\">)</span>\n",
       "</pre>\n"
      ],
      "text/plain": [
       "Dimensiones del conjunto de entrenamiento \u001b[1m(\u001b[0m\u001b[1;36m105\u001b[0m, \u001b[1;36m4\u001b[0m\u001b[1m)\u001b[0m->\u001b[1m(\u001b[0m\u001b[1;36m105\u001b[0m,\u001b[1m)\u001b[0m\n"
      ]
     },
     "metadata": {},
     "output_type": "display_data"
    },
    {
     "data": {
      "text/html": [
       "<pre style=\"white-space:pre;overflow-x:auto;line-height:normal;font-family:Menlo,'DejaVu Sans Mono',consolas,'Courier New',monospace\">Dimensiones del conjunto de test <span style=\"font-weight: bold\">(</span><span style=\"color: #008080; text-decoration-color: #008080; font-weight: bold\">45</span>, <span style=\"color: #008080; text-decoration-color: #008080; font-weight: bold\">4</span><span style=\"font-weight: bold\">)</span>-&gt;<span style=\"font-weight: bold\">(</span><span style=\"color: #008080; text-decoration-color: #008080; font-weight: bold\">45</span>,<span style=\"font-weight: bold\">)</span>\n",
       "</pre>\n"
      ],
      "text/plain": [
       "Dimensiones del conjunto de test \u001b[1m(\u001b[0m\u001b[1;36m45\u001b[0m, \u001b[1;36m4\u001b[0m\u001b[1m)\u001b[0m->\u001b[1m(\u001b[0m\u001b[1;36m45\u001b[0m,\u001b[1m)\u001b[0m\n"
      ]
     },
     "metadata": {},
     "output_type": "display_data"
    }
   ],
   "source": [
    "print(f\"Dimensiones del conjunto de entrenamiento {in_train.shape}->{target_train.shape}\")\n",
    "print(f\"Dimensiones del conjunto de test {in_test.shape}->{target_test.shape}\")"
   ]
  },
  {
   "cell_type": "markdown",
   "id": "dbba7c92",
   "metadata": {},
   "source": [
    "### 3. Creación del modelo\n",
    "El siguiente paso dentro de cualquier sistema es la creación del modelo. En este caso vamos a crear un modelo muy sencillo, una regresión lineal que nos va a permitir clasificar los diferentes ejemplo. En este caso no entraremos a los parámetros del mismo, ya que lo abordaremos en una unidad posterior:"
   ]
  },
  {
   "cell_type": "code",
   "execution_count": 9,
   "id": "cef474f3",
   "metadata": {
    "tags": []
   },
   "outputs": [],
   "source": [
    "from sklearn.linear_model import SGDClassifier\n",
    "\n",
    "# entrenamos el modelo\n",
    "clf = SGDClassifier(loss=\"hinge\", penalty=\"l2\", max_iter=50)"
   ]
  },
  {
   "cell_type": "markdown",
   "id": "41a904c8",
   "metadata": {},
   "source": [
    "### 4. Entrenamiento\n",
    "Una vez creado el modelo, es necesario ajustarlo. Este proceso conocido como \"entrenamiento\" se hace con el conjunto de entrenamiento llamando a la función `fit`."
   ]
  },
  {
   "cell_type": "code",
   "execution_count": 10,
   "id": "2cbe2a51",
   "metadata": {
    "tags": []
   },
   "outputs": [
    {
     "data": {
      "text/html": [
       "<style>#sk-container-id-1 {color: black;background-color: white;}#sk-container-id-1 pre{padding: 0;}#sk-container-id-1 div.sk-toggleable {background-color: white;}#sk-container-id-1 label.sk-toggleable__label {cursor: pointer;display: block;width: 100%;margin-bottom: 0;padding: 0.3em;box-sizing: border-box;text-align: center;}#sk-container-id-1 label.sk-toggleable__label-arrow:before {content: \"▸\";float: left;margin-right: 0.25em;color: #696969;}#sk-container-id-1 label.sk-toggleable__label-arrow:hover:before {color: black;}#sk-container-id-1 div.sk-estimator:hover label.sk-toggleable__label-arrow:before {color: black;}#sk-container-id-1 div.sk-toggleable__content {max-height: 0;max-width: 0;overflow: hidden;text-align: left;background-color: #f0f8ff;}#sk-container-id-1 div.sk-toggleable__content pre {margin: 0.2em;color: black;border-radius: 0.25em;background-color: #f0f8ff;}#sk-container-id-1 input.sk-toggleable__control:checked~div.sk-toggleable__content {max-height: 200px;max-width: 100%;overflow: auto;}#sk-container-id-1 input.sk-toggleable__control:checked~label.sk-toggleable__label-arrow:before {content: \"▾\";}#sk-container-id-1 div.sk-estimator input.sk-toggleable__control:checked~label.sk-toggleable__label {background-color: #d4ebff;}#sk-container-id-1 div.sk-label input.sk-toggleable__control:checked~label.sk-toggleable__label {background-color: #d4ebff;}#sk-container-id-1 input.sk-hidden--visually {border: 0;clip: rect(1px 1px 1px 1px);clip: rect(1px, 1px, 1px, 1px);height: 1px;margin: -1px;overflow: hidden;padding: 0;position: absolute;width: 1px;}#sk-container-id-1 div.sk-estimator {font-family: monospace;background-color: #f0f8ff;border: 1px dotted black;border-radius: 0.25em;box-sizing: border-box;margin-bottom: 0.5em;}#sk-container-id-1 div.sk-estimator:hover {background-color: #d4ebff;}#sk-container-id-1 div.sk-parallel-item::after {content: \"\";width: 100%;border-bottom: 1px solid gray;flex-grow: 1;}#sk-container-id-1 div.sk-label:hover label.sk-toggleable__label {background-color: #d4ebff;}#sk-container-id-1 div.sk-serial::before {content: \"\";position: absolute;border-left: 1px solid gray;box-sizing: border-box;top: 0;bottom: 0;left: 50%;z-index: 0;}#sk-container-id-1 div.sk-serial {display: flex;flex-direction: column;align-items: center;background-color: white;padding-right: 0.2em;padding-left: 0.2em;position: relative;}#sk-container-id-1 div.sk-item {position: relative;z-index: 1;}#sk-container-id-1 div.sk-parallel {display: flex;align-items: stretch;justify-content: center;background-color: white;position: relative;}#sk-container-id-1 div.sk-item::before, #sk-container-id-1 div.sk-parallel-item::before {content: \"\";position: absolute;border-left: 1px solid gray;box-sizing: border-box;top: 0;bottom: 0;left: 50%;z-index: -1;}#sk-container-id-1 div.sk-parallel-item {display: flex;flex-direction: column;z-index: 1;position: relative;background-color: white;}#sk-container-id-1 div.sk-parallel-item:first-child::after {align-self: flex-end;width: 50%;}#sk-container-id-1 div.sk-parallel-item:last-child::after {align-self: flex-start;width: 50%;}#sk-container-id-1 div.sk-parallel-item:only-child::after {width: 0;}#sk-container-id-1 div.sk-dashed-wrapped {border: 1px dashed gray;margin: 0 0.4em 0.5em 0.4em;box-sizing: border-box;padding-bottom: 0.4em;background-color: white;}#sk-container-id-1 div.sk-label label {font-family: monospace;font-weight: bold;display: inline-block;line-height: 1.2em;}#sk-container-id-1 div.sk-label-container {text-align: center;}#sk-container-id-1 div.sk-container {/* jupyter's `normalize.less` sets `[hidden] { display: none; }` but bootstrap.min.css set `[hidden] { display: none !important; }` so we also need the `!important` here to be able to override the default hidden behavior on the sphinx rendered scikit-learn.org. See: https://github.com/scikit-learn/scikit-learn/issues/21755 */display: inline-block !important;position: relative;}#sk-container-id-1 div.sk-text-repr-fallback {display: none;}</style><div id=\"sk-container-id-1\" class=\"sk-top-container\"><div class=\"sk-text-repr-fallback\"><pre>SGDClassifier(max_iter=50)</pre><b>In a Jupyter environment, please rerun this cell to show the HTML representation or trust the notebook. <br />On GitHub, the HTML representation is unable to render, please try loading this page with nbviewer.org.</b></div><div class=\"sk-container\" hidden><div class=\"sk-item\"><div class=\"sk-estimator sk-toggleable\"><input class=\"sk-toggleable__control sk-hidden--visually\" id=\"sk-estimator-id-1\" type=\"checkbox\" checked><label for=\"sk-estimator-id-1\" class=\"sk-toggleable__label sk-toggleable__label-arrow\">SGDClassifier</label><div class=\"sk-toggleable__content\"><pre>SGDClassifier(max_iter=50)</pre></div></div></div></div></div>"
      ],
      "text/plain": [
       "SGDClassifier(max_iter=50)"
      ]
     },
     "execution_count": 10,
     "metadata": {},
     "output_type": "execute_result"
    }
   ],
   "source": [
    "clf.fit(in_train, target_train)"
   ]
  },
  {
   "cell_type": "markdown",
   "id": "f9a251d4",
   "metadata": {},
   "source": [
    "Una vez el modelo se ha ajustado, ya es posible usarlo para realizar clasificaciones o predicciones. De esta manera podemos proceder a usar o \"testear\" el modelo. Puede no parecer demasiado pero el modelo está actualmente en memoria y ajustado con los patrones que se le han pasado de entrada. Iprimamos lo que nos da:"
   ]
  },
  {
   "cell_type": "code",
   "execution_count": 11,
   "id": "ab0ff4d3",
   "metadata": {
    "tags": []
   },
   "outputs": [
    {
     "data": {
      "text/html": [
       "<pre style=\"white-space:pre;overflow-x:auto;line-height:normal;font-family:Menlo,'DejaVu Sans Mono',consolas,'Courier New',monospace\">El modelos creado es <span style=\"color: #800080; text-decoration-color: #800080; font-weight: bold\">SGDClassifier</span><span style=\"font-weight: bold\">(</span><span style=\"color: #808000; text-decoration-color: #808000\">max_iter</span>=<span style=\"color: #008080; text-decoration-color: #008080; font-weight: bold\">50</span><span style=\"font-weight: bold\">)</span>\n",
       "</pre>\n"
      ],
      "text/plain": [
       "El modelos creado es \u001b[1;35mSGDClassifier\u001b[0m\u001b[1m(\u001b[0m\u001b[33mmax_iter\u001b[0m=\u001b[1;36m50\u001b[0m\u001b[1m)\u001b[0m\n"
      ]
     },
     "metadata": {},
     "output_type": "display_data"
    }
   ],
   "source": [
    "print(f\"El modelos creado es {clf}\")"
   ]
  },
  {
   "cell_type": "markdown",
   "id": "083a84cf",
   "metadata": {},
   "source": [
    "Este punto implicará que ya se puede hacer uso del modelo, para ello se tiene la llamada al método `predict` como se ve en el código siguiente:"
   ]
  },
  {
   "cell_type": "code",
   "execution_count": 12,
   "id": "cf6b0dc7",
   "metadata": {
    "tags": []
   },
   "outputs": [
    {
     "data": {
      "text/html": [
       "<pre style=\"white-space:pre;overflow-x:auto;line-height:normal;font-family:Menlo,'DejaVu Sans Mono',consolas,'Courier New',monospace\">Salida Predicha: <span style=\"font-weight: bold\">[</span><span style=\"color: #008080; text-decoration-color: #008080; font-weight: bold\">2</span> <span style=\"color: #008080; text-decoration-color: #008080; font-weight: bold\">0</span> <span style=\"color: #008080; text-decoration-color: #008080; font-weight: bold\">2</span> <span style=\"color: #008080; text-decoration-color: #008080; font-weight: bold\">2</span><span style=\"font-weight: bold\">]</span>\n",
       "</pre>\n"
      ],
      "text/plain": [
       "Salida Predicha: \u001b[1m[\u001b[0m\u001b[1;36m2\u001b[0m \u001b[1;36m0\u001b[0m \u001b[1;36m2\u001b[0m \u001b[1;36m2\u001b[0m\u001b[1m]\u001b[0m\n"
      ]
     },
     "metadata": {},
     "output_type": "display_data"
    },
    {
     "data": {
      "text/html": [
       "<pre style=\"white-space:pre;overflow-x:auto;line-height:normal;font-family:Menlo,'DejaVu Sans Mono',consolas,'Courier New',monospace\">Salida Real: <span style=\"font-weight: bold\">[</span><span style=\"color: #008080; text-decoration-color: #008080; font-weight: bold\">1</span> <span style=\"color: #008080; text-decoration-color: #008080; font-weight: bold\">0</span> <span style=\"color: #008080; text-decoration-color: #008080; font-weight: bold\">2</span> <span style=\"color: #008080; text-decoration-color: #008080; font-weight: bold\">1</span><span style=\"font-weight: bold\">]</span>\n",
       "</pre>\n"
      ],
      "text/plain": [
       "Salida Real: \u001b[1m[\u001b[0m\u001b[1;36m1\u001b[0m \u001b[1;36m0\u001b[0m \u001b[1;36m2\u001b[0m \u001b[1;36m1\u001b[0m\u001b[1m]\u001b[0m\n"
      ]
     },
     "metadata": {},
     "output_type": "display_data"
    }
   ],
   "source": [
    "predicted_target = clf.predict(in_test)\n",
    "print(f\"Salida Predicha: {predicted_target[0:4]}\") # Imprimir una muestra de las salidas predichas\n",
    "print(f\"Salida Real: {target_test[0:4]}\") # Compararlas con las reales para esos patrones\n",
    "\n",
    "assert len(predicted_target) == len(target_test), \"Los indices no se corresponden y no se han calculado las mismas salidas\""
   ]
  },
  {
   "cell_type": "markdown",
   "id": "bae314f4",
   "metadata": {},
   "source": [
    "### 5. Evaluación\n",
    "Lo normal es que con una técnica sencialla como esta no todas las salidas sean perfectas y se correspondan. Es por ello que vamos a necesitar alguna manera de mesurar el rendimiento de nuestros modelos. También se abordará más adelante pero, en este punto, nos limitaremos a usar una medida típica de rendimiento como es la presicion (Accuracy) para lon cual la librería en cuestión también nos ofrece una serie de utilidades como vemos a continuación:"
   ]
  },
  {
   "cell_type": "code",
   "execution_count": 13,
   "id": "077e072e",
   "metadata": {
    "tags": []
   },
   "outputs": [
    {
     "data": {
      "text/html": [
       "<pre style=\"white-space:pre;overflow-x:auto;line-height:normal;font-family:Menlo,'DejaVu Sans Mono',consolas,'Courier New',monospace\">Accuracy: <span style=\"color: #008080; text-decoration-color: #008080; font-weight: bold\">80.00</span>%\n",
       "</pre>\n"
      ],
      "text/plain": [
       "Accuracy: \u001b[1;36m80.00\u001b[0m%\n"
      ]
     },
     "metadata": {},
     "output_type": "display_data"
    }
   ],
   "source": [
    "from sklearn.metrics import accuracy_score\n",
    "\n",
    "acc = accuracy_score(target_test, predicted_target)\n",
    "print(f\"Accuracy: {acc*100:.2f}%\")\n",
    "\n",
    "lineal_predicted = predicted_target"
   ]
  },
  {
   "cell_type": "markdown",
   "id": "479828e0",
   "metadata": {},
   "source": [
    "En este caso concreto, la medida lo que viene a evaluar es cuantas veces ha acertado el modelo sobre el total de los datos de test. En este punto es **MUY IMPORTANTE** recalcar que no se puede realizar la evaluación sobre los datos de entrenamiento o ajuste. En caso de hacerlo, las mediciones serían poco fiables ya que se evaluaría contra un conjunto usado para el ajuste y, por lo tanto, podríamos caer en un fenómeno conocido como sobre ajuste o más comunmente *overfitting* en el que el modelo pierde su capacidad de aprender y pasa a memorizar los ejemplos."
   ]
  },
  {
   "cell_type": "markdown",
   "id": "1e68b8ff",
   "metadata": {},
   "source": [
    "### 6. Comparación\n",
    "Una vez conseguido ese dato, podríamos crear otro modelo diferente sobre los mismos datos y comparar las medidas de rendimiento. Hagamos justamente esto, pero ya condensado sin las explicaciones y comparemos dos modelos diferentes de clasificación. "
   ]
  },
  {
   "cell_type": "code",
   "execution_count": 14,
   "id": "bd4626b2",
   "metadata": {
    "tags": []
   },
   "outputs": [
    {
     "data": {
      "text/html": [
       "<pre style=\"white-space:pre;overflow-x:auto;line-height:normal;font-family:Menlo,'DejaVu Sans Mono',consolas,'Courier New',monospace\">Accuracy: <span style=\"color: #008080; text-decoration-color: #008080; font-weight: bold\">100.00</span>%\n",
       "</pre>\n"
      ],
      "text/plain": [
       "Accuracy: \u001b[1;36m100.00\u001b[0m%\n"
      ]
     },
     "metadata": {},
     "output_type": "display_data"
    }
   ],
   "source": [
    "from sklearn.tree import DecisionTreeClassifier\n",
    "\n",
    "# entrenamos el modelo\n",
    "clf = DecisionTreeClassifier()\n",
    "clf.fit(in_train, target_train)\n",
    "\n",
    "# hacemos predicciones en los datos de prueba\n",
    "predicted_target = clf.predict(in_test)\n",
    "\n",
    "# evaluamos el rendimiento del modelo con la precisión\n",
    "acc = accuracy_score(target_test, predicted_target)\n",
    "print(f\"Accuracy: {acc*100:.2f}%\")"
   ]
  },
  {
   "cell_type": "markdown",
   "id": "9aa012c8",
   "metadata": {},
   "source": [
    "Como se puede ver en este segundo caso, el resultado es muy superior al primero y por lo tanto podríamos decir que este modelo es mejor para esta partición de datos. Esto veremos que no siempre es así cuando veamos la evaluación de los modelos"
   ]
  },
  {
   "cell_type": "markdown",
   "id": "8ee64924",
   "metadata": {},
   "source": [
    "### 7.Postprocesado\n",
    "Como último paso en cualquier flujo habitual de datos estaría el que hacer con los datos por ejemplo el código siguiente imprime los patrones con el tipo asociado en cada caso."
   ]
  },
  {
   "cell_type": "code",
   "execution_count": 15,
   "id": "710f72cc",
   "metadata": {
    "tags": []
   },
   "outputs": [
    {
     "data": {
      "text/plain": [
       "<matplotlib.legend.Legend at 0x7f9d52d512d0>"
      ]
     },
     "execution_count": 15,
     "metadata": {},
     "output_type": "execute_result"
    },
    {
     "data": {
      "text/plain": [
       "<Figure size 640x480 with 0 Axes>"
      ]
     },
     "metadata": {},
     "output_type": "display_data"
    },
    {
     "data": {
      "image/png": "[encoded data removed]",
      "text/plain": [
       "<Figure size 640x480 with 2 Axes>"
      ]
     },
     "metadata": {},
     "output_type": "display_data"
    }
   ],
   "source": [
    "import matplotlib.pyplot as plt\n",
    "%matplotlib inline\n",
    "\n",
    "\n",
    "f = plt.figure()    \n",
    "f, axes = plt.subplots(nrows = 1, ncols = 2, sharex=True, sharey = True)\n",
    "\n",
    "colors = ['red', 'blue', 'green']\n",
    "lw = 6\n",
    "\n",
    "for color, i, target_name in zip(colors, [0,1,2], iris.target_names):\n",
    "    examples = predicted_target == i\n",
    "    axes[0].scatter(in_test[examples, 0], in_test[examples, 2], color=color, alpha=.8, lw=lw,\n",
    "                label=target_name)\n",
    "axes[0].legend(loc='best', shadow=False, scatterpoints=1)\n",
    "\n",
    "for color, i, target_name in zip(colors, [0,1,2], iris.target_names):\n",
    "    examples = lineal_predicted == i\n",
    "    axes[1].scatter(in_test[examples, 0], in_test[examples, 2], color=color, alpha=.8, lw=lw,\n",
    "                label=target_name)\n",
    "axes[1].legend(loc='best', shadow=False, scatterpoints=1)\n"
   ]
  },
  {
   "cell_type": "markdown",
   "id": "ff7f4df5",
   "metadata": {},
   "source": [
    "# Ejercicios propuestos\n",
    "Vale, ya hemos tomado contacto con `scikit-learn` pero la verdad que este ofrece muchísimo más de lo que vemos ahora mismo. Para ser más exactos, tiene todas las utidades y funciones en el siguiente [enlace](https://scikit-learn.org/stable/modules/classes.html). Llegado a este punto lo que se propone es que replique una definición de modelo y entrenamiento con los pasos que hemos visto hasta ahora. Para ello, siga los siguientes pasos:\n",
    "\n",
    "1. Escoja otro problema de clasificación dentro de los que ofrece `scikit-learn`. Puede consultar las diponibles en este [enlace](https://scikit-learn.org/stable/modules/classes.html#module-sklearn.datasets)\n",
    "2. Seleccione otro modelo de clasificación de entre los disponibles que puede consultar [aquí](https://scikit-learn.org/stable/modules/classes.html). Cualquiera de los modelos es utilizable siempre que sea de classificación. Por ejemplo, se recomienda el uso del `KNNClassifier` o el `GaussianNB`.\n",
    "3. Calcula el accuracy del nuevo modelo y compare los resultados con los que ya hemos obtenido."
   ]
  }
 ],
 "metadata": {
  "@webio": {
   "lastCommId": null,
   "lastKernelId": null
  },
  "kernelspec": {
   "display_name": "Python 3 (ipykernel)",
   "language": "python",
   "name": "python3"
  },
  "language_info": {
   "codemirror_mode": {
    "name": "ipython",
    "version": 3
   },
   "file_extension": ".py",
   "mimetype": "text/x-python",
   "name": "python",
   "nbconvert_exporter": "python",
   "pygments_lexer": "ipython3",
   "version": "3.10.9"
  }
 },
 "nbformat": 4,
 "nbformat_minor": 5
}
