{
 "cells": [
  {
   "cell_type": "markdown",
   "id": "49cd2336",
   "metadata": {},
   "source": [
    "# Autoencoders\n",
    "\n",
    "En los últimos tiempos ha ganado especial relevancia una aproximación que ha venido en llamarse o denominarse como aprendizaje profundo o *Dep Learning*. Las aproximaciones de *Deep Learning* tienen por objeto acometer uno de los grandes problemas de cualquiera de las aproximaciones de *machine learning* clásicas que es la ingeniería de las características y determinar que medidas son las más significativas.\n",
    "\n",
    "Una de las posibles alternativas para esa ingeniería de características automáticas es lo que se conoce como ***Staked Autoencoders (SAE)***. Está técnica tiene como base el uso de una técnica de reducción de la dimensionalidad que se conoce como ***Autoencoders***. Sin entrar en demasiados detalles formales, la técnica se basa en una  redes de neuronas artificiales que  trata de recrear la entrada en la salida Esto se consigo con una capa oculta la cual se corresponde con una transposición en del espacio de entrada en otro que se conoce como espacio oculto o latente $h$ en la imagen que sigue a estas líneas. Lo que se busca es que la red aprenda ya sea a comprimir la información, si la dimensión de $h$ es menor que la de $X$, o bien a expandir dicha información en caso de que la mencionada dimensión de $h$ sea mayor que la de $X$.\n",
    "![Autoencoder](https://upload.wikimedia.org/wikipedia/commons/3/37/Autoencoder_schema.png)\n",
    "Así, a la red se le presentarían un conjunto de patrones $X$ que se espera que está codifique en un conjunto de características representadas en la capa $h$ recibiendo este par de capas el nombre de codificador. Sin embargo para entrenar necesitamos el segundo par de capas como es $h$ y $X´$, que recibe el nombre de decodificador. Este decodificador lo que se busca es que sea capaz de reconstruir la entrada desde el conjunto de características $h$. Para hacer este proceso se colocan las capas como en la figura y una vez puesta una entrada se comrpueba la salida completa de la red, esta salida lo que tiene como salida deseada la propia entrada de la misma. Calculando el error en la salida, se puede aplicar la regla de retropropagaciónd el error a la conjunto de la red, con lo que las carácterísticas codificas en $h$ se ajustaran se modificarán para ajustar la salida y por lo tanto capturando aquellas que le permitan reconstruir la entrada obviando las generalidades. \n",
    "\n",
    "Una vez que la red está entrenada podemos descartar la última capa y quedarnos con la codificación obtenida en $h$ como salida que desde ese momento tendrá un coste muy bajo de ejecución a tiempo y recursos constantes. De esta forma se puede comprimir la información de casi cualquier tipo de fuente de información desde una señal temporal, una imagen, un sonido, una codificaciónd e texto.\n",
    "\n",
    "Para está unidad al igual que en la anterior vamos a hacer uso de ***Tensorflow*** y ***keras*** para simplificar la implementación de un autoencoder. \n"
   ]
  },
  {
   "cell_type": "code",
   "execution_count": 1,
   "id": "83a0927d",
   "metadata": {},
   "outputs": [],
   "source": [
    "#Importar algunas librerías que nos harán falta más adelante\n",
    "import matplotlib.pyplot as plt\n",
    "import numpy as np\n",
    "import pandas as pd\n",
    "import tensorflow as tf\n",
    "from sklearn.metrics import accuracy_score, precision_score, recall_score\n",
    "from sklearn.model_selection import train_test_split\n",
    "from tensorflow.keras import layers, losses\n",
    "from tensorflow.keras.datasets import fashion_mnist\n",
    "from tensorflow.keras.models import Model"
   ]
  },
  {
   "cell_type": "markdown",
   "id": "eb9e52d8",
   "metadata": {},
   "source": [
    "El problema que se va a utilizar un problema de imagenes que tiene por objeto el codificas identificar imagenes de  distintos tipos de ropa. El motivo es que es más sencillo de visualizar los resultados."
   ]
  },
  {
   "cell_type": "code",
   "execution_count": 2,
   "id": "08c91e40",
   "metadata": {},
   "outputs": [
    {
     "name": "stdout",
     "output_type": "stream",
     "text": [
      "Downloading data from https://storage.googleapis.com/tensorflow/tf-keras-datasets/train-labels-idx1-ubyte.gz\n",
      "32768/29515 [=================================] - 0s 1us/step\n",
      "Downloading data from https://storage.googleapis.com/tensorflow/tf-keras-datasets/train-images-idx3-ubyte.gz\n",
      "26427392/26421880 [==============================] - 2s 0us/step\n",
      "Downloading data from https://storage.googleapis.com/tensorflow/tf-keras-datasets/t10k-labels-idx1-ubyte.gz\n",
      "8192/5148 [===============================================] - 0s 0us/step\n",
      "Downloading data from https://storage.googleapis.com/tensorflow/tf-keras-datasets/t10k-images-idx3-ubyte.gz\n",
      "4423680/4422102 [==============================] - 1s 0us/step\n",
      "(60000, 28, 28)\n",
      "(10000, 28, 28)\n"
     ]
    }
   ],
   "source": [
    "(x_train, _), (x_test, _) = fashion_mnist.load_data()\n",
    "x_train = x_train.astype('float32') / 255.\n",
    "x_test = x_test.astype('float32') / 255.\n",
    "print(x_train.shape)\n",
    "print(x_test.shape)"
   ]
  },
  {
   "cell_type": "markdown",
   "id": "ed242be2",
   "metadata": {},
   "source": [
    "A continuación, vamos a definir el *encoder* y el *decoder* mencionados al comienzo de está unidad. En esta ocasión y por motivos de simplificación del cófigo, vamos a crear una clase que es una estructura de programación que nos permitirái definir modelos compuestos par partes como este de manera simple y rápida. Así en una clase, se definen un par de funciones una *init* que nos permite definir el modelo y una segunda call que es llamada por *Tensorflow* cuando le hace falta dentro del entrenamiento. "
   ]
  },
  {
   "cell_type": "code",
   "execution_count": 3,
   "id": "9a3afa31",
   "metadata": {},
   "outputs": [],
   "source": [
    "class Autoencoder(Model):\n",
    "    def __init__(self, latent_dim):\n",
    "        super(Autoencoder, self).__init__()\n",
    "        self.latent_dim = latent_dim   \n",
    "        self.encoder = tf.keras.Sequential([\n",
    "            # Se aplana la imagen para que entre\n",
    "            layers.Flatten(),\n",
    "            #Se conectan dos entradas Densas para construir la primera parte X -> h\n",
    "            layers.Dense(latent_dim, activation='relu'),\n",
    "        ])\n",
    "        self.decoder = tf.keras.Sequential([\n",
    "            #Se conectan dos entradas Densas para construir la primera parte h -> X'\n",
    "            layers.Dense(784, activation='sigmoid'),\n",
    "            #Reconstruir la imagen 28 x28 de la salida\n",
    "            layers.Reshape((28, 28))\n",
    "        ])\n",
    "        \n",
    "    def call(self, x):\n",
    "        \"\"\"Función llamada tanto dentro de fit para calcular la salida del Modelo\"\"\"\n",
    "        encoded = self.encoder(x)\n",
    "        decoded = self.decoder(encoded)\n",
    "        return decoded\n",
    "#Creación del modelo    \n",
    "autoencoder = Autoencoder(64)"
   ]
  },
  {
   "cell_type": "markdown",
   "id": "4842fbf8",
   "metadata": {},
   "source": [
    "Por último, bastará con compilar y entrenar el modelo, tengan en cuenta que esto puede tardar bastante dependiendo del tamaño de la base de datos utilizada para entrenar. En este caso lo limitaremos a sólo 10 iteraciones para reducir ese tiempo ya que el problema a tratar es bastante grande."
   ]
  },
  {
   "cell_type": "code",
   "execution_count": 4,
   "id": "c0278c5d",
   "metadata": {},
   "outputs": [
    {
     "name": "stdout",
     "output_type": "stream",
     "text": [
      "Epoch 1/10\n",
      "1875/1875 [==============================] - 4s 2ms/step - loss: 0.0391 - val_loss: 0.0128\n",
      "Epoch 2/10\n",
      "1875/1875 [==============================] - 4s 2ms/step - loss: 0.0119 - val_loss: 0.0104\n",
      "Epoch 3/10\n",
      "1875/1875 [==============================] - 3s 2ms/step - loss: 0.0101 - val_loss: 0.0096\n",
      "Epoch 4/10\n",
      "1875/1875 [==============================] - 3s 2ms/step - loss: 0.0094 - val_loss: 0.0093\n",
      "Epoch 5/10\n",
      "1875/1875 [==============================] - 3s 2ms/step - loss: 0.0091 - val_loss: 0.0092\n",
      "Epoch 6/10\n",
      "1875/1875 [==============================] - 3s 2ms/step - loss: 0.0090 - val_loss: 0.0091\n",
      "Epoch 7/10\n",
      "1875/1875 [==============================] - 3s 2ms/step - loss: 0.0089 - val_loss: 0.0091\n",
      "Epoch 8/10\n",
      "1875/1875 [==============================] - 3s 2ms/step - loss: 0.0088 - val_loss: 0.0090\n",
      "Epoch 9/10\n",
      "1875/1875 [==============================] - 3s 2ms/step - loss: 0.0088 - val_loss: 0.0088\n",
      "Epoch 10/10\n",
      "1875/1875 [==============================] - 3s 2ms/step - loss: 0.0087 - val_loss: 0.0088\n"
     ]
    },
    {
     "data": {
      "text/plain": [
       "<tensorflow.python.keras.callbacks.History at 0x7f3478c25ca0>"
      ]
     },
     "execution_count": 4,
     "metadata": {},
     "output_type": "execute_result"
    }
   ],
   "source": [
    "autoencoder.compile(optimizer='adam', loss=losses.MeanSquaredError())\n",
    "autoencoder.fit(x_train, x_train,\n",
    "                epochs=10,\n",
    "                shuffle=True,\n",
    "                validation_data=(x_test, x_test))"
   ]
  },
  {
   "cell_type": "markdown",
   "id": "c4c33809",
   "metadata": {},
   "source": [
    "Comprobemos ahora la salida tando del *encoder* como del *decoder* con unas cuantas imágenes del conjunto de test."
   ]
  },
  {
   "cell_type": "code",
   "execution_count": 5,
   "id": "faa14c86",
   "metadata": {},
   "outputs": [
    {
     "data": {
      "image/png": "[encoded data removed]",
      "text/plain": [
       "<Figure size 1440x288 with 20 Axes>"
      ]
     },
     "metadata": {
      "needs_background": "light"
     },
     "output_type": "display_data"
    }
   ],
   "source": [
    "encoded_imgs = autoencoder.encoder(x_test).numpy()\n",
    "decoded_imgs = autoencoder.decoder(encoded_imgs).numpy()\n",
    "n = 10\n",
    "plt.figure(figsize=(20, 4))\n",
    "for i in range(n):\n",
    "  # display original\n",
    "  ax = plt.subplot(2, n, i + 1)\n",
    "  plt.imshow(x_test[i])\n",
    "  plt.title(\"original\")\n",
    "  plt.gray()\n",
    "  ax.get_xaxis().set_visible(False)\n",
    "  ax.get_yaxis().set_visible(False)\n",
    "# display reconstruction\n",
    "  ax = plt.subplot(2, n, i + 1 + n)\n",
    "  plt.imshow(decoded_imgs[i])\n",
    "  plt.title(\"reconstructed\")\n",
    "  plt.gray()\n",
    "  ax.get_xaxis().set_visible(False)\n",
    "  ax.get_yaxis().set_visible(False)\n",
    "plt.show()"
   ]
  },
  {
   "cell_type": "markdown",
   "id": "a97abbc1",
   "metadata": {},
   "source": [
    "Tambien podemos ver la codificación reacilizada por el encoder si bien este no nos aportará demasiada información de primeras."
   ]
  },
  {
   "cell_type": "code",
   "execution_count": 6,
   "id": "e731e7d2",
   "metadata": {},
   "outputs": [
    {
     "name": "stdout",
     "output_type": "stream",
     "text": [
      "Codificación de la imagen 0: [1.695061   1.8479075  1.5127122  5.082312   2.8965173  1.9261005\n",
      " 1.900814   1.1458843  3.5737348  0.7456745  1.5456582  1.0412942\n",
      " 3.277858   1.7157044  1.6875861  2.190462   1.6820954  1.5443034\n",
      " 3.370356   4.024044   0.34282154 2.7001054  0.8742959  2.6736045\n",
      " 0.         3.3593063  3.7466054  1.6675767  1.4026334  3.0072951\n",
      " 4.892288   2.7747936  1.2060362  2.720502   5.982143   2.23511\n",
      " 0.96123207 2.0601256  0.7578739  2.9108367  4.907216   5.1190615\n",
      " 1.4317958  4.3214784  2.1825855  1.0982268  2.7346663  2.1901045\n",
      " 1.9636621  2.2568226  1.7895975  2.0782924  0.89352536 2.7234635\n",
      " 4.804452   1.1934166  1.662682   0.80558074 1.260127   4.860684\n",
      " 1.3781681  3.5428076  1.6845771  1.5844544 ]\n",
      "Codificación de la imagen 1: [2.7878683  6.0749497  1.6586156  4.6612144  3.6106477  1.6497269\n",
      " 1.2767572  3.3459492  2.794146   9.326046   2.2999706  5.072232\n",
      " 5.000166   0.5855569  3.9756227  1.5601776  4.7062864  1.2364753\n",
      " 3.6002316  0.6143255  4.4592113  0.21859574 0.         0.\n",
      " 0.         3.830775   0.         2.954756   9.283375   1.6124908\n",
      " 2.2404246  3.2037284  4.575432   3.0188982  1.0183294  3.4829366\n",
      " 5.7349906  2.540302   1.5421714  0.         9.700959   6.202358\n",
      " 3.2196784  3.3230214  7.1503277  1.4907808  1.1331944  3.4484262\n",
      " 0.8545126  2.1296828  1.7542853  0.         5.183758   1.5550933\n",
      " 2.004731   3.6302114  5.227353   1.5952713  5.583635   0.11690235\n",
      " 5.7231283  2.3066013  3.1573114  0.        ]\n",
      "Codificación de la imagen 2: [ 0.6517821   2.8234196   3.5982332   2.7757523   5.9201784   1.1650306\n",
      "  4.709998    3.111514    1.5194435   2.203168    1.5502818   0.90078706\n",
      "  0.88943577  5.7638655   3.0521984   2.0492625   4.031195    4.5851893\n",
      "  4.043485    2.6422007   6.4865193   4.031967    4.627114    2.8373742\n",
      " 11.669874    3.788401    0.          0.7921582   1.7247987   1.0780598\n",
      "  1.7979853   2.8722942   0.710486    2.5426788   1.8146598   1.9722165\n",
      "  3.6836667   3.683899    0.39608574  1.9547881   5.2567887   3.3651242\n",
      "  1.0149533   1.5090361   2.0944803   5.620636    1.9628143   2.044066\n",
      "  4.5739365   2.0837393   1.1840255   4.246788    2.6728494   4.6363955\n",
      "  1.0019066   4.7150235   4.6083035   4.8765388  10.122153    1.32679\n",
      "  1.1077406   1.2189786   0.96002936  0.        ]\n",
      "Codificación de la imagen 3: [1.5910434  2.6141958  3.7796483  3.3729436  4.046027   0.50385606\n",
      " 6.6973195  0.         1.1025913  2.3901398  0.86694074 0.62634283\n",
      " 1.4309361  3.661013   2.5751176  2.9077053  2.6257992  1.91309\n",
      " 3.756019   1.189827   2.8874712  0.         3.672819   3.3829436\n",
      " 4.044113   0.5160112  0.         2.2841911  0.07931703 0.26771033\n",
      " 1.4796627  1.2682953  0.6249254  5.3884907  2.1604214  2.153564\n",
      " 1.8442817  3.606147   0.44308752 3.3723025  4.4306574  2.2791848\n",
      " 1.2210348  1.2021255  1.6738522  7.0090137  1.0094669  1.8652941\n",
      " 1.3130612  2.420571   1.2861603  2.905581   2.4193122  2.5034504\n",
      " 1.1778381  3.0169673  3.5263722  1.3522065  6.382198   1.0382736\n",
      " 2.1676629  0.37231517 1.584939   0.        ]\n",
      "Codificación de la imagen 4: [0.2713188  3.3882742  1.8913473  2.60154    3.403904   1.5731268\n",
      " 1.3589977  3.1141753  2.6952815  7.616566   2.5425198  1.00038\n",
      " 2.7805927  1.1826907  3.3154664  4.526666   2.7522535  2.3773139\n",
      " 2.576066   1.8420157  3.6320252  2.2454486  0.         3.0073633\n",
      " 0.         3.173192   0.         2.8780184  5.0395775  3.1894615\n",
      " 1.8323879  5.0369854  2.6711004  0.968981   2.8433647  2.8199878\n",
      " 2.8507104  6.3079243  2.5514882  2.1249216  4.888931   1.5439887\n",
      " 1.370563   2.958476   3.8221085  1.5452752  1.9994481  1.9641424\n",
      " 2.4823756  2.2474215  1.7824799  1.3200976  2.6207452  0.27767205\n",
      " 1.5214787  2.7349825  2.1014013  2.0638452  3.1074352  2.719188\n",
      " 2.343794   2.773817   1.9726913  0.        ]\n",
      "Codificación de la imagen 5: [0.04929805 0.         2.059701   1.7408335  3.8282356  1.1109848\n",
      " 1.002953   4.5139503  0.32945198 1.5188925  1.8333247  0.7510386\n",
      " 1.0671005  6.1932497  3.739316   1.8577429  4.7913256  2.142421\n",
      " 2.9929752  1.1423076  4.92233    3.4732764  1.9074728  0.91521525\n",
      " 9.430587   3.7404058  0.         1.4300516  0.53122574 0.30052614\n",
      " 0.6449927  1.5376315  0.42372882 0.         2.1527524  2.0022469\n",
      " 1.2213513  4.3042183  0.38637167 1.5381896  3.3056617  1.7567923\n",
      " 0.43253815 1.1113156  2.6780353  2.6472797  2.3472886  2.8926268\n",
      " 5.5638714  1.3410153  0.0189085  1.8404237  2.3903918  6.243691\n",
      " 0.85516846 3.5180507  5.779601   2.7432888  6.751243   1.5868073\n",
      " 3.0684562  1.1788132  0.78284806 0.        ]\n",
      "Codificación de la imagen 6: [2.4445307  0.         1.3768705  0.64599156 2.1873157  0.02772701\n",
      " 0.5478064  2.457061   0.14351392 2.7038076  1.8494536  3.6259837\n",
      " 3.7205112  2.8909092  5.0966663  2.1055799  0.70023406 0.5150899\n",
      " 2.124158   0.27207184 1.6079906  0.7985198  0.         2.1572745\n",
      " 0.         1.4448218  0.         0.         1.7965302  2.2191253\n",
      " 1.0136049  0.65908074 0.55490255 0.         2.166483   1.6600916\n",
      " 0.         3.1104593  3.0137317  0.33113295 0.86418474 3.6393082\n",
      " 2.5221126  0.6281792  1.0819463  2.2070613  0.4484709  3.1730776\n",
      " 0.         2.128955   0.         1.2748847  0.         2.162366\n",
      " 1.0261962  2.2471707  3.4953895  0.         1.3067837  2.2082214\n",
      " 5.372164   1.3134532  2.7197814  0.        ]\n",
      "Codificación de la imagen 7: [1.6322641  2.9269552  0.71974516 2.7670114  3.847804   0.25098312\n",
      " 1.0912117  0.5915431  1.917983   3.7610729  1.4380925  2.7025685\n",
      " 2.6943572  1.8635631  1.9086332  2.807376   0.75363415 0.8759976\n",
      " 1.353408   2.392892   3.1741443  0.50860727 0.         1.1850897\n",
      " 0.         2.0945349  0.         1.693757   2.6367142  1.85343\n",
      " 0.72535187 1.1174217  1.8692055  1.5981398  0.5832459  3.0334792\n",
      " 2.0736723  1.7160592  1.1230558  1.4299129  1.7669     0.\n",
      " 1.6249521  1.0169353  3.0176067  0.8380759  1.7045491  3.1950345\n",
      " 0.64078313 0.39782518 1.5611163  1.2785214  3.944474   2.4939928\n",
      " 1.3904855  2.3582911  0.         3.6036215  1.9438797  1.9262396\n",
      " 4.4780426  1.0917304  2.0790339  0.        ]\n",
      "Codificación de la imagen 8: [2.23871    0.5174148  2.50844    2.3061533  0.8975083  0.8474616\n",
      " 3.17104    1.412529   2.13522    1.3349069  0.564348   4.6236053\n",
      " 0.2714187  0.716543   1.4491515  1.1430119  0.66929513 0.6237234\n",
      " 1.4790504  1.0046012  0.377792   0.8204992  1.0281172  0.86472887\n",
      " 0.28401208 0.         0.9341339  2.5593631  0.         1.3619057\n",
      " 0.99267507 0.18571997 1.8788319  0.89127195 0.39718336 0.4477195\n",
      " 0.24321602 1.3035672  2.3922336  2.1821024  0.         0.\n",
      " 1.8197979  0.9662142  0.         0.74750316 1.3340087  0.5404282\n",
      " 1.0543015  0.86827815 3.4791782  2.3538504  0.40935442 0.49821538\n",
      " 1.7263926  2.5137668  1.3425324  0.6388211  1.1919717  1.6873235\n",
      " 1.3321013  2.9547997  0.19641578 0.5766722 ]\n",
      "Codificación de la imagen 9: [3.1000981  1.0071657  1.6978967  1.8099163  1.5152931  1.7253191\n",
      " 2.787919   2.593955   2.9690685  2.7529252  0.84036446 4.3595996\n",
      " 2.2519944  0.23825437 0.44410586 1.8412454  0.2677536  2.113335\n",
      " 2.7404785  1.4242858  1.5299419  1.3859715  3.957905   1.2849619\n",
      " 0.         1.9564645  1.8550124  2.7090616  1.9509242  0.9839802\n",
      " 1.5310084  0.87375665 1.5050796  1.7609438  1.414276   1.3326164\n",
      " 0.6409241  0.6209877  4.036896   3.3625538  1.616922   1.0562869\n",
      " 0.63368523 1.3909974  1.1128471  0.27625    5.727621   3.6198177\n",
      " 3.1471412  1.9591594  2.4175088  3.453078   0.5730871  1.7987614\n",
      " 1.7359219  2.8504014  0.7712584  1.0336214  0.7254579  2.4044285\n",
      " 1.438014   5.529458   0.8986528  3.638691  ]\n"
     ]
    }
   ],
   "source": [
    "for i in range(n):\n",
    "    print(f'Codificación de la imagen {i}: {encoded_imgs[i]}')"
   ]
  },
  {
   "cell_type": "markdown",
   "id": "a4b10967",
   "metadata": {},
   "source": [
    "Con está base se puede construir un SAE ya que lo que habría que hacer es entrenar un AE y una vez minimizado el error se bloquean los pesos de la primera capa, se retira la se última y se añade otra capa oculta con una nueva capa de salida y se repite el entrenamiento con la entrada como salida. En este caso estaremos entrenado una segunda etapa de codificación que se basará en la primera. Este proceso se podría repetir multiplés veces para dar a luz a las que fueron las primeras redes neuronales conocidas como *Deep Learning*. "
   ]
  },
  {
   "cell_type": "markdown",
   "id": "a8cf3f10",
   "metadata": {},
   "source": [
    "### Ejercicio Propuesto\n",
    "Ahora ha llegado el momento de jugar de que prueben a modificar este sistema, ahora que conocemos el problema comprube que pasa si se aumenta la dimensión de la capa oculta o se disminuye drasticamente. ¿Cómo queda nuestra representación? ¿Es igual de eficaz? En cuanto al error de entrenamiento, ¿Sube o baja con esas variaciones en las dimensiones? "
   ]
  },
  {
   "cell_type": "code",
   "execution_count": null,
   "id": "57ecb518",
   "metadata": {},
   "outputs": [],
   "source": []
  }
 ],
 "metadata": {
  "kernelspec": {
   "display_name": "Python 3 (ipykernel)",
   "language": "python",
   "name": "python3"
  },
  "language_info": {
   "codemirror_mode": {
    "name": "ipython",
    "version": 3
   },
   "file_extension": ".py",
   "mimetype": "text/x-python",
   "name": "python",
   "nbconvert_exporter": "python",
   "pygments_lexer": "ipython3",
   "version": "3.10.6"
  }
 },
 "nbformat": 4,
 "nbformat_minor": 5
}
